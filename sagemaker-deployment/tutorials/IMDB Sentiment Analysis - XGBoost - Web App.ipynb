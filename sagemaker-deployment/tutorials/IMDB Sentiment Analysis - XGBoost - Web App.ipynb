{
 "cells": [
  {
   "cell_type": "markdown",
   "metadata": {},
   "source": [
    "# Sentiment Analysis Web App\n",
    "\n",
    "_Deep Learning Nanodegree Program | Deployment_\n",
    "\n",
    "---\n",
    "\n",
    "In this notebook we will use Amazon's SageMaker service to construct a random tree model to predict the sentiment of a movie review. In addition, we will deploy this model to an endpoint and construct a very simple web app which will interact with our model's deployed endpoint.\n",
    "\n",
    "## General Outline\n",
    "\n",
    "Typically, when using a notebook instance with SageMaker, you will proceed through the following steps. Of course, not every step will need to be done with each project. Also, there is quite a lot of room for variation in many of the steps, as you will see throughout these lessons.\n",
    "\n",
    "1. Download or otherwise retrieve the data.\n",
    "2. Process / Prepare the data.\n",
    "3. Upload the processed data to S3.\n",
    "4. Train a chosen model.\n",
    "5. Test the trained model (typically using a batch transform job).\n",
    "6. Deploy the trained model.\n",
    "7. Use the deployed model.\n",
    "\n",
    "In this notebook we will progress through each of the steps above. We will also see that the final step, using the deployed model, can be quite challenging."
   ]
  },
  {
   "cell_type": "markdown",
   "metadata": {},
   "source": [
    "## Step 1: Downloading the data\n",
    "\n",
    "The dataset we are going to use is very popular among researchers in Natural Language Processing, usually referred to as the [IMDb dataset](http://ai.stanford.edu/~amaas/data/sentiment/). It consists of movie reviews from the website [imdb.com](http://www.imdb.com/), each labeled as either '**pos**itive', if the reviewer enjoyed the film, or '**neg**ative' otherwise.\n",
    "\n",
    "> Maas, Andrew L., et al. [Learning Word Vectors for Sentiment Analysis](http://ai.stanford.edu/~amaas/data/sentiment/). In _Proceedings of the 49th Annual Meeting of the Association for Computational Linguistics: Human Language Technologies_. Association for Computational Linguistics, 2011.\n",
    "\n",
    "We begin by using some Jupyter Notebook magic to download and extract the dataset."
   ]
  },
  {
   "cell_type": "code",
   "execution_count": 1,
   "metadata": {},
   "outputs": [
    {
     "name": "stdout",
     "output_type": "stream",
     "text": [
      "mkdir: cannot create directory ‘../data’: File exists\n",
      "--2020-05-22 13:17:57--  http://ai.stanford.edu/~amaas/data/sentiment/aclImdb_v1.tar.gz\n",
      "Resolving ai.stanford.edu (ai.stanford.edu)... 171.64.68.10\n",
      "Connecting to ai.stanford.edu (ai.stanford.edu)|171.64.68.10|:80... connected.\n",
      "HTTP request sent, awaiting response... 200 OK\n",
      "Length: 84125825 (80M) [application/x-gzip]\n",
      "Saving to: ‘../data/aclImdb_v1.tar.gz’\n",
      "\n",
      "../data/aclImdb_v1. 100%[===================>]  80.23M  10.3MB/s    in 11s     \n",
      "\n",
      "2020-05-22 13:18:08 (7.46 MB/s) - ‘../data/aclImdb_v1.tar.gz’ saved [84125825/84125825]\n",
      "\n"
     ]
    }
   ],
   "source": [
    "%mkdir ../data\n",
    "!wget -O ../data/aclImdb_v1.tar.gz http://ai.stanford.edu/~amaas/data/sentiment/aclImdb_v1.tar.gz\n",
    "!tar -zxf ../data/aclImdb_v1.tar.gz -C ../data"
   ]
  },
  {
   "cell_type": "markdown",
   "metadata": {},
   "source": [
    "## Step 2: Preparing and Processing the data\n",
    "\n",
    "The data we have downloaded is split into various files, each of which contains a single review. It will be much easier going forward if we combine these individual files into two large files, one for training and one for testing."
   ]
  },
  {
   "cell_type": "code",
   "execution_count": 2,
   "metadata": {},
   "outputs": [],
   "source": [
    "import os\n",
    "import glob\n",
    "\n",
    "def read_imdb_data(data_dir='../data/aclImdb'):\n",
    "    data = {}\n",
    "    labels = {}\n",
    "    \n",
    "    for data_type in ['train', 'test']:\n",
    "        data[data_type] = {}\n",
    "        labels[data_type] = {}\n",
    "        \n",
    "        for sentiment in ['pos', 'neg']:\n",
    "            data[data_type][sentiment] = []\n",
    "            labels[data_type][sentiment] = []\n",
    "            \n",
    "            path = os.path.join(data_dir, data_type, sentiment, '*.txt')\n",
    "            files = glob.glob(path)\n",
    "            \n",
    "            for f in files:\n",
    "                with open(f) as review:\n",
    "                    data[data_type][sentiment].append(review.read())\n",
    "                    # Here we represent a positive review by '1' and a negative review by '0'\n",
    "                    labels[data_type][sentiment].append(1 if sentiment == 'pos' else 0)\n",
    "                    \n",
    "            assert len(data[data_type][sentiment]) == len(labels[data_type][sentiment]), \\\n",
    "                    \"{}/{} data size does not match labels size\".format(data_type, sentiment)\n",
    "                \n",
    "    return data, labels"
   ]
  },
  {
   "cell_type": "code",
   "execution_count": 3,
   "metadata": {},
   "outputs": [
    {
     "name": "stdout",
     "output_type": "stream",
     "text": [
      "IMDB reviews: train = 12500 pos / 12500 neg, test = 12500 pos / 12500 neg\n"
     ]
    }
   ],
   "source": [
    "data, labels = read_imdb_data()\n",
    "print(\"IMDB reviews: train = {} pos / {} neg, test = {} pos / {} neg\".format(\n",
    "            len(data['train']['pos']), len(data['train']['neg']),\n",
    "            len(data['test']['pos']), len(data['test']['neg'])))"
   ]
  },
  {
   "cell_type": "code",
   "execution_count": 4,
   "metadata": {},
   "outputs": [],
   "source": [
    "from sklearn.utils import shuffle\n",
    "\n",
    "def prepare_imdb_data(data, labels):\n",
    "    \"\"\"Prepare training and test sets from IMDb movie reviews.\"\"\"\n",
    "    \n",
    "    #Combine positive and negative reviews and labels\n",
    "    data_train = data['train']['pos'] + data['train']['neg']\n",
    "    data_test = data['test']['pos'] + data['test']['neg']\n",
    "    labels_train = labels['train']['pos'] + labels['train']['neg']\n",
    "    labels_test = labels['test']['pos'] + labels['test']['neg']\n",
    "    \n",
    "    #Shuffle reviews and corresponding labels within training and test sets\n",
    "    data_train, labels_train = shuffle(data_train, labels_train)\n",
    "    data_test, labels_test = shuffle(data_test, labels_test)\n",
    "    \n",
    "    # Return a unified training data, test data, training labels, test labets\n",
    "    return data_train, data_test, labels_train, labels_test"
   ]
  },
  {
   "cell_type": "code",
   "execution_count": 5,
   "metadata": {},
   "outputs": [
    {
     "name": "stdout",
     "output_type": "stream",
     "text": [
      "IMDb reviews (combined): train = 25000, test = 25000\n"
     ]
    }
   ],
   "source": [
    "train_X, test_X, train_y, test_y = prepare_imdb_data(data, labels)\n",
    "print(\"IMDb reviews (combined): train = {}, test = {}\".format(len(train_X), len(test_X)))"
   ]
  },
  {
   "cell_type": "code",
   "execution_count": 6,
   "metadata": {},
   "outputs": [
    {
     "data": {
      "text/plain": [
       "\"The person who wrote the glowing review of this misguided project must be related to the writer/director/star--or is, in fact, the same person as it defies rational thinking that this movie would be appealing to anyone not connected to a very tightly woven inner circle. How about this? You want to make a movie--tell a story; entertain; draw me in with vivid characters. Sure, you can do it artfully without bowing to the commercial elements designed for mass appeal. However, do not address elements of artistic expression in a vacuum in which the audience is in a continual struggle to grasp at skimpy narrative threads. If I'm to be moved by a dreamy psychological thread then make the concrete fabric easier to buy.\""
      ]
     },
     "execution_count": 6,
     "metadata": {},
     "output_type": "execute_result"
    }
   ],
   "source": [
    "train_X[100]"
   ]
  },
  {
   "cell_type": "markdown",
   "metadata": {},
   "source": [
    "## Processing the data\n",
    "\n",
    "Now that we have our training and testing datasets merged and ready to use, we need to start processing the raw data into something that will be useable by our machine learning algorithm. To begin with, we remove any html formatting and any non-alpha numeric characters that may appear in the reviews. We will do this in a very simplistic way using Python's regular expression module. We will discuss the reason for this rather simplistic pre-processing later on."
   ]
  },
  {
   "cell_type": "code",
   "execution_count": 7,
   "metadata": {},
   "outputs": [],
   "source": [
    "import re\n",
    "\n",
    "REPLACE_NO_SPACE = re.compile(\"(\\.)|(\\;)|(\\:)|(\\!)|(\\')|(\\?)|(\\,)|(\\\")|(\\()|(\\))|(\\[)|(\\])\")\n",
    "REPLACE_WITH_SPACE = re.compile(\"(<br\\s*/><br\\s*/>)|(\\-)|(\\/)\")\n",
    "\n",
    "def review_to_words(review):\n",
    "    words = REPLACE_NO_SPACE.sub(\"\", review.lower())\n",
    "    words = REPLACE_WITH_SPACE.sub(\" \", words)\n",
    "    return words"
   ]
  },
  {
   "cell_type": "code",
   "execution_count": 8,
   "metadata": {},
   "outputs": [
    {
     "data": {
      "text/plain": [
       "'the person who wrote the glowing review of this misguided project must be related to the writer director star  or is in fact the same person as it defies rational thinking that this movie would be appealing to anyone not connected to a very tightly woven inner circle how about this you want to make a movie  tell a story entertain draw me in with vivid characters sure you can do it artfully without bowing to the commercial elements designed for mass appeal however do not address elements of artistic expression in a vacuum in which the audience is in a continual struggle to grasp at skimpy narrative threads if im to be moved by a dreamy psychological thread then make the concrete fabric easier to buy'"
      ]
     },
     "execution_count": 8,
     "metadata": {},
     "output_type": "execute_result"
    }
   ],
   "source": [
    "review_to_words(train_X[100])"
   ]
  },
  {
   "cell_type": "code",
   "execution_count": 9,
   "metadata": {},
   "outputs": [],
   "source": [
    "import pickle\n",
    "\n",
    "cache_dir = os.path.join(\"../cache\", \"sentiment_web_app\")  # where to store cache files\n",
    "os.makedirs(cache_dir, exist_ok=True)  # ensure cache directory exists\n",
    "\n",
    "def preprocess_data(data_train, data_test, labels_train, labels_test,\n",
    "                    cache_dir=cache_dir, cache_file=\"preprocessed_data.pkl\"):\n",
    "    \"\"\"Convert each review to words; read from cache if available.\"\"\"\n",
    "\n",
    "    # If cache_file is not None, try to read from it first\n",
    "    cache_data = None\n",
    "    if cache_file is not None:\n",
    "        try:\n",
    "            with open(os.path.join(cache_dir, cache_file), \"rb\") as f:\n",
    "                cache_data = pickle.load(f)\n",
    "            print(\"Read preprocessed data from cache file:\", cache_file)\n",
    "        except:\n",
    "            pass  # unable to read from cache, but that's okay\n",
    "    \n",
    "    # If cache is missing, then do the heavy lifting\n",
    "    if cache_data is None:\n",
    "        # Preprocess training and test data to obtain words for each review\n",
    "        #words_train = list(map(review_to_words, data_train))\n",
    "        #words_test = list(map(review_to_words, data_test))\n",
    "        words_train = [review_to_words(review) for review in data_train]\n",
    "        words_test = [review_to_words(review) for review in data_test]\n",
    "        \n",
    "        # Write to cache file for future runs\n",
    "        if cache_file is not None:\n",
    "            cache_data = dict(words_train=words_train, words_test=words_test,\n",
    "                              labels_train=labels_train, labels_test=labels_test)\n",
    "            with open(os.path.join(cache_dir, cache_file), \"wb\") as f:\n",
    "                pickle.dump(cache_data, f)\n",
    "            print(\"Wrote preprocessed data to cache file:\", cache_file)\n",
    "    else:\n",
    "        # Unpack data loaded from cache file\n",
    "        words_train, words_test, labels_train, labels_test = (cache_data['words_train'],\n",
    "                cache_data['words_test'], cache_data['labels_train'], cache_data['labels_test'])\n",
    "    \n",
    "    return words_train, words_test, labels_train, labels_test"
   ]
  },
  {
   "cell_type": "code",
   "execution_count": 10,
   "metadata": {},
   "outputs": [
    {
     "name": "stdout",
     "output_type": "stream",
     "text": [
      "Wrote preprocessed data to cache file: preprocessed_data.pkl\n"
     ]
    }
   ],
   "source": [
    "# Preprocess data\n",
    "train_X, test_X, train_y, test_y = preprocess_data(train_X, test_X, train_y, test_y)"
   ]
  },
  {
   "cell_type": "markdown",
   "metadata": {},
   "source": [
    "### Extract Bag-of-Words features\n",
    "\n",
    "For the model we will be implementing, rather than using the reviews directly, we are going to transform each review into a Bag-of-Words feature representation. Keep in mind that 'in the wild' we will only have access to the training set so our transformer can only use the training set to construct a representation."
   ]
  },
  {
   "cell_type": "code",
   "execution_count": 11,
   "metadata": {},
   "outputs": [],
   "source": [
    "import numpy as np\n",
    "from sklearn.feature_extraction.text import CountVectorizer\n",
    "from sklearn.externals import joblib\n",
    "# joblib is an enhanced version of pickle that is more efficient for storing NumPy arrays\n",
    "\n",
    "def extract_BoW_features(words_train, words_test, vocabulary_size=5000,\n",
    "                         cache_dir=cache_dir, cache_file=\"bow_features.pkl\"):\n",
    "    \"\"\"Extract Bag-of-Words for a given set of documents, already preprocessed into words.\"\"\"\n",
    "    \n",
    "    # If cache_file is not None, try to read from it first\n",
    "    cache_data = None\n",
    "    if cache_file is not None:\n",
    "        try:\n",
    "            with open(os.path.join(cache_dir, cache_file), \"rb\") as f:\n",
    "                cache_data = joblib.load(f)\n",
    "            print(\"Read features from cache file:\", cache_file)\n",
    "        except:\n",
    "            pass  # unable to read from cache, but that's okay\n",
    "    \n",
    "    # If cache is missing, then do the heavy lifting\n",
    "    if cache_data is None:\n",
    "        # Fit a vectorizer to training documents and use it to transform them\n",
    "        # NOTE: Training documents have already been preprocessed and tokenized into words;\n",
    "        #       pass in dummy functions to skip those steps, e.g. preprocessor=lambda x: x\n",
    "        vectorizer = CountVectorizer(max_features=vocabulary_size)\n",
    "        features_train = vectorizer.fit_transform(words_train).toarray()\n",
    "\n",
    "        # Apply the same vectorizer to transform the test documents (ignore unknown words)\n",
    "        features_test = vectorizer.transform(words_test).toarray()\n",
    "        \n",
    "        # NOTE: Remember to convert the features using .toarray() for a compact representation\n",
    "        \n",
    "        # Write to cache file for future runs (store vocabulary as well)\n",
    "        if cache_file is not None:\n",
    "            vocabulary = vectorizer.vocabulary_\n",
    "            cache_data = dict(features_train=features_train, features_test=features_test,\n",
    "                             vocabulary=vocabulary)\n",
    "            with open(os.path.join(cache_dir, cache_file), \"wb\") as f:\n",
    "                joblib.dump(cache_data, f)\n",
    "            print(\"Wrote features to cache file:\", cache_file)\n",
    "    else:\n",
    "        # Unpack data loaded from cache file\n",
    "        features_train, features_test, vocabulary = (cache_data['features_train'],\n",
    "                cache_data['features_test'], cache_data['vocabulary'])\n",
    "    \n",
    "    # Return both the extracted features as well as the vocabulary\n",
    "    return features_train, features_test, vocabulary"
   ]
  },
  {
   "cell_type": "code",
   "execution_count": 12,
   "metadata": {},
   "outputs": [
    {
     "name": "stdout",
     "output_type": "stream",
     "text": [
      "Wrote features to cache file: bow_features.pkl\n"
     ]
    }
   ],
   "source": [
    "# Extract Bag of Words features for both training and test datasets\n",
    "train_X, test_X, vocabulary = extract_BoW_features(train_X, test_X)"
   ]
  },
  {
   "cell_type": "code",
   "execution_count": 13,
   "metadata": {},
   "outputs": [
    {
     "data": {
      "text/plain": [
       "5000"
      ]
     },
     "execution_count": 13,
     "metadata": {},
     "output_type": "execute_result"
    }
   ],
   "source": [
    "len(train_X[100])"
   ]
  },
  {
   "cell_type": "markdown",
   "metadata": {},
   "source": [
    "## Step 3: Upload data to S3\n",
    "\n",
    "Now that we have created the feature representation of our training (and testing) data, it is time to start setting up and using the XGBoost classifier provided by SageMaker.\n",
    "\n",
    "### Writing the datasets\n",
    "\n",
    "The XGBoost classifier that we will be using requires the dataset to be written to a file and stored using Amazon S3. To do this, we will start by splitting the training dataset into two parts, the data we will train the model with and a validation set. Then, we will write those datasets to a file locally and then upload the files to S3. In addition, we will write the test set to a file and upload that file to S3. This is so that we can use SageMakers Batch Transform functionality to test our model once we've fit it."
   ]
  },
  {
   "cell_type": "code",
   "execution_count": 14,
   "metadata": {},
   "outputs": [],
   "source": [
    "import pandas as pd\n",
    "\n",
    "# Earlier we shuffled the training dataset so to make things simple we can just assign\n",
    "# the first 10 000 reviews to the validation set and use the remaining reviews for training.\n",
    "val_X = pd.DataFrame(train_X[:10000])\n",
    "train_X = pd.DataFrame(train_X[10000:])\n",
    "\n",
    "val_y = pd.DataFrame(train_y[:10000])\n",
    "train_y = pd.DataFrame(train_y[10000:])"
   ]
  },
  {
   "cell_type": "markdown",
   "metadata": {},
   "source": [
    "The documentation for the XGBoost algorithm in SageMaker requires that the training and validation datasets should contain no headers or index and that the label should occur first for each sample.\n",
    "\n",
    "For more information about this and other algorithms, the SageMaker developer documentation can be found on __[Amazon's website.](https://docs.aws.amazon.com/sagemaker/latest/dg/)__"
   ]
  },
  {
   "cell_type": "code",
   "execution_count": 15,
   "metadata": {},
   "outputs": [],
   "source": [
    "# First we make sure that the local directory in which we'd like to store the training and validation csv files exists.\n",
    "data_dir = '../data/sentiment_web_app'\n",
    "if not os.path.exists(data_dir):\n",
    "    os.makedirs(data_dir)"
   ]
  },
  {
   "cell_type": "code",
   "execution_count": 16,
   "metadata": {},
   "outputs": [],
   "source": [
    "pd.DataFrame(test_X).to_csv(os.path.join(data_dir, 'test.csv'), header=False, index=False)\n",
    "\n",
    "pd.concat([val_y, val_X], axis=1).to_csv(os.path.join(data_dir, 'validation.csv'), header=False, index=False)\n",
    "pd.concat([train_y, train_X], axis=1).to_csv(os.path.join(data_dir, 'train.csv'), header=False, index=False)"
   ]
  },
  {
   "cell_type": "code",
   "execution_count": 17,
   "metadata": {},
   "outputs": [],
   "source": [
    "# To save a bit of memory we can set text_X, train_X, val_X, train_y and val_y to None.\n",
    "\n",
    "test_X = train_X = val_X = train_y = val_y = None"
   ]
  },
  {
   "cell_type": "markdown",
   "metadata": {},
   "source": [
    "### Uploading Training / Validation files to S3\n",
    "\n",
    "Amazon's S3 service allows us to store files that can be accessed by both the built-in training models such as the XGBoost model we will be using as well as custom models such as the one we will see a little later.\n",
    "\n",
    "For this and most other tasks we will be doing using SageMaker, there are two methods we could use. The first is to use the low level functionality of SageMaker which requires knowing each of the objects involved in the SageMaker environment. The second is to use the high level functionality in which certain choices have been made on the user's behalf. The low level approach benefits from allowing the user a great deal of flexibility while the high level approach makes development much quicker. For our purposes we will opt to use the high level approach although using the low-level approach is certainly an option.\n",
    "\n",
    "Recall the method `upload_data()` which is a member of the object representing our current SageMaker session. What this method does is upload the data to the default bucket (which is created if it does not exist) into the path described by the key_prefix variable. To see this for yourself, once you have uploaded the data files, go to the S3 console and look to see where the files have been uploaded.\n",
    "\n",
    "For additional resources, see the __[SageMaker API documentation](http://sagemaker.readthedocs.io/en/latest/)__ and in addition the __[SageMaker Developer Guide.](https://docs.aws.amazon.com/sagemaker/latest/dg/)__"
   ]
  },
  {
   "cell_type": "code",
   "execution_count": 18,
   "metadata": {},
   "outputs": [],
   "source": [
    "import sagemaker\n",
    "\n",
    "session = sagemaker.Session() # Store the current SageMaker session\n",
    "\n",
    "# S3 prefix (which folder will we use)\n",
    "prefix = 'sentiment-web-app'\n",
    "\n",
    "test_location = session.upload_data(os.path.join(data_dir, 'test.csv'), key_prefix=prefix)\n",
    "val_location = session.upload_data(os.path.join(data_dir, 'validation.csv'), key_prefix=prefix)\n",
    "train_location = session.upload_data(os.path.join(data_dir, 'train.csv'), key_prefix=prefix)"
   ]
  },
  {
   "cell_type": "markdown",
   "metadata": {},
   "source": [
    "## Step 4: Creating the XGBoost model\n",
    "\n",
    "Now that the data has been uploaded it is time to create the XGBoost model. To begin with, we need to do some setup. At this point it is worth discussing what a model is in SageMaker. It is easiest to think of a model of comprising three different objects in the SageMaker ecosystem, which interact with one another.\n",
    "\n",
    "- Model Artifacts\n",
    "- Training Code (Container)\n",
    "- Inference Code (Container)\n",
    "\n",
    "The Model Artifacts are what you might think of as the actual model itself. For example, if you were building a neural network, the model artifacts would be the weights of the various layers. In our case, for an XGBoost model, the artifacts are the actual trees that are created during training.\n",
    "\n",
    "The other two objects, the training code and the inference code are then used to manipulate the training artifacts. More precisely, the training code uses the training data that is provided and creates the model artifacts, while the inference code uses the model artifacts to make predictions on new data.\n",
    "\n",
    "The way that SageMaker runs the training and inference code is by making use of Docker containers. For now, think of a container as being a way of packaging code up so that dependencies aren't an issue."
   ]
  },
  {
   "cell_type": "code",
   "execution_count": 19,
   "metadata": {},
   "outputs": [],
   "source": [
    "from sagemaker import get_execution_role\n",
    "\n",
    "# Our current execution role is required when creating the model as the training\n",
    "# and inference code will need to access the model artifacts.\n",
    "role = get_execution_role()"
   ]
  },
  {
   "cell_type": "code",
   "execution_count": 20,
   "metadata": {},
   "outputs": [
    {
     "name": "stderr",
     "output_type": "stream",
     "text": [
      "WARNING:root:There is a more up to date SageMaker XGBoost image. To use the newer image, please set 'repo_version'='0.90-1'. For example:\n",
      "\tget_image_uri(region, 'xgboost', '0.90-1').\n"
     ]
    }
   ],
   "source": [
    "# We need to retrieve the location of the container which is provided by Amazon for using XGBoost.\n",
    "# As a matter of convenience, the training and inference code both use the same container.\n",
    "from sagemaker.amazon.amazon_estimator import get_image_uri\n",
    "\n",
    "container = get_image_uri(session.boto_region_name, 'xgboost')"
   ]
  },
  {
   "cell_type": "code",
   "execution_count": 21,
   "metadata": {},
   "outputs": [],
   "source": [
    "# First we create a SageMaker estimator object for our model.\n",
    "xgb = sagemaker.estimator.Estimator(container, # The location of the container we wish to use\n",
    "                                    role,                                    # What is our current IAM Role\n",
    "                                    train_instance_count=1,                  # How many compute instances\n",
    "                                    train_instance_type='ml.m4.xlarge',      # What kind of compute instances\n",
    "                                    output_path='s3://{}/{}/output'.format(session.default_bucket(), prefix),\n",
    "                                    sagemaker_session=session)\n",
    "\n",
    "# And then set the algorithm specific parameters.\n",
    "xgb.set_hyperparameters(max_depth=5,\n",
    "                        eta=0.2,\n",
    "                        gamma=4,\n",
    "                        min_child_weight=6,\n",
    "                        subsample=0.8,\n",
    "                        silent=0,\n",
    "                        objective='binary:logistic',\n",
    "                        early_stopping_rounds=10,\n",
    "                        num_round=500)"
   ]
  },
  {
   "cell_type": "markdown",
   "metadata": {},
   "source": [
    "### Fit the XGBoost model\n",
    "\n",
    "Now that our model has been set up we simply need to attach the training and validation datasets and then ask SageMaker to set up the computation."
   ]
  },
  {
   "cell_type": "code",
   "execution_count": 22,
   "metadata": {},
   "outputs": [],
   "source": [
    "s3_input_train = sagemaker.s3_input(s3_data=train_location, content_type='csv')\n",
    "s3_input_validation = sagemaker.s3_input(s3_data=val_location, content_type='csv')"
   ]
  },
  {
   "cell_type": "code",
   "execution_count": 23,
   "metadata": {},
   "outputs": [
    {
     "name": "stdout",
     "output_type": "stream",
     "text": [
      "2020-05-22 13:26:07 Starting - Starting the training job...\n",
      "2020-05-22 13:26:10 Starting - Launching requested ML instances.........\n",
      "2020-05-22 13:27:41 Starting - Preparing the instances for training......\n",
      "2020-05-22 13:28:46 Downloading - Downloading input data...\n",
      "2020-05-22 13:29:20 Training - Downloading the training image.\u001b[34mArguments: train\u001b[0m\n",
      "\u001b[34m[2020-05-22:13:29:39:INFO] Running standalone xgboost training.\u001b[0m\n",
      "\u001b[34m[2020-05-22:13:29:39:INFO] File size need to be processed in the node: 238.5mb. Available memory size in the node: 8467.79mb\u001b[0m\n",
      "\u001b[34m[2020-05-22:13:29:39:INFO] Determined delimiter of CSV input is ','\u001b[0m\n",
      "\u001b[34m[13:29:39] S3DistributionType set as FullyReplicated\u001b[0m\n",
      "\u001b[34m[13:29:41] 15000x5000 matrix with 75000000 entries loaded from /opt/ml/input/data/train?format=csv&label_column=0&delimiter=,\u001b[0m\n",
      "\u001b[34m[2020-05-22:13:29:41:INFO] Determined delimiter of CSV input is ','\u001b[0m\n",
      "\u001b[34m[13:29:41] S3DistributionType set as FullyReplicated\u001b[0m\n",
      "\u001b[34m[13:29:42] 10000x5000 matrix with 50000000 entries loaded from /opt/ml/input/data/validation?format=csv&label_column=0&delimiter=,\u001b[0m\n",
      "\u001b[34m[13:29:46] src/tree/updater_prune.cc:74: tree pruning end, 1 roots, 38 extra nodes, 10 pruned nodes, max_depth=5\u001b[0m\n",
      "\u001b[34m[0]#011train-error:0.307933#011validation-error:0.3057\u001b[0m\n",
      "\u001b[34mMultiple eval metrics have been passed: 'validation-error' will be used for early stopping.\n",
      "\u001b[0m\n",
      "\u001b[34mWill train until validation-error hasn't improved in 10 rounds.\u001b[0m\n",
      "\u001b[34m[13:29:47] src/tree/updater_prune.cc:74: tree pruning end, 1 roots, 38 extra nodes, 6 pruned nodes, max_depth=5\u001b[0m\n",
      "\u001b[34m[1]#011train-error:0.304267#011validation-error:0.303\u001b[0m\n",
      "\u001b[34m[13:29:49] src/tree/updater_prune.cc:74: tree pruning end, 1 roots, 36 extra nodes, 10 pruned nodes, max_depth=5\u001b[0m\n",
      "\u001b[34m[2]#011train-error:0.279333#011validation-error:0.2783\u001b[0m\n",
      "\u001b[34m[13:29:50] src/tree/updater_prune.cc:74: tree pruning end, 1 roots, 48 extra nodes, 2 pruned nodes, max_depth=5\u001b[0m\n",
      "\u001b[34m[3]#011train-error:0.2824#011validation-error:0.2812\u001b[0m\n",
      "\u001b[34m[13:29:51] src/tree/updater_prune.cc:74: tree pruning end, 1 roots, 28 extra nodes, 4 pruned nodes, max_depth=5\u001b[0m\n",
      "\u001b[34m[4]#011train-error:0.276333#011validation-error:0.2759\u001b[0m\n",
      "\u001b[34m[13:29:53] src/tree/updater_prune.cc:74: tree pruning end, 1 roots, 32 extra nodes, 0 pruned nodes, max_depth=5\u001b[0m\n",
      "\u001b[34m[5]#011train-error:0.269067#011validation-error:0.2667\u001b[0m\n",
      "\u001b[34m[13:29:54] src/tree/updater_prune.cc:74: tree pruning end, 1 roots, 26 extra nodes, 6 pruned nodes, max_depth=5\u001b[0m\n",
      "\u001b[34m[6]#011train-error:0.261133#011validation-error:0.2597\u001b[0m\n",
      "\n",
      "2020-05-22 13:29:38 Training - Training image download completed. Training in progress.\u001b[34m[13:29:55] src/tree/updater_prune.cc:74: tree pruning end, 1 roots, 52 extra nodes, 0 pruned nodes, max_depth=5\u001b[0m\n",
      "\u001b[34m[7]#011train-error:0.2462#011validation-error:0.2507\u001b[0m\n",
      "\u001b[34m[13:29:57] src/tree/updater_prune.cc:74: tree pruning end, 1 roots, 28 extra nodes, 4 pruned nodes, max_depth=5\u001b[0m\n",
      "\u001b[34m[8]#011train-error:0.240667#011validation-error:0.2441\u001b[0m\n",
      "\u001b[34m[13:29:58] src/tree/updater_prune.cc:74: tree pruning end, 1 roots, 32 extra nodes, 6 pruned nodes, max_depth=5\u001b[0m\n",
      "\u001b[34m[9]#011train-error:0.2332#011validation-error:0.2437\u001b[0m\n",
      "\u001b[34m[13:29:59] src/tree/updater_prune.cc:74: tree pruning end, 1 roots, 30 extra nodes, 10 pruned nodes, max_depth=5\u001b[0m\n",
      "\u001b[34m[10]#011train-error:0.226467#011validation-error:0.2336\u001b[0m\n",
      "\u001b[34m[13:30:01] src/tree/updater_prune.cc:74: tree pruning end, 1 roots, 34 extra nodes, 8 pruned nodes, max_depth=5\u001b[0m\n",
      "\u001b[34m[11]#011train-error:0.219667#011validation-error:0.2281\u001b[0m\n",
      "\u001b[34m[13:30:02] src/tree/updater_prune.cc:74: tree pruning end, 1 roots, 22 extra nodes, 12 pruned nodes, max_depth=5\u001b[0m\n",
      "\u001b[34m[12]#011train-error:0.215733#011validation-error:0.2231\u001b[0m\n",
      "\u001b[34m[13:30:03] src/tree/updater_prune.cc:74: tree pruning end, 1 roots, 20 extra nodes, 14 pruned nodes, max_depth=5\u001b[0m\n",
      "\u001b[34m[13]#011train-error:0.211533#011validation-error:0.2174\u001b[0m\n",
      "\u001b[34m[13:30:05] src/tree/updater_prune.cc:74: tree pruning end, 1 roots, 28 extra nodes, 12 pruned nodes, max_depth=5\u001b[0m\n",
      "\u001b[34m[14]#011train-error:0.2058#011validation-error:0.2129\u001b[0m\n",
      "\u001b[34m[13:30:06] src/tree/updater_prune.cc:74: tree pruning end, 1 roots, 28 extra nodes, 6 pruned nodes, max_depth=5\u001b[0m\n",
      "\u001b[34m[15]#011train-error:0.203667#011validation-error:0.2138\u001b[0m\n",
      "\u001b[34m[13:30:07] src/tree/updater_prune.cc:74: tree pruning end, 1 roots, 32 extra nodes, 4 pruned nodes, max_depth=5\u001b[0m\n",
      "\u001b[34m[16]#011train-error:0.201067#011validation-error:0.2131\u001b[0m\n",
      "\u001b[34m[13:30:09] src/tree/updater_prune.cc:74: tree pruning end, 1 roots, 24 extra nodes, 14 pruned nodes, max_depth=5\u001b[0m\n",
      "\u001b[34m[17]#011train-error:0.201667#011validation-error:0.2117\u001b[0m\n",
      "\u001b[34m[13:30:10] src/tree/updater_prune.cc:74: tree pruning end, 1 roots, 30 extra nodes, 8 pruned nodes, max_depth=5\u001b[0m\n",
      "\u001b[34m[18]#011train-error:0.198133#011validation-error:0.2089\u001b[0m\n",
      "\u001b[34m[13:30:11] src/tree/updater_prune.cc:74: tree pruning end, 1 roots, 40 extra nodes, 2 pruned nodes, max_depth=5\u001b[0m\n",
      "\u001b[34m[19]#011train-error:0.192733#011validation-error:0.2061\u001b[0m\n",
      "\u001b[34m[13:30:13] src/tree/updater_prune.cc:74: tree pruning end, 1 roots, 26 extra nodes, 4 pruned nodes, max_depth=5\u001b[0m\n",
      "\u001b[34m[20]#011train-error:0.189333#011validation-error:0.203\u001b[0m\n",
      "\u001b[34m[13:30:14] src/tree/updater_prune.cc:74: tree pruning end, 1 roots, 24 extra nodes, 6 pruned nodes, max_depth=5\u001b[0m\n",
      "\u001b[34m[21]#011train-error:0.1878#011validation-error:0.2006\u001b[0m\n",
      "\u001b[34m[13:30:15] src/tree/updater_prune.cc:74: tree pruning end, 1 roots, 26 extra nodes, 6 pruned nodes, max_depth=5\u001b[0m\n",
      "\u001b[34m[22]#011train-error:0.186133#011validation-error:0.1967\u001b[0m\n",
      "\u001b[34m[13:30:17] src/tree/updater_prune.cc:74: tree pruning end, 1 roots, 26 extra nodes, 2 pruned nodes, max_depth=5\u001b[0m\n",
      "\u001b[34m[23]#011train-error:0.182667#011validation-error:0.1965\u001b[0m\n",
      "\u001b[34m[13:30:18] src/tree/updater_prune.cc:74: tree pruning end, 1 roots, 28 extra nodes, 6 pruned nodes, max_depth=5\u001b[0m\n",
      "\u001b[34m[24]#011train-error:0.180533#011validation-error:0.1966\u001b[0m\n",
      "\u001b[34m[13:30:19] src/tree/updater_prune.cc:74: tree pruning end, 1 roots, 20 extra nodes, 8 pruned nodes, max_depth=5\u001b[0m\n",
      "\u001b[34m[25]#011train-error:0.1788#011validation-error:0.1933\u001b[0m\n",
      "\u001b[34m[13:30:21] src/tree/updater_prune.cc:74: tree pruning end, 1 roots, 42 extra nodes, 10 pruned nodes, max_depth=5\u001b[0m\n",
      "\u001b[34m[26]#011train-error:0.1756#011validation-error:0.1931\u001b[0m\n",
      "\u001b[34m[13:30:22] src/tree/updater_prune.cc:74: tree pruning end, 1 roots, 22 extra nodes, 12 pruned nodes, max_depth=5\u001b[0m\n",
      "\u001b[34m[27]#011train-error:0.174267#011validation-error:0.1927\u001b[0m\n",
      "\u001b[34m[13:30:23] src/tree/updater_prune.cc:74: tree pruning end, 1 roots, 24 extra nodes, 6 pruned nodes, max_depth=5\u001b[0m\n",
      "\u001b[34m[28]#011train-error:0.1724#011validation-error:0.1913\u001b[0m\n",
      "\u001b[34m[13:30:24] src/tree/updater_prune.cc:74: tree pruning end, 1 roots, 40 extra nodes, 6 pruned nodes, max_depth=5\u001b[0m\n",
      "\u001b[34m[29]#011train-error:0.170533#011validation-error:0.1889\u001b[0m\n",
      "\u001b[34m[13:30:26] src/tree/updater_prune.cc:74: tree pruning end, 1 roots, 24 extra nodes, 8 pruned nodes, max_depth=5\u001b[0m\n",
      "\u001b[34m[30]#011train-error:0.167867#011validation-error:0.1866\u001b[0m\n",
      "\u001b[34m[13:30:27] src/tree/updater_prune.cc:74: tree pruning end, 1 roots, 24 extra nodes, 6 pruned nodes, max_depth=5\u001b[0m\n",
      "\u001b[34m[31]#011train-error:0.1674#011validation-error:0.1865\u001b[0m\n",
      "\u001b[34m[13:30:28] src/tree/updater_prune.cc:74: tree pruning end, 1 roots, 16 extra nodes, 8 pruned nodes, max_depth=5\u001b[0m\n",
      "\u001b[34m[32]#011train-error:0.1648#011validation-error:0.1851\u001b[0m\n",
      "\u001b[34m[13:30:30] src/tree/updater_prune.cc:74: tree pruning end, 1 roots, 26 extra nodes, 10 pruned nodes, max_depth=5\u001b[0m\n",
      "\u001b[34m[33]#011train-error:0.164267#011validation-error:0.1854\u001b[0m\n",
      "\u001b[34m[13:30:31] src/tree/updater_prune.cc:74: tree pruning end, 1 roots, 20 extra nodes, 10 pruned nodes, max_depth=5\u001b[0m\n",
      "\u001b[34m[34]#011train-error:0.162867#011validation-error:0.1837\u001b[0m\n",
      "\u001b[34m[13:30:32] src/tree/updater_prune.cc:74: tree pruning end, 1 roots, 26 extra nodes, 12 pruned nodes, max_depth=5\u001b[0m\n",
      "\u001b[34m[35]#011train-error:0.1604#011validation-error:0.1824\u001b[0m\n",
      "\u001b[34m[13:30:34] src/tree/updater_prune.cc:74: tree pruning end, 1 roots, 36 extra nodes, 10 pruned nodes, max_depth=5\u001b[0m\n",
      "\u001b[34m[36]#011train-error:0.16#011validation-error:0.1817\u001b[0m\n",
      "\u001b[34m[13:30:35] src/tree/updater_prune.cc:74: tree pruning end, 1 roots, 12 extra nodes, 10 pruned nodes, max_depth=5\u001b[0m\n",
      "\u001b[34m[37]#011train-error:0.1584#011validation-error:0.1796\u001b[0m\n",
      "\u001b[34m[13:30:36] src/tree/updater_prune.cc:74: tree pruning end, 1 roots, 26 extra nodes, 12 pruned nodes, max_depth=5\u001b[0m\n",
      "\u001b[34m[38]#011train-error:0.1566#011validation-error:0.1799\u001b[0m\n",
      "\u001b[34m[13:30:38] src/tree/updater_prune.cc:74: tree pruning end, 1 roots, 24 extra nodes, 12 pruned nodes, max_depth=5\u001b[0m\n",
      "\u001b[34m[39]#011train-error:0.157133#011validation-error:0.1779\u001b[0m\n",
      "\u001b[34m[13:30:39] src/tree/updater_prune.cc:74: tree pruning end, 1 roots, 18 extra nodes, 8 pruned nodes, max_depth=5\u001b[0m\n",
      "\u001b[34m[40]#011train-error:0.1562#011validation-error:0.1773\u001b[0m\n",
      "\u001b[34m[13:30:40] src/tree/updater_prune.cc:74: tree pruning end, 1 roots, 16 extra nodes, 10 pruned nodes, max_depth=5\u001b[0m\n",
      "\u001b[34m[41]#011train-error:0.155067#011validation-error:0.176\u001b[0m\n",
      "\u001b[34m[13:30:41] src/tree/updater_prune.cc:74: tree pruning end, 1 roots, 20 extra nodes, 10 pruned nodes, max_depth=5\u001b[0m\n",
      "\u001b[34m[42]#011train-error:0.151867#011validation-error:0.1768\u001b[0m\n"
     ]
    },
    {
     "name": "stdout",
     "output_type": "stream",
     "text": [
      "\u001b[34m[13:30:43] src/tree/updater_prune.cc:74: tree pruning end, 1 roots, 16 extra nodes, 14 pruned nodes, max_depth=5\u001b[0m\n",
      "\u001b[34m[43]#011train-error:0.150133#011validation-error:0.1754\u001b[0m\n",
      "\u001b[34m[13:30:44] src/tree/updater_prune.cc:74: tree pruning end, 1 roots, 22 extra nodes, 6 pruned nodes, max_depth=5\u001b[0m\n",
      "\u001b[34m[44]#011train-error:0.1494#011validation-error:0.1745\u001b[0m\n",
      "\u001b[34m[13:30:45] src/tree/updater_prune.cc:74: tree pruning end, 1 roots, 24 extra nodes, 6 pruned nodes, max_depth=5\u001b[0m\n",
      "\u001b[34m[45]#011train-error:0.148067#011validation-error:0.1735\u001b[0m\n",
      "\u001b[34m[13:30:47] src/tree/updater_prune.cc:74: tree pruning end, 1 roots, 22 extra nodes, 10 pruned nodes, max_depth=5\u001b[0m\n",
      "\u001b[34m[46]#011train-error:0.146733#011validation-error:0.1734\u001b[0m\n",
      "\u001b[34m[13:30:48] src/tree/updater_prune.cc:74: tree pruning end, 1 roots, 28 extra nodes, 6 pruned nodes, max_depth=5\u001b[0m\n",
      "\u001b[34m[47]#011train-error:0.1456#011validation-error:0.1717\u001b[0m\n",
      "\u001b[34m[13:30:49] src/tree/updater_prune.cc:74: tree pruning end, 1 roots, 18 extra nodes, 8 pruned nodes, max_depth=5\u001b[0m\n",
      "\u001b[34m[48]#011train-error:0.1438#011validation-error:0.1708\u001b[0m\n",
      "\u001b[34m[13:30:51] src/tree/updater_prune.cc:74: tree pruning end, 1 roots, 32 extra nodes, 6 pruned nodes, max_depth=5\u001b[0m\n",
      "\u001b[34m[49]#011train-error:0.142#011validation-error:0.1695\u001b[0m\n",
      "\u001b[34m[13:30:52] src/tree/updater_prune.cc:74: tree pruning end, 1 roots, 26 extra nodes, 16 pruned nodes, max_depth=5\u001b[0m\n",
      "\u001b[34m[50]#011train-error:0.1406#011validation-error:0.1698\u001b[0m\n",
      "\u001b[34m[13:30:53] src/tree/updater_prune.cc:74: tree pruning end, 1 roots, 20 extra nodes, 6 pruned nodes, max_depth=5\u001b[0m\n",
      "\u001b[34m[51]#011train-error:0.140267#011validation-error:0.1699\u001b[0m\n",
      "\u001b[34m[13:30:55] src/tree/updater_prune.cc:74: tree pruning end, 1 roots, 22 extra nodes, 10 pruned nodes, max_depth=5\u001b[0m\n",
      "\u001b[34m[52]#011train-error:0.139867#011validation-error:0.1694\u001b[0m\n",
      "\u001b[34m[13:30:56] src/tree/updater_prune.cc:74: tree pruning end, 1 roots, 22 extra nodes, 6 pruned nodes, max_depth=5\u001b[0m\n",
      "\u001b[34m[53]#011train-error:0.138267#011validation-error:0.1686\u001b[0m\n",
      "\u001b[34m[13:30:57] src/tree/updater_prune.cc:74: tree pruning end, 1 roots, 18 extra nodes, 8 pruned nodes, max_depth=5\u001b[0m\n",
      "\u001b[34m[54]#011train-error:0.136733#011validation-error:0.168\u001b[0m\n",
      "\u001b[34m[13:30:58] src/tree/updater_prune.cc:74: tree pruning end, 1 roots, 26 extra nodes, 6 pruned nodes, max_depth=5\u001b[0m\n",
      "\u001b[34m[55]#011train-error:0.135933#011validation-error:0.1654\u001b[0m\n",
      "\u001b[34m[13:31:00] src/tree/updater_prune.cc:74: tree pruning end, 1 roots, 12 extra nodes, 14 pruned nodes, max_depth=5\u001b[0m\n",
      "\u001b[34m[56]#011train-error:0.134733#011validation-error:0.1664\u001b[0m\n",
      "\u001b[34m[13:31:01] src/tree/updater_prune.cc:74: tree pruning end, 1 roots, 14 extra nodes, 0 pruned nodes, max_depth=5\u001b[0m\n",
      "\u001b[34m[57]#011train-error:0.133533#011validation-error:0.1655\u001b[0m\n",
      "\u001b[34m[13:31:02] src/tree/updater_prune.cc:74: tree pruning end, 1 roots, 18 extra nodes, 8 pruned nodes, max_depth=5\u001b[0m\n",
      "\u001b[34m[58]#011train-error:0.131933#011validation-error:0.1652\u001b[0m\n",
      "\u001b[34m[13:31:04] src/tree/updater_prune.cc:74: tree pruning end, 1 roots, 26 extra nodes, 8 pruned nodes, max_depth=5\u001b[0m\n",
      "\u001b[34m[59]#011train-error:0.131467#011validation-error:0.1652\u001b[0m\n",
      "\u001b[34m[13:31:05] src/tree/updater_prune.cc:74: tree pruning end, 1 roots, 22 extra nodes, 8 pruned nodes, max_depth=5\u001b[0m\n",
      "\u001b[34m[60]#011train-error:0.130867#011validation-error:0.1648\u001b[0m\n",
      "\u001b[34m[13:31:06] src/tree/updater_prune.cc:74: tree pruning end, 1 roots, 22 extra nodes, 8 pruned nodes, max_depth=5\u001b[0m\n",
      "\u001b[34m[61]#011train-error:0.128933#011validation-error:0.1638\u001b[0m\n",
      "\u001b[34m[13:31:08] src/tree/updater_prune.cc:74: tree pruning end, 1 roots, 20 extra nodes, 8 pruned nodes, max_depth=5\u001b[0m\n",
      "\u001b[34m[62]#011train-error:0.127333#011validation-error:0.1634\u001b[0m\n",
      "\u001b[34m[13:31:09] src/tree/updater_prune.cc:74: tree pruning end, 1 roots, 12 extra nodes, 14 pruned nodes, max_depth=5\u001b[0m\n",
      "\u001b[34m[63]#011train-error:0.1272#011validation-error:0.1637\u001b[0m\n",
      "\u001b[34m[13:31:10] src/tree/updater_prune.cc:74: tree pruning end, 1 roots, 16 extra nodes, 14 pruned nodes, max_depth=5\u001b[0m\n",
      "\u001b[34m[64]#011train-error:0.126867#011validation-error:0.1637\u001b[0m\n",
      "\u001b[34m[13:31:12] src/tree/updater_prune.cc:74: tree pruning end, 1 roots, 18 extra nodes, 12 pruned nodes, max_depth=5\u001b[0m\n",
      "\u001b[34m[65]#011train-error:0.1262#011validation-error:0.1645\u001b[0m\n",
      "\u001b[34m[13:31:13] src/tree/updater_prune.cc:74: tree pruning end, 1 roots, 30 extra nodes, 16 pruned nodes, max_depth=5\u001b[0m\n",
      "\u001b[34m[66]#011train-error:0.1258#011validation-error:0.1634\u001b[0m\n",
      "\u001b[34m[13:31:14] src/tree/updater_prune.cc:74: tree pruning end, 1 roots, 26 extra nodes, 4 pruned nodes, max_depth=5\u001b[0m\n",
      "\u001b[34m[67]#011train-error:0.123733#011validation-error:0.1615\u001b[0m\n",
      "\u001b[34m[13:31:16] src/tree/updater_prune.cc:74: tree pruning end, 1 roots, 14 extra nodes, 8 pruned nodes, max_depth=5\u001b[0m\n",
      "\u001b[34m[68]#011train-error:0.123867#011validation-error:0.1601\u001b[0m\n",
      "\u001b[34m[13:31:17] src/tree/updater_prune.cc:74: tree pruning end, 1 roots, 16 extra nodes, 8 pruned nodes, max_depth=5\u001b[0m\n",
      "\u001b[34m[69]#011train-error:0.123333#011validation-error:0.1593\u001b[0m\n",
      "\u001b[34m[13:31:18] src/tree/updater_prune.cc:74: tree pruning end, 1 roots, 28 extra nodes, 10 pruned nodes, max_depth=5\u001b[0m\n",
      "\u001b[34m[70]#011train-error:0.1234#011validation-error:0.1595\u001b[0m\n",
      "\u001b[34m[13:31:20] src/tree/updater_prune.cc:74: tree pruning end, 1 roots, 14 extra nodes, 6 pruned nodes, max_depth=5\u001b[0m\n",
      "\u001b[34m[71]#011train-error:0.1226#011validation-error:0.1603\u001b[0m\n",
      "\u001b[34m[13:31:21] src/tree/updater_prune.cc:74: tree pruning end, 1 roots, 28 extra nodes, 14 pruned nodes, max_depth=5\u001b[0m\n",
      "\u001b[34m[72]#011train-error:0.1214#011validation-error:0.1599\u001b[0m\n",
      "\u001b[34m[13:31:22] src/tree/updater_prune.cc:74: tree pruning end, 1 roots, 18 extra nodes, 6 pruned nodes, max_depth=5\u001b[0m\n",
      "\u001b[34m[73]#011train-error:0.1216#011validation-error:0.1597\u001b[0m\n",
      "\u001b[34m[13:31:23] src/tree/updater_prune.cc:74: tree pruning end, 1 roots, 22 extra nodes, 12 pruned nodes, max_depth=5\u001b[0m\n",
      "\u001b[34m[74]#011train-error:0.1216#011validation-error:0.1588\u001b[0m\n",
      "\u001b[34m[13:31:25] src/tree/updater_prune.cc:74: tree pruning end, 1 roots, 20 extra nodes, 16 pruned nodes, max_depth=5\u001b[0m\n",
      "\u001b[34m[75]#011train-error:0.120867#011validation-error:0.1576\u001b[0m\n",
      "\u001b[34m[13:31:26] src/tree/updater_prune.cc:74: tree pruning end, 1 roots, 18 extra nodes, 10 pruned nodes, max_depth=5\u001b[0m\n",
      "\u001b[34m[76]#011train-error:0.1192#011validation-error:0.1578\u001b[0m\n",
      "\u001b[34m[13:31:27] src/tree/updater_prune.cc:74: tree pruning end, 1 roots, 12 extra nodes, 12 pruned nodes, max_depth=5\u001b[0m\n",
      "\u001b[34m[77]#011train-error:0.118867#011validation-error:0.1581\u001b[0m\n",
      "\u001b[34m[13:31:29] src/tree/updater_prune.cc:74: tree pruning end, 1 roots, 20 extra nodes, 4 pruned nodes, max_depth=5\u001b[0m\n",
      "\u001b[34m[78]#011train-error:0.118333#011validation-error:0.1578\u001b[0m\n",
      "\u001b[34m[13:31:30] src/tree/updater_prune.cc:74: tree pruning end, 1 roots, 24 extra nodes, 14 pruned nodes, max_depth=5\u001b[0m\n",
      "\u001b[34m[79]#011train-error:0.116533#011validation-error:0.1563\u001b[0m\n",
      "\u001b[34m[13:31:31] src/tree/updater_prune.cc:74: tree pruning end, 1 roots, 34 extra nodes, 6 pruned nodes, max_depth=5\u001b[0m\n",
      "\u001b[34m[80]#011train-error:0.1158#011validation-error:0.1551\u001b[0m\n",
      "\u001b[34m[13:31:33] src/tree/updater_prune.cc:74: tree pruning end, 1 roots, 26 extra nodes, 8 pruned nodes, max_depth=5\u001b[0m\n",
      "\u001b[34m[81]#011train-error:0.115067#011validation-error:0.1564\u001b[0m\n",
      "\u001b[34m[13:31:34] src/tree/updater_prune.cc:74: tree pruning end, 1 roots, 14 extra nodes, 14 pruned nodes, max_depth=5\u001b[0m\n",
      "\u001b[34m[82]#011train-error:0.114533#011validation-error:0.1561\u001b[0m\n",
      "\u001b[34m[13:31:35] src/tree/updater_prune.cc:74: tree pruning end, 1 roots, 14 extra nodes, 10 pruned nodes, max_depth=5\u001b[0m\n",
      "\u001b[34m[83]#011train-error:0.113733#011validation-error:0.1549\u001b[0m\n",
      "\u001b[34m[13:31:37] src/tree/updater_prune.cc:74: tree pruning end, 1 roots, 16 extra nodes, 8 pruned nodes, max_depth=5\u001b[0m\n",
      "\u001b[34m[84]#011train-error:0.113267#011validation-error:0.1543\u001b[0m\n",
      "\u001b[34m[13:31:38] src/tree/updater_prune.cc:74: tree pruning end, 1 roots, 16 extra nodes, 4 pruned nodes, max_depth=5\u001b[0m\n",
      "\u001b[34m[85]#011train-error:0.112667#011validation-error:0.1542\u001b[0m\n",
      "\u001b[34m[13:31:39] src/tree/updater_prune.cc:74: tree pruning end, 1 roots, 20 extra nodes, 4 pruned nodes, max_depth=5\u001b[0m\n",
      "\u001b[34m[86]#011train-error:0.112067#011validation-error:0.1539\u001b[0m\n",
      "\u001b[34m[13:31:41] src/tree/updater_prune.cc:74: tree pruning end, 1 roots, 30 extra nodes, 10 pruned nodes, max_depth=5\u001b[0m\n",
      "\u001b[34m[87]#011train-error:0.1114#011validation-error:0.1533\u001b[0m\n",
      "\u001b[34m[13:31:42] src/tree/updater_prune.cc:74: tree pruning end, 1 roots, 12 extra nodes, 16 pruned nodes, max_depth=5\u001b[0m\n",
      "\u001b[34m[88]#011train-error:0.110733#011validation-error:0.154\u001b[0m\n",
      "\u001b[34m[13:31:43] src/tree/updater_prune.cc:74: tree pruning end, 1 roots, 16 extra nodes, 8 pruned nodes, max_depth=5\u001b[0m\n",
      "\u001b[34m[89]#011train-error:0.1102#011validation-error:0.1537\u001b[0m\n",
      "\u001b[34m[13:31:45] src/tree/updater_prune.cc:74: tree pruning end, 1 roots, 14 extra nodes, 4 pruned nodes, max_depth=5\u001b[0m\n",
      "\u001b[34m[90]#011train-error:0.109933#011validation-error:0.1538\u001b[0m\n"
     ]
    },
    {
     "name": "stdout",
     "output_type": "stream",
     "text": [
      "\u001b[34m[13:31:46] src/tree/updater_prune.cc:74: tree pruning end, 1 roots, 12 extra nodes, 14 pruned nodes, max_depth=5\u001b[0m\n",
      "\u001b[34m[91]#011train-error:0.109#011validation-error:0.1539\u001b[0m\n",
      "\u001b[34m[13:31:47] src/tree/updater_prune.cc:74: tree pruning end, 1 roots, 18 extra nodes, 10 pruned nodes, max_depth=5\u001b[0m\n",
      "\u001b[34m[92]#011train-error:0.109533#011validation-error:0.1535\u001b[0m\n",
      "\u001b[34m[13:31:48] src/tree/updater_prune.cc:74: tree pruning end, 1 roots, 22 extra nodes, 6 pruned nodes, max_depth=5\u001b[0m\n",
      "\u001b[34m[93]#011train-error:0.107867#011validation-error:0.1527\u001b[0m\n",
      "\u001b[34m[13:31:50] src/tree/updater_prune.cc:74: tree pruning end, 1 roots, 38 extra nodes, 12 pruned nodes, max_depth=5\u001b[0m\n",
      "\u001b[34m[94]#011train-error:0.106#011validation-error:0.1526\u001b[0m\n",
      "\u001b[34m[13:31:51] src/tree/updater_prune.cc:74: tree pruning end, 1 roots, 10 extra nodes, 6 pruned nodes, max_depth=5\u001b[0m\n",
      "\u001b[34m[95]#011train-error:0.1062#011validation-error:0.1525\u001b[0m\n",
      "\u001b[34m[13:31:52] src/tree/updater_prune.cc:74: tree pruning end, 1 roots, 22 extra nodes, 16 pruned nodes, max_depth=5\u001b[0m\n",
      "\u001b[34m[96]#011train-error:0.105933#011validation-error:0.1521\u001b[0m\n",
      "\u001b[34m[13:31:54] src/tree/updater_prune.cc:74: tree pruning end, 1 roots, 16 extra nodes, 4 pruned nodes, max_depth=5\u001b[0m\n",
      "\u001b[34m[97]#011train-error:0.1064#011validation-error:0.1514\u001b[0m\n",
      "\u001b[34m[13:31:55] src/tree/updater_prune.cc:74: tree pruning end, 1 roots, 20 extra nodes, 6 pruned nodes, max_depth=5\u001b[0m\n",
      "\u001b[34m[98]#011train-error:0.106#011validation-error:0.1519\u001b[0m\n",
      "\u001b[34m[13:31:56] src/tree/updater_prune.cc:74: tree pruning end, 1 roots, 10 extra nodes, 8 pruned nodes, max_depth=5\u001b[0m\n",
      "\u001b[34m[99]#011train-error:0.104933#011validation-error:0.1514\u001b[0m\n",
      "\u001b[34m[13:31:58] src/tree/updater_prune.cc:74: tree pruning end, 1 roots, 20 extra nodes, 10 pruned nodes, max_depth=5\u001b[0m\n",
      "\u001b[34m[100]#011train-error:0.106133#011validation-error:0.1502\u001b[0m\n",
      "\u001b[34m[13:31:59] src/tree/updater_prune.cc:74: tree pruning end, 1 roots, 16 extra nodes, 18 pruned nodes, max_depth=5\u001b[0m\n",
      "\u001b[34m[101]#011train-error:0.105133#011validation-error:0.1501\u001b[0m\n",
      "\u001b[34m[13:32:00] src/tree/updater_prune.cc:74: tree pruning end, 1 roots, 10 extra nodes, 6 pruned nodes, max_depth=5\u001b[0m\n",
      "\u001b[34m[102]#011train-error:0.104733#011validation-error:0.1502\u001b[0m\n",
      "\u001b[34m[13:32:02] src/tree/updater_prune.cc:74: tree pruning end, 1 roots, 26 extra nodes, 4 pruned nodes, max_depth=5\u001b[0m\n",
      "\u001b[34m[103]#011train-error:0.103667#011validation-error:0.1511\u001b[0m\n",
      "\u001b[34m[13:32:03] src/tree/updater_prune.cc:74: tree pruning end, 1 roots, 16 extra nodes, 10 pruned nodes, max_depth=5\u001b[0m\n",
      "\u001b[34m[104]#011train-error:0.103133#011validation-error:0.1508\u001b[0m\n",
      "\u001b[34m[13:32:04] src/tree/updater_prune.cc:74: tree pruning end, 1 roots, 18 extra nodes, 10 pruned nodes, max_depth=5\u001b[0m\n",
      "\u001b[34m[105]#011train-error:0.102067#011validation-error:0.1507\u001b[0m\n",
      "\u001b[34m[13:32:05] src/tree/updater_prune.cc:74: tree pruning end, 1 roots, 12 extra nodes, 14 pruned nodes, max_depth=5\u001b[0m\n",
      "\u001b[34m[106]#011train-error:0.102067#011validation-error:0.1508\u001b[0m\n",
      "\u001b[34m[13:32:07] src/tree/updater_prune.cc:74: tree pruning end, 1 roots, 14 extra nodes, 12 pruned nodes, max_depth=5\u001b[0m\n",
      "\u001b[34m[107]#011train-error:0.101533#011validation-error:0.1506\u001b[0m\n",
      "\u001b[34m[13:32:08] src/tree/updater_prune.cc:74: tree pruning end, 1 roots, 20 extra nodes, 8 pruned nodes, max_depth=5\u001b[0m\n",
      "\u001b[34m[108]#011train-error:0.1006#011validation-error:0.1504\u001b[0m\n",
      "\u001b[34m[13:32:09] src/tree/updater_prune.cc:74: tree pruning end, 1 roots, 10 extra nodes, 6 pruned nodes, max_depth=5\u001b[0m\n",
      "\u001b[34m[109]#011train-error:0.1002#011validation-error:0.1499\u001b[0m\n",
      "\u001b[34m[13:32:11] src/tree/updater_prune.cc:74: tree pruning end, 1 roots, 14 extra nodes, 2 pruned nodes, max_depth=5\u001b[0m\n",
      "\u001b[34m[110]#011train-error:0.099867#011validation-error:0.1497\u001b[0m\n",
      "\u001b[34m[13:32:12] src/tree/updater_prune.cc:74: tree pruning end, 1 roots, 16 extra nodes, 8 pruned nodes, max_depth=5\u001b[0m\n",
      "\u001b[34m[111]#011train-error:0.099467#011validation-error:0.1489\u001b[0m\n",
      "\u001b[34m[13:32:13] src/tree/updater_prune.cc:74: tree pruning end, 1 roots, 30 extra nodes, 2 pruned nodes, max_depth=5\u001b[0m\n",
      "\u001b[34m[112]#011train-error:0.099133#011validation-error:0.1483\u001b[0m\n",
      "\u001b[34m[13:32:15] src/tree/updater_prune.cc:74: tree pruning end, 1 roots, 14 extra nodes, 8 pruned nodes, max_depth=5\u001b[0m\n",
      "\u001b[34m[113]#011train-error:0.098667#011validation-error:0.1475\u001b[0m\n",
      "\u001b[34m[13:32:16] src/tree/updater_prune.cc:74: tree pruning end, 1 roots, 12 extra nodes, 10 pruned nodes, max_depth=5\u001b[0m\n",
      "\u001b[34m[114]#011train-error:0.098467#011validation-error:0.1477\u001b[0m\n",
      "\u001b[34m[13:32:17] src/tree/updater_prune.cc:74: tree pruning end, 1 roots, 26 extra nodes, 8 pruned nodes, max_depth=5\u001b[0m\n",
      "\u001b[34m[115]#011train-error:0.0978#011validation-error:0.1478\u001b[0m\n",
      "\u001b[34m[13:32:19] src/tree/updater_prune.cc:74: tree pruning end, 1 roots, 14 extra nodes, 0 pruned nodes, max_depth=5\u001b[0m\n",
      "\u001b[34m[116]#011train-error:0.098067#011validation-error:0.1473\u001b[0m\n",
      "\u001b[34m[13:32:20] src/tree/updater_prune.cc:74: tree pruning end, 1 roots, 14 extra nodes, 8 pruned nodes, max_depth=5\u001b[0m\n",
      "\u001b[34m[117]#011train-error:0.097867#011validation-error:0.1472\u001b[0m\n",
      "\u001b[34m[13:32:21] src/tree/updater_prune.cc:74: tree pruning end, 1 roots, 26 extra nodes, 6 pruned nodes, max_depth=5\u001b[0m\n",
      "\u001b[34m[118]#011train-error:0.096133#011validation-error:0.1471\u001b[0m\n",
      "\u001b[34m[13:32:22] src/tree/updater_prune.cc:74: tree pruning end, 1 roots, 28 extra nodes, 16 pruned nodes, max_depth=5\u001b[0m\n",
      "\u001b[34m[119]#011train-error:0.096133#011validation-error:0.1461\u001b[0m\n",
      "\u001b[34m[13:32:24] src/tree/updater_prune.cc:74: tree pruning end, 1 roots, 24 extra nodes, 8 pruned nodes, max_depth=5\u001b[0m\n",
      "\u001b[34m[120]#011train-error:0.095267#011validation-error:0.1466\u001b[0m\n",
      "\u001b[34m[13:32:25] src/tree/updater_prune.cc:74: tree pruning end, 1 roots, 14 extra nodes, 12 pruned nodes, max_depth=5\u001b[0m\n",
      "\u001b[34m[121]#011train-error:0.0948#011validation-error:0.1459\u001b[0m\n",
      "\u001b[34m[13:32:26] src/tree/updater_prune.cc:74: tree pruning end, 1 roots, 26 extra nodes, 10 pruned nodes, max_depth=5\u001b[0m\n",
      "\u001b[34m[122]#011train-error:0.094267#011validation-error:0.1466\u001b[0m\n",
      "\u001b[34m[13:32:28] src/tree/updater_prune.cc:74: tree pruning end, 1 roots, 16 extra nodes, 8 pruned nodes, max_depth=5\u001b[0m\n",
      "\u001b[34m[123]#011train-error:0.094333#011validation-error:0.1466\u001b[0m\n",
      "\u001b[34m[13:32:29] src/tree/updater_prune.cc:74: tree pruning end, 1 roots, 20 extra nodes, 18 pruned nodes, max_depth=5\u001b[0m\n",
      "\u001b[34m[124]#011train-error:0.093867#011validation-error:0.1463\u001b[0m\n",
      "\u001b[34m[13:32:30] src/tree/updater_prune.cc:74: tree pruning end, 1 roots, 16 extra nodes, 8 pruned nodes, max_depth=5\u001b[0m\n",
      "\u001b[34m[125]#011train-error:0.093133#011validation-error:0.1458\u001b[0m\n",
      "\u001b[34m[13:32:32] src/tree/updater_prune.cc:74: tree pruning end, 1 roots, 12 extra nodes, 4 pruned nodes, max_depth=5\u001b[0m\n",
      "\u001b[34m[126]#011train-error:0.0928#011validation-error:0.1458\u001b[0m\n",
      "\u001b[34m[13:32:33] src/tree/updater_prune.cc:74: tree pruning end, 1 roots, 28 extra nodes, 12 pruned nodes, max_depth=5\u001b[0m\n",
      "\u001b[34m[127]#011train-error:0.092533#011validation-error:0.1453\u001b[0m\n",
      "\u001b[34m[13:32:34] src/tree/updater_prune.cc:74: tree pruning end, 1 roots, 22 extra nodes, 8 pruned nodes, max_depth=5\u001b[0m\n",
      "\u001b[34m[128]#011train-error:0.0924#011validation-error:0.1437\u001b[0m\n",
      "\u001b[34m[13:32:36] src/tree/updater_prune.cc:74: tree pruning end, 1 roots, 24 extra nodes, 2 pruned nodes, max_depth=5\u001b[0m\n",
      "\u001b[34m[129]#011train-error:0.0916#011validation-error:0.1436\u001b[0m\n",
      "\u001b[34m[13:32:37] src/tree/updater_prune.cc:74: tree pruning end, 1 roots, 20 extra nodes, 10 pruned nodes, max_depth=5\u001b[0m\n",
      "\u001b[34m[130]#011train-error:0.0914#011validation-error:0.1434\u001b[0m\n",
      "\u001b[34m[13:32:38] src/tree/updater_prune.cc:74: tree pruning end, 1 roots, 10 extra nodes, 6 pruned nodes, max_depth=5\u001b[0m\n",
      "\u001b[34m[131]#011train-error:0.091067#011validation-error:0.1431\u001b[0m\n",
      "\u001b[34m[13:32:39] src/tree/updater_prune.cc:74: tree pruning end, 1 roots, 32 extra nodes, 14 pruned nodes, max_depth=5\u001b[0m\n",
      "\u001b[34m[132]#011train-error:0.090267#011validation-error:0.143\u001b[0m\n",
      "\u001b[34m[13:32:41] src/tree/updater_prune.cc:74: tree pruning end, 1 roots, 28 extra nodes, 2 pruned nodes, max_depth=5\u001b[0m\n",
      "\u001b[34m[133]#011train-error:0.089333#011validation-error:0.1429\u001b[0m\n",
      "\u001b[34m[13:32:42] src/tree/updater_prune.cc:74: tree pruning end, 1 roots, 10 extra nodes, 6 pruned nodes, max_depth=5\u001b[0m\n",
      "\u001b[34m[134]#011train-error:0.0892#011validation-error:0.1432\u001b[0m\n",
      "\u001b[34m[13:32:43] src/tree/updater_prune.cc:74: tree pruning end, 1 roots, 12 extra nodes, 8 pruned nodes, max_depth=5\u001b[0m\n",
      "\u001b[34m[135]#011train-error:0.0888#011validation-error:0.1425\u001b[0m\n",
      "\u001b[34m[13:32:45] src/tree/updater_prune.cc:74: tree pruning end, 1 roots, 14 extra nodes, 12 pruned nodes, max_depth=5\u001b[0m\n",
      "\u001b[34m[136]#011train-error:0.088333#011validation-error:0.1423\u001b[0m\n",
      "\u001b[34m[13:32:46] src/tree/updater_prune.cc:74: tree pruning end, 1 roots, 20 extra nodes, 18 pruned nodes, max_depth=5\u001b[0m\n"
     ]
    },
    {
     "name": "stdout",
     "output_type": "stream",
     "text": [
      "\u001b[34m[137]#011train-error:0.088533#011validation-error:0.1431\u001b[0m\n",
      "\u001b[34m[13:32:47] src/tree/updater_prune.cc:74: tree pruning end, 1 roots, 16 extra nodes, 12 pruned nodes, max_depth=5\u001b[0m\n",
      "\u001b[34m[138]#011train-error:0.087267#011validation-error:0.1412\u001b[0m\n",
      "\u001b[34m[13:32:49] src/tree/updater_prune.cc:74: tree pruning end, 1 roots, 16 extra nodes, 8 pruned nodes, max_depth=5\u001b[0m\n",
      "\u001b[34m[139]#011train-error:0.086867#011validation-error:0.1412\u001b[0m\n",
      "\u001b[34m[13:32:50] src/tree/updater_prune.cc:74: tree pruning end, 1 roots, 14 extra nodes, 2 pruned nodes, max_depth=5\u001b[0m\n",
      "\u001b[34m[140]#011train-error:0.0866#011validation-error:0.141\u001b[0m\n",
      "\u001b[34m[13:32:51] src/tree/updater_prune.cc:74: tree pruning end, 1 roots, 10 extra nodes, 18 pruned nodes, max_depth=5\u001b[0m\n",
      "\u001b[34m[141]#011train-error:0.086067#011validation-error:0.1405\u001b[0m\n",
      "\u001b[34m[13:32:53] src/tree/updater_prune.cc:74: tree pruning end, 1 roots, 12 extra nodes, 8 pruned nodes, max_depth=5\u001b[0m\n",
      "\u001b[34m[142]#011train-error:0.085867#011validation-error:0.1407\u001b[0m\n",
      "\u001b[34m[13:32:54] src/tree/updater_prune.cc:74: tree pruning end, 1 roots, 10 extra nodes, 2 pruned nodes, max_depth=5\u001b[0m\n",
      "\u001b[34m[143]#011train-error:0.085733#011validation-error:0.1405\u001b[0m\n",
      "\u001b[34m[13:32:55] src/tree/updater_prune.cc:74: tree pruning end, 1 roots, 22 extra nodes, 8 pruned nodes, max_depth=5\u001b[0m\n",
      "\u001b[34m[144]#011train-error:0.085467#011validation-error:0.1402\u001b[0m\n",
      "\u001b[34m[13:32:56] src/tree/updater_prune.cc:74: tree pruning end, 1 roots, 10 extra nodes, 10 pruned nodes, max_depth=5\u001b[0m\n",
      "\u001b[34m[145]#011train-error:0.0854#011validation-error:0.1401\u001b[0m\n",
      "\u001b[34m[13:32:58] src/tree/updater_prune.cc:74: tree pruning end, 1 roots, 22 extra nodes, 8 pruned nodes, max_depth=5\u001b[0m\n",
      "\u001b[34m[146]#011train-error:0.0852#011validation-error:0.1398\u001b[0m\n",
      "\u001b[34m[13:32:59] src/tree/updater_prune.cc:74: tree pruning end, 1 roots, 14 extra nodes, 2 pruned nodes, max_depth=5\u001b[0m\n",
      "\u001b[34m[147]#011train-error:0.0848#011validation-error:0.1396\u001b[0m\n",
      "\u001b[34m[13:33:00] src/tree/updater_prune.cc:74: tree pruning end, 1 roots, 20 extra nodes, 18 pruned nodes, max_depth=5\u001b[0m\n",
      "\u001b[34m[148]#011train-error:0.085067#011validation-error:0.1403\u001b[0m\n",
      "\u001b[34m[13:33:02] src/tree/updater_prune.cc:74: tree pruning end, 1 roots, 24 extra nodes, 6 pruned nodes, max_depth=5\u001b[0m\n",
      "\u001b[34m[149]#011train-error:0.085267#011validation-error:0.1398\u001b[0m\n",
      "\u001b[34m[13:33:03] src/tree/updater_prune.cc:74: tree pruning end, 1 roots, 16 extra nodes, 4 pruned nodes, max_depth=5\u001b[0m\n",
      "\u001b[34m[150]#011train-error:0.084667#011validation-error:0.1394\u001b[0m\n",
      "\u001b[34m[13:33:04] src/tree/updater_prune.cc:74: tree pruning end, 1 roots, 10 extra nodes, 10 pruned nodes, max_depth=5\u001b[0m\n",
      "\u001b[34m[151]#011train-error:0.084933#011validation-error:0.1389\u001b[0m\n",
      "\u001b[34m[13:33:06] src/tree/updater_prune.cc:74: tree pruning end, 1 roots, 16 extra nodes, 4 pruned nodes, max_depth=5\u001b[0m\n",
      "\u001b[34m[152]#011train-error:0.084533#011validation-error:0.1388\u001b[0m\n",
      "\u001b[34m[13:33:07] src/tree/updater_prune.cc:74: tree pruning end, 1 roots, 12 extra nodes, 6 pruned nodes, max_depth=5\u001b[0m\n",
      "\u001b[34m[153]#011train-error:0.084333#011validation-error:0.1382\u001b[0m\n",
      "\u001b[34m[13:33:08] src/tree/updater_prune.cc:74: tree pruning end, 1 roots, 20 extra nodes, 10 pruned nodes, max_depth=5\u001b[0m\n",
      "\u001b[34m[154]#011train-error:0.082533#011validation-error:0.1377\u001b[0m\n",
      "\u001b[34m[13:33:10] src/tree/updater_prune.cc:74: tree pruning end, 1 roots, 10 extra nodes, 4 pruned nodes, max_depth=5\u001b[0m\n",
      "\u001b[34m[155]#011train-error:0.081933#011validation-error:0.1378\u001b[0m\n",
      "\u001b[34m[13:33:11] src/tree/updater_prune.cc:74: tree pruning end, 1 roots, 18 extra nodes, 12 pruned nodes, max_depth=5\u001b[0m\n",
      "\u001b[34m[156]#011train-error:0.0824#011validation-error:0.1375\u001b[0m\n",
      "\u001b[34m[13:33:12] src/tree/updater_prune.cc:74: tree pruning end, 1 roots, 16 extra nodes, 2 pruned nodes, max_depth=5\u001b[0m\n",
      "\u001b[34m[157]#011train-error:0.0822#011validation-error:0.1378\u001b[0m\n",
      "\u001b[34m[13:33:14] src/tree/updater_prune.cc:74: tree pruning end, 1 roots, 10 extra nodes, 2 pruned nodes, max_depth=5\u001b[0m\n",
      "\u001b[34m[158]#011train-error:0.0818#011validation-error:0.1379\u001b[0m\n",
      "\u001b[34m[13:33:15] src/tree/updater_prune.cc:74: tree pruning end, 1 roots, 10 extra nodes, 4 pruned nodes, max_depth=5\u001b[0m\n",
      "\u001b[34m[159]#011train-error:0.081133#011validation-error:0.1371\u001b[0m\n",
      "\u001b[34m[13:33:16] src/tree/updater_prune.cc:74: tree pruning end, 1 roots, 24 extra nodes, 14 pruned nodes, max_depth=5\u001b[0m\n",
      "\u001b[34m[160]#011train-error:0.081333#011validation-error:0.1373\u001b[0m\n",
      "\u001b[34m[13:33:18] src/tree/updater_prune.cc:74: tree pruning end, 1 roots, 18 extra nodes, 4 pruned nodes, max_depth=5\u001b[0m\n",
      "\u001b[34m[161]#011train-error:0.081333#011validation-error:0.1371\u001b[0m\n",
      "\u001b[34m[13:33:19] src/tree/updater_prune.cc:74: tree pruning end, 1 roots, 12 extra nodes, 4 pruned nodes, max_depth=5\u001b[0m\n",
      "\u001b[34m[162]#011train-error:0.081267#011validation-error:0.1367\u001b[0m\n",
      "\u001b[34m[13:33:20] src/tree/updater_prune.cc:74: tree pruning end, 1 roots, 12 extra nodes, 6 pruned nodes, max_depth=5\u001b[0m\n",
      "\u001b[34m[163]#011train-error:0.081267#011validation-error:0.1368\u001b[0m\n",
      "\u001b[34m[13:33:22] src/tree/updater_prune.cc:74: tree pruning end, 1 roots, 10 extra nodes, 10 pruned nodes, max_depth=5\u001b[0m\n",
      "\u001b[34m[164]#011train-error:0.080867#011validation-error:0.1366\u001b[0m\n",
      "\u001b[34m[13:33:23] src/tree/updater_prune.cc:74: tree pruning end, 1 roots, 20 extra nodes, 10 pruned nodes, max_depth=5\u001b[0m\n",
      "\u001b[34m[165]#011train-error:0.080133#011validation-error:0.1361\u001b[0m\n",
      "\u001b[34m[13:33:24] src/tree/updater_prune.cc:74: tree pruning end, 1 roots, 10 extra nodes, 6 pruned nodes, max_depth=5\u001b[0m\n",
      "\u001b[34m[166]#011train-error:0.0796#011validation-error:0.1362\u001b[0m\n",
      "\u001b[34m[13:33:26] src/tree/updater_prune.cc:74: tree pruning end, 1 roots, 10 extra nodes, 4 pruned nodes, max_depth=5\u001b[0m\n",
      "\u001b[34m[167]#011train-error:0.079533#011validation-error:0.1363\u001b[0m\n",
      "\u001b[34m[13:33:27] src/tree/updater_prune.cc:74: tree pruning end, 1 roots, 12 extra nodes, 8 pruned nodes, max_depth=5\u001b[0m\n",
      "\u001b[34m[168]#011train-error:0.079733#011validation-error:0.1361\u001b[0m\n",
      "\u001b[34m[13:33:28] src/tree/updater_prune.cc:74: tree pruning end, 1 roots, 16 extra nodes, 6 pruned nodes, max_depth=5\u001b[0m\n",
      "\u001b[34m[169]#011train-error:0.08#011validation-error:0.1351\u001b[0m\n",
      "\u001b[34m[13:33:29] src/tree/updater_prune.cc:74: tree pruning end, 1 roots, 12 extra nodes, 12 pruned nodes, max_depth=5\u001b[0m\n",
      "\u001b[34m[170]#011train-error:0.078933#011validation-error:0.1352\u001b[0m\n",
      "\u001b[34m[13:33:31] src/tree/updater_prune.cc:74: tree pruning end, 1 roots, 18 extra nodes, 2 pruned nodes, max_depth=5\u001b[0m\n",
      "\u001b[34m[171]#011train-error:0.0794#011validation-error:0.136\u001b[0m\n",
      "\u001b[34m[13:33:32] src/tree/updater_prune.cc:74: tree pruning end, 1 roots, 16 extra nodes, 18 pruned nodes, max_depth=5\u001b[0m\n",
      "\u001b[34m[172]#011train-error:0.0788#011validation-error:0.1359\u001b[0m\n",
      "\u001b[34m[13:33:33] src/tree/updater_prune.cc:74: tree pruning end, 1 roots, 16 extra nodes, 8 pruned nodes, max_depth=5\u001b[0m\n",
      "\u001b[34m[173]#011train-error:0.079133#011validation-error:0.135\u001b[0m\n",
      "\u001b[34m[13:33:35] src/tree/updater_prune.cc:74: tree pruning end, 1 roots, 12 extra nodes, 16 pruned nodes, max_depth=5\u001b[0m\n",
      "\u001b[34m[174]#011train-error:0.078533#011validation-error:0.1355\u001b[0m\n",
      "\u001b[34m[13:33:36] src/tree/updater_prune.cc:74: tree pruning end, 1 roots, 12 extra nodes, 2 pruned nodes, max_depth=5\u001b[0m\n",
      "\u001b[34m[175]#011train-error:0.078267#011validation-error:0.1357\u001b[0m\n",
      "\u001b[34m[13:33:37] src/tree/updater_prune.cc:74: tree pruning end, 1 roots, 16 extra nodes, 10 pruned nodes, max_depth=5\u001b[0m\n",
      "\u001b[34m[176]#011train-error:0.077933#011validation-error:0.1355\u001b[0m\n",
      "\u001b[34m[13:33:39] src/tree/updater_prune.cc:74: tree pruning end, 1 roots, 12 extra nodes, 8 pruned nodes, max_depth=5\u001b[0m\n",
      "\u001b[34m[177]#011train-error:0.077867#011validation-error:0.1353\u001b[0m\n",
      "\u001b[34m[13:33:40] src/tree/updater_prune.cc:74: tree pruning end, 1 roots, 16 extra nodes, 6 pruned nodes, max_depth=5\u001b[0m\n",
      "\u001b[34m[178]#011train-error:0.076933#011validation-error:0.1349\u001b[0m\n",
      "\u001b[34m[13:33:41] src/tree/updater_prune.cc:74: tree pruning end, 1 roots, 14 extra nodes, 16 pruned nodes, max_depth=5\u001b[0m\n",
      "\u001b[34m[179]#011train-error:0.076467#011validation-error:0.1346\u001b[0m\n",
      "\u001b[34m[13:33:43] src/tree/updater_prune.cc:74: tree pruning end, 1 roots, 10 extra nodes, 6 pruned nodes, max_depth=5\u001b[0m\n",
      "\u001b[34m[180]#011train-error:0.076733#011validation-error:0.1345\u001b[0m\n",
      "\u001b[34m[13:33:44] src/tree/updater_prune.cc:74: tree pruning end, 1 roots, 12 extra nodes, 6 pruned nodes, max_depth=5\u001b[0m\n",
      "\u001b[34m[181]#011train-error:0.076667#011validation-error:0.1352\u001b[0m\n",
      "\u001b[34m[13:33:45] src/tree/updater_prune.cc:74: tree pruning end, 1 roots, 10 extra nodes, 2 pruned nodes, max_depth=5\u001b[0m\n",
      "\u001b[34m[182]#011train-error:0.076533#011validation-error:0.1353\u001b[0m\n",
      "\u001b[34m[13:33:47] src/tree/updater_prune.cc:74: tree pruning end, 1 roots, 14 extra nodes, 6 pruned nodes, max_depth=5\u001b[0m\n",
      "\u001b[34m[183]#011train-error:0.076267#011validation-error:0.1348\u001b[0m\n"
     ]
    },
    {
     "name": "stdout",
     "output_type": "stream",
     "text": [
      "\u001b[34m[13:33:48] src/tree/updater_prune.cc:74: tree pruning end, 1 roots, 22 extra nodes, 2 pruned nodes, max_depth=5\u001b[0m\n",
      "\u001b[34m[184]#011train-error:0.076333#011validation-error:0.1341\u001b[0m\n",
      "\u001b[34m[13:33:49] src/tree/updater_prune.cc:74: tree pruning end, 1 roots, 18 extra nodes, 10 pruned nodes, max_depth=5\u001b[0m\n",
      "\u001b[34m[185]#011train-error:0.0756#011validation-error:0.1346\u001b[0m\n",
      "\u001b[34m[13:33:50] src/tree/updater_prune.cc:74: tree pruning end, 1 roots, 16 extra nodes, 2 pruned nodes, max_depth=5\u001b[0m\n",
      "\u001b[34m[186]#011train-error:0.075133#011validation-error:0.1338\u001b[0m\n",
      "\u001b[34m[13:33:52] src/tree/updater_prune.cc:74: tree pruning end, 1 roots, 16 extra nodes, 2 pruned nodes, max_depth=5\u001b[0m\n",
      "\u001b[34m[187]#011train-error:0.074867#011validation-error:0.1338\u001b[0m\n",
      "\u001b[34m[13:33:53] src/tree/updater_prune.cc:74: tree pruning end, 1 roots, 16 extra nodes, 14 pruned nodes, max_depth=5\u001b[0m\n",
      "\u001b[34m[188]#011train-error:0.074733#011validation-error:0.1338\u001b[0m\n",
      "\u001b[34m[13:33:54] src/tree/updater_prune.cc:74: tree pruning end, 1 roots, 16 extra nodes, 2 pruned nodes, max_depth=5\u001b[0m\n",
      "\u001b[34m[189]#011train-error:0.074133#011validation-error:0.1331\u001b[0m\n",
      "\u001b[34m[13:33:56] src/tree/updater_prune.cc:74: tree pruning end, 1 roots, 10 extra nodes, 6 pruned nodes, max_depth=5\u001b[0m\n",
      "\u001b[34m[190]#011train-error:0.0736#011validation-error:0.1335\u001b[0m\n",
      "\u001b[34m[13:33:57] src/tree/updater_prune.cc:74: tree pruning end, 1 roots, 12 extra nodes, 16 pruned nodes, max_depth=5\u001b[0m\n",
      "\u001b[34m[191]#011train-error:0.074133#011validation-error:0.1333\u001b[0m\n",
      "\u001b[34m[13:33:58] src/tree/updater_prune.cc:74: tree pruning end, 1 roots, 10 extra nodes, 4 pruned nodes, max_depth=5\u001b[0m\n",
      "\u001b[34m[192]#011train-error:0.073333#011validation-error:0.1335\u001b[0m\n",
      "\u001b[34m[13:34:00] src/tree/updater_prune.cc:74: tree pruning end, 1 roots, 14 extra nodes, 4 pruned nodes, max_depth=5\u001b[0m\n",
      "\u001b[34m[193]#011train-error:0.073267#011validation-error:0.1333\u001b[0m\n",
      "\u001b[34m[13:34:01] src/tree/updater_prune.cc:74: tree pruning end, 1 roots, 16 extra nodes, 18 pruned nodes, max_depth=5\u001b[0m\n",
      "\u001b[34m[194]#011train-error:0.073667#011validation-error:0.1332\u001b[0m\n",
      "\u001b[34m[13:34:02] src/tree/updater_prune.cc:74: tree pruning end, 1 roots, 10 extra nodes, 14 pruned nodes, max_depth=5\u001b[0m\n",
      "\u001b[34m[195]#011train-error:0.073733#011validation-error:0.1325\u001b[0m\n",
      "\u001b[34m[13:34:04] src/tree/updater_prune.cc:74: tree pruning end, 1 roots, 16 extra nodes, 6 pruned nodes, max_depth=5\u001b[0m\n",
      "\u001b[34m[196]#011train-error:0.0726#011validation-error:0.1329\u001b[0m\n",
      "\u001b[34m[13:34:05] src/tree/updater_prune.cc:74: tree pruning end, 1 roots, 14 extra nodes, 6 pruned nodes, max_depth=5\u001b[0m\n",
      "\u001b[34m[197]#011train-error:0.072533#011validation-error:0.1335\u001b[0m\n",
      "\u001b[34m[13:34:06] src/tree/updater_prune.cc:74: tree pruning end, 1 roots, 20 extra nodes, 10 pruned nodes, max_depth=5\u001b[0m\n",
      "\u001b[34m[198]#011train-error:0.0728#011validation-error:0.1329\u001b[0m\n",
      "\u001b[34m[13:34:07] src/tree/updater_prune.cc:74: tree pruning end, 1 roots, 10 extra nodes, 6 pruned nodes, max_depth=5\u001b[0m\n",
      "\u001b[34m[199]#011train-error:0.072333#011validation-error:0.1328\u001b[0m\n",
      "\u001b[34m[13:34:09] src/tree/updater_prune.cc:74: tree pruning end, 1 roots, 12 extra nodes, 2 pruned nodes, max_depth=5\u001b[0m\n",
      "\u001b[34m[200]#011train-error:0.0724#011validation-error:0.1322\u001b[0m\n",
      "\u001b[34m[13:34:10] src/tree/updater_prune.cc:74: tree pruning end, 1 roots, 20 extra nodes, 8 pruned nodes, max_depth=5\u001b[0m\n",
      "\u001b[34m[201]#011train-error:0.0724#011validation-error:0.1331\u001b[0m\n",
      "\u001b[34m[13:34:11] src/tree/updater_prune.cc:74: tree pruning end, 1 roots, 12 extra nodes, 6 pruned nodes, max_depth=5\u001b[0m\n",
      "\u001b[34m[202]#011train-error:0.072667#011validation-error:0.1326\u001b[0m\n",
      "\u001b[34m[13:34:13] src/tree/updater_prune.cc:74: tree pruning end, 1 roots, 12 extra nodes, 8 pruned nodes, max_depth=5\u001b[0m\n",
      "\u001b[34m[203]#011train-error:0.072267#011validation-error:0.1323\u001b[0m\n",
      "\u001b[34m[13:34:14] src/tree/updater_prune.cc:74: tree pruning end, 1 roots, 16 extra nodes, 2 pruned nodes, max_depth=5\u001b[0m\n",
      "\u001b[34m[204]#011train-error:0.071933#011validation-error:0.1326\u001b[0m\n",
      "\u001b[34m[13:34:15] src/tree/updater_prune.cc:74: tree pruning end, 1 roots, 22 extra nodes, 14 pruned nodes, max_depth=5\u001b[0m\n",
      "\u001b[34m[205]#011train-error:0.0716#011validation-error:0.133\u001b[0m\n",
      "\u001b[34m[13:34:17] src/tree/updater_prune.cc:74: tree pruning end, 1 roots, 24 extra nodes, 6 pruned nodes, max_depth=5\u001b[0m\n",
      "\u001b[34m[206]#011train-error:0.0708#011validation-error:0.1326\u001b[0m\n",
      "\u001b[34m[13:34:18] src/tree/updater_prune.cc:74: tree pruning end, 1 roots, 10 extra nodes, 6 pruned nodes, max_depth=5\u001b[0m\n",
      "\u001b[34m[207]#011train-error:0.070533#011validation-error:0.1327\u001b[0m\n",
      "\u001b[34m[13:34:19] src/tree/updater_prune.cc:74: tree pruning end, 1 roots, 14 extra nodes, 6 pruned nodes, max_depth=5\u001b[0m\n",
      "\u001b[34m[208]#011train-error:0.07#011validation-error:0.133\u001b[0m\n",
      "\u001b[34m[13:34:20] src/tree/updater_prune.cc:74: tree pruning end, 1 roots, 14 extra nodes, 10 pruned nodes, max_depth=5\u001b[0m\n",
      "\u001b[34m[209]#011train-error:0.070067#011validation-error:0.132\u001b[0m\n",
      "\u001b[34m[13:34:22] src/tree/updater_prune.cc:74: tree pruning end, 1 roots, 14 extra nodes, 8 pruned nodes, max_depth=5\u001b[0m\n",
      "\u001b[34m[210]#011train-error:0.070533#011validation-error:0.1317\u001b[0m\n",
      "\u001b[34m[13:34:23] src/tree/updater_prune.cc:74: tree pruning end, 1 roots, 14 extra nodes, 8 pruned nodes, max_depth=5\u001b[0m\n",
      "\u001b[34m[211]#011train-error:0.069533#011validation-error:0.1314\u001b[0m\n",
      "\u001b[34m[13:34:24] src/tree/updater_prune.cc:74: tree pruning end, 1 roots, 22 extra nodes, 20 pruned nodes, max_depth=5\u001b[0m\n",
      "\u001b[34m[212]#011train-error:0.069133#011validation-error:0.1322\u001b[0m\n",
      "\u001b[34m[13:34:26] src/tree/updater_prune.cc:74: tree pruning end, 1 roots, 18 extra nodes, 10 pruned nodes, max_depth=5\u001b[0m\n",
      "\u001b[34m[213]#011train-error:0.069467#011validation-error:0.1322\u001b[0m\n",
      "\u001b[34m[13:34:27] src/tree/updater_prune.cc:74: tree pruning end, 1 roots, 16 extra nodes, 6 pruned nodes, max_depth=5\u001b[0m\n",
      "\u001b[34m[214]#011train-error:0.068933#011validation-error:0.132\u001b[0m\n",
      "\u001b[34m[13:34:28] src/tree/updater_prune.cc:74: tree pruning end, 1 roots, 10 extra nodes, 2 pruned nodes, max_depth=5\u001b[0m\n",
      "\u001b[34m[215]#011train-error:0.068733#011validation-error:0.1324\u001b[0m\n",
      "\u001b[34m[13:34:30] src/tree/updater_prune.cc:74: tree pruning end, 1 roots, 16 extra nodes, 10 pruned nodes, max_depth=5\u001b[0m\n",
      "\u001b[34m[216]#011train-error:0.0684#011validation-error:0.1319\u001b[0m\n",
      "\u001b[34m[13:34:31] src/tree/updater_prune.cc:74: tree pruning end, 1 roots, 10 extra nodes, 14 pruned nodes, max_depth=5\u001b[0m\n",
      "\u001b[34m[217]#011train-error:0.068133#011validation-error:0.132\u001b[0m\n",
      "\u001b[34m[13:34:32] src/tree/updater_prune.cc:74: tree pruning end, 1 roots, 10 extra nodes, 4 pruned nodes, max_depth=5\u001b[0m\n",
      "\u001b[34m[218]#011train-error:0.068#011validation-error:0.1323\u001b[0m\n",
      "\u001b[34m[13:34:34] src/tree/updater_prune.cc:74: tree pruning end, 1 roots, 10 extra nodes, 4 pruned nodes, max_depth=5\u001b[0m\n",
      "\u001b[34m[219]#011train-error:0.068067#011validation-error:0.1318\u001b[0m\n",
      "\u001b[34m[13:34:35] src/tree/updater_prune.cc:74: tree pruning end, 1 roots, 12 extra nodes, 14 pruned nodes, max_depth=5\u001b[0m\n",
      "\u001b[34m[220]#011train-error:0.0676#011validation-error:0.1321\u001b[0m\n",
      "\u001b[34m[13:34:36] src/tree/updater_prune.cc:74: tree pruning end, 1 roots, 20 extra nodes, 14 pruned nodes, max_depth=5\u001b[0m\n",
      "\u001b[34m[221]#011train-error:0.0674#011validation-error:0.1313\u001b[0m\n",
      "\u001b[34m[13:34:37] src/tree/updater_prune.cc:74: tree pruning end, 1 roots, 10 extra nodes, 4 pruned nodes, max_depth=5\u001b[0m\n",
      "\u001b[34m[222]#011train-error:0.067533#011validation-error:0.1316\u001b[0m\n",
      "\u001b[34m[13:34:39] src/tree/updater_prune.cc:74: tree pruning end, 1 roots, 12 extra nodes, 8 pruned nodes, max_depth=5\u001b[0m\n",
      "\u001b[34m[223]#011train-error:0.067867#011validation-error:0.1319\u001b[0m\n",
      "\u001b[34m[13:34:40] src/tree/updater_prune.cc:74: tree pruning end, 1 roots, 12 extra nodes, 4 pruned nodes, max_depth=5\u001b[0m\n",
      "\u001b[34m[224]#011train-error:0.067533#011validation-error:0.1317\u001b[0m\n",
      "\u001b[34m[13:34:41] src/tree/updater_prune.cc:74: tree pruning end, 1 roots, 22 extra nodes, 16 pruned nodes, max_depth=5\u001b[0m\n",
      "\u001b[34m[225]#011train-error:0.067267#011validation-error:0.131\u001b[0m\n",
      "\u001b[34m[13:34:43] src/tree/updater_prune.cc:74: tree pruning end, 1 roots, 14 extra nodes, 8 pruned nodes, max_depth=5\u001b[0m\n",
      "\u001b[34m[226]#011train-error:0.066933#011validation-error:0.1311\u001b[0m\n",
      "\u001b[34m[13:34:44] src/tree/updater_prune.cc:74: tree pruning end, 1 roots, 12 extra nodes, 12 pruned nodes, max_depth=5\u001b[0m\n",
      "\u001b[34m[227]#011train-error:0.066533#011validation-error:0.1309\u001b[0m\n",
      "\u001b[34m[13:34:45] src/tree/updater_prune.cc:74: tree pruning end, 1 roots, 18 extra nodes, 6 pruned nodes, max_depth=5\u001b[0m\n",
      "\u001b[34m[228]#011train-error:0.066733#011validation-error:0.1318\u001b[0m\n",
      "\u001b[34m[13:34:47] src/tree/updater_prune.cc:74: tree pruning end, 1 roots, 18 extra nodes, 8 pruned nodes, max_depth=5\u001b[0m\n",
      "\u001b[34m[229]#011train-error:0.066267#011validation-error:0.1318\u001b[0m\n"
     ]
    },
    {
     "name": "stdout",
     "output_type": "stream",
     "text": [
      "\u001b[34m[13:34:48] src/tree/updater_prune.cc:74: tree pruning end, 1 roots, 10 extra nodes, 4 pruned nodes, max_depth=5\u001b[0m\n",
      "\u001b[34m[230]#011train-error:0.066067#011validation-error:0.1313\u001b[0m\n",
      "\u001b[34m[13:34:49] src/tree/updater_prune.cc:74: tree pruning end, 1 roots, 14 extra nodes, 0 pruned nodes, max_depth=5\u001b[0m\n",
      "\u001b[34m[231]#011train-error:0.066533#011validation-error:0.1312\u001b[0m\n",
      "\u001b[34m[13:34:51] src/tree/updater_prune.cc:74: tree pruning end, 1 roots, 12 extra nodes, 10 pruned nodes, max_depth=5\u001b[0m\n",
      "\u001b[34m[232]#011train-error:0.0662#011validation-error:0.1313\u001b[0m\n",
      "\u001b[34m[13:34:52] src/tree/updater_prune.cc:74: tree pruning end, 1 roots, 10 extra nodes, 8 pruned nodes, max_depth=5\u001b[0m\n",
      "\u001b[34m[233]#011train-error:0.066#011validation-error:0.1313\u001b[0m\n",
      "\u001b[34m[13:34:53] src/tree/updater_prune.cc:74: tree pruning end, 1 roots, 10 extra nodes, 14 pruned nodes, max_depth=5\u001b[0m\n",
      "\u001b[34m[234]#011train-error:0.0654#011validation-error:0.1312\u001b[0m\n",
      "\u001b[34m[13:34:55] src/tree/updater_prune.cc:74: tree pruning end, 1 roots, 10 extra nodes, 4 pruned nodes, max_depth=5\u001b[0m\n",
      "\u001b[34m[235]#011train-error:0.065133#011validation-error:0.1313\u001b[0m\n",
      "\u001b[34m[13:34:56] src/tree/updater_prune.cc:74: tree pruning end, 1 roots, 34 extra nodes, 12 pruned nodes, max_depth=5\u001b[0m\n",
      "\u001b[34m[236]#011train-error:0.064933#011validation-error:0.1328\u001b[0m\n",
      "\u001b[34m[13:34:57] src/tree/updater_prune.cc:74: tree pruning end, 1 roots, 10 extra nodes, 0 pruned nodes, max_depth=5\u001b[0m\n",
      "\u001b[34m[237]#011train-error:0.064733#011validation-error:0.1331\u001b[0m\n",
      "\u001b[34mStopping. Best iteration:\u001b[0m\n",
      "\u001b[34m[227]#011train-error:0.066533#011validation-error:0.1309\n",
      "\u001b[0m\n",
      "\n",
      "2020-05-22 13:35:09 Uploading - Uploading generated training model\n",
      "2020-05-22 13:35:09 Completed - Training job completed\n",
      "Training seconds: 383\n",
      "Billable seconds: 383\n"
     ]
    }
   ],
   "source": [
    "xgb.fit({'train': s3_input_train, 'validation': s3_input_validation})"
   ]
  },
  {
   "cell_type": "markdown",
   "metadata": {},
   "source": [
    "## Step 5: Testing the model\n",
    "\n",
    "Now that we've fit our XGBoost model, it's time to see how well it performs. To do this we will use SageMakers Batch Transform functionality. Batch Transform is a convenient way to perform inference on a large dataset in a way that is not realtime. That is, we don't necessarily need to use our model's results immediately and instead we can perform inference on a large number of samples. An example of this in industry might be performing an end of month report. This method of inference can also be useful to us as it means that we can perform inference on our entire test set. \n",
    "\n",
    "To perform a Batch Transformation we need to first create a transformer objects from our trained estimator object."
   ]
  },
  {
   "cell_type": "code",
   "execution_count": 24,
   "metadata": {},
   "outputs": [],
   "source": [
    "xgb_transformer = xgb.transformer(instance_count = 1, instance_type = 'ml.m4.xlarge')"
   ]
  },
  {
   "cell_type": "markdown",
   "metadata": {},
   "source": [
    "Next we actually perform the transform job. When doing so we need to make sure to specify the type of data we are sending so that it is serialized correctly in the background. In our case we are providing our model with csv data so we specify `text/csv`. Also, if the test data that we have provided is too large to process all at once then we need to specify how the data file should be split up. Since each line is a single entry in our data set we tell SageMaker that it can split the input on each line."
   ]
  },
  {
   "cell_type": "code",
   "execution_count": 25,
   "metadata": {},
   "outputs": [],
   "source": [
    "xgb_transformer.transform(test_location, content_type='text/csv', split_type='Line')"
   ]
  },
  {
   "cell_type": "markdown",
   "metadata": {},
   "source": [
    "Currently the transform job is running but it is doing so in the background. Since we wish to wait until the transform job is done and we would like a bit of feedback we can run the `wait()` method."
   ]
  },
  {
   "cell_type": "code",
   "execution_count": 26,
   "metadata": {},
   "outputs": [
    {
     "name": "stdout",
     "output_type": "stream",
     "text": [
      "....................\u001b[34mArguments: serve\u001b[0m\n",
      "\u001b[34m[2020-05-22 13:38:27 +0000] [1] [INFO] Starting gunicorn 19.7.1\u001b[0m\n",
      "\u001b[34m[2020-05-22 13:38:27 +0000] [1] [INFO] Listening at: http://0.0.0.0:8080 (1)\u001b[0m\n",
      "\u001b[34m[2020-05-22 13:38:27 +0000] [1] [INFO] Using worker: gevent\u001b[0m\n",
      "\u001b[34m[2020-05-22 13:38:27 +0000] [37] [INFO] Booting worker with pid: 37\u001b[0m\n",
      "\u001b[34m[2020-05-22 13:38:27 +0000] [38] [INFO] Booting worker with pid: 38\u001b[0m\n",
      "\u001b[34m[2020-05-22 13:38:27 +0000] [39] [INFO] Booting worker with pid: 39\u001b[0m\n",
      "\u001b[34m[2020-05-22 13:38:27 +0000] [40] [INFO] Booting worker with pid: 40\u001b[0m\n",
      "\u001b[34m[2020-05-22:13:38:27:INFO] Model loaded successfully for worker : 37\u001b[0m\n",
      "\u001b[34m[2020-05-22:13:38:27:INFO] Model loaded successfully for worker : 38\u001b[0m\n",
      "\u001b[34m[2020-05-22:13:38:27:INFO] Model loaded successfully for worker : 39\u001b[0m\n",
      "\u001b[34m[2020-05-22:13:38:27:INFO] Model loaded successfully for worker : 40\u001b[0m\n",
      "\u001b[32m2020-05-22T13:38:51.984:[sagemaker logs]: MaxConcurrentTransforms=4, MaxPayloadInMB=6, BatchStrategy=MULTI_RECORD\u001b[0m\n",
      "\u001b[34m[2020-05-22:13:38:55:INFO] Sniff delimiter as ','\u001b[0m\n",
      "\u001b[34m[2020-05-22:13:38:55:INFO] Determined delimiter of CSV input is ','\u001b[0m\n",
      "\u001b[35m[2020-05-22:13:38:55:INFO] Sniff delimiter as ','\u001b[0m\n",
      "\u001b[35m[2020-05-22:13:38:55:INFO] Determined delimiter of CSV input is ','\u001b[0m\n",
      "\u001b[34m[2020-05-22:13:38:55:INFO] Sniff delimiter as ','\u001b[0m\n",
      "\u001b[34m[2020-05-22:13:38:55:INFO] Determined delimiter of CSV input is ','\u001b[0m\n",
      "\u001b[34m[2020-05-22:13:38:55:INFO] Sniff delimiter as ','\u001b[0m\n",
      "\u001b[34m[2020-05-22:13:38:55:INFO] Determined delimiter of CSV input is ','\u001b[0m\n",
      "\u001b[34m[2020-05-22:13:38:55:INFO] Sniff delimiter as ','\u001b[0m\n",
      "\u001b[34m[2020-05-22:13:38:55:INFO] Determined delimiter of CSV input is ','\u001b[0m\n",
      "\u001b[35m[2020-05-22:13:38:55:INFO] Sniff delimiter as ','\u001b[0m\n",
      "\u001b[35m[2020-05-22:13:38:55:INFO] Determined delimiter of CSV input is ','\u001b[0m\n",
      "\u001b[35m[2020-05-22:13:38:55:INFO] Sniff delimiter as ','\u001b[0m\n",
      "\u001b[35m[2020-05-22:13:38:55:INFO] Determined delimiter of CSV input is ','\u001b[0m\n",
      "\u001b[35m[2020-05-22:13:38:55:INFO] Sniff delimiter as ','\u001b[0m\n",
      "\u001b[35m[2020-05-22:13:38:55:INFO] Determined delimiter of CSV input is ','\u001b[0m\n",
      "\u001b[34m[2020-05-22:13:38:57:INFO] Sniff delimiter as ','\u001b[0m\n",
      "\u001b[35m[2020-05-22:13:38:57:INFO] Sniff delimiter as ','\u001b[0m\n",
      "\u001b[34m[2020-05-22:13:38:57:INFO] Determined delimiter of CSV input is ','\u001b[0m\n",
      "\u001b[34m[2020-05-22:13:38:57:INFO] Sniff delimiter as ','\u001b[0m\n",
      "\u001b[34m[2020-05-22:13:38:57:INFO] Determined delimiter of CSV input is ','\u001b[0m\n",
      "\u001b[34m[2020-05-22:13:38:57:INFO] Sniff delimiter as ','\u001b[0m\n",
      "\u001b[34m[2020-05-22:13:38:57:INFO] Determined delimiter of CSV input is ','\u001b[0m\n",
      "\u001b[35m[2020-05-22:13:38:57:INFO] Determined delimiter of CSV input is ','\u001b[0m\n",
      "\u001b[35m[2020-05-22:13:38:57:INFO] Sniff delimiter as ','\u001b[0m\n",
      "\u001b[35m[2020-05-22:13:38:57:INFO] Determined delimiter of CSV input is ','\u001b[0m\n",
      "\u001b[35m[2020-05-22:13:38:57:INFO] Sniff delimiter as ','\u001b[0m\n",
      "\u001b[35m[2020-05-22:13:38:57:INFO] Determined delimiter of CSV input is ','\u001b[0m\n",
      "\u001b[34m[2020-05-22:13:38:58:INFO] Sniff delimiter as ','\u001b[0m\n",
      "\u001b[34m[2020-05-22:13:38:58:INFO] Determined delimiter of CSV input is ','\u001b[0m\n",
      "\u001b[35m[2020-05-22:13:38:58:INFO] Sniff delimiter as ','\u001b[0m\n",
      "\u001b[35m[2020-05-22:13:38:58:INFO] Determined delimiter of CSV input is ','\u001b[0m\n",
      "\u001b[34m[2020-05-22:13:39:00:INFO] Sniff delimiter as ','\u001b[0m\n",
      "\u001b[34m[2020-05-22:13:39:00:INFO] Determined delimiter of CSV input is ','\u001b[0m\n",
      "\u001b[34m[2020-05-22:13:39:00:INFO] Sniff delimiter as ','\u001b[0m\n",
      "\u001b[34m[2020-05-22:13:39:00:INFO] Determined delimiter of CSV input is ','\u001b[0m\n",
      "\u001b[34m[2020-05-22:13:39:00:INFO] Sniff delimiter as ','\u001b[0m\n",
      "\u001b[34m[2020-05-22:13:39:00:INFO] Determined delimiter of CSV input is ','\u001b[0m\n",
      "\u001b[35m[2020-05-22:13:39:00:INFO] Sniff delimiter as ','\u001b[0m\n",
      "\u001b[35m[2020-05-22:13:39:00:INFO] Determined delimiter of CSV input is ','\u001b[0m\n",
      "\u001b[35m[2020-05-22:13:39:00:INFO] Sniff delimiter as ','\u001b[0m\n",
      "\u001b[35m[2020-05-22:13:39:00:INFO] Determined delimiter of CSV input is ','\u001b[0m\n",
      "\u001b[35m[2020-05-22:13:39:00:INFO] Sniff delimiter as ','\u001b[0m\n",
      "\u001b[35m[2020-05-22:13:39:00:INFO] Determined delimiter of CSV input is ','\u001b[0m\n",
      "\u001b[34m[2020-05-22:13:39:02:INFO] Sniff delimiter as ','\u001b[0m\n",
      "\u001b[34m[2020-05-22:13:39:02:INFO] Determined delimiter of CSV input is ','\u001b[0m\n",
      "\u001b[34m[2020-05-22:13:39:02:INFO] Sniff delimiter as ','\u001b[0m\n",
      "\u001b[34m[2020-05-22:13:39:02:INFO] Determined delimiter of CSV input is ','\u001b[0m\n",
      "\u001b[34m[2020-05-22:13:39:02:INFO] Sniff delimiter as ','\u001b[0m\n",
      "\u001b[34m[2020-05-22:13:39:02:INFO] Determined delimiter of CSV input is ','\u001b[0m\n",
      "\u001b[35m[2020-05-22:13:39:02:INFO] Sniff delimiter as ','\u001b[0m\n",
      "\u001b[35m[2020-05-22:13:39:02:INFO] Determined delimiter of CSV input is ','\u001b[0m\n",
      "\u001b[35m[2020-05-22:13:39:02:INFO] Sniff delimiter as ','\u001b[0m\n",
      "\u001b[35m[2020-05-22:13:39:02:INFO] Determined delimiter of CSV input is ','\u001b[0m\n",
      "\u001b[35m[2020-05-22:13:39:02:INFO] Sniff delimiter as ','\u001b[0m\n",
      "\u001b[35m[2020-05-22:13:39:02:INFO] Determined delimiter of CSV input is ','\u001b[0m\n",
      "\u001b[34m[2020-05-22:13:39:03:INFO] Sniff delimiter as ','\u001b[0m\n",
      "\u001b[35m[2020-05-22:13:39:03:INFO] Sniff delimiter as ','\u001b[0m\n",
      "\u001b[34m[2020-05-22:13:39:03:INFO] Determined delimiter of CSV input is ','\u001b[0m\n",
      "\u001b[35m[2020-05-22:13:39:03:INFO] Determined delimiter of CSV input is ','\u001b[0m\n",
      "\u001b[34m[2020-05-22:13:39:04:INFO] Sniff delimiter as ','\u001b[0m\n",
      "\u001b[34m[2020-05-22:13:39:04:INFO] Determined delimiter of CSV input is ','\u001b[0m\n",
      "\u001b[35m[2020-05-22:13:39:04:INFO] Sniff delimiter as ','\u001b[0m\n",
      "\u001b[35m[2020-05-22:13:39:04:INFO] Determined delimiter of CSV input is ','\u001b[0m\n",
      "\u001b[34m[2020-05-22:13:39:05:INFO] Sniff delimiter as ','\u001b[0m\n",
      "\u001b[34m[2020-05-22:13:39:05:INFO] Determined delimiter of CSV input is ','\u001b[0m\n",
      "\u001b[34m[2020-05-22:13:39:05:INFO] Sniff delimiter as ','\u001b[0m\n",
      "\u001b[34m[2020-05-22:13:39:05:INFO] Determined delimiter of CSV input is ','\u001b[0m\n",
      "\u001b[34m[2020-05-22:13:39:05:INFO] Sniff delimiter as ','\u001b[0m\n",
      "\u001b[34m[2020-05-22:13:39:05:INFO] Determined delimiter of CSV input is ','\u001b[0m\n",
      "\u001b[35m[2020-05-22:13:39:05:INFO] Sniff delimiter as ','\u001b[0m\n",
      "\u001b[35m[2020-05-22:13:39:05:INFO] Determined delimiter of CSV input is ','\u001b[0m\n",
      "\u001b[35m[2020-05-22:13:39:05:INFO] Sniff delimiter as ','\u001b[0m\n",
      "\u001b[35m[2020-05-22:13:39:05:INFO] Determined delimiter of CSV input is ','\u001b[0m\n",
      "\u001b[35m[2020-05-22:13:39:05:INFO] Sniff delimiter as ','\u001b[0m\n",
      "\u001b[35m[2020-05-22:13:39:05:INFO] Determined delimiter of CSV input is ','\u001b[0m\n",
      "\u001b[34m[2020-05-22:13:39:07:INFO] Sniff delimiter as ','\u001b[0m\n",
      "\u001b[34m[2020-05-22:13:39:07:INFO] Determined delimiter of CSV input is ','\u001b[0m\n",
      "\u001b[34m[2020-05-22:13:39:07:INFO] Sniff delimiter as ','\u001b[0m\n",
      "\u001b[34m[2020-05-22:13:39:07:INFO] Determined delimiter of CSV input is ','\u001b[0m\n",
      "\u001b[34m[2020-05-22:13:39:07:INFO] Sniff delimiter as ','\u001b[0m\n",
      "\u001b[34m[2020-05-22:13:39:07:INFO] Determined delimiter of CSV input is ','\u001b[0m\n",
      "\u001b[35m[2020-05-22:13:39:07:INFO] Sniff delimiter as ','\u001b[0m\n",
      "\u001b[35m[2020-05-22:13:39:07:INFO] Determined delimiter of CSV input is ','\u001b[0m\n",
      "\u001b[35m[2020-05-22:13:39:07:INFO] Sniff delimiter as ','\u001b[0m\n",
      "\u001b[35m[2020-05-22:13:39:07:INFO] Determined delimiter of CSV input is ','\u001b[0m\n",
      "\u001b[35m[2020-05-22:13:39:07:INFO] Sniff delimiter as ','\u001b[0m\n",
      "\u001b[35m[2020-05-22:13:39:07:INFO] Determined delimiter of CSV input is ','\u001b[0m\n",
      "\u001b[34m[2020-05-22:13:39:08:INFO] Sniff delimiter as ','\u001b[0m\n",
      "\u001b[34m[2020-05-22:13:39:08:INFO] Determined delimiter of CSV input is ','\u001b[0m\n",
      "\u001b[35m[2020-05-22:13:39:08:INFO] Sniff delimiter as ','\u001b[0m\n",
      "\u001b[35m[2020-05-22:13:39:08:INFO] Determined delimiter of CSV input is ','\u001b[0m\n",
      "\u001b[34m[2020-05-22:13:39:09:INFO] Sniff delimiter as ','\u001b[0m\n",
      "\u001b[34m[2020-05-22:13:39:09:INFO] Determined delimiter of CSV input is ','\u001b[0m\n",
      "\u001b[34m[2020-05-22:13:39:09:INFO] Sniff delimiter as ','\u001b[0m\n",
      "\u001b[34m[2020-05-22:13:39:09:INFO] Determined delimiter of CSV input is ','\u001b[0m\n",
      "\u001b[35m[2020-05-22:13:39:09:INFO] Sniff delimiter as ','\u001b[0m\n",
      "\u001b[35m[2020-05-22:13:39:09:INFO] Determined delimiter of CSV input is ','\u001b[0m\n",
      "\u001b[35m[2020-05-22:13:39:09:INFO] Sniff delimiter as ','\u001b[0m\n",
      "\u001b[35m[2020-05-22:13:39:09:INFO] Determined delimiter of CSV input is ','\u001b[0m\n",
      "\n",
      "\u001b[34m[2020-05-22:13:39:12:INFO] Sniff delimiter as ','\u001b[0m\n",
      "\u001b[34m[2020-05-22:13:39:12:INFO] Determined delimiter of CSV input is ','\u001b[0m\n",
      "\u001b[34m[2020-05-22:13:39:12:INFO] Sniff delimiter as ','\u001b[0m\n",
      "\u001b[35m[2020-05-22:13:39:12:INFO] Sniff delimiter as ','\u001b[0m\n",
      "\u001b[35m[2020-05-22:13:39:12:INFO] Determined delimiter of CSV input is ','\u001b[0m\n",
      "\u001b[35m[2020-05-22:13:39:12:INFO] Sniff delimiter as ','\u001b[0m\n",
      "\u001b[34m[2020-05-22:13:39:12:INFO] Determined delimiter of CSV input is ','\u001b[0m\n",
      "\u001b[34m[2020-05-22:13:39:12:INFO] Sniff delimiter as ','\u001b[0m\n",
      "\u001b[34m[2020-05-22:13:39:12:INFO] Determined delimiter of CSV input is ','\u001b[0m\n",
      "\u001b[35m[2020-05-22:13:39:12:INFO] Determined delimiter of CSV input is ','\u001b[0m\n",
      "\u001b[35m[2020-05-22:13:39:12:INFO] Sniff delimiter as ','\u001b[0m\n",
      "\u001b[35m[2020-05-22:13:39:12:INFO] Determined delimiter of CSV input is ','\u001b[0m\n",
      "\u001b[34m[2020-05-22:13:39:13:INFO] Sniff delimiter as ','\u001b[0m\n",
      "\u001b[34m[2020-05-22:13:39:13:INFO] Determined delimiter of CSV input is ','\u001b[0m\n",
      "\u001b[35m[2020-05-22:13:39:13:INFO] Sniff delimiter as ','\u001b[0m\n",
      "\u001b[35m[2020-05-22:13:39:13:INFO] Determined delimiter of CSV input is ','\u001b[0m\n",
      "\u001b[34m[2020-05-22:13:39:14:INFO] Sniff delimiter as ','\u001b[0m\n",
      "\u001b[35m[2020-05-22:13:39:14:INFO] Sniff delimiter as ','\u001b[0m\n",
      "\u001b[34m[2020-05-22:13:39:14:INFO] Determined delimiter of CSV input is ','\u001b[0m\n",
      "\u001b[34m[2020-05-22:13:39:14:INFO] Sniff delimiter as ','\u001b[0m\n",
      "\u001b[34m[2020-05-22:13:39:14:INFO] Determined delimiter of CSV input is ','\u001b[0m\n",
      "\u001b[35m[2020-05-22:13:39:14:INFO] Determined delimiter of CSV input is ','\u001b[0m\n",
      "\u001b[35m[2020-05-22:13:39:14:INFO] Sniff delimiter as ','\u001b[0m\n",
      "\u001b[35m[2020-05-22:13:39:14:INFO] Determined delimiter of CSV input is ','\u001b[0m\n",
      "\u001b[34m[2020-05-22:13:39:15:INFO] Sniff delimiter as ','\u001b[0m\n",
      "\u001b[34m[2020-05-22:13:39:15:INFO] Determined delimiter of CSV input is ','\u001b[0m\n",
      "\u001b[34m[2020-05-22:13:39:15:INFO] Sniff delimiter as ','\u001b[0m\n",
      "\u001b[34m[2020-05-22:13:39:15:INFO] Determined delimiter of CSV input is ','\u001b[0m\n",
      "\u001b[35m[2020-05-22:13:39:15:INFO] Sniff delimiter as ','\u001b[0m\n",
      "\u001b[35m[2020-05-22:13:39:15:INFO] Determined delimiter of CSV input is ','\u001b[0m\n",
      "\u001b[35m[2020-05-22:13:39:15:INFO] Sniff delimiter as ','\u001b[0m\n",
      "\u001b[35m[2020-05-22:13:39:15:INFO] Determined delimiter of CSV input is ','\u001b[0m\n",
      "\u001b[34m[2020-05-22:13:39:17:INFO] Sniff delimiter as ','\u001b[0m\n",
      "\u001b[34m[2020-05-22:13:39:17:INFO] Determined delimiter of CSV input is ','\u001b[0m\n",
      "\u001b[34m[2020-05-22:13:39:17:INFO] Sniff delimiter as ','\u001b[0m\n",
      "\u001b[34m[2020-05-22:13:39:17:INFO] Determined delimiter of CSV input is ','\u001b[0m\n",
      "\u001b[34m[2020-05-22:13:39:17:INFO] Sniff delimiter as ','\u001b[0m\n",
      "\u001b[34m[2020-05-22:13:39:17:INFO] Determined delimiter of CSV input is ','\u001b[0m\n",
      "\u001b[35m[2020-05-22:13:39:17:INFO] Sniff delimiter as ','\u001b[0m\n",
      "\u001b[35m[2020-05-22:13:39:17:INFO] Determined delimiter of CSV input is ','\u001b[0m\n",
      "\u001b[35m[2020-05-22:13:39:17:INFO] Sniff delimiter as ','\u001b[0m\n",
      "\u001b[35m[2020-05-22:13:39:17:INFO] Determined delimiter of CSV input is ','\u001b[0m\n",
      "\u001b[35m[2020-05-22:13:39:17:INFO] Sniff delimiter as ','\u001b[0m\n",
      "\u001b[35m[2020-05-22:13:39:17:INFO] Determined delimiter of CSV input is ','\u001b[0m\n",
      "\u001b[34m[2020-05-22:13:39:17:INFO] Sniff delimiter as ','\u001b[0m\n",
      "\u001b[34m[2020-05-22:13:39:17:INFO] Determined delimiter of CSV input is ','\u001b[0m\n",
      "\u001b[35m[2020-05-22:13:39:17:INFO] Sniff delimiter as ','\u001b[0m\n",
      "\u001b[35m[2020-05-22:13:39:17:INFO] Determined delimiter of CSV input is ','\u001b[0m\n"
     ]
    }
   ],
   "source": [
    "xgb_transformer.wait()"
   ]
  },
  {
   "cell_type": "markdown",
   "metadata": {},
   "source": [
    "Now the transform job has executed and the result, the estimated sentiment of each review, has been saved on S3. Since we would rather work on this file locally we can perform a bit of notebook magic to copy the file to the `data_dir`."
   ]
  },
  {
   "cell_type": "code",
   "execution_count": 27,
   "metadata": {},
   "outputs": [
    {
     "name": "stdout",
     "output_type": "stream",
     "text": [
      "Completed 256.0 KiB/371.1 KiB (3.5 MiB/s) with 1 file(s) remaining\r",
      "Completed 371.1 KiB/371.1 KiB (4.9 MiB/s) with 1 file(s) remaining\r",
      "download: s3://sagemaker-eu-west-1-922641251565/xgboost-2020-05-22-13-35-22-411/test.csv.out to ../data/sentiment_web_app/test.csv.out\r\n"
     ]
    }
   ],
   "source": [
    "!aws s3 cp --recursive $xgb_transformer.output_path $data_dir"
   ]
  },
  {
   "cell_type": "markdown",
   "metadata": {},
   "source": [
    "The last step is now to read in the output from our model, convert the output to something a little more usable, in this case we want the sentiment to be either `1` (positive) or `0` (negative), and then compare to the ground truth labels."
   ]
  },
  {
   "cell_type": "code",
   "execution_count": 28,
   "metadata": {},
   "outputs": [],
   "source": [
    "predictions = pd.read_csv(os.path.join(data_dir, 'test.csv.out'), header=None)\n",
    "predictions = [round(num) for num in predictions.squeeze().values]"
   ]
  },
  {
   "cell_type": "code",
   "execution_count": 29,
   "metadata": {},
   "outputs": [
    {
     "data": {
      "text/plain": [
       "0.86588"
      ]
     },
     "execution_count": 29,
     "metadata": {},
     "output_type": "execute_result"
    }
   ],
   "source": [
    "from sklearn.metrics import accuracy_score\n",
    "accuracy_score(test_y, predictions)"
   ]
  },
  {
   "cell_type": "markdown",
   "metadata": {},
   "source": [
    "## Step 6: Deploying the model\n",
    "\n",
    "Once we construct and fit our model, SageMaker stores the resulting model artifacts and we can use those to deploy an endpoint (inference code). To see this, look in the SageMaker console and you should see that a model has been created along with a link to the S3 location where the model artifacts have been stored.\n",
    "\n",
    "Deploying an endpoint is a lot like training the model with a few important differences. The first is that a deployed model doesn't change the model artifacts, so as you send it various testing instances the model won't change. Another difference is that since we aren't performing a fixed computation, as we were in the training step or while performing a batch transform, the compute instance that gets started stays running until we tell it to stop. This is important to note as if we forget and leave it running we will be charged the entire time.\n",
    "\n",
    "In other words **If you are no longer using a deployed endpoint, shut it down!**"
   ]
  },
  {
   "cell_type": "code",
   "execution_count": 30,
   "metadata": {},
   "outputs": [
    {
     "name": "stderr",
     "output_type": "stream",
     "text": [
      "WARNING:sagemaker:Using already existing model: xgboost-2020-05-22-13-26-06-952\n"
     ]
    },
    {
     "name": "stdout",
     "output_type": "stream",
     "text": [
      "-------------!"
     ]
    }
   ],
   "source": [
    "xgb_predictor = xgb.deploy(initial_instance_count = 1, instance_type = 'ml.m4.xlarge')"
   ]
  },
  {
   "cell_type": "markdown",
   "metadata": {},
   "source": [
    "### Testing the model (again)\n",
    "\n",
    "Now that we have deployed our endpoint, we can send the testing data to it and get back the inference results. We already did this earlier using the batch transform functionality of SageMaker, however, we will test our model again using the newly deployed endpoint so that we can make sure that it works properly and to get a bit of a feel for how the endpoint works.\n",
    "\n",
    "When using the created endpoint it is important to know that we are limited in the amount of information we can send in each call so we need to break the testing data up into chunks and then send each chunk. Also, we need to serialize our data before we send it to the endpoint to ensure that our data is transmitted properly. Fortunately, SageMaker can do the serialization part for us provided we tell it the format of our data."
   ]
  },
  {
   "cell_type": "code",
   "execution_count": 31,
   "metadata": {},
   "outputs": [],
   "source": [
    "from sagemaker.predictor import csv_serializer\n",
    "\n",
    "# We need to tell the endpoint what format the data we are sending is in so that SageMaker can perform the serialization.\n",
    "xgb_predictor.content_type = 'text/csv'\n",
    "xgb_predictor.serializer = csv_serializer"
   ]
  },
  {
   "cell_type": "code",
   "execution_count": 32,
   "metadata": {},
   "outputs": [],
   "source": [
    "# We split the data into chunks and send each chunk seperately, accumulating the results.\n",
    "\n",
    "def predict(data, rows=512):\n",
    "    split_array = np.array_split(data, int(data.shape[0] / float(rows) + 1))\n",
    "    predictions = ''\n",
    "    for array in split_array:\n",
    "        predictions = ','.join([predictions, xgb_predictor.predict(array).decode('utf-8')])\n",
    "    \n",
    "    return np.fromstring(predictions[1:], sep=',')"
   ]
  },
  {
   "cell_type": "code",
   "execution_count": 33,
   "metadata": {},
   "outputs": [],
   "source": [
    "test_X = pd.read_csv(os.path.join(data_dir, 'test.csv'), header=None).values\n",
    "\n",
    "predictions = predict(test_X)\n",
    "predictions = [round(num) for num in predictions]"
   ]
  },
  {
   "cell_type": "markdown",
   "metadata": {},
   "source": [
    "Lastly, we check to see what the accuracy of our model is."
   ]
  },
  {
   "cell_type": "code",
   "execution_count": 34,
   "metadata": {},
   "outputs": [
    {
     "data": {
      "text/plain": [
       "0.86588"
      ]
     },
     "execution_count": 34,
     "metadata": {},
     "output_type": "execute_result"
    }
   ],
   "source": [
    "from sklearn.metrics import accuracy_score\n",
    "accuracy_score(test_y, predictions)"
   ]
  },
  {
   "cell_type": "markdown",
   "metadata": {},
   "source": [
    "And the results here should agree with the model testing that we did earlier using the batch transform job.\n",
    "\n",
    "### Cleaning up\n",
    "\n",
    "Now that we've determined that deploying our model works as expected, we are going to shut it down. Remember that the longer the endpoint is left running, the greater the cost and since we have a bit more work to do before we are able to use our endpoint with our simple web app, we should shut everything down."
   ]
  },
  {
   "cell_type": "code",
   "execution_count": 35,
   "metadata": {},
   "outputs": [],
   "source": [
    "xgb_predictor.delete_endpoint()"
   ]
  },
  {
   "cell_type": "markdown",
   "metadata": {},
   "source": [
    "## Step 7: Putting our model to work\n",
    "\n",
    "As we've mentioned a few times now, our goal is to have our model deployed and then access it using a very simple web app. The intent is for this web app to take some user submitted data (a review), send it off to our endpoint (the model) and then display the result.\n",
    "\n",
    "However, there is a small catch. Currently the only way we can access the endpoint to send it data is using the SageMaker API. We can, if we wish, expose the actual URL that our model's endpoint is receiving data from, however, if we just send it data ourselves we will not get anything in return. This is because the endpoint created by SageMaker requires the entity accessing it have the correct permissions. So, we would need to somehow authenticate our web app with AWS.\n",
    "\n",
    "Having a website that authenticates to AWS seems a bit beyond the scope of this lesson so we will opt for an alternative approach. Namely, we will create a new endpoint which does not require authentication and which acts as a proxy for the SageMaker endpoint.\n",
    "\n",
    "As an additional constraint, we will try to avoid doing any data processing in the web app itself. Remember that when we constructed and tested our model we started with a movie review, then we simplified it by removing any html formatting and punctuation, then we constructed a bag of words embedding and the resulting vector is what we sent to our model. All of this needs to be done to our user input as well.\n",
    "\n",
    "Fortunately we can do all of this data processing in the backend, using Amazon's Lambda service.\n",
    "\n",
    "<img src=\"Web App Diagram.svg\">\n",
    "\n",
    "The diagram above gives an overview of how the various services will work together. On the far right is the model which we trained above and which will be deployed using SageMaker. On the far left is our web app that collects a user's movie review, sends it off and expects a positive or negative sentiment in return.\n",
    "\n",
    "In the middle is where some of the magic happens. We will construct a Lambda function, which you can think of as a straightforward Python function that can be executed whenever a specified event occurs. This Python function will do the data processing we need to perform on a user submitted review. In addition, we will give this function permission to send and recieve data from a SageMaker endpoint.\n",
    "\n",
    "Lastly, the method we will use to execute the Lambda function is a new endpoint that we will create using API Gateway. This endpoint will be a url that listens for data to be sent to it. Once it gets some data it will pass that data on to the Lambda function and then return whatever the Lambda function returns. Essentially it will act as an interface that lets our web app communicate with the Lambda function.\n",
    "\n",
    "### Processing a single review\n",
    "\n",
    "For now, suppose we are given a movie review by our user in the form of a string, like so:"
   ]
  },
  {
   "cell_type": "code",
   "execution_count": 36,
   "metadata": {},
   "outputs": [],
   "source": [
    "test_review = \"Nothing but a disgusting materialistic pageant of glistening abed remote control greed zombies, totally devoid of any heart or heat. A romantic comedy that has zero romantic chemestry and zero laughs!\""
   ]
  },
  {
   "cell_type": "markdown",
   "metadata": {},
   "source": [
    "How do we go from this string to the bag of words feature vector that is expected by our model?\n",
    "\n",
    "If we recall at the beginning of this notebook, the first step is to remove any unnecessary characters using the `review_to_words` method. Remember that we intentionally did this in a very simplistic way. This is because we are going to have to copy this method to our (eventual) Lambda function (we will go into more detail later) and this means it needs to be rather simplistic."
   ]
  },
  {
   "cell_type": "code",
   "execution_count": 37,
   "metadata": {},
   "outputs": [
    {
     "name": "stdout",
     "output_type": "stream",
     "text": [
      "nothing but a disgusting materialistic pageant of glistening abed remote control greed zombies totally devoid of any heart or heat a romantic comedy that has zero romantic chemestry and zero laughs\n"
     ]
    }
   ],
   "source": [
    "test_words = review_to_words(test_review)\n",
    "print(test_words)"
   ]
  },
  {
   "cell_type": "markdown",
   "metadata": {},
   "source": [
    "Next, we need to construct a bag of words embedding of the `test_words` string. To do this, remember that a bag of words embedding uses a `vocabulary` consisting of the most frequently appearing words in a set of documents. Then, for each word in the vocabulary we record the number of times that word appears in `test_words`. We constructed the `vocabulary` earlier using the training set for our problem so encoding `test_words` is relatively straightforward."
   ]
  },
  {
   "cell_type": "code",
   "execution_count": 38,
   "metadata": {},
   "outputs": [],
   "source": [
    "def bow_encoding(words, vocabulary):\n",
    "    bow = [0] * len(vocabulary) # Start by setting the count for each word in the vocabulary to zero.\n",
    "    for word in words.split():  # For each word in the string\n",
    "        if word in vocabulary:  # If the word is one that occurs in the vocabulary, increase its count.\n",
    "            bow[vocabulary[word]] += 1\n",
    "    return bow"
   ]
  },
  {
   "cell_type": "code",
   "execution_count": 39,
   "metadata": {},
   "outputs": [
    {
     "name": "stdout",
     "output_type": "stream",
     "text": [
      "[0, 0, 0, 0, 0, 0, 0, 0, 0, 0, 0, 0, 0, 0, 0, 0, 0, 0, 0, 0, 0, 0, 0, 0, 0, 0, 0, 0, 0, 0, 0, 0, 0, 0, 0, 0, 0, 0, 0, 0, 0, 0, 0, 0, 0, 0, 0, 0, 0, 0, 0, 0, 0, 0, 0, 0, 0, 0, 0, 0, 0, 0, 0, 0, 0, 0, 0, 0, 0, 0, 0, 0, 0, 0, 0, 0, 0, 0, 0, 0, 0, 0, 0, 0, 0, 0, 0, 0, 0, 0, 0, 0, 0, 0, 0, 0, 0, 0, 0, 0, 0, 0, 0, 0, 0, 0, 0, 0, 0, 0, 0, 0, 0, 0, 0, 0, 0, 0, 0, 0, 0, 0, 0, 0, 0, 0, 0, 0, 0, 0, 0, 0, 0, 0, 0, 0, 0, 0, 0, 0, 0, 0, 0, 0, 0, 0, 0, 0, 0, 0, 0, 0, 0, 0, 0, 0, 0, 0, 0, 0, 0, 0, 0, 0, 0, 0, 0, 0, 0, 0, 0, 0, 0, 0, 0, 0, 0, 0, 0, 0, 0, 0, 0, 0, 0, 0, 0, 0, 0, 0, 0, 0, 0, 0, 0, 0, 0, 0, 0, 0, 0, 0, 0, 0, 0, 0, 0, 0, 0, 0, 0, 0, 0, 0, 0, 0, 0, 0, 0, 0, 0, 0, 0, 0, 0, 0, 1, 0, 0, 0, 0, 0, 0, 0, 0, 0, 0, 0, 0, 0, 0, 0, 0, 0, 0, 0, 0, 0, 0, 0, 0, 0, 0, 0, 0, 0, 1, 0, 0, 0, 0, 0, 0, 0, 0, 0, 0, 0, 0, 0, 0, 0, 0, 0, 0, 0, 0, 0, 0, 0, 0, 0, 0, 0, 0, 0, 0, 0, 0, 0, 0, 0, 0, 0, 0, 0, 0, 0, 0, 0, 0, 0, 0, 0, 0, 0, 0, 0, 0, 0, 0, 0, 0, 0, 0, 0, 0, 0, 0, 0, 0, 0, 0, 0, 0, 0, 0, 0, 0, 0, 0, 0, 0, 0, 0, 0, 0, 0, 0, 0, 0, 0, 0, 0, 0, 0, 0, 0, 0, 0, 0, 0, 0, 0, 0, 0, 0, 0, 0, 0, 0, 0, 0, 0, 0, 0, 0, 0, 0, 0, 0, 0, 0, 0, 0, 0, 0, 0, 0, 0, 0, 0, 0, 0, 0, 0, 0, 0, 0, 0, 0, 0, 0, 0, 0, 0, 0, 0, 0, 0, 0, 0, 0, 0, 0, 0, 0, 0, 0, 0, 0, 0, 0, 0, 0, 0, 0, 0, 0, 0, 0, 0, 0, 0, 0, 0, 0, 0, 0, 0, 0, 0, 0, 0, 0, 0, 0, 0, 0, 0, 0, 0, 0, 0, 0, 0, 0, 0, 0, 0, 0, 0, 0, 0, 0, 0, 0, 0, 0, 0, 0, 0, 0, 0, 0, 0, 0, 0, 0, 0, 0, 0, 0, 0, 0, 0, 0, 0, 0, 0, 0, 0, 0, 0, 0, 0, 0, 0, 0, 0, 0, 0, 0, 0, 0, 0, 0, 0, 0, 0, 0, 0, 0, 0, 0, 0, 0, 0, 0, 0, 0, 0, 0, 0, 0, 0, 0, 0, 0, 0, 0, 0, 0, 0, 0, 0, 0, 0, 0, 0, 0, 0, 0, 0, 0, 0, 0, 0, 0, 0, 0, 0, 0, 0, 0, 0, 0, 0, 0, 0, 0, 0, 0, 0, 0, 0, 0, 0, 0, 0, 0, 0, 0, 0, 0, 0, 0, 0, 0, 0, 0, 0, 0, 0, 0, 0, 0, 0, 0, 0, 0, 0, 0, 0, 0, 0, 0, 0, 0, 0, 0, 0, 0, 0, 0, 0, 0, 0, 0, 0, 0, 0, 0, 0, 0, 0, 0, 0, 0, 0, 0, 0, 0, 0, 0, 0, 0, 0, 0, 0, 0, 0, 0, 0, 0, 0, 0, 0, 0, 0, 0, 0, 0, 0, 0, 0, 1, 0, 0, 0, 0, 0, 0, 0, 0, 0, 0, 0, 0, 0, 0, 0, 0, 0, 0, 0, 0, 0, 0, 0, 0, 0, 0, 0, 0, 0, 0, 0, 0, 0, 0, 0, 0, 0, 0, 0, 0, 0, 0, 0, 0, 0, 0, 0, 0, 0, 0, 0, 0, 0, 0, 0, 0, 0, 0, 0, 0, 0, 0, 0, 0, 0, 0, 0, 0, 0, 0, 0, 0, 0, 0, 0, 0, 0, 0, 0, 0, 0, 0, 0, 0, 0, 0, 0, 0, 0, 0, 0, 0, 0, 0, 0, 0, 0, 0, 0, 0, 0, 0, 0, 0, 0, 0, 0, 0, 0, 0, 0, 0, 0, 0, 0, 0, 0, 0, 0, 0, 0, 0, 0, 0, 0, 0, 0, 0, 0, 0, 0, 0, 0, 0, 0, 0, 0, 0, 0, 0, 0, 0, 0, 0, 0, 0, 0, 0, 0, 0, 0, 0, 0, 0, 0, 0, 0, 0, 0, 0, 0, 0, 0, 0, 0, 0, 0, 0, 0, 0, 0, 0, 0, 0, 0, 0, 0, 0, 0, 0, 0, 0, 0, 0, 0, 0, 0, 0, 0, 0, 0, 0, 0, 0, 0, 0, 0, 0, 0, 0, 0, 0, 0, 0, 0, 0, 0, 0, 0, 0, 0, 0, 0, 0, 0, 0, 0, 0, 0, 0, 0, 0, 0, 0, 0, 0, 0, 0, 0, 0, 0, 0, 0, 0, 0, 0, 0, 0, 0, 0, 0, 0, 0, 0, 0, 0, 0, 0, 0, 0, 0, 0, 0, 1, 0, 0, 0, 0, 0, 0, 0, 0, 0, 0, 0, 0, 0, 0, 0, 0, 0, 0, 0, 0, 0, 0, 0, 0, 0, 0, 0, 0, 0, 0, 0, 0, 0, 0, 0, 0, 0, 0, 0, 0, 0, 0, 0, 0, 0, 0, 0, 0, 0, 0, 0, 0, 0, 0, 0, 0, 0, 0, 0, 0, 0, 0, 0, 0, 0, 0, 0, 0, 0, 0, 0, 0, 0, 0, 0, 0, 0, 0, 0, 0, 0, 0, 0, 0, 0, 0, 1, 0, 0, 0, 0, 0, 0, 0, 0, 0, 0, 0, 0, 0, 0, 0, 0, 0, 0, 0, 0, 0, 0, 0, 0, 0, 0, 0, 0, 0, 0, 0, 0, 0, 0, 0, 0, 0, 0, 0, 0, 0, 0, 0, 0, 0, 0, 0, 0, 0, 0, 0, 0, 0, 0, 0, 0, 0, 0, 0, 0, 0, 0, 0, 0, 0, 0, 0, 0, 0, 0, 0, 0, 0, 0, 0, 0, 0, 0, 0, 0, 0, 0, 0, 0, 0, 0, 0, 0, 0, 0, 0, 0, 0, 0, 0, 0, 0, 0, 0, 0, 0, 0, 0, 0, 0, 0, 0, 0, 0, 0, 0, 0, 0, 0, 0, 0, 0, 0, 0, 0, 0, 0, 0, 0, 0, 0, 0, 0, 0, 0, 0, 0, 0, 0, 0, 0, 0, 0, 0, 0, 0, 0, 0, 0, 0, 0, 0, 0, 0, 0, 0, 0, 0, 0, 0, 0, 0, 0, 0, 0, 0, 0, 0, 0, 0, 0, 0, 0, 0, 0, 0, 0, 0, 0, 0, 0, 0, 0, 0, 0, 0, 0, 0, 0, 0, 0, 0, 0, 0, 0, 0, 0, 0, 0, 0, 0, 0, 0, 0, 0, 0, 0, 0, 0, 0, 0, 0, 0, 0, 0, 0, 0, 0, 0, 0, 0, 0, 0, 0, 0, 0, 0, 0, 0, 0, 0, 0, 0, 0, 0, 0, 0, 0, 0, 0, 0, 0, 0, 0, 0, 0, 0, 0, 0, 0, 0, 0, 0, 0, 0, 0, 0, 1, 0, 0, 0, 0, 0, 0, 0, 0, 0, 0, 0, 0, 0, 0, 0, 0, 0, 0, 0, 0, 0, 0, 0, 0, 0, 0, 0, 0, 0, 0, 0, 0, 0, 0, 0, 0, 0, 0, 0, 0, 0, 0, 0, 0, 0, 0, 0, 0, 0, 0, 0, 0, 0, 0, 0, 1, 0, 0, 0, 0, 0, 0, 0, 0, 0, 0, 0, 0, 0, 0, 0, 0, 0, 0, 0, 0, 0, 0, 0, 0, 0, 0, 0, 0, 0, 0, 0, 0, 0, 0, 0, 0, 0, 0, 0, 0, 0, 0, 0, 0, 0, 0, 0, 0, 0, 0, 0, 0, 0, 0, 0, 0, 0, 0, 0, 0, 0, 0, 0, 0, 0, 0, 0, 0, 0, 0, 0, 0, 0, 0, 0, 0, 0, 0, 0, 0, 0, 0, 0, 0, 0, 0, 0, 0, 0, 0, 0, 0, 0, 0, 0, 0, 0, 0, 0, 0, 0, 0, 0, 0, 0, 0, 0, 0, 0, 0, 0, 0, 0, 0, 0, 0, 0, 0, 0, 0, 0, 0, 0, 0, 0, 0, 0, 0, 0, 0, 0, 0, 0, 0, 0, 0, 0, 0, 0, 0, 0, 0, 0, 0, 0, 0, 0, 0, 0, 0, 0, 0, 0, 0, 0, 0, 0, 0, 0, 0, 0, 0, 0, 0, 0, 0, 0, 0, 0, 0, 0, 0, 0, 0, 0, 0, 0, 0, 0, 0, 0, 0, 0, 0, 0, 0, 0, 0, 0, 0, 0, 0, 0, 0, 0, 0, 0, 0, 0, 0, 0, 0, 0, 0, 0, 0, 0, 0, 0, 0, 0, 0, 0, 0, 0, 0, 0, 0, 0, 0, 0, 0, 0, 0, 0, 0, 0, 0, 0, 0, 0, 0, 0, 0, 0, 0, 0, 0, 0, 0, 0, 0, 0, 0, 0, 0, 0, 0, 0, 0, 0, 0, 0, 0, 0, 0, 0, 0, 0, 0, 0, 0, 0, 0, 0, 0, 0, 0, 0, 0, 0, 0, 0, 0, 0, 0, 0, 0, 0, 0, 0, 0, 0, 0, 0, 0, 0, 0, 0, 0, 0, 0, 0, 0, 0, 0, 0, 0, 0, 0, 0, 0, 0, 0, 0, 0, 0, 0, 0, 0, 0, 0, 0, 0, 0, 0, 0, 0, 0, 0, 0, 0, 0, 0, 0, 0, 0, 0, 0, 0, 0, 0, 0, 0, 0, 0, 0, 0, 0, 0, 0, 0, 0, 0, 0, 0, 0, 0, 0, 0, 0, 0, 0, 0, 0, 0, 0, 0, 0, 0, 0, 0, 0, 0, 0, 0, 0, 0, 0, 0, 0, 0, 0, 0, 0, 0, 0, 0, 0, 0, 0, 0, 0, 0, 0, 0, 0, 0, 0, 0, 0, 0, 0, 0, 0, 0, 0, 0, 0, 0, 0, 0, 0, 0, 0, 0, 0, 0, 0, 0, 0, 0, 0, 0, 0, 0, 0, 0, 0, 0, 0, 0, 0, 0, 0, 0, 0, 0, 0, 0, 0, 0, 0, 0, 0, 0, 0, 0, 0, 0, 0, 0, 0, 0, 0, 0, 0, 0, 0, 0, 0, 0, 0, 0, 0, 0, 0, 0, 0, 0, 0, 0, 0, 0, 0, 0, 0, 0, 0, 0, 0, 0, 0, 0, 0, 0, 0, 0, 0, 0, 0, 0, 0, 0, 0, 0, 0, 0, 0, 0, 0, 0, 0, 0, 0, 0, 0, 0, 0, 0, 0, 0, 0, 0, 0, 0, 0, 0, 0, 0, 0, 0, 0, 0, 0, 0, 0, 0, 0, 0, 0, 0, 0, 0, 0, 0, 0, 0, 0, 0, 0, 0, 0, 0, 0, 0, 0, 0, 0, 0, 0, 0, 0, 0, 0, 0, 0, 0, 0, 0, 0, 0, 0, 0, 0, 0, 0, 0, 0, 0, 0, 0, 0, 0, 0, 0, 0, 0, 0, 0, 0, 0, 0, 0, 0, 0, 0, 0, 0, 0, 0, 0, 0, 0, 0, 0, 0, 0, 0, 0, 0, 0, 0, 0, 0, 0, 0, 0, 0, 0, 0, 0, 0, 0, 0, 0, 0, 0, 0, 0, 0, 0, 0, 0, 0, 0, 0, 0, 0, 0, 0, 0, 0, 0, 0, 0, 0, 0, 0, 0, 0, 0, 0, 0, 0, 0, 0, 0, 0, 0, 0, 0, 0, 0, 0, 0, 0, 0, 0, 0, 0, 0, 0, 0, 0, 0, 0, 0, 0, 0, 0, 0, 0, 0, 0, 0, 0, 0, 0, 0, 0, 0, 0, 0, 0, 0, 0, 0, 0, 0, 0, 1, 0, 0, 0, 0, 0, 0, 0, 0, 0, 0, 0, 0, 0, 0, 0, 0, 0, 0, 0, 0, 0, 0, 0, 0, 0, 0, 0, 0, 0, 0, 0, 0, 0, 0, 0, 0, 0, 0, 0, 0, 0, 0, 0, 0, 0, 0, 0, 0, 0, 0, 0, 0, 0, 0, 0, 0, 0, 0, 0, 0, 0, 0, 0, 0, 0, 0, 0, 0, 0, 0, 0, 0, 0, 0, 1, 0, 0, 0, 0, 0, 0, 0, 0, 0, 0, 0, 0, 0, 0, 0, 0, 0, 0, 0, 0, 1, 0, 0, 1, 0, 0, 0, 0, 0, 0, 0, 0, 0, 0, 0, 0, 0, 0, 0, 0, 0, 0, 0, 0, 0, 0, 0, 0, 0, 0, 0, 0, 0, 0, 0, 0, 0, 0, 0, 0, 0, 0, 0, 0, 0, 0, 0, 0, 0, 0, 0, 0, 0, 0, 0, 0, 0, 0, 0, 0, 0, 0, 0, 0, 0, 0, 0, 0, 0, 0, 0, 0, 0, 0, 0, 0, 0, 0, 0, 0, 0, 0, 0, 0, 0, 0, 0, 0, 0, 0, 0, 0, 0, 0, 0, 0, 0, 0, 0, 0, 0, 0, 0, 0, 0, 0, 0, 0, 0, 0, 0, 0, 0, 0, 0, 0, 0, 0, 0, 0, 0, 0, 0, 0, 0, 0, 0, 0, 0, 0, 0, 0, 0, 0, 0, 0, 0, 0, 0, 0, 0, 0, 0, 0, 0, 0, 0, 0, 0, 0, 0, 0, 0, 0, 0, 0, 0, 0, 0, 0, 0, 0, 0, 0, 0, 0, 0, 0, 0, 0, 0, 0, 0, 0, 0, 0, 0, 0, 0, 0, 0, 0, 0, 0, 0, 0, 0, 0, 0, 0, 0, 0, 0, 0, 0, 0, 0, 0, 0, 0, 0, 0, 0, 0, 0, 0, 0, 0, 0, 0, 0, 0, 0, 0, 0, 0, 0, 0, 0, 0, 0, 0, 0, 0, 0, 0, 0, 0, 0, 0, 0, 0, 0, 0, 0, 0, 0, 0, 0, 0, 0, 0, 0, 0, 0, 0, 0, 0, 0, 0, 0, 0, 0, 0, 0, 0, 0, 0, 0, 0, 0, 0, 0, 0, 0, 0, 0, 0, 0, 0, 0, 0, 0, 0, 0, 0, 0, 0, 0, 0, 0, 0, 0, 0, 0, 0, 0, 0, 0, 0, 0, 0, 0, 0, 0, 0, 0, 0, 0, 0, 0, 0, 0, 0, 0, 0, 0, 0, 0, 0, 0, 0, 0, 0, 0, 0, 0, 0, 0, 0, 0, 0, 0, 0, 0, 0, 0, 0, 0, 0, 0, 0, 0, 0, 0, 0, 0, 0, 0, 0, 0, 0, 0, 0, 0, 0, 0, 0, 0, 0, 0, 0, 0, 0, 0, 0, 0, 0, 0, 0, 0, 0, 0, 0, 0, 0, 0, 0, 0, 0, 0, 0, 0, 0, 0, 0, 0, 0, 0, 0, 0, 0, 0, 0, 0, 0, 0, 0, 0, 0, 0, 0, 0, 0, 0, 0, 0, 0, 0, 0, 0, 0, 0, 0, 0, 0, 0, 0, 0, 0, 0, 0, 0, 0, 0, 0, 0, 0, 0, 0, 0, 0, 0, 0, 0, 0, 0, 0, 0, 0, 0, 0, 0, 0, 0, 0, 0, 0, 0, 0, 0, 0, 0, 0, 0, 0, 0, 0, 0, 0, 0, 0, 0, 0, 0, 0, 0, 0, 0, 0, 0, 0, 0, 0, 0, 0, 0, 0, 0, 0, 1, 0, 0, 0, 0, 0, 0, 0, 0, 0, 0, 0, 0, 0, 0, 0, 0, 0, 0, 0, 0, 0, 0, 0, 0, 0, 0, 0, 0, 0, 0, 0, 0, 0, 0, 0, 0, 0, 0, 0, 0, 0, 0, 0, 0, 0, 0, 0, 0, 0, 0, 0, 0, 0, 0, 0, 0, 0, 0, 0, 0, 0, 0, 0, 0, 0, 0, 0, 0, 0, 0, 0, 0, 0, 0, 0, 0, 0, 0, 0, 0, 0, 0, 0, 0, 0, 0, 0, 0, 0, 0, 0, 0, 0, 0, 0, 0, 0, 0, 0, 0, 0, 0, 0, 0, 0, 0, 0, 0, 0, 0, 0, 0, 0, 0, 0, 0, 0, 0, 0, 0, 0, 0, 0, 0, 0, 0, 0, 0, 0, 0, 0, 0, 0, 0, 0, 0, 0, 0, 0, 0, 0, 0, 0, 0, 0, 0, 0, 0, 0, 0, 0, 0, 0, 0, 0, 0, 0, 0, 0, 0, 0, 0, 0, 0, 0, 0, 0, 0, 0, 0, 0, 0, 0, 0, 0, 0, 0, 0, 0, 0, 0, 0, 0, 0, 0, 0, 0, 0, 0, 0, 0, 0, 0, 0, 0, 0, 0, 0, 0, 0, 0, 0, 0, 0, 0, 0, 0, 0, 0, 0, 0, 0, 0, 0, 0, 0, 0, 0, 0, 0, 0, 0, 0, 0, 0, 0, 0, 0, 0, 0, 0, 0, 0, 0, 0, 0, 0, 0, 0, 0, 0, 0, 0, 0, 0, 0, 0, 0, 0, 0, 0, 0, 0, 0, 0, 0, 0, 0, 0, 0, 0, 0, 0, 0, 0, 0, 0, 0, 0, 0, 0, 0, 0, 0, 0, 0, 0, 0, 0, 0, 0, 0, 0, 0, 0, 0, 0, 0, 0, 0, 0, 0, 0, 0, 0, 0, 0, 0, 0, 0, 0, 0, 0, 0, 0, 0, 0, 0, 0, 0, 0, 0, 0, 0, 0, 0, 0, 0, 0, 0, 0, 0, 0, 0, 0, 0, 0, 0, 0, 0, 0, 0, 0, 0, 0, 0, 0, 0, 0, 0, 0, 0, 0, 0, 0, 0, 0, 0, 0, 0, 0, 0, 0, 0, 0, 0, 0, 0, 0, 0, 0, 0, 0, 0, 0, 0, 0, 0, 0, 0, 0, 0, 0, 0, 0, 0, 0, 0, 0, 0, 0, 0, 0, 0, 0, 0, 0, 0, 0, 0, 0, 0, 0, 0, 0, 0, 0, 0, 0, 0, 0, 0, 0, 0, 0, 0, 0, 0, 0, 0, 0, 0, 0, 0, 0, 0, 0, 0, 0, 0, 0, 0, 0, 0, 0, 0, 0, 0, 0, 0, 0, 0, 0, 0, 0, 0, 0, 0, 0, 0, 0, 0, 0, 0, 0, 0, 0, 0, 0, 0, 0, 0, 0, 0, 0, 0, 0, 0, 0, 0, 0, 0, 0, 0, 0, 0, 0, 0, 0, 0, 0, 0, 0, 0, 0, 0, 0, 0, 0, 0, 0, 0, 0, 0, 0, 0, 0, 0, 0, 0, 0, 0, 0, 0, 0, 0, 0, 0, 0, 0, 0, 0, 0, 0, 0, 0, 0, 0, 0, 0, 0, 0, 1, 0, 0, 0, 0, 0, 0, 0, 0, 0, 0, 0, 0, 0, 0, 0, 0, 0, 0, 0, 0, 0, 0, 0, 0, 0, 0, 0, 0, 0, 0, 0, 0, 0, 0, 0, 2, 0, 0, 0, 0, 0, 0, 0, 0, 0, 0, 0, 0, 0, 0, 0, 0, 0, 0, 0, 0, 0, 0, 0, 0, 0, 0, 0, 0, 0, 0, 0, 0, 0, 0, 0, 0, 0, 0, 0, 0, 1, 0, 0, 0, 0, 0, 0, 0, 0, 0, 0, 0, 0, 0, 0, 0, 0, 0, 0, 0, 0, 0, 0, 0, 0, 0, 0, 0, 0, 0, 0, 0, 0, 0, 0, 0, 0, 0, 0, 0, 0, 0, 0, 0, 0, 0, 0, 0, 0, 0, 0, 0, 0, 0, 0, 0, 0, 0, 0, 0, 0, 0, 0, 0, 0, 0, 0, 0, 0, 0, 0, 0, 0, 0, 0, 0, 0, 0, 0, 0, 0, 0, 0, 0, 0, 0, 0, 0, 0, 0, 0, 0, 0, 0, 0, 0, 0, 0, 0, 0, 0, 0, 0, 0, 0, 0, 0, 0, 0, 0, 0, 0, 0, 0, 0, 0, 0, 0, 0, 0, 0, 0, 0, 0, 0, 0, 0, 0, 0, 0, 0, 0, 0, 0, 0, 0, 0, 0, 0, 0, 0, 0, 0, 0, 0, 0, 0, 0, 0, 0, 0, 0, 0, 0, 0, 0, 0, 0, 0, 0, 0, 0, 0, 0, 0, 0, 0, 0, 0, 0, 0, 0, 0, 0, 0, 0, 0, 0, 0, 0, 0, 0, 0, 0, 0, 0, 0, 0, 0, 0, 0, 0, 0, 0, 0, 0, 0, 0, 0, 0, 0, 0, 0, 0, 0, 0, 0, 0, 0, 0, 0, 0, 0, 0, 0, 0, 0, 0, 0, 0, 0, 0, 0, 0, 0, 0, 0, 0, 0, 0, 0, 0, 0, 0, 0, 0, 0, 0, 0, 0, 0, 0, 0, 0, 0, 0, 0, 0, 0, 0, 0, 0, 0, 0, 0, 0, 0, 0, 0, 0, 0, 0, 0, 0, 0, 0, 0, 0, 0, 0, 0, 0, 0, 0, 0, 0, 0, 0, 0, 0, 0, 0, 0, 0, 0, 0, 0, 0, 0, 0, 0, 0, 0, 0, 0, 0, 0, 0, 0, 0, 0, 0, 0, 0, 0, 0, 0, 0, 0, 0, 0, 0, 0, 0, 0, 0, 0, 0, 0, 0, 0, 0, 0, 0, 0, 0, 0, 0, 0, 0, 0, 0, 0, 0, 0, 0, 0, 0, 0, 0, 0, 0, 0, 0, 0, 0, 0, 0, 0, 0, 0, 0, 0, 0, 0, 0, 0, 0, 0, 0, 0, 0, 0, 0, 0, 0, 0, 0, 0, 0, 0, 0, 0, 0, 0, 0, 0, 0, 0, 0, 0, 0, 0, 0, 0, 0, 0, 0, 0, 0, 0, 0, 0, 0, 0, 0, 0, 0, 0, 0, 0, 0, 0, 0, 0, 0, 0, 0, 0, 0, 0, 0, 0, 0, 0, 0, 0, 0, 0, 0, 0, 0, 0, 0, 0, 0, 0, 0, 0, 0, 0, 0, 0, 0, 0, 0, 0, 0, 0, 0, 0, 0, 0, 0, 0, 0, 0, 0, 0, 0, 0, 0, 0, 0, 0, 0, 0, 0, 0, 0, 0, 0, 0, 0, 0, 0, 0, 0, 0, 0, 0, 0, 0, 0, 0, 0, 0, 0, 0, 0, 0, 0, 0, 0, 0, 0, 0, 0, 0, 0, 0, 0, 0, 0, 0, 0, 0, 0, 1, 0, 0, 0, 0, 0, 0, 0, 0, 0, 0, 0, 0, 0, 0, 0, 0, 0, 0, 0, 0, 0, 0, 0, 0, 0, 0, 0, 0, 0, 0, 0, 0, 0, 0, 0, 0, 0, 0, 0, 0, 0, 0, 0, 0, 0, 0, 0, 0, 0, 0, 0, 0, 0, 0, 0, 0, 0, 0, 0, 0, 0, 0, 0, 0, 0, 0, 0, 0, 0, 0, 0, 0, 0, 0, 0, 0, 0, 0, 0, 0, 0, 0, 0, 0, 0, 0, 0, 0, 0, 0, 0, 0, 0, 0, 0, 0, 0, 0, 0, 0, 0, 0, 0, 0, 0, 0, 0, 0, 0, 0, 2, 0, 0, 0, 0, 0, 0, 0, 0, 0, 0, 0, 0, 0, 0, 0, 0, 0, 0, 0, 0, 0, 0, 0, 0, 0, 0, 0, 0, 0, 0, 0, 0, 0, 0, 0, 0, 0, 0, 0, 0, 0, 0, 0, 0, 0, 0, 0, 0, 0, 0, 0, 0, 0, 0, 0, 0, 0, 0, 0, 0, 0, 0, 0, 0, 0, 0, 0, 0, 0, 0, 0, 0, 0, 0, 0, 0, 0, 0, 0, 0, 0, 0, 0, 0, 0, 0, 0, 0, 0, 0, 0, 0, 0, 0, 0, 0, 0, 0, 0, 0, 0, 0, 0, 0, 0, 0, 0, 0, 0, 0, 0, 0, 0, 0, 0, 0, 0, 0, 0, 0, 0, 0, 0, 0, 0, 0, 0, 0, 0, 0, 0, 0, 0, 0, 0, 0, 0, 0, 0, 0, 0, 0, 0, 0, 0, 0, 0, 0, 0, 0, 0, 0, 0, 0, 0, 0, 0, 0, 0, 0, 0, 0, 0, 0, 0, 0, 0, 0, 0, 0, 0, 0, 0, 0, 0, 0, 0, 0, 0, 0, 0, 0, 0, 0, 0, 0, 0, 0, 0, 0, 0, 0, 0, 0, 0, 0, 0, 0, 0, 0, 0, 0, 0, 0, 0, 0, 0, 0, 0, 0, 0, 0, 0, 0, 0, 0, 0, 0, 0, 0, 0, 0, 0, 0, 0, 0, 0, 0, 0, 0, 0, 0, 0, 0, 0, 0, 0, 0, 0, 0, 0, 0, 0, 0, 0, 0, 0, 0, 0, 0, 0, 0, 0, 0, 0, 0, 0, 0, 0, 0, 0, 0, 0, 0, 0, 0, 0, 0, 0, 0, 0, 0, 0, 0, 0, 0, 0, 0, 0, 0, 0, 0, 0, 0, 0, 0, 0, 0, 0, 0, 0, 0, 0, 0, 0, 0, 0, 0, 0, 0, 0, 0, 0, 0, 0, 0, 0, 0, 0, 0, 0, 0, 0, 0, 0, 0, 0, 0, 0, 0, 0, 0, 0, 0, 0, 0, 0, 0, 0, 0, 0, 0, 0, 0, 0, 0, 0, 0, 0, 0, 0, 0, 0, 0, 0, 0, 0, 0, 0, 0, 0, 0, 0, 0, 0, 0, 0, 0, 0, 0, 0, 0, 0, 0, 0, 0, 0, 0, 0, 0, 0, 0, 0, 0, 0, 0, 0, 0, 0, 0, 0, 0, 0, 0, 0, 0, 0, 0, 0, 0, 0, 0, 0, 0, 0, 0, 0, 0, 0, 0, 0, 0, 0, 0, 0, 0, 0, 0, 0, 0, 0, 0, 0, 0, 0, 0, 0, 0, 0, 0, 0, 0, 0, 0, 0, 0, 0, 0, 0, 0, 0, 0, 0, 0, 0, 0, 0, 0, 0, 0, 0, 0, 0, 0, 0, 0, 0, 0, 0, 0, 0, 0, 0, 0, 0, 0, 0, 0, 0, 0, 0, 0, 0, 0, 0, 0, 0, 0, 0, 0, 0, 0, 0, 0, 0, 0, 0, 0, 0, 0, 0, 0, 0, 0, 0, 0, 0, 0, 0, 0, 0, 0, 0, 0, 0, 0, 0, 0, 0, 0, 0, 0, 0, 0, 0, 0, 0, 0, 0, 0, 0, 0, 0, 0, 0, 0, 0, 0, 0, 0, 0, 0, 0, 0, 0, 0, 0, 0, 0, 0, 0, 0, 0, 0, 0, 0, 0, 0, 0, 0, 0, 0, 0, 0, 0, 0, 0, 0, 0, 0, 0, 0, 0, 0, 0, 0, 0, 0, 0, 0, 0, 0, 0, 0, 0, 0, 0, 0, 0, 0, 0, 0, 0, 0, 0, 0, 0, 0, 0, 0, 0, 0, 0, 0, 0, 0, 0, 0, 0, 0, 0, 0, 0, 0, 0, 0, 0, 0, 0, 0, 0, 0, 0, 0, 0, 0, 0, 0, 0, 0, 0, 0, 0, 0, 0, 0, 0, 0, 0, 0, 0, 0, 0, 0, 0, 0, 0, 0, 0, 0, 0, 0, 0, 0, 0, 0, 0, 0, 0, 0, 0, 0, 0, 0, 0, 0, 0, 0, 0, 0, 0, 0, 0, 0, 0, 0, 0, 0, 0, 0, 0, 0, 0, 0, 0, 0, 0, 0, 0, 0, 0, 0, 0, 0, 0, 0, 0, 0, 0, 0, 0, 0, 0, 0, 0, 0, 0, 0, 0, 0, 1, 0, 0, 0, 0, 0, 0, 0, 0, 0, 0, 0, 0, 0, 0, 0, 0, 0, 0, 0, 0, 0, 0, 0, 0, 0, 0, 0, 0, 0, 0, 0, 0, 0, 0, 0, 0, 0, 0, 0, 0, 0, 0, 0, 0, 0, 0, 0, 0, 0, 0, 0, 0, 0, 0, 0, 0, 0, 0, 0, 0, 0, 0, 0, 0, 0, 0, 0, 0, 0, 0, 0, 0, 0, 0, 0, 0, 0, 0, 0, 0, 0, 0, 0, 0, 0, 0, 0, 0, 0, 0, 0, 0, 0, 0, 0, 0, 0, 0, 0, 0, 0, 0, 0, 0, 0, 0, 0, 1, 0, 0, 0, 0, 0, 0, 0, 0, 0, 0, 0, 0, 0, 0, 0, 0, 0, 0, 0, 0, 0, 0, 0, 0, 0, 0, 0, 0, 0, 0, 0, 0, 0, 0, 0, 0, 0, 0, 0, 0, 0, 0, 0, 0, 0, 0, 0, 0, 0, 0, 0, 0, 0, 0, 0, 0, 0, 0, 0, 0, 0, 0, 0, 0, 0, 0, 0, 0, 0, 0, 0, 0, 0, 0, 0, 0, 0, 0, 0, 0, 0, 0, 0, 0, 0, 0, 0, 0, 0, 0, 0, 0, 0, 0, 0, 0, 0, 0, 0, 0, 0, 0, 0, 0, 0, 0, 0, 0, 0, 0, 0, 0, 0, 0, 0, 0, 0, 0, 0, 0, 0, 0, 0, 0, 0, 0, 0, 0, 0, 0, 0, 0, 0, 0, 0, 0, 0, 0, 0, 0, 0, 0, 0, 0, 0, 0, 0, 0, 0, 0, 0, 0, 0, 0, 0, 0, 0, 0, 0, 0, 0, 0, 0, 0, 0, 0, 0, 0, 0, 0, 0, 0, 0, 0, 0, 0, 0, 0, 0, 0, 0, 0, 0, 0, 0, 0, 0, 0, 0, 0, 0, 0, 0, 0, 0, 0, 0, 0, 0, 0, 0, 0, 0, 0, 0, 0, 0, 0, 0, 0, 0, 0, 0, 0, 0, 0, 0, 0, 0, 0, 0, 0, 0, 0, 0, 0, 0, 0, 0, 0, 0, 0, 0, 0, 0, 0, 0, 0, 0, 0, 0, 0, 0, 0, 0, 0, 0, 0, 0, 0, 0, 0, 0, 0, 0, 0, 0, 0, 0, 0, 0, 0, 0, 0, 0, 0, 0, 0, 0, 0, 0, 0, 0, 0, 0, 0, 0, 0, 0, 0, 0, 0, 0, 0, 0, 0, 0, 0, 0, 0, 0, 0, 0, 0, 0, 0, 0, 0, 0, 0, 0, 0, 0, 0, 0, 0, 0, 0, 0, 0, 0, 0, 0, 0, 0, 0, 0, 0, 0, 0, 0, 0, 0, 0, 0, 0, 0, 0, 0, 0, 0, 0, 0, 0, 0, 0, 0, 0, 0, 0, 0, 0, 0, 0, 0, 0, 0, 0, 0, 0, 0, 0, 0, 0, 0, 0, 0, 0, 0, 0, 0, 0, 0, 0, 0, 0, 0, 0, 0, 0, 0, 0, 0, 0, 0, 0, 0, 0, 0, 0, 0, 0, 0, 0, 0, 0, 0, 0, 0, 0, 0, 0, 0, 0, 0, 0, 0, 0, 0, 0, 0, 0, 0, 0, 0, 0, 0, 0, 0, 0, 0, 0, 0, 0, 0, 0, 0, 0, 0, 0, 0, 0, 0, 0, 0, 0, 0, 0, 0, 0, 0, 0, 0, 0, 0, 0, 0, 0, 0, 0, 0, 0, 0, 0, 0, 0, 0, 0, 0, 0, 0, 0, 0, 0, 0, 0, 0, 0, 0, 0, 0, 0, 0, 2, 0, 1, 0]\n"
     ]
    }
   ],
   "source": [
    "test_bow = bow_encoding(test_words, vocabulary)\n",
    "print(test_bow)"
   ]
  },
  {
   "cell_type": "code",
   "execution_count": 40,
   "metadata": {},
   "outputs": [
    {
     "data": {
      "text/plain": [
       "5000"
      ]
     },
     "execution_count": 40,
     "metadata": {},
     "output_type": "execute_result"
    }
   ],
   "source": [
    "len(test_bow)"
   ]
  },
  {
   "cell_type": "markdown",
   "metadata": {},
   "source": [
    "So now we know how to construct a bag of words encoding of a user provided review, how to we send it to our endpoint? First, we need to start the endpoint back up."
   ]
  },
  {
   "cell_type": "code",
   "execution_count": 41,
   "metadata": {},
   "outputs": [
    {
     "name": "stderr",
     "output_type": "stream",
     "text": [
      "WARNING:sagemaker:Using already existing model: xgboost-2020-05-22-13-26-06-952\n"
     ]
    },
    {
     "name": "stdout",
     "output_type": "stream",
     "text": [
      "---------------!"
     ]
    }
   ],
   "source": [
    "xgb_predictor = xgb.deploy(initial_instance_count = 1, instance_type = 'ml.m4.xlarge')"
   ]
  },
  {
   "cell_type": "markdown",
   "metadata": {},
   "source": [
    "At this point we could just do the same thing that we did earlier when we tested our deployed model and send `test_bow` to our endpoint using the `xgb_predictor` object. However, when we eventually construct our Lambda function we won't have access to this object, so how do we call a SageMaker endpoint?\n",
    "\n",
    "It turns out that Python functions that are used in Lambda have access to another Amazon library called `boto3`. This library provides an API for working with Amazon services, including SageMaker. To start with, we need to get a handle to the SageMaker runtime."
   ]
  },
  {
   "cell_type": "code",
   "execution_count": 42,
   "metadata": {},
   "outputs": [],
   "source": [
    "import boto3\n",
    "\n",
    "runtime = boto3.Session().client('sagemaker-runtime')"
   ]
  },
  {
   "cell_type": "markdown",
   "metadata": {},
   "source": [
    "And now that we have access to the SageMaker runtime, we can ask it to make use of (invoke) an endpoint that has already been created. However, we need to provide SageMaker with the name of the deployed endpoint. To find this out we can print it out using the `xgb_predictor` object."
   ]
  },
  {
   "cell_type": "code",
   "execution_count": 43,
   "metadata": {},
   "outputs": [
    {
     "data": {
      "text/plain": [
       "'xgboost-2020-05-22-13-26-06-952'"
      ]
     },
     "execution_count": 43,
     "metadata": {},
     "output_type": "execute_result"
    }
   ],
   "source": [
    "xgb_predictor.endpoint"
   ]
  },
  {
   "cell_type": "markdown",
   "metadata": {},
   "source": [
    "Using the SageMaker runtime and the name of our endpoint, we can invoke the endpoint and send it the `test_bow` data."
   ]
  },
  {
   "cell_type": "code",
   "execution_count": 44,
   "metadata": {},
   "outputs": [
    {
     "ename": "ParamValidationError",
     "evalue": "Parameter validation failed:\nInvalid type for parameter Body, value: [0, 0, 0, 0, 0, 0, 0, 0, 0, 0, 0, 0, 0, 0, 0, 0, 0, 0, 0, 0, 0, 0, 0, 0, 0, 0, 0, 0, 0, 0, 0, 0, 0, 0, 0, 0, 0, 0, 0, 0, 0, 0, 0, 0, 0, 0, 0, 0, 0, 0, 0, 0, 0, 0, 0, 0, 0, 0, 0, 0, 0, 0, 0, 0, 0, 0, 0, 0, 0, 0, 0, 0, 0, 0, 0, 0, 0, 0, 0, 0, 0, 0, 0, 0, 0, 0, 0, 0, 0, 0, 0, 0, 0, 0, 0, 0, 0, 0, 0, 0, 0, 0, 0, 0, 0, 0, 0, 0, 0, 0, 0, 0, 0, 0, 0, 0, 0, 0, 0, 0, 0, 0, 0, 0, 0, 0, 0, 0, 0, 0, 0, 0, 0, 0, 0, 0, 0, 0, 0, 0, 0, 0, 0, 0, 0, 0, 0, 0, 0, 0, 0, 0, 0, 0, 0, 0, 0, 0, 0, 0, 0, 0, 0, 0, 0, 0, 0, 0, 0, 0, 0, 0, 0, 0, 0, 0, 0, 0, 0, 0, 0, 0, 0, 0, 0, 0, 0, 0, 0, 0, 0, 0, 0, 0, 0, 0, 0, 0, 0, 0, 0, 0, 0, 0, 0, 0, 0, 0, 0, 0, 0, 0, 0, 0, 0, 0, 0, 0, 0, 0, 0, 0, 0, 0, 0, 0, 1, 0, 0, 0, 0, 0, 0, 0, 0, 0, 0, 0, 0, 0, 0, 0, 0, 0, 0, 0, 0, 0, 0, 0, 0, 0, 0, 0, 0, 0, 1, 0, 0, 0, 0, 0, 0, 0, 0, 0, 0, 0, 0, 0, 0, 0, 0, 0, 0, 0, 0, 0, 0, 0, 0, 0, 0, 0, 0, 0, 0, 0, 0, 0, 0, 0, 0, 0, 0, 0, 0, 0, 0, 0, 0, 0, 0, 0, 0, 0, 0, 0, 0, 0, 0, 0, 0, 0, 0, 0, 0, 0, 0, 0, 0, 0, 0, 0, 0, 0, 0, 0, 0, 0, 0, 0, 0, 0, 0, 0, 0, 0, 0, 0, 0, 0, 0, 0, 0, 0, 0, 0, 0, 0, 0, 0, 0, 0, 0, 0, 0, 0, 0, 0, 0, 0, 0, 0, 0, 0, 0, 0, 0, 0, 0, 0, 0, 0, 0, 0, 0, 0, 0, 0, 0, 0, 0, 0, 0, 0, 0, 0, 0, 0, 0, 0, 0, 0, 0, 0, 0, 0, 0, 0, 0, 0, 0, 0, 0, 0, 0, 0, 0, 0, 0, 0, 0, 0, 0, 0, 0, 0, 0, 0, 0, 0, 0, 0, 0, 0, 0, 0, 0, 0, 0, 0, 0, 0, 0, 0, 0, 0, 0, 0, 0, 0, 0, 0, 0, 0, 0, 0, 0, 0, 0, 0, 0, 0, 0, 0, 0, 0, 0, 0, 0, 0, 0, 0, 0, 0, 0, 0, 0, 0, 0, 0, 0, 0, 0, 0, 0, 0, 0, 0, 0, 0, 0, 0, 0, 0, 0, 0, 0, 0, 0, 0, 0, 0, 0, 0, 0, 0, 0, 0, 0, 0, 0, 0, 0, 0, 0, 0, 0, 0, 0, 0, 0, 0, 0, 0, 0, 0, 0, 0, 0, 0, 0, 0, 0, 0, 0, 0, 0, 0, 0, 0, 0, 0, 0, 0, 0, 0, 0, 0, 0, 0, 0, 0, 0, 0, 0, 0, 0, 0, 0, 0, 0, 0, 0, 0, 0, 0, 0, 0, 0, 0, 0, 0, 0, 0, 0, 0, 0, 0, 0, 0, 0, 0, 0, 0, 0, 0, 0, 0, 0, 0, 0, 0, 0, 0, 0, 0, 0, 0, 0, 0, 0, 0, 0, 0, 0, 0, 0, 0, 0, 0, 0, 0, 0, 0, 0, 0, 0, 0, 0, 0, 0, 0, 0, 0, 0, 0, 0, 0, 0, 0, 0, 0, 0, 0, 0, 0, 0, 0, 0, 0, 0, 0, 0, 0, 1, 0, 0, 0, 0, 0, 0, 0, 0, 0, 0, 0, 0, 0, 0, 0, 0, 0, 0, 0, 0, 0, 0, 0, 0, 0, 0, 0, 0, 0, 0, 0, 0, 0, 0, 0, 0, 0, 0, 0, 0, 0, 0, 0, 0, 0, 0, 0, 0, 0, 0, 0, 0, 0, 0, 0, 0, 0, 0, 0, 0, 0, 0, 0, 0, 0, 0, 0, 0, 0, 0, 0, 0, 0, 0, 0, 0, 0, 0, 0, 0, 0, 0, 0, 0, 0, 0, 0, 0, 0, 0, 0, 0, 0, 0, 0, 0, 0, 0, 0, 0, 0, 0, 0, 0, 0, 0, 0, 0, 0, 0, 0, 0, 0, 0, 0, 0, 0, 0, 0, 0, 0, 0, 0, 0, 0, 0, 0, 0, 0, 0, 0, 0, 0, 0, 0, 0, 0, 0, 0, 0, 0, 0, 0, 0, 0, 0, 0, 0, 0, 0, 0, 0, 0, 0, 0, 0, 0, 0, 0, 0, 0, 0, 0, 0, 0, 0, 0, 0, 0, 0, 0, 0, 0, 0, 0, 0, 0, 0, 0, 0, 0, 0, 0, 0, 0, 0, 0, 0, 0, 0, 0, 0, 0, 0, 0, 0, 0, 0, 0, 0, 0, 0, 0, 0, 0, 0, 0, 0, 0, 0, 0, 0, 0, 0, 0, 0, 0, 0, 0, 0, 0, 0, 0, 0, 0, 0, 0, 0, 0, 0, 0, 0, 0, 0, 0, 0, 0, 0, 0, 0, 0, 0, 0, 0, 0, 0, 0, 0, 0, 0, 0, 0, 0, 1, 0, 0, 0, 0, 0, 0, 0, 0, 0, 0, 0, 0, 0, 0, 0, 0, 0, 0, 0, 0, 0, 0, 0, 0, 0, 0, 0, 0, 0, 0, 0, 0, 0, 0, 0, 0, 0, 0, 0, 0, 0, 0, 0, 0, 0, 0, 0, 0, 0, 0, 0, 0, 0, 0, 0, 0, 0, 0, 0, 0, 0, 0, 0, 0, 0, 0, 0, 0, 0, 0, 0, 0, 0, 0, 0, 0, 0, 0, 0, 0, 0, 0, 0, 0, 0, 0, 1, 0, 0, 0, 0, 0, 0, 0, 0, 0, 0, 0, 0, 0, 0, 0, 0, 0, 0, 0, 0, 0, 0, 0, 0, 0, 0, 0, 0, 0, 0, 0, 0, 0, 0, 0, 0, 0, 0, 0, 0, 0, 0, 0, 0, 0, 0, 0, 0, 0, 0, 0, 0, 0, 0, 0, 0, 0, 0, 0, 0, 0, 0, 0, 0, 0, 0, 0, 0, 0, 0, 0, 0, 0, 0, 0, 0, 0, 0, 0, 0, 0, 0, 0, 0, 0, 0, 0, 0, 0, 0, 0, 0, 0, 0, 0, 0, 0, 0, 0, 0, 0, 0, 0, 0, 0, 0, 0, 0, 0, 0, 0, 0, 0, 0, 0, 0, 0, 0, 0, 0, 0, 0, 0, 0, 0, 0, 0, 0, 0, 0, 0, 0, 0, 0, 0, 0, 0, 0, 0, 0, 0, 0, 0, 0, 0, 0, 0, 0, 0, 0, 0, 0, 0, 0, 0, 0, 0, 0, 0, 0, 0, 0, 0, 0, 0, 0, 0, 0, 0, 0, 0, 0, 0, 0, 0, 0, 0, 0, 0, 0, 0, 0, 0, 0, 0, 0, 0, 0, 0, 0, 0, 0, 0, 0, 0, 0, 0, 0, 0, 0, 0, 0, 0, 0, 0, 0, 0, 0, 0, 0, 0, 0, 0, 0, 0, 0, 0, 0, 0, 0, 0, 0, 0, 0, 0, 0, 0, 0, 0, 0, 0, 0, 0, 0, 0, 0, 0, 0, 0, 0, 0, 0, 0, 0, 0, 0, 0, 0, 0, 0, 0, 0, 1, 0, 0, 0, 0, 0, 0, 0, 0, 0, 0, 0, 0, 0, 0, 0, 0, 0, 0, 0, 0, 0, 0, 0, 0, 0, 0, 0, 0, 0, 0, 0, 0, 0, 0, 0, 0, 0, 0, 0, 0, 0, 0, 0, 0, 0, 0, 0, 0, 0, 0, 0, 0, 0, 0, 0, 1, 0, 0, 0, 0, 0, 0, 0, 0, 0, 0, 0, 0, 0, 0, 0, 0, 0, 0, 0, 0, 0, 0, 0, 0, 0, 0, 0, 0, 0, 0, 0, 0, 0, 0, 0, 0, 0, 0, 0, 0, 0, 0, 0, 0, 0, 0, 0, 0, 0, 0, 0, 0, 0, 0, 0, 0, 0, 0, 0, 0, 0, 0, 0, 0, 0, 0, 0, 0, 0, 0, 0, 0, 0, 0, 0, 0, 0, 0, 0, 0, 0, 0, 0, 0, 0, 0, 0, 0, 0, 0, 0, 0, 0, 0, 0, 0, 0, 0, 0, 0, 0, 0, 0, 0, 0, 0, 0, 0, 0, 0, 0, 0, 0, 0, 0, 0, 0, 0, 0, 0, 0, 0, 0, 0, 0, 0, 0, 0, 0, 0, 0, 0, 0, 0, 0, 0, 0, 0, 0, 0, 0, 0, 0, 0, 0, 0, 0, 0, 0, 0, 0, 0, 0, 0, 0, 0, 0, 0, 0, 0, 0, 0, 0, 0, 0, 0, 0, 0, 0, 0, 0, 0, 0, 0, 0, 0, 0, 0, 0, 0, 0, 0, 0, 0, 0, 0, 0, 0, 0, 0, 0, 0, 0, 0, 0, 0, 0, 0, 0, 0, 0, 0, 0, 0, 0, 0, 0, 0, 0, 0, 0, 0, 0, 0, 0, 0, 0, 0, 0, 0, 0, 0, 0, 0, 0, 0, 0, 0, 0, 0, 0, 0, 0, 0, 0, 0, 0, 0, 0, 0, 0, 0, 0, 0, 0, 0, 0, 0, 0, 0, 0, 0, 0, 0, 0, 0, 0, 0, 0, 0, 0, 0, 0, 0, 0, 0, 0, 0, 0, 0, 0, 0, 0, 0, 0, 0, 0, 0, 0, 0, 0, 0, 0, 0, 0, 0, 0, 0, 0, 0, 0, 0, 0, 0, 0, 0, 0, 0, 0, 0, 0, 0, 0, 0, 0, 0, 0, 0, 0, 0, 0, 0, 0, 0, 0, 0, 0, 0, 0, 0, 0, 0, 0, 0, 0, 0, 0, 0, 0, 0, 0, 0, 0, 0, 0, 0, 0, 0, 0, 0, 0, 0, 0, 0, 0, 0, 0, 0, 0, 0, 0, 0, 0, 0, 0, 0, 0, 0, 0, 0, 0, 0, 0, 0, 0, 0, 0, 0, 0, 0, 0, 0, 0, 0, 0, 0, 0, 0, 0, 0, 0, 0, 0, 0, 0, 0, 0, 0, 0, 0, 0, 0, 0, 0, 0, 0, 0, 0, 0, 0, 0, 0, 0, 0, 0, 0, 0, 0, 0, 0, 0, 0, 0, 0, 0, 0, 0, 0, 0, 0, 0, 0, 0, 0, 0, 0, 0, 0, 0, 0, 0, 0, 0, 0, 0, 0, 0, 0, 0, 0, 0, 0, 0, 0, 0, 0, 0, 0, 0, 0, 0, 0, 0, 0, 0, 0, 0, 0, 0, 0, 0, 0, 0, 0, 0, 0, 0, 0, 0, 0, 0, 0, 0, 0, 0, 0, 0, 0, 0, 0, 0, 0, 0, 0, 0, 0, 0, 0, 0, 0, 0, 0, 0, 0, 0, 0, 0, 0, 0, 0, 0, 0, 0, 0, 0, 0, 0, 0, 0, 0, 0, 0, 0, 0, 0, 0, 0, 0, 0, 0, 0, 0, 0, 0, 0, 0, 0, 0, 0, 0, 0, 0, 0, 0, 0, 0, 0, 0, 0, 0, 0, 0, 0, 0, 0, 0, 0, 0, 0, 0, 0, 0, 0, 0, 0, 0, 0, 0, 0, 0, 0, 0, 0, 0, 0, 0, 0, 0, 0, 0, 0, 0, 0, 0, 0, 0, 0, 0, 0, 0, 0, 0, 0, 0, 0, 0, 0, 0, 0, 0, 0, 0, 0, 0, 0, 0, 0, 0, 0, 0, 0, 0, 0, 0, 0, 0, 0, 0, 0, 0, 0, 0, 0, 0, 0, 0, 0, 0, 0, 0, 0, 0, 0, 0, 0, 0, 0, 0, 0, 0, 0, 0, 0, 0, 0, 0, 0, 0, 0, 0, 0, 0, 0, 0, 0, 0, 0, 0, 0, 0, 0, 0, 0, 0, 0, 0, 0, 0, 0, 0, 0, 0, 0, 0, 0, 0, 0, 0, 0, 0, 0, 0, 0, 0, 0, 0, 0, 0, 0, 0, 0, 1, 0, 0, 0, 0, 0, 0, 0, 0, 0, 0, 0, 0, 0, 0, 0, 0, 0, 0, 0, 0, 0, 0, 0, 0, 0, 0, 0, 0, 0, 0, 0, 0, 0, 0, 0, 0, 0, 0, 0, 0, 0, 0, 0, 0, 0, 0, 0, 0, 0, 0, 0, 0, 0, 0, 0, 0, 0, 0, 0, 0, 0, 0, 0, 0, 0, 0, 0, 0, 0, 0, 0, 0, 0, 0, 1, 0, 0, 0, 0, 0, 0, 0, 0, 0, 0, 0, 0, 0, 0, 0, 0, 0, 0, 0, 0, 1, 0, 0, 1, 0, 0, 0, 0, 0, 0, 0, 0, 0, 0, 0, 0, 0, 0, 0, 0, 0, 0, 0, 0, 0, 0, 0, 0, 0, 0, 0, 0, 0, 0, 0, 0, 0, 0, 0, 0, 0, 0, 0, 0, 0, 0, 0, 0, 0, 0, 0, 0, 0, 0, 0, 0, 0, 0, 0, 0, 0, 0, 0, 0, 0, 0, 0, 0, 0, 0, 0, 0, 0, 0, 0, 0, 0, 0, 0, 0, 0, 0, 0, 0, 0, 0, 0, 0, 0, 0, 0, 0, 0, 0, 0, 0, 0, 0, 0, 0, 0, 0, 0, 0, 0, 0, 0, 0, 0, 0, 0, 0, 0, 0, 0, 0, 0, 0, 0, 0, 0, 0, 0, 0, 0, 0, 0, 0, 0, 0, 0, 0, 0, 0, 0, 0, 0, 0, 0, 0, 0, 0, 0, 0, 0, 0, 0, 0, 0, 0, 0, 0, 0, 0, 0, 0, 0, 0, 0, 0, 0, 0, 0, 0, 0, 0, 0, 0, 0, 0, 0, 0, 0, 0, 0, 0, 0, 0, 0, 0, 0, 0, 0, 0, 0, 0, 0, 0, 0, 0, 0, 0, 0, 0, 0, 0, 0, 0, 0, 0, 0, 0, 0, 0, 0, 0, 0, 0, 0, 0, 0, 0, 0, 0, 0, 0, 0, 0, 0, 0, 0, 0, 0, 0, 0, 0, 0, 0, 0, 0, 0, 0, 0, 0, 0, 0, 0, 0, 0, 0, 0, 0, 0, 0, 0, 0, 0, 0, 0, 0, 0, 0, 0, 0, 0, 0, 0, 0, 0, 0, 0, 0, 0, 0, 0, 0, 0, 0, 0, 0, 0, 0, 0, 0, 0, 0, 0, 0, 0, 0, 0, 0, 0, 0, 0, 0, 0, 0, 0, 0, 0, 0, 0, 0, 0, 0, 0, 0, 0, 0, 0, 0, 0, 0, 0, 0, 0, 0, 0, 0, 0, 0, 0, 0, 0, 0, 0, 0, 0, 0, 0, 0, 0, 0, 0, 0, 0, 0, 0, 0, 0, 0, 0, 0, 0, 0, 0, 0, 0, 0, 0, 0, 0, 0, 0, 0, 0, 0, 0, 0, 0, 0, 0, 0, 0, 0, 0, 0, 0, 0, 0, 0, 0, 0, 0, 0, 0, 0, 0, 0, 0, 0, 0, 0, 0, 0, 0, 0, 0, 0, 0, 0, 0, 0, 0, 0, 0, 0, 0, 0, 0, 0, 0, 0, 0, 0, 0, 0, 0, 0, 0, 0, 0, 0, 0, 0, 0, 0, 0, 0, 0, 0, 0, 0, 0, 0, 0, 0, 0, 0, 0, 0, 0, 0, 0, 0, 0, 0, 0, 0, 0, 0, 0, 0, 0, 0, 0, 0, 0, 0, 0, 0, 0, 0, 0, 0, 0, 0, 0, 0, 0, 0, 0, 0, 0, 0, 0, 0, 0, 0, 0, 0, 0, 0, 0, 0, 0, 0, 0, 0, 1, 0, 0, 0, 0, 0, 0, 0, 0, 0, 0, 0, 0, 0, 0, 0, 0, 0, 0, 0, 0, 0, 0, 0, 0, 0, 0, 0, 0, 0, 0, 0, 0, 0, 0, 0, 0, 0, 0, 0, 0, 0, 0, 0, 0, 0, 0, 0, 0, 0, 0, 0, 0, 0, 0, 0, 0, 0, 0, 0, 0, 0, 0, 0, 0, 0, 0, 0, 0, 0, 0, 0, 0, 0, 0, 0, 0, 0, 0, 0, 0, 0, 0, 0, 0, 0, 0, 0, 0, 0, 0, 0, 0, 0, 0, 0, 0, 0, 0, 0, 0, 0, 0, 0, 0, 0, 0, 0, 0, 0, 0, 0, 0, 0, 0, 0, 0, 0, 0, 0, 0, 0, 0, 0, 0, 0, 0, 0, 0, 0, 0, 0, 0, 0, 0, 0, 0, 0, 0, 0, 0, 0, 0, 0, 0, 0, 0, 0, 0, 0, 0, 0, 0, 0, 0, 0, 0, 0, 0, 0, 0, 0, 0, 0, 0, 0, 0, 0, 0, 0, 0, 0, 0, 0, 0, 0, 0, 0, 0, 0, 0, 0, 0, 0, 0, 0, 0, 0, 0, 0, 0, 0, 0, 0, 0, 0, 0, 0, 0, 0, 0, 0, 0, 0, 0, 0, 0, 0, 0, 0, 0, 0, 0, 0, 0, 0, 0, 0, 0, 0, 0, 0, 0, 0, 0, 0, 0, 0, 0, 0, 0, 0, 0, 0, 0, 0, 0, 0, 0, 0, 0, 0, 0, 0, 0, 0, 0, 0, 0, 0, 0, 0, 0, 0, 0, 0, 0, 0, 0, 0, 0, 0, 0, 0, 0, 0, 0, 0, 0, 0, 0, 0, 0, 0, 0, 0, 0, 0, 0, 0, 0, 0, 0, 0, 0, 0, 0, 0, 0, 0, 0, 0, 0, 0, 0, 0, 0, 0, 0, 0, 0, 0, 0, 0, 0, 0, 0, 0, 0, 0, 0, 0, 0, 0, 0, 0, 0, 0, 0, 0, 0, 0, 0, 0, 0, 0, 0, 0, 0, 0, 0, 0, 0, 0, 0, 0, 0, 0, 0, 0, 0, 0, 0, 0, 0, 0, 0, 0, 0, 0, 0, 0, 0, 0, 0, 0, 0, 0, 0, 0, 0, 0, 0, 0, 0, 0, 0, 0, 0, 0, 0, 0, 0, 0, 0, 0, 0, 0, 0, 0, 0, 0, 0, 0, 0, 0, 0, 0, 0, 0, 0, 0, 0, 0, 0, 0, 0, 0, 0, 0, 0, 0, 0, 0, 0, 0, 0, 0, 0, 0, 0, 0, 0, 0, 0, 0, 0, 0, 0, 0, 0, 0, 0, 0, 0, 0, 0, 0, 0, 0, 0, 0, 0, 0, 0, 0, 0, 0, 0, 0, 0, 0, 0, 0, 0, 0, 0, 0, 0, 0, 0, 0, 0, 0, 0, 0, 0, 0, 0, 0, 0, 0, 0, 0, 0, 0, 0, 0, 0, 0, 0, 0, 0, 0, 0, 0, 0, 0, 0, 0, 0, 0, 0, 0, 0, 0, 0, 0, 0, 0, 0, 0, 0, 0, 0, 0, 0, 0, 0, 0, 0, 0, 0, 0, 0, 0, 0, 0, 0, 0, 0, 0, 0, 1, 0, 0, 0, 0, 0, 0, 0, 0, 0, 0, 0, 0, 0, 0, 0, 0, 0, 0, 0, 0, 0, 0, 0, 0, 0, 0, 0, 0, 0, 0, 0, 0, 0, 0, 0, 2, 0, 0, 0, 0, 0, 0, 0, 0, 0, 0, 0, 0, 0, 0, 0, 0, 0, 0, 0, 0, 0, 0, 0, 0, 0, 0, 0, 0, 0, 0, 0, 0, 0, 0, 0, 0, 0, 0, 0, 0, 1, 0, 0, 0, 0, 0, 0, 0, 0, 0, 0, 0, 0, 0, 0, 0, 0, 0, 0, 0, 0, 0, 0, 0, 0, 0, 0, 0, 0, 0, 0, 0, 0, 0, 0, 0, 0, 0, 0, 0, 0, 0, 0, 0, 0, 0, 0, 0, 0, 0, 0, 0, 0, 0, 0, 0, 0, 0, 0, 0, 0, 0, 0, 0, 0, 0, 0, 0, 0, 0, 0, 0, 0, 0, 0, 0, 0, 0, 0, 0, 0, 0, 0, 0, 0, 0, 0, 0, 0, 0, 0, 0, 0, 0, 0, 0, 0, 0, 0, 0, 0, 0, 0, 0, 0, 0, 0, 0, 0, 0, 0, 0, 0, 0, 0, 0, 0, 0, 0, 0, 0, 0, 0, 0, 0, 0, 0, 0, 0, 0, 0, 0, 0, 0, 0, 0, 0, 0, 0, 0, 0, 0, 0, 0, 0, 0, 0, 0, 0, 0, 0, 0, 0, 0, 0, 0, 0, 0, 0, 0, 0, 0, 0, 0, 0, 0, 0, 0, 0, 0, 0, 0, 0, 0, 0, 0, 0, 0, 0, 0, 0, 0, 0, 0, 0, 0, 0, 0, 0, 0, 0, 0, 0, 0, 0, 0, 0, 0, 0, 0, 0, 0, 0, 0, 0, 0, 0, 0, 0, 0, 0, 0, 0, 0, 0, 0, 0, 0, 0, 0, 0, 0, 0, 0, 0, 0, 0, 0, 0, 0, 0, 0, 0, 0, 0, 0, 0, 0, 0, 0, 0, 0, 0, 0, 0, 0, 0, 0, 0, 0, 0, 0, 0, 0, 0, 0, 0, 0, 0, 0, 0, 0, 0, 0, 0, 0, 0, 0, 0, 0, 0, 0, 0, 0, 0, 0, 0, 0, 0, 0, 0, 0, 0, 0, 0, 0, 0, 0, 0, 0, 0, 0, 0, 0, 0, 0, 0, 0, 0, 0, 0, 0, 0, 0, 0, 0, 0, 0, 0, 0, 0, 0, 0, 0, 0, 0, 0, 0, 0, 0, 0, 0, 0, 0, 0, 0, 0, 0, 0, 0, 0, 0, 0, 0, 0, 0, 0, 0, 0, 0, 0, 0, 0, 0, 0, 0, 0, 0, 0, 0, 0, 0, 0, 0, 0, 0, 0, 0, 0, 0, 0, 0, 0, 0, 0, 0, 0, 0, 0, 0, 0, 0, 0, 0, 0, 0, 0, 0, 0, 0, 0, 0, 0, 0, 0, 0, 0, 0, 0, 0, 0, 0, 0, 0, 0, 0, 0, 0, 0, 0, 0, 0, 0, 0, 0, 0, 0, 0, 0, 0, 0, 0, 0, 0, 0, 0, 0, 0, 0, 0, 0, 0, 0, 0, 0, 0, 0, 0, 0, 0, 0, 0, 0, 0, 0, 0, 0, 0, 0, 0, 0, 0, 0, 0, 0, 0, 0, 0, 0, 0, 0, 0, 0, 0, 0, 0, 0, 0, 0, 0, 0, 0, 0, 0, 0, 0, 0, 0, 0, 0, 0, 0, 0, 0, 0, 0, 0, 0, 0, 0, 0, 0, 0, 0, 0, 0, 0, 0, 0, 0, 0, 0, 0, 0, 0, 0, 0, 0, 1, 0, 0, 0, 0, 0, 0, 0, 0, 0, 0, 0, 0, 0, 0, 0, 0, 0, 0, 0, 0, 0, 0, 0, 0, 0, 0, 0, 0, 0, 0, 0, 0, 0, 0, 0, 0, 0, 0, 0, 0, 0, 0, 0, 0, 0, 0, 0, 0, 0, 0, 0, 0, 0, 0, 0, 0, 0, 0, 0, 0, 0, 0, 0, 0, 0, 0, 0, 0, 0, 0, 0, 0, 0, 0, 0, 0, 0, 0, 0, 0, 0, 0, 0, 0, 0, 0, 0, 0, 0, 0, 0, 0, 0, 0, 0, 0, 0, 0, 0, 0, 0, 0, 0, 0, 0, 0, 0, 0, 0, 0, 2, 0, 0, 0, 0, 0, 0, 0, 0, 0, 0, 0, 0, 0, 0, 0, 0, 0, 0, 0, 0, 0, 0, 0, 0, 0, 0, 0, 0, 0, 0, 0, 0, 0, 0, 0, 0, 0, 0, 0, 0, 0, 0, 0, 0, 0, 0, 0, 0, 0, 0, 0, 0, 0, 0, 0, 0, 0, 0, 0, 0, 0, 0, 0, 0, 0, 0, 0, 0, 0, 0, 0, 0, 0, 0, 0, 0, 0, 0, 0, 0, 0, 0, 0, 0, 0, 0, 0, 0, 0, 0, 0, 0, 0, 0, 0, 0, 0, 0, 0, 0, 0, 0, 0, 0, 0, 0, 0, 0, 0, 0, 0, 0, 0, 0, 0, 0, 0, 0, 0, 0, 0, 0, 0, 0, 0, 0, 0, 0, 0, 0, 0, 0, 0, 0, 0, 0, 0, 0, 0, 0, 0, 0, 0, 0, 0, 0, 0, 0, 0, 0, 0, 0, 0, 0, 0, 0, 0, 0, 0, 0, 0, 0, 0, 0, 0, 0, 0, 0, 0, 0, 0, 0, 0, 0, 0, 0, 0, 0, 0, 0, 0, 0, 0, 0, 0, 0, 0, 0, 0, 0, 0, 0, 0, 0, 0, 0, 0, 0, 0, 0, 0, 0, 0, 0, 0, 0, 0, 0, 0, 0, 0, 0, 0, 0, 0, 0, 0, 0, 0, 0, 0, 0, 0, 0, 0, 0, 0, 0, 0, 0, 0, 0, 0, 0, 0, 0, 0, 0, 0, 0, 0, 0, 0, 0, 0, 0, 0, 0, 0, 0, 0, 0, 0, 0, 0, 0, 0, 0, 0, 0, 0, 0, 0, 0, 0, 0, 0, 0, 0, 0, 0, 0, 0, 0, 0, 0, 0, 0, 0, 0, 0, 0, 0, 0, 0, 0, 0, 0, 0, 0, 0, 0, 0, 0, 0, 0, 0, 0, 0, 0, 0, 0, 0, 0, 0, 0, 0, 0, 0, 0, 0, 0, 0, 0, 0, 0, 0, 0, 0, 0, 0, 0, 0, 0, 0, 0, 0, 0, 0, 0, 0, 0, 0, 0, 0, 0, 0, 0, 0, 0, 0, 0, 0, 0, 0, 0, 0, 0, 0, 0, 0, 0, 0, 0, 0, 0, 0, 0, 0, 0, 0, 0, 0, 0, 0, 0, 0, 0, 0, 0, 0, 0, 0, 0, 0, 0, 0, 0, 0, 0, 0, 0, 0, 0, 0, 0, 0, 0, 0, 0, 0, 0, 0, 0, 0, 0, 0, 0, 0, 0, 0, 0, 0, 0, 0, 0, 0, 0, 0, 0, 0, 0, 0, 0, 0, 0, 0, 0, 0, 0, 0, 0, 0, 0, 0, 0, 0, 0, 0, 0, 0, 0, 0, 0, 0, 0, 0, 0, 0, 0, 0, 0, 0, 0, 0, 0, 0, 0, 0, 0, 0, 0, 0, 0, 0, 0, 0, 0, 0, 0, 0, 0, 0, 0, 0, 0, 0, 0, 0, 0, 0, 0, 0, 0, 0, 0, 0, 0, 0, 0, 0, 0, 0, 0, 0, 0, 0, 0, 0, 0, 0, 0, 0, 0, 0, 0, 0, 0, 0, 0, 0, 0, 0, 0, 0, 0, 0, 0, 0, 0, 0, 0, 0, 0, 0, 0, 0, 0, 0, 0, 0, 0, 0, 0, 0, 0, 0, 0, 0, 0, 0, 0, 0, 0, 0, 0, 0, 0, 0, 0, 0, 0, 0, 0, 0, 0, 0, 0, 0, 0, 0, 0, 0, 0, 0, 0, 0, 0, 0, 0, 0, 0, 0, 0, 0, 0, 0, 0, 0, 0, 0, 0, 0, 0, 0, 0, 0, 0, 0, 0, 0, 0, 0, 0, 0, 0, 0, 0, 0, 0, 0, 0, 0, 0, 0, 0, 0, 0, 0, 0, 0, 0, 0, 0, 0, 0, 0, 0, 0, 0, 0, 0, 0, 0, 0, 0, 0, 0, 0, 0, 0, 0, 0, 0, 0, 0, 0, 0, 0, 0, 0, 0, 0, 0, 0, 0, 0, 0, 0, 0, 0, 0, 0, 0, 0, 0, 0, 0, 0, 0, 0, 0, 0, 0, 0, 0, 0, 0, 0, 0, 0, 0, 0, 0, 0, 0, 0, 0, 0, 0, 0, 0, 0, 0, 0, 0, 0, 0, 0, 0, 0, 0, 0, 0, 0, 0, 0, 0, 0, 0, 1, 0, 0, 0, 0, 0, 0, 0, 0, 0, 0, 0, 0, 0, 0, 0, 0, 0, 0, 0, 0, 0, 0, 0, 0, 0, 0, 0, 0, 0, 0, 0, 0, 0, 0, 0, 0, 0, 0, 0, 0, 0, 0, 0, 0, 0, 0, 0, 0, 0, 0, 0, 0, 0, 0, 0, 0, 0, 0, 0, 0, 0, 0, 0, 0, 0, 0, 0, 0, 0, 0, 0, 0, 0, 0, 0, 0, 0, 0, 0, 0, 0, 0, 0, 0, 0, 0, 0, 0, 0, 0, 0, 0, 0, 0, 0, 0, 0, 0, 0, 0, 0, 0, 0, 0, 0, 0, 0, 1, 0, 0, 0, 0, 0, 0, 0, 0, 0, 0, 0, 0, 0, 0, 0, 0, 0, 0, 0, 0, 0, 0, 0, 0, 0, 0, 0, 0, 0, 0, 0, 0, 0, 0, 0, 0, 0, 0, 0, 0, 0, 0, 0, 0, 0, 0, 0, 0, 0, 0, 0, 0, 0, 0, 0, 0, 0, 0, 0, 0, 0, 0, 0, 0, 0, 0, 0, 0, 0, 0, 0, 0, 0, 0, 0, 0, 0, 0, 0, 0, 0, 0, 0, 0, 0, 0, 0, 0, 0, 0, 0, 0, 0, 0, 0, 0, 0, 0, 0, 0, 0, 0, 0, 0, 0, 0, 0, 0, 0, 0, 0, 0, 0, 0, 0, 0, 0, 0, 0, 0, 0, 0, 0, 0, 0, 0, 0, 0, 0, 0, 0, 0, 0, 0, 0, 0, 0, 0, 0, 0, 0, 0, 0, 0, 0, 0, 0, 0, 0, 0, 0, 0, 0, 0, 0, 0, 0, 0, 0, 0, 0, 0, 0, 0, 0, 0, 0, 0, 0, 0, 0, 0, 0, 0, 0, 0, 0, 0, 0, 0, 0, 0, 0, 0, 0, 0, 0, 0, 0, 0, 0, 0, 0, 0, 0, 0, 0, 0, 0, 0, 0, 0, 0, 0, 0, 0, 0, 0, 0, 0, 0, 0, 0, 0, 0, 0, 0, 0, 0, 0, 0, 0, 0, 0, 0, 0, 0, 0, 0, 0, 0, 0, 0, 0, 0, 0, 0, 0, 0, 0, 0, 0, 0, 0, 0, 0, 0, 0, 0, 0, 0, 0, 0, 0, 0, 0, 0, 0, 0, 0, 0, 0, 0, 0, 0, 0, 0, 0, 0, 0, 0, 0, 0, 0, 0, 0, 0, 0, 0, 0, 0, 0, 0, 0, 0, 0, 0, 0, 0, 0, 0, 0, 0, 0, 0, 0, 0, 0, 0, 0, 0, 0, 0, 0, 0, 0, 0, 0, 0, 0, 0, 0, 0, 0, 0, 0, 0, 0, 0, 0, 0, 0, 0, 0, 0, 0, 0, 0, 0, 0, 0, 0, 0, 0, 0, 0, 0, 0, 0, 0, 0, 0, 0, 0, 0, 0, 0, 0, 0, 0, 0, 0, 0, 0, 0, 0, 0, 0, 0, 0, 0, 0, 0, 0, 0, 0, 0, 0, 0, 0, 0, 0, 0, 0, 0, 0, 0, 0, 0, 0, 0, 0, 0, 0, 0, 0, 0, 0, 0, 0, 0, 0, 0, 0, 0, 0, 0, 0, 0, 0, 0, 0, 0, 0, 0, 0, 0, 0, 0, 0, 0, 0, 0, 0, 0, 0, 0, 0, 0, 0, 0, 0, 0, 0, 0, 0, 0, 0, 0, 0, 0, 0, 0, 0, 0, 0, 0, 0, 0, 0, 0, 0, 0, 0, 0, 0, 0, 0, 0, 0, 0, 0, 0, 0, 0, 0, 0, 0, 0, 0, 0, 0, 0, 2, 0, 1, 0], type: <class 'list'>, valid types: <class 'bytes'>, <class 'bytearray'>, file-like object",
     "output_type": "error",
     "traceback": [
      "\u001b[0;31m---------------------------------------------------------------------------\u001b[0m",
      "\u001b[0;31mParamValidationError\u001b[0m                      Traceback (most recent call last)",
      "\u001b[0;32m<ipython-input-44-c9ab54ae3a48>\u001b[0m in \u001b[0;36m<module>\u001b[0;34m()\u001b[0m\n\u001b[1;32m      1\u001b[0m response = runtime.invoke_endpoint(EndpointName = xgb_predictor.endpoint, # The name of the endpoint we created\n\u001b[1;32m      2\u001b[0m                                        \u001b[0mContentType\u001b[0m \u001b[0;34m=\u001b[0m \u001b[0;34m'text/csv'\u001b[0m\u001b[0;34m,\u001b[0m                     \u001b[0;31m# The data format that is expected\u001b[0m\u001b[0;34m\u001b[0m\u001b[0m\n\u001b[0;32m----> 3\u001b[0;31m                                        Body = test_bow)\n\u001b[0m",
      "\u001b[0;32m~/anaconda3/envs/python3/lib/python3.6/site-packages/botocore/client.py\u001b[0m in \u001b[0;36m_api_call\u001b[0;34m(self, *args, **kwargs)\u001b[0m\n\u001b[1;32m    314\u001b[0m                     \"%s() only accepts keyword arguments.\" % py_operation_name)\n\u001b[1;32m    315\u001b[0m             \u001b[0;31m# The \"self\" in this scope is referring to the BaseClient.\u001b[0m\u001b[0;34m\u001b[0m\u001b[0;34m\u001b[0m\u001b[0m\n\u001b[0;32m--> 316\u001b[0;31m             \u001b[0;32mreturn\u001b[0m \u001b[0mself\u001b[0m\u001b[0;34m.\u001b[0m\u001b[0m_make_api_call\u001b[0m\u001b[0;34m(\u001b[0m\u001b[0moperation_name\u001b[0m\u001b[0;34m,\u001b[0m \u001b[0mkwargs\u001b[0m\u001b[0;34m)\u001b[0m\u001b[0;34m\u001b[0m\u001b[0m\n\u001b[0m\u001b[1;32m    317\u001b[0m \u001b[0;34m\u001b[0m\u001b[0m\n\u001b[1;32m    318\u001b[0m         \u001b[0m_api_call\u001b[0m\u001b[0;34m.\u001b[0m\u001b[0m__name__\u001b[0m \u001b[0;34m=\u001b[0m \u001b[0mstr\u001b[0m\u001b[0;34m(\u001b[0m\u001b[0mpy_operation_name\u001b[0m\u001b[0;34m)\u001b[0m\u001b[0;34m\u001b[0m\u001b[0m\n",
      "\u001b[0;32m~/anaconda3/envs/python3/lib/python3.6/site-packages/botocore/client.py\u001b[0m in \u001b[0;36m_make_api_call\u001b[0;34m(self, operation_name, api_params)\u001b[0m\n\u001b[1;32m    597\u001b[0m         }\n\u001b[1;32m    598\u001b[0m         request_dict = self._convert_to_request_dict(\n\u001b[0;32m--> 599\u001b[0;31m             api_params, operation_model, context=request_context)\n\u001b[0m\u001b[1;32m    600\u001b[0m \u001b[0;34m\u001b[0m\u001b[0m\n\u001b[1;32m    601\u001b[0m         \u001b[0mservice_id\u001b[0m \u001b[0;34m=\u001b[0m \u001b[0mself\u001b[0m\u001b[0;34m.\u001b[0m\u001b[0m_service_model\u001b[0m\u001b[0;34m.\u001b[0m\u001b[0mservice_id\u001b[0m\u001b[0;34m.\u001b[0m\u001b[0mhyphenize\u001b[0m\u001b[0;34m(\u001b[0m\u001b[0;34m)\u001b[0m\u001b[0;34m\u001b[0m\u001b[0m\n",
      "\u001b[0;32m~/anaconda3/envs/python3/lib/python3.6/site-packages/botocore/client.py\u001b[0m in \u001b[0;36m_convert_to_request_dict\u001b[0;34m(self, api_params, operation_model, context)\u001b[0m\n\u001b[1;32m    645\u001b[0m             api_params, operation_model, context)\n\u001b[1;32m    646\u001b[0m         request_dict = self._serializer.serialize_to_request(\n\u001b[0;32m--> 647\u001b[0;31m             api_params, operation_model)\n\u001b[0m\u001b[1;32m    648\u001b[0m         \u001b[0;32mif\u001b[0m \u001b[0;32mnot\u001b[0m \u001b[0mself\u001b[0m\u001b[0;34m.\u001b[0m\u001b[0m_client_config\u001b[0m\u001b[0;34m.\u001b[0m\u001b[0minject_host_prefix\u001b[0m\u001b[0;34m:\u001b[0m\u001b[0;34m\u001b[0m\u001b[0m\n\u001b[1;32m    649\u001b[0m             \u001b[0mrequest_dict\u001b[0m\u001b[0;34m.\u001b[0m\u001b[0mpop\u001b[0m\u001b[0;34m(\u001b[0m\u001b[0;34m'host_prefix'\u001b[0m\u001b[0;34m,\u001b[0m \u001b[0;32mNone\u001b[0m\u001b[0;34m)\u001b[0m\u001b[0;34m\u001b[0m\u001b[0m\n",
      "\u001b[0;32m~/anaconda3/envs/python3/lib/python3.6/site-packages/botocore/validate.py\u001b[0m in \u001b[0;36mserialize_to_request\u001b[0;34m(self, parameters, operation_model)\u001b[0m\n\u001b[1;32m    295\u001b[0m                                                     operation_model.input_shape)\n\u001b[1;32m    296\u001b[0m             \u001b[0;32mif\u001b[0m \u001b[0mreport\u001b[0m\u001b[0;34m.\u001b[0m\u001b[0mhas_errors\u001b[0m\u001b[0;34m(\u001b[0m\u001b[0;34m)\u001b[0m\u001b[0;34m:\u001b[0m\u001b[0;34m\u001b[0m\u001b[0m\n\u001b[0;32m--> 297\u001b[0;31m                 \u001b[0;32mraise\u001b[0m \u001b[0mParamValidationError\u001b[0m\u001b[0;34m(\u001b[0m\u001b[0mreport\u001b[0m\u001b[0;34m=\u001b[0m\u001b[0mreport\u001b[0m\u001b[0;34m.\u001b[0m\u001b[0mgenerate_report\u001b[0m\u001b[0;34m(\u001b[0m\u001b[0;34m)\u001b[0m\u001b[0;34m)\u001b[0m\u001b[0;34m\u001b[0m\u001b[0m\n\u001b[0m\u001b[1;32m    298\u001b[0m         return self._serializer.serialize_to_request(parameters,\n\u001b[1;32m    299\u001b[0m                                                      operation_model)\n",
      "\u001b[0;31mParamValidationError\u001b[0m: Parameter validation failed:\nInvalid type for parameter Body, value: [0, 0, 0, 0, 0, 0, 0, 0, 0, 0, 0, 0, 0, 0, 0, 0, 0, 0, 0, 0, 0, 0, 0, 0, 0, 0, 0, 0, 0, 0, 0, 0, 0, 0, 0, 0, 0, 0, 0, 0, 0, 0, 0, 0, 0, 0, 0, 0, 0, 0, 0, 0, 0, 0, 0, 0, 0, 0, 0, 0, 0, 0, 0, 0, 0, 0, 0, 0, 0, 0, 0, 0, 0, 0, 0, 0, 0, 0, 0, 0, 0, 0, 0, 0, 0, 0, 0, 0, 0, 0, 0, 0, 0, 0, 0, 0, 0, 0, 0, 0, 0, 0, 0, 0, 0, 0, 0, 0, 0, 0, 0, 0, 0, 0, 0, 0, 0, 0, 0, 0, 0, 0, 0, 0, 0, 0, 0, 0, 0, 0, 0, 0, 0, 0, 0, 0, 0, 0, 0, 0, 0, 0, 0, 0, 0, 0, 0, 0, 0, 0, 0, 0, 0, 0, 0, 0, 0, 0, 0, 0, 0, 0, 0, 0, 0, 0, 0, 0, 0, 0, 0, 0, 0, 0, 0, 0, 0, 0, 0, 0, 0, 0, 0, 0, 0, 0, 0, 0, 0, 0, 0, 0, 0, 0, 0, 0, 0, 0, 0, 0, 0, 0, 0, 0, 0, 0, 0, 0, 0, 0, 0, 0, 0, 0, 0, 0, 0, 0, 0, 0, 0, 0, 0, 0, 0, 0, 1, 0, 0, 0, 0, 0, 0, 0, 0, 0, 0, 0, 0, 0, 0, 0, 0, 0, 0, 0, 0, 0, 0, 0, 0, 0, 0, 0, 0, 0, 1, 0, 0, 0, 0, 0, 0, 0, 0, 0, 0, 0, 0, 0, 0, 0, 0, 0, 0, 0, 0, 0, 0, 0, 0, 0, 0, 0, 0, 0, 0, 0, 0, 0, 0, 0, 0, 0, 0, 0, 0, 0, 0, 0, 0, 0, 0, 0, 0, 0, 0, 0, 0, 0, 0, 0, 0, 0, 0, 0, 0, 0, 0, 0, 0, 0, 0, 0, 0, 0, 0, 0, 0, 0, 0, 0, 0, 0, 0, 0, 0, 0, 0, 0, 0, 0, 0, 0, 0, 0, 0, 0, 0, 0, 0, 0, 0, 0, 0, 0, 0, 0, 0, 0, 0, 0, 0, 0, 0, 0, 0, 0, 0, 0, 0, 0, 0, 0, 0, 0, 0, 0, 0, 0, 0, 0, 0, 0, 0, 0, 0, 0, 0, 0, 0, 0, 0, 0, 0, 0, 0, 0, 0, 0, 0, 0, 0, 0, 0, 0, 0, 0, 0, 0, 0, 0, 0, 0, 0, 0, 0, 0, 0, 0, 0, 0, 0, 0, 0, 0, 0, 0, 0, 0, 0, 0, 0, 0, 0, 0, 0, 0, 0, 0, 0, 0, 0, 0, 0, 0, 0, 0, 0, 0, 0, 0, 0, 0, 0, 0, 0, 0, 0, 0, 0, 0, 0, 0, 0, 0, 0, 0, 0, 0, 0, 0, 0, 0, 0, 0, 0, 0, 0, 0, 0, 0, 0, 0, 0, 0, 0, 0, 0, 0, 0, 0, 0, 0, 0, 0, 0, 0, 0, 0, 0, 0, 0, 0, 0, 0, 0, 0, 0, 0, 0, 0, 0, 0, 0, 0, 0, 0, 0, 0, 0, 0, 0, 0, 0, 0, 0, 0, 0, 0, 0, 0, 0, 0, 0, 0, 0, 0, 0, 0, 0, 0, 0, 0, 0, 0, 0, 0, 0, 0, 0, 0, 0, 0, 0, 0, 0, 0, 0, 0, 0, 0, 0, 0, 0, 0, 0, 0, 0, 0, 0, 0, 0, 0, 0, 0, 0, 0, 0, 0, 0, 0, 0, 0, 0, 0, 0, 0, 0, 0, 0, 0, 0, 0, 0, 0, 0, 0, 0, 0, 0, 0, 0, 0, 0, 0, 0, 0, 0, 0, 0, 0, 0, 0, 0, 0, 0, 0, 0, 0, 0, 0, 0, 0, 0, 0, 0, 0, 0, 0, 0, 0, 0, 0, 0, 0, 1, 0, 0, 0, 0, 0, 0, 0, 0, 0, 0, 0, 0, 0, 0, 0, 0, 0, 0, 0, 0, 0, 0, 0, 0, 0, 0, 0, 0, 0, 0, 0, 0, 0, 0, 0, 0, 0, 0, 0, 0, 0, 0, 0, 0, 0, 0, 0, 0, 0, 0, 0, 0, 0, 0, 0, 0, 0, 0, 0, 0, 0, 0, 0, 0, 0, 0, 0, 0, 0, 0, 0, 0, 0, 0, 0, 0, 0, 0, 0, 0, 0, 0, 0, 0, 0, 0, 0, 0, 0, 0, 0, 0, 0, 0, 0, 0, 0, 0, 0, 0, 0, 0, 0, 0, 0, 0, 0, 0, 0, 0, 0, 0, 0, 0, 0, 0, 0, 0, 0, 0, 0, 0, 0, 0, 0, 0, 0, 0, 0, 0, 0, 0, 0, 0, 0, 0, 0, 0, 0, 0, 0, 0, 0, 0, 0, 0, 0, 0, 0, 0, 0, 0, 0, 0, 0, 0, 0, 0, 0, 0, 0, 0, 0, 0, 0, 0, 0, 0, 0, 0, 0, 0, 0, 0, 0, 0, 0, 0, 0, 0, 0, 0, 0, 0, 0, 0, 0, 0, 0, 0, 0, 0, 0, 0, 0, 0, 0, 0, 0, 0, 0, 0, 0, 0, 0, 0, 0, 0, 0, 0, 0, 0, 0, 0, 0, 0, 0, 0, 0, 0, 0, 0, 0, 0, 0, 0, 0, 0, 0, 0, 0, 0, 0, 0, 0, 0, 0, 0, 0, 0, 0, 0, 0, 0, 0, 0, 0, 0, 0, 0, 0, 0, 0, 1, 0, 0, 0, 0, 0, 0, 0, 0, 0, 0, 0, 0, 0, 0, 0, 0, 0, 0, 0, 0, 0, 0, 0, 0, 0, 0, 0, 0, 0, 0, 0, 0, 0, 0, 0, 0, 0, 0, 0, 0, 0, 0, 0, 0, 0, 0, 0, 0, 0, 0, 0, 0, 0, 0, 0, 0, 0, 0, 0, 0, 0, 0, 0, 0, 0, 0, 0, 0, 0, 0, 0, 0, 0, 0, 0, 0, 0, 0, 0, 0, 0, 0, 0, 0, 0, 0, 1, 0, 0, 0, 0, 0, 0, 0, 0, 0, 0, 0, 0, 0, 0, 0, 0, 0, 0, 0, 0, 0, 0, 0, 0, 0, 0, 0, 0, 0, 0, 0, 0, 0, 0, 0, 0, 0, 0, 0, 0, 0, 0, 0, 0, 0, 0, 0, 0, 0, 0, 0, 0, 0, 0, 0, 0, 0, 0, 0, 0, 0, 0, 0, 0, 0, 0, 0, 0, 0, 0, 0, 0, 0, 0, 0, 0, 0, 0, 0, 0, 0, 0, 0, 0, 0, 0, 0, 0, 0, 0, 0, 0, 0, 0, 0, 0, 0, 0, 0, 0, 0, 0, 0, 0, 0, 0, 0, 0, 0, 0, 0, 0, 0, 0, 0, 0, 0, 0, 0, 0, 0, 0, 0, 0, 0, 0, 0, 0, 0, 0, 0, 0, 0, 0, 0, 0, 0, 0, 0, 0, 0, 0, 0, 0, 0, 0, 0, 0, 0, 0, 0, 0, 0, 0, 0, 0, 0, 0, 0, 0, 0, 0, 0, 0, 0, 0, 0, 0, 0, 0, 0, 0, 0, 0, 0, 0, 0, 0, 0, 0, 0, 0, 0, 0, 0, 0, 0, 0, 0, 0, 0, 0, 0, 0, 0, 0, 0, 0, 0, 0, 0, 0, 0, 0, 0, 0, 0, 0, 0, 0, 0, 0, 0, 0, 0, 0, 0, 0, 0, 0, 0, 0, 0, 0, 0, 0, 0, 0, 0, 0, 0, 0, 0, 0, 0, 0, 0, 0, 0, 0, 0, 0, 0, 0, 0, 0, 0, 0, 0, 0, 0, 0, 1, 0, 0, 0, 0, 0, 0, 0, 0, 0, 0, 0, 0, 0, 0, 0, 0, 0, 0, 0, 0, 0, 0, 0, 0, 0, 0, 0, 0, 0, 0, 0, 0, 0, 0, 0, 0, 0, 0, 0, 0, 0, 0, 0, 0, 0, 0, 0, 0, 0, 0, 0, 0, 0, 0, 0, 1, 0, 0, 0, 0, 0, 0, 0, 0, 0, 0, 0, 0, 0, 0, 0, 0, 0, 0, 0, 0, 0, 0, 0, 0, 0, 0, 0, 0, 0, 0, 0, 0, 0, 0, 0, 0, 0, 0, 0, 0, 0, 0, 0, 0, 0, 0, 0, 0, 0, 0, 0, 0, 0, 0, 0, 0, 0, 0, 0, 0, 0, 0, 0, 0, 0, 0, 0, 0, 0, 0, 0, 0, 0, 0, 0, 0, 0, 0, 0, 0, 0, 0, 0, 0, 0, 0, 0, 0, 0, 0, 0, 0, 0, 0, 0, 0, 0, 0, 0, 0, 0, 0, 0, 0, 0, 0, 0, 0, 0, 0, 0, 0, 0, 0, 0, 0, 0, 0, 0, 0, 0, 0, 0, 0, 0, 0, 0, 0, 0, 0, 0, 0, 0, 0, 0, 0, 0, 0, 0, 0, 0, 0, 0, 0, 0, 0, 0, 0, 0, 0, 0, 0, 0, 0, 0, 0, 0, 0, 0, 0, 0, 0, 0, 0, 0, 0, 0, 0, 0, 0, 0, 0, 0, 0, 0, 0, 0, 0, 0, 0, 0, 0, 0, 0, 0, 0, 0, 0, 0, 0, 0, 0, 0, 0, 0, 0, 0, 0, 0, 0, 0, 0, 0, 0, 0, 0, 0, 0, 0, 0, 0, 0, 0, 0, 0, 0, 0, 0, 0, 0, 0, 0, 0, 0, 0, 0, 0, 0, 0, 0, 0, 0, 0, 0, 0, 0, 0, 0, 0, 0, 0, 0, 0, 0, 0, 0, 0, 0, 0, 0, 0, 0, 0, 0, 0, 0, 0, 0, 0, 0, 0, 0, 0, 0, 0, 0, 0, 0, 0, 0, 0, 0, 0, 0, 0, 0, 0, 0, 0, 0, 0, 0, 0, 0, 0, 0, 0, 0, 0, 0, 0, 0, 0, 0, 0, 0, 0, 0, 0, 0, 0, 0, 0, 0, 0, 0, 0, 0, 0, 0, 0, 0, 0, 0, 0, 0, 0, 0, 0, 0, 0, 0, 0, 0, 0, 0, 0, 0, 0, 0, 0, 0, 0, 0, 0, 0, 0, 0, 0, 0, 0, 0, 0, 0, 0, 0, 0, 0, 0, 0, 0, 0, 0, 0, 0, 0, 0, 0, 0, 0, 0, 0, 0, 0, 0, 0, 0, 0, 0, 0, 0, 0, 0, 0, 0, 0, 0, 0, 0, 0, 0, 0, 0, 0, 0, 0, 0, 0, 0, 0, 0, 0, 0, 0, 0, 0, 0, 0, 0, 0, 0, 0, 0, 0, 0, 0, 0, 0, 0, 0, 0, 0, 0, 0, 0, 0, 0, 0, 0, 0, 0, 0, 0, 0, 0, 0, 0, 0, 0, 0, 0, 0, 0, 0, 0, 0, 0, 0, 0, 0, 0, 0, 0, 0, 0, 0, 0, 0, 0, 0, 0, 0, 0, 0, 0, 0, 0, 0, 0, 0, 0, 0, 0, 0, 0, 0, 0, 0, 0, 0, 0, 0, 0, 0, 0, 0, 0, 0, 0, 0, 0, 0, 0, 0, 0, 0, 0, 0, 0, 0, 0, 0, 0, 0, 0, 0, 0, 0, 0, 0, 0, 0, 0, 0, 0, 0, 0, 0, 0, 0, 0, 0, 0, 0, 0, 0, 0, 0, 0, 0, 0, 0, 0, 0, 0, 0, 0, 0, 0, 0, 0, 0, 0, 0, 0, 0, 0, 0, 0, 0, 0, 0, 0, 0, 0, 0, 0, 0, 0, 0, 0, 0, 0, 0, 0, 0, 0, 0, 0, 0, 0, 0, 0, 0, 0, 0, 0, 0, 0, 0, 0, 0, 0, 0, 0, 0, 0, 0, 0, 0, 0, 0, 0, 0, 0, 0, 0, 0, 0, 0, 0, 0, 0, 0, 0, 0, 0, 0, 0, 0, 0, 0, 0, 0, 0, 0, 0, 0, 0, 0, 0, 0, 0, 0, 0, 0, 0, 0, 0, 0, 0, 0, 0, 0, 0, 0, 0, 0, 0, 0, 0, 0, 0, 0, 0, 0, 0, 0, 0, 0, 0, 0, 0, 0, 0, 0, 0, 0, 0, 0, 0, 0, 0, 0, 0, 0, 0, 0, 0, 0, 0, 0, 0, 0, 0, 0, 0, 0, 0, 0, 0, 0, 0, 0, 0, 0, 0, 0, 0, 0, 0, 1, 0, 0, 0, 0, 0, 0, 0, 0, 0, 0, 0, 0, 0, 0, 0, 0, 0, 0, 0, 0, 0, 0, 0, 0, 0, 0, 0, 0, 0, 0, 0, 0, 0, 0, 0, 0, 0, 0, 0, 0, 0, 0, 0, 0, 0, 0, 0, 0, 0, 0, 0, 0, 0, 0, 0, 0, 0, 0, 0, 0, 0, 0, 0, 0, 0, 0, 0, 0, 0, 0, 0, 0, 0, 0, 1, 0, 0, 0, 0, 0, 0, 0, 0, 0, 0, 0, 0, 0, 0, 0, 0, 0, 0, 0, 0, 1, 0, 0, 1, 0, 0, 0, 0, 0, 0, 0, 0, 0, 0, 0, 0, 0, 0, 0, 0, 0, 0, 0, 0, 0, 0, 0, 0, 0, 0, 0, 0, 0, 0, 0, 0, 0, 0, 0, 0, 0, 0, 0, 0, 0, 0, 0, 0, 0, 0, 0, 0, 0, 0, 0, 0, 0, 0, 0, 0, 0, 0, 0, 0, 0, 0, 0, 0, 0, 0, 0, 0, 0, 0, 0, 0, 0, 0, 0, 0, 0, 0, 0, 0, 0, 0, 0, 0, 0, 0, 0, 0, 0, 0, 0, 0, 0, 0, 0, 0, 0, 0, 0, 0, 0, 0, 0, 0, 0, 0, 0, 0, 0, 0, 0, 0, 0, 0, 0, 0, 0, 0, 0, 0, 0, 0, 0, 0, 0, 0, 0, 0, 0, 0, 0, 0, 0, 0, 0, 0, 0, 0, 0, 0, 0, 0, 0, 0, 0, 0, 0, 0, 0, 0, 0, 0, 0, 0, 0, 0, 0, 0, 0, 0, 0, 0, 0, 0, 0, 0, 0, 0, 0, 0, 0, 0, 0, 0, 0, 0, 0, 0, 0, 0, 0, 0, 0, 0, 0, 0, 0, 0, 0, 0, 0, 0, 0, 0, 0, 0, 0, 0, 0, 0, 0, 0, 0, 0, 0, 0, 0, 0, 0, 0, 0, 0, 0, 0, 0, 0, 0, 0, 0, 0, 0, 0, 0, 0, 0, 0, 0, 0, 0, 0, 0, 0, 0, 0, 0, 0, 0, 0, 0, 0, 0, 0, 0, 0, 0, 0, 0, 0, 0, 0, 0, 0, 0, 0, 0, 0, 0, 0, 0, 0, 0, 0, 0, 0, 0, 0, 0, 0, 0, 0, 0, 0, 0, 0, 0, 0, 0, 0, 0, 0, 0, 0, 0, 0, 0, 0, 0, 0, 0, 0, 0, 0, 0, 0, 0, 0, 0, 0, 0, 0, 0, 0, 0, 0, 0, 0, 0, 0, 0, 0, 0, 0, 0, 0, 0, 0, 0, 0, 0, 0, 0, 0, 0, 0, 0, 0, 0, 0, 0, 0, 0, 0, 0, 0, 0, 0, 0, 0, 0, 0, 0, 0, 0, 0, 0, 0, 0, 0, 0, 0, 0, 0, 0, 0, 0, 0, 0, 0, 0, 0, 0, 0, 0, 0, 0, 0, 0, 0, 0, 0, 0, 0, 0, 0, 0, 0, 0, 0, 0, 0, 0, 0, 0, 0, 0, 0, 0, 0, 0, 0, 0, 0, 0, 0, 0, 0, 0, 0, 0, 0, 0, 0, 0, 0, 0, 0, 0, 0, 0, 0, 0, 0, 0, 0, 0, 0, 0, 0, 0, 0, 0, 0, 0, 0, 0, 0, 0, 0, 0, 0, 0, 0, 0, 0, 0, 0, 0, 0, 0, 0, 0, 0, 0, 0, 0, 0, 0, 0, 0, 0, 0, 0, 0, 0, 0, 0, 0, 0, 0, 0, 0, 0, 0, 0, 0, 0, 1, 0, 0, 0, 0, 0, 0, 0, 0, 0, 0, 0, 0, 0, 0, 0, 0, 0, 0, 0, 0, 0, 0, 0, 0, 0, 0, 0, 0, 0, 0, 0, 0, 0, 0, 0, 0, 0, 0, 0, 0, 0, 0, 0, 0, 0, 0, 0, 0, 0, 0, 0, 0, 0, 0, 0, 0, 0, 0, 0, 0, 0, 0, 0, 0, 0, 0, 0, 0, 0, 0, 0, 0, 0, 0, 0, 0, 0, 0, 0, 0, 0, 0, 0, 0, 0, 0, 0, 0, 0, 0, 0, 0, 0, 0, 0, 0, 0, 0, 0, 0, 0, 0, 0, 0, 0, 0, 0, 0, 0, 0, 0, 0, 0, 0, 0, 0, 0, 0, 0, 0, 0, 0, 0, 0, 0, 0, 0, 0, 0, 0, 0, 0, 0, 0, 0, 0, 0, 0, 0, 0, 0, 0, 0, 0, 0, 0, 0, 0, 0, 0, 0, 0, 0, 0, 0, 0, 0, 0, 0, 0, 0, 0, 0, 0, 0, 0, 0, 0, 0, 0, 0, 0, 0, 0, 0, 0, 0, 0, 0, 0, 0, 0, 0, 0, 0, 0, 0, 0, 0, 0, 0, 0, 0, 0, 0, 0, 0, 0, 0, 0, 0, 0, 0, 0, 0, 0, 0, 0, 0, 0, 0, 0, 0, 0, 0, 0, 0, 0, 0, 0, 0, 0, 0, 0, 0, 0, 0, 0, 0, 0, 0, 0, 0, 0, 0, 0, 0, 0, 0, 0, 0, 0, 0, 0, 0, 0, 0, 0, 0, 0, 0, 0, 0, 0, 0, 0, 0, 0, 0, 0, 0, 0, 0, 0, 0, 0, 0, 0, 0, 0, 0, 0, 0, 0, 0, 0, 0, 0, 0, 0, 0, 0, 0, 0, 0, 0, 0, 0, 0, 0, 0, 0, 0, 0, 0, 0, 0, 0, 0, 0, 0, 0, 0, 0, 0, 0, 0, 0, 0, 0, 0, 0, 0, 0, 0, 0, 0, 0, 0, 0, 0, 0, 0, 0, 0, 0, 0, 0, 0, 0, 0, 0, 0, 0, 0, 0, 0, 0, 0, 0, 0, 0, 0, 0, 0, 0, 0, 0, 0, 0, 0, 0, 0, 0, 0, 0, 0, 0, 0, 0, 0, 0, 0, 0, 0, 0, 0, 0, 0, 0, 0, 0, 0, 0, 0, 0, 0, 0, 0, 0, 0, 0, 0, 0, 0, 0, 0, 0, 0, 0, 0, 0, 0, 0, 0, 0, 0, 0, 0, 0, 0, 0, 0, 0, 0, 0, 0, 0, 0, 0, 0, 0, 0, 0, 0, 0, 0, 0, 0, 0, 0, 0, 0, 0, 0, 0, 0, 0, 0, 0, 0, 0, 0, 0, 0, 0, 0, 0, 0, 0, 0, 0, 0, 0, 0, 0, 0, 0, 0, 0, 0, 0, 0, 0, 0, 0, 0, 0, 0, 0, 0, 0, 0, 0, 0, 0, 0, 0, 0, 0, 0, 0, 0, 0, 0, 0, 0, 0, 0, 0, 0, 0, 0, 0, 0, 0, 0, 0, 0, 0, 0, 0, 0, 0, 0, 0, 0, 0, 0, 0, 0, 0, 0, 0, 0, 0, 0, 0, 0, 0, 0, 0, 1, 0, 0, 0, 0, 0, 0, 0, 0, 0, 0, 0, 0, 0, 0, 0, 0, 0, 0, 0, 0, 0, 0, 0, 0, 0, 0, 0, 0, 0, 0, 0, 0, 0, 0, 0, 2, 0, 0, 0, 0, 0, 0, 0, 0, 0, 0, 0, 0, 0, 0, 0, 0, 0, 0, 0, 0, 0, 0, 0, 0, 0, 0, 0, 0, 0, 0, 0, 0, 0, 0, 0, 0, 0, 0, 0, 0, 1, 0, 0, 0, 0, 0, 0, 0, 0, 0, 0, 0, 0, 0, 0, 0, 0, 0, 0, 0, 0, 0, 0, 0, 0, 0, 0, 0, 0, 0, 0, 0, 0, 0, 0, 0, 0, 0, 0, 0, 0, 0, 0, 0, 0, 0, 0, 0, 0, 0, 0, 0, 0, 0, 0, 0, 0, 0, 0, 0, 0, 0, 0, 0, 0, 0, 0, 0, 0, 0, 0, 0, 0, 0, 0, 0, 0, 0, 0, 0, 0, 0, 0, 0, 0, 0, 0, 0, 0, 0, 0, 0, 0, 0, 0, 0, 0, 0, 0, 0, 0, 0, 0, 0, 0, 0, 0, 0, 0, 0, 0, 0, 0, 0, 0, 0, 0, 0, 0, 0, 0, 0, 0, 0, 0, 0, 0, 0, 0, 0, 0, 0, 0, 0, 0, 0, 0, 0, 0, 0, 0, 0, 0, 0, 0, 0, 0, 0, 0, 0, 0, 0, 0, 0, 0, 0, 0, 0, 0, 0, 0, 0, 0, 0, 0, 0, 0, 0, 0, 0, 0, 0, 0, 0, 0, 0, 0, 0, 0, 0, 0, 0, 0, 0, 0, 0, 0, 0, 0, 0, 0, 0, 0, 0, 0, 0, 0, 0, 0, 0, 0, 0, 0, 0, 0, 0, 0, 0, 0, 0, 0, 0, 0, 0, 0, 0, 0, 0, 0, 0, 0, 0, 0, 0, 0, 0, 0, 0, 0, 0, 0, 0, 0, 0, 0, 0, 0, 0, 0, 0, 0, 0, 0, 0, 0, 0, 0, 0, 0, 0, 0, 0, 0, 0, 0, 0, 0, 0, 0, 0, 0, 0, 0, 0, 0, 0, 0, 0, 0, 0, 0, 0, 0, 0, 0, 0, 0, 0, 0, 0, 0, 0, 0, 0, 0, 0, 0, 0, 0, 0, 0, 0, 0, 0, 0, 0, 0, 0, 0, 0, 0, 0, 0, 0, 0, 0, 0, 0, 0, 0, 0, 0, 0, 0, 0, 0, 0, 0, 0, 0, 0, 0, 0, 0, 0, 0, 0, 0, 0, 0, 0, 0, 0, 0, 0, 0, 0, 0, 0, 0, 0, 0, 0, 0, 0, 0, 0, 0, 0, 0, 0, 0, 0, 0, 0, 0, 0, 0, 0, 0, 0, 0, 0, 0, 0, 0, 0, 0, 0, 0, 0, 0, 0, 0, 0, 0, 0, 0, 0, 0, 0, 0, 0, 0, 0, 0, 0, 0, 0, 0, 0, 0, 0, 0, 0, 0, 0, 0, 0, 0, 0, 0, 0, 0, 0, 0, 0, 0, 0, 0, 0, 0, 0, 0, 0, 0, 0, 0, 0, 0, 0, 0, 0, 0, 0, 0, 0, 0, 0, 0, 0, 0, 0, 0, 0, 0, 0, 0, 0, 0, 0, 0, 0, 0, 0, 0, 0, 0, 0, 0, 0, 0, 0, 0, 0, 0, 0, 0, 0, 0, 0, 0, 0, 0, 0, 0, 0, 0, 0, 0, 0, 0, 0, 0, 0, 0, 0, 0, 0, 0, 0, 0, 0, 0, 0, 0, 0, 0, 0, 0, 0, 0, 0, 0, 0, 0, 0, 0, 1, 0, 0, 0, 0, 0, 0, 0, 0, 0, 0, 0, 0, 0, 0, 0, 0, 0, 0, 0, 0, 0, 0, 0, 0, 0, 0, 0, 0, 0, 0, 0, 0, 0, 0, 0, 0, 0, 0, 0, 0, 0, 0, 0, 0, 0, 0, 0, 0, 0, 0, 0, 0, 0, 0, 0, 0, 0, 0, 0, 0, 0, 0, 0, 0, 0, 0, 0, 0, 0, 0, 0, 0, 0, 0, 0, 0, 0, 0, 0, 0, 0, 0, 0, 0, 0, 0, 0, 0, 0, 0, 0, 0, 0, 0, 0, 0, 0, 0, 0, 0, 0, 0, 0, 0, 0, 0, 0, 0, 0, 0, 2, 0, 0, 0, 0, 0, 0, 0, 0, 0, 0, 0, 0, 0, 0, 0, 0, 0, 0, 0, 0, 0, 0, 0, 0, 0, 0, 0, 0, 0, 0, 0, 0, 0, 0, 0, 0, 0, 0, 0, 0, 0, 0, 0, 0, 0, 0, 0, 0, 0, 0, 0, 0, 0, 0, 0, 0, 0, 0, 0, 0, 0, 0, 0, 0, 0, 0, 0, 0, 0, 0, 0, 0, 0, 0, 0, 0, 0, 0, 0, 0, 0, 0, 0, 0, 0, 0, 0, 0, 0, 0, 0, 0, 0, 0, 0, 0, 0, 0, 0, 0, 0, 0, 0, 0, 0, 0, 0, 0, 0, 0, 0, 0, 0, 0, 0, 0, 0, 0, 0, 0, 0, 0, 0, 0, 0, 0, 0, 0, 0, 0, 0, 0, 0, 0, 0, 0, 0, 0, 0, 0, 0, 0, 0, 0, 0, 0, 0, 0, 0, 0, 0, 0, 0, 0, 0, 0, 0, 0, 0, 0, 0, 0, 0, 0, 0, 0, 0, 0, 0, 0, 0, 0, 0, 0, 0, 0, 0, 0, 0, 0, 0, 0, 0, 0, 0, 0, 0, 0, 0, 0, 0, 0, 0, 0, 0, 0, 0, 0, 0, 0, 0, 0, 0, 0, 0, 0, 0, 0, 0, 0, 0, 0, 0, 0, 0, 0, 0, 0, 0, 0, 0, 0, 0, 0, 0, 0, 0, 0, 0, 0, 0, 0, 0, 0, 0, 0, 0, 0, 0, 0, 0, 0, 0, 0, 0, 0, 0, 0, 0, 0, 0, 0, 0, 0, 0, 0, 0, 0, 0, 0, 0, 0, 0, 0, 0, 0, 0, 0, 0, 0, 0, 0, 0, 0, 0, 0, 0, 0, 0, 0, 0, 0, 0, 0, 0, 0, 0, 0, 0, 0, 0, 0, 0, 0, 0, 0, 0, 0, 0, 0, 0, 0, 0, 0, 0, 0, 0, 0, 0, 0, 0, 0, 0, 0, 0, 0, 0, 0, 0, 0, 0, 0, 0, 0, 0, 0, 0, 0, 0, 0, 0, 0, 0, 0, 0, 0, 0, 0, 0, 0, 0, 0, 0, 0, 0, 0, 0, 0, 0, 0, 0, 0, 0, 0, 0, 0, 0, 0, 0, 0, 0, 0, 0, 0, 0, 0, 0, 0, 0, 0, 0, 0, 0, 0, 0, 0, 0, 0, 0, 0, 0, 0, 0, 0, 0, 0, 0, 0, 0, 0, 0, 0, 0, 0, 0, 0, 0, 0, 0, 0, 0, 0, 0, 0, 0, 0, 0, 0, 0, 0, 0, 0, 0, 0, 0, 0, 0, 0, 0, 0, 0, 0, 0, 0, 0, 0, 0, 0, 0, 0, 0, 0, 0, 0, 0, 0, 0, 0, 0, 0, 0, 0, 0, 0, 0, 0, 0, 0, 0, 0, 0, 0, 0, 0, 0, 0, 0, 0, 0, 0, 0, 0, 0, 0, 0, 0, 0, 0, 0, 0, 0, 0, 0, 0, 0, 0, 0, 0, 0, 0, 0, 0, 0, 0, 0, 0, 0, 0, 0, 0, 0, 0, 0, 0, 0, 0, 0, 0, 0, 0, 0, 0, 0, 0, 0, 0, 0, 0, 0, 0, 0, 0, 0, 0, 0, 0, 0, 0, 0, 0, 0, 0, 0, 0, 0, 0, 0, 0, 0, 0, 0, 0, 0, 0, 0, 0, 0, 0, 0, 0, 0, 0, 0, 0, 0, 0, 0, 0, 0, 0, 0, 0, 0, 0, 0, 0, 0, 0, 0, 0, 0, 0, 0, 0, 0, 0, 0, 0, 0, 0, 0, 0, 0, 0, 0, 0, 0, 0, 0, 0, 0, 0, 0, 0, 0, 0, 0, 0, 0, 0, 0, 0, 0, 0, 0, 0, 0, 0, 0, 0, 0, 0, 0, 0, 0, 0, 0, 0, 0, 0, 0, 0, 0, 0, 0, 0, 0, 0, 0, 0, 0, 0, 0, 0, 0, 0, 0, 0, 0, 0, 0, 0, 0, 0, 0, 0, 0, 0, 0, 0, 0, 0, 0, 0, 0, 0, 0, 0, 0, 0, 0, 0, 0, 0, 0, 0, 0, 0, 0, 0, 0, 0, 0, 0, 0, 0, 0, 0, 0, 0, 0, 0, 0, 0, 0, 0, 0, 0, 0, 0, 0, 0, 0, 0, 0, 0, 0, 0, 0, 0, 1, 0, 0, 0, 0, 0, 0, 0, 0, 0, 0, 0, 0, 0, 0, 0, 0, 0, 0, 0, 0, 0, 0, 0, 0, 0, 0, 0, 0, 0, 0, 0, 0, 0, 0, 0, 0, 0, 0, 0, 0, 0, 0, 0, 0, 0, 0, 0, 0, 0, 0, 0, 0, 0, 0, 0, 0, 0, 0, 0, 0, 0, 0, 0, 0, 0, 0, 0, 0, 0, 0, 0, 0, 0, 0, 0, 0, 0, 0, 0, 0, 0, 0, 0, 0, 0, 0, 0, 0, 0, 0, 0, 0, 0, 0, 0, 0, 0, 0, 0, 0, 0, 0, 0, 0, 0, 0, 0, 1, 0, 0, 0, 0, 0, 0, 0, 0, 0, 0, 0, 0, 0, 0, 0, 0, 0, 0, 0, 0, 0, 0, 0, 0, 0, 0, 0, 0, 0, 0, 0, 0, 0, 0, 0, 0, 0, 0, 0, 0, 0, 0, 0, 0, 0, 0, 0, 0, 0, 0, 0, 0, 0, 0, 0, 0, 0, 0, 0, 0, 0, 0, 0, 0, 0, 0, 0, 0, 0, 0, 0, 0, 0, 0, 0, 0, 0, 0, 0, 0, 0, 0, 0, 0, 0, 0, 0, 0, 0, 0, 0, 0, 0, 0, 0, 0, 0, 0, 0, 0, 0, 0, 0, 0, 0, 0, 0, 0, 0, 0, 0, 0, 0, 0, 0, 0, 0, 0, 0, 0, 0, 0, 0, 0, 0, 0, 0, 0, 0, 0, 0, 0, 0, 0, 0, 0, 0, 0, 0, 0, 0, 0, 0, 0, 0, 0, 0, 0, 0, 0, 0, 0, 0, 0, 0, 0, 0, 0, 0, 0, 0, 0, 0, 0, 0, 0, 0, 0, 0, 0, 0, 0, 0, 0, 0, 0, 0, 0, 0, 0, 0, 0, 0, 0, 0, 0, 0, 0, 0, 0, 0, 0, 0, 0, 0, 0, 0, 0, 0, 0, 0, 0, 0, 0, 0, 0, 0, 0, 0, 0, 0, 0, 0, 0, 0, 0, 0, 0, 0, 0, 0, 0, 0, 0, 0, 0, 0, 0, 0, 0, 0, 0, 0, 0, 0, 0, 0, 0, 0, 0, 0, 0, 0, 0, 0, 0, 0, 0, 0, 0, 0, 0, 0, 0, 0, 0, 0, 0, 0, 0, 0, 0, 0, 0, 0, 0, 0, 0, 0, 0, 0, 0, 0, 0, 0, 0, 0, 0, 0, 0, 0, 0, 0, 0, 0, 0, 0, 0, 0, 0, 0, 0, 0, 0, 0, 0, 0, 0, 0, 0, 0, 0, 0, 0, 0, 0, 0, 0, 0, 0, 0, 0, 0, 0, 0, 0, 0, 0, 0, 0, 0, 0, 0, 0, 0, 0, 0, 0, 0, 0, 0, 0, 0, 0, 0, 0, 0, 0, 0, 0, 0, 0, 0, 0, 0, 0, 0, 0, 0, 0, 0, 0, 0, 0, 0, 0, 0, 0, 0, 0, 0, 0, 0, 0, 0, 0, 0, 0, 0, 0, 0, 0, 0, 0, 0, 0, 0, 0, 0, 0, 0, 0, 0, 0, 0, 0, 0, 0, 0, 0, 0, 0, 0, 0, 0, 0, 0, 0, 0, 0, 0, 0, 0, 0, 0, 0, 0, 0, 0, 0, 0, 0, 0, 0, 0, 0, 0, 0, 0, 0, 0, 0, 0, 0, 0, 0, 0, 0, 0, 0, 0, 0, 0, 0, 0, 0, 0, 0, 0, 0, 0, 0, 0, 0, 0, 0, 0, 0, 0, 0, 0, 0, 0, 0, 0, 0, 0, 0, 0, 0, 0, 0, 0, 2, 0, 1, 0], type: <class 'list'>, valid types: <class 'bytes'>, <class 'bytearray'>, file-like object"
     ]
    }
   ],
   "source": [
    "response = runtime.invoke_endpoint(EndpointName = xgb_predictor.endpoint, # The name of the endpoint we created\n",
    "                                       ContentType = 'text/csv',                     # The data format that is expected\n",
    "                                       Body = test_bow)"
   ]
  },
  {
   "cell_type": "markdown",
   "metadata": {},
   "source": [
    "So why did we get an error?\n",
    "\n",
    "Because we tried to send the endpoint a list of integers but it expected us to send data of type `text/csv`. So, we need to convert it."
   ]
  },
  {
   "cell_type": "code",
   "execution_count": 45,
   "metadata": {},
   "outputs": [],
   "source": [
    "response = runtime.invoke_endpoint(EndpointName = xgb_predictor.endpoint, # The name of the endpoint we created\n",
    "                                       ContentType = 'text/csv',                     # The data format that is expected\n",
    "                                       Body = ','.join([str(val) for val in test_bow]).encode('utf-8'))"
   ]
  },
  {
   "cell_type": "code",
   "execution_count": 46,
   "metadata": {},
   "outputs": [
    {
     "name": "stdout",
     "output_type": "stream",
     "text": [
      "{'ResponseMetadata': {'RequestId': '4c16aa2e-d234-4588-9b61-48bea8fce2db', 'HTTPStatusCode': 200, 'HTTPHeaders': {'x-amzn-requestid': '4c16aa2e-d234-4588-9b61-48bea8fce2db', 'x-amzn-invoked-production-variant': 'AllTraffic', 'date': 'Fri, 22 May 2020 14:06:38 GMT', 'content-type': 'text/csv; charset=utf-8', 'content-length': '14'}, 'RetryAttempts': 0}, 'ContentType': 'text/csv; charset=utf-8', 'InvokedProductionVariant': 'AllTraffic', 'Body': <botocore.response.StreamingBody object at 0x7f88045f0080>}\n"
     ]
    }
   ],
   "source": [
    "print(response)"
   ]
  },
  {
   "cell_type": "markdown",
   "metadata": {},
   "source": [
    "As we can see, the response from our model is a somewhat complicated looking dict that contains a bunch of information. The bit that we are most interested in is `'Body'` object which is a streaming object that we need to `read` in order to make use of."
   ]
  },
  {
   "cell_type": "code",
   "execution_count": 47,
   "metadata": {},
   "outputs": [
    {
     "name": "stdout",
     "output_type": "stream",
     "text": [
      "0.472283393145\n"
     ]
    }
   ],
   "source": [
    "response = response['Body'].read().decode('utf-8')\n",
    "print(response)"
   ]
  },
  {
   "cell_type": "markdown",
   "metadata": {},
   "source": [
    "Now that we know how to process the incoming user data we can start setting up the infrastructure to make our simple web app work. To do this we will make use of two different services. Amazon's Lambda and API Gateway services.\n",
    "\n",
    "Lambda is a service which allows someone to write some relatively simple code and have it executed whenever a chosen trigger occurs. For example, you may want to update a database whenever new data is uploaded to a folder stored on S3.\n",
    "\n",
    "API Gateway is a service that allows you to create HTTP endpoints (url addresses) which are connected to other AWS services. One of the benefits to this is that you get to decide what credentials, if any, are required to access these endpoints.\n",
    "\n",
    "In our case we are going to set up an HTTP endpoint through API Gateway which is open to the public. Then, whenever anyone sends data to our public endpoint we will trigger a Lambda function which will send the input (in our case a review) to our model's endpoint and then return the result."
   ]
  },
  {
   "cell_type": "markdown",
   "metadata": {},
   "source": [
    "### Setting up a Lambda function\n",
    "\n",
    "The first thing we are going to do is set up a Lambda function. This Lambda function will be executed whenever our public API has data sent to it. When it is executed it will receive the data, perform any sort of processing that is required, send the data (the review) to the SageMaker endpoint we've created and then return the result.\n",
    "\n",
    "#### Part A: Create an IAM Role for the Lambda function\n",
    "\n",
    "Since we want the Lambda function to call a SageMaker endpoint, we need to make sure that it has permission to do so. To do this, we will construct a role that we can later give the Lambda function.\n",
    "\n",
    "Using the AWS Console, navigate to the **IAM** page and click on **Roles**. Then, click on **Create role**. Make sure that the **AWS service** is the type of trusted entity selected and choose **Lambda** as the service that will use this role, then click **Next: Permissions**.\n",
    "\n",
    "In the search box type `sagemaker` and select the check box next to the **AmazonSageMakerFullAccess** policy. Then, click on **Next: Review**.\n",
    "\n",
    "Lastly, give this role a name. Make sure you use a name that you will remember later on, for example `LambdaSageMakerRole`. Then, click on **Create role**."
   ]
  },
  {
   "cell_type": "markdown",
   "metadata": {},
   "source": [
    "#### Part B: Create a Lambda function\n",
    "\n",
    "Now it is time to actually create the Lambda function. Remember from earlier that in order to process the user provided input and send it to our endpoint we need to gather two pieces of information:\n",
    "\n",
    " - The name of the endpoint, and\n",
    " - the vocabulary object.\n",
    "\n",
    "We will copy these pieces of information to our Lambda function after we create it.\n",
    "\n",
    "To start, using the AWS Console, navigate to the AWS Lambda page and click on **Create a function**. When you get to the next page, make sure that **Author from scratch** is selected. Now, name your Lambda function, using a name that you will remember later on, for example `sentiment_analysis_xgboost_func`. Make sure that the **Python 3.6** runtime is selected and then choose the role that you created in the previous part. Then, click on **Create Function**.\n",
    "\n",
    "On the next page you will see some information about the Lambda function you've just created. If you scroll down you should see an editor in which you can write the code that will be executed when your Lambda function is triggered. Collecting the code we wrote above to process a single review and adding it to the provided example `lambda_handler` we arrive at the following.\n",
    "\n",
    "```python\n",
    "# We need to use the low-level library to interact with SageMaker since the SageMaker API\n",
    "# is not available natively through Lambda.\n",
    "import boto3\n",
    "\n",
    "# And we need the regular expression library to do some of the data processing\n",
    "import re\n",
    "\n",
    "REPLACE_NO_SPACE = re.compile(\"(\\.)|(\\;)|(\\:)|(\\!)|(\\')|(\\?)|(\\,)|(\\\")|(\\()|(\\))|(\\[)|(\\])\")\n",
    "REPLACE_WITH_SPACE = re.compile(\"(<br\\s*/><br\\s*/>)|(\\-)|(\\/)\")\n",
    "\n",
    "def review_to_words(review):\n",
    "    words = REPLACE_NO_SPACE.sub(\"\", review.lower())\n",
    "    words = REPLACE_WITH_SPACE.sub(\" \", words)\n",
    "    return words\n",
    "    \n",
    "def bow_encoding(words, vocabulary):\n",
    "    bow = [0] * len(vocabulary) # Start by setting the count for each word in the vocabulary to zero.\n",
    "    for word in words.split():  # For each word in the string\n",
    "        if word in vocabulary:  # If the word is one that occurs in the vocabulary, increase its count.\n",
    "            bow[vocabulary[word]] += 1\n",
    "    return bow\n",
    "\n",
    "\n",
    "def lambda_handler(event, context):\n",
    "    \n",
    "    vocab = \"*** ACTUAL VOCABULARY GOES HERE ***\"\n",
    "    \n",
    "    words = review_to_words(event['body'])\n",
    "    bow = bow_encoding(words, vocab)\n",
    "\n",
    "    # The SageMaker runtime is what allows us to invoke the endpoint that we've created.\n",
    "    runtime = boto3.Session().client('sagemaker-runtime')\n",
    "\n",
    "    # Now we use the SageMaker runtime to invoke our endpoint, sending the review we were given\n",
    "    response = runtime.invoke_endpoint(EndpointName = '***ENDPOINT NAME HERE***',# The name of the endpoint we created\n",
    "                                       ContentType = 'text/csv',                 # The data format that is expected\n",
    "                                       Body = ','.join([str(val) for val in bow]).encode('utf-8')) # The actual review\n",
    "\n",
    "    # The response is an HTTP response whose body contains the result of our inference\n",
    "    result = response['Body'].read().decode('utf-8')\n",
    "    \n",
    "    # Round the result so that our web app only gets '1' or '0' as a response.\n",
    "    result = round(float(result))\n",
    "\n",
    "    return {\n",
    "        'statusCode' : 200,\n",
    "        'headers' : { 'Content-Type' : 'text/plain', 'Access-Control-Allow-Origin' : '*' },\n",
    "        'body' : str(result)\n",
    "    }\n",
    "```"
   ]
  },
  {
   "cell_type": "markdown",
   "metadata": {},
   "source": [
    "Once you have copy and pasted the code above into the Lambda code editor, replace the `**ENDPOINT NAME HERE**` portion with the name of the endpoint that we deployed earlier. You can determine the name of the endpoint using the code cell below."
   ]
  },
  {
   "cell_type": "code",
   "execution_count": 48,
   "metadata": {},
   "outputs": [
    {
     "data": {
      "text/plain": [
       "'xgboost-2020-05-22-13-26-06-952'"
      ]
     },
     "execution_count": 48,
     "metadata": {},
     "output_type": "execute_result"
    }
   ],
   "source": [
    "xgb_predictor.endpoint"
   ]
  },
  {
   "cell_type": "markdown",
   "metadata": {},
   "source": [
    "In addition, you will need to copy the vocabulary dict to the appropriate place in the code at the beginning of the `lambda_handler` method. The cell below prints out the vocabulary dict in a way that is easy to copy and paste."
   ]
  },
  {
   "cell_type": "code",
   "execution_count": 49,
   "metadata": {},
   "outputs": [
    {
     "name": "stdout",
     "output_type": "stream",
     "text": [
      "{'it': 2366, 'was': 4805, 'in': 2257, 'when': 4862, 'saw': 3798, 'the': 4426, 'and': 226, 'nancy': 2964, 'show': 3953, 'for': 1784, 'first': 1736, 'time': 4495, 'on': 3105, 'television': 4394, 'at': 331, 'that': 4424, 'already': 197, 'very': 4723, 'big': 478, 'fan': 1648, 'of': 3083, 'image': 2233, 'since': 3990, 'won': 4925, 'rose': 3739, 'film': 1716, 'festival': 1697, 'course': 1019, 'recorded': 3574, 'every': 1539, 'tape': 4365, 'watched': 4813, 'again': 146, 'especially': 1520, 'remember': 3616, 'scene': 3809, 'stood': 4199, 'front': 1841, 'painting': 3175, 'abraham': 69, 'lincoln': 2608, 'thinking': 4453, 'mirror': 2861, 'said': 3774, 'to': 4507, 'himself': 2111, 'need': 2987, 'or': 3124, 'most': 2909, 'amusing': 221, 'all': 187, 'he': 2056, 'played': 3297, 'ball': 388, 'with': 4911, 'his': 2118, 'dog': 1310, 'but': 636, 'vice': 4727, 'its': 2370, 'such': 4268, 'shame': 3918, 'seems': 3864, 'fall': 1637, 'into': 2332, 'one': 3107, 'fantastic': 1651, 'intelligent': 2314, 'made': 2697, 'tv': 4610, 'shows': 3960, 'ever': 1538, 'compared': 912, 'other': 3135, 'definitely': 1162, 'best': 469, 'well': 4843, 'almost': 193, '20': 29, 'years': 4979, 'have': 2052, 'passed': 3202, 'then': 4436, 'wish': 4904, 'could': 1007, 'see': 3855, 'is': 2360, 'possible': 3350, 'purchase': 3469, 'from': 1840, 'someone': 4064, 'somewhere': 4069, 'really': 3556, 'liked': 2600, 'batman': 413, 'dead': 1132, 'end': 1468, 'thought': 4462, 'had': 2003, 'theatrical': 4430, 'feel': 1684, 'given': 1913, 'chance': 747, 'make': 2713, 'fine': 1729, 'this': 4457, 'trailer': 4554, 'didnt': 1242, 'quite': 3495, 'give': 1912, 'me': 2778, 'same': 3778, 'impression': 2252, 'story': 4207, 'line': 2610, 'potential': 3355, 'good': 1937, 'due': 1382, 'acting': 99, 'special': 4097, 'effects': 1431, 'left': 2561, 'feeling': 1685, 'like': 2599, 'would': 4957, 'movie': 2926, 'michael': 2829, 'not': 3040, 'superman': 4301, 'actually': 109, 'brief': 579, 'appearance': 274, 'decent': 1147, 'clark': 832, 'sorry': 4076, 'just': 2437, 'dont': 1324, 'think': 4452, 'as': 311, 'being': 448, 'buff': 611, 'suit': 4284, 'wore': 4939, 'size': 4012, 'may': 2775, 'body': 527, 'no': 3020, 'doubt': 1332, 'anyway': 261, 'care': 684, 'transformation': 4560, 'seemed': 3862, 'now': 3054, 'be': 418, 'fault': 1668, 'take': 4349, 'some': 4061, 'credit': 1049, 'poor': 3328, 'direction': 1261, 'second': 3846, 'flying': 1764, 'were': 4848, 'flies': 1756, 'through': 4477, 'sky': 4017, 'if': 2222, 'obvious': 3071, 'close': 853, 'ground': 1979, 'buildings': 616, 'visible': 4753, 'above': 68, 'him': 2110, 'there': 4438, 'any': 256, 'full': 1846, 'shots': 3950, 'supporting': 4304, 'must': 2950, 'been': 438, 'lower': 2677, 'id': 2212, 'probably': 3407, 'pay': 3216, 'sure': 4308, 'catch': 714, 'an': 223, 'between': 475, 'wayne': 4821, 'jealous': 2388, 'attraction': 350, 'beat': 423, 'forces': 1788, 'im': 2232, 'larger': 2519, 'budget': 610, 'company': 910, 'even': 1533, 'deliver': 1169, 'certainly': 738, 'better': 472, 'than': 4420, 'comic': 893, 'based': 404, 'crap': 1031, 'coming': 896, 'out': 3141, 'hollywood': 2137, 'lately': 2524, 'worst': 4952, 'movies': 2927, 'ive': 2372, 'seen': 3865, 'much': 2934, 'more': 2904, 'worse': 4951, 'funny': 1852, 'ridiculous': 3693, 'scary': 3807, 'laughed': 2532, 'low': 2676, 'quality': 3484, 'you': 4986, 'gonna': 1936, 'watch': 4811, 'youll': 4988, 'understand': 4643, 'what': 4858, 'talking': 4360, 'about': 67, 'how': 2181, 'bad': 382, 'actors': 104, 'hear': 2061, 'them': 4432, 'shot': 3949, 'by': 642, 'amateur': 206, 'so': 4046, 'looks': 2649, 'least': 2554, 'till': 4493, 'comedies': 889, 'wanna': 4786, 'horror': 2168, 'go': 1924, 'legend': 2564, 'know': 2489, 'can': 665, 'genre': 1888, 'rate': 3526, '10': 0, 'writer': 4968, 'director': 1264, 'peter': 3247, 'title': 4504, 'high': 2100, 'lord': 2652, 'art': 304, 'house': 2178, 'latest': 2526, 'exercise': 1568, 'obnoxious': 3067, 'self': 3869, 'women': 4923, 'follows': 1775, 'wealthy': 4827, 'son': 4070, 'their': 4431, 'quest': 3486, 'sexual': 3908, 'they': 4442, 'guess': 1989, 'many': 2732, 'personal': 3240, 'collection': 874, 'way': 4820, 'premise': 3370, 'offensive': 3086, 'chances': 748, 'are': 285, 'done': 1322, 'female': 1693, 'characters': 760, 'little': 2624, 'two': 4620, 'protagonists': 3442, 'theres': 4440, 'obsessed': 3069, 'pregnant': 3369, 'whos': 4876, 'got': 1944, 'thing': 4450, 'farm': 1656, 'animals': 240, 'has': 2043, 'legs': 2566, 'uses': 4697, 'shes': 3930, 'half': 2007, 'woman': 4921, 'get': 1899, 'isnt': 2362, 'goes': 1930, 'anything': 260, 'everything': 1544, 'having': 2054, 'do': 1302, 'japan': 2381, 'themes': 4434, 'worthy': 4956, 'less': 2575, '1996': 26, 'book': 535, 'where': 4864, 'erotic': 1515, 'gets': 1900, 'work': 4940, 'arrogant': 303, 'only': 3110, 'person': 3238, 'likely': 2601, 'enjoy': 1484, 'watching': 4815, 'comment': 898, 'flaws': 1752, 'am': 204, 'professional': 3421, 'critic': 1061, 'enough': 1491, 'knowledge': 2491, 'making': 2718, 'kind': 2476, 'your': 4991, 'achievement': 94, 'however': 2183, 'reviews': 3679, 'read': 3543, 'critics': 1064, 'relationship': 3597, 'brothers': 599, 'completely': 922, 'raise': 3507, 'point': 3316, 'here': 2086, 'name': 2960, 'suggests': 4282, 'gandhi': 1866, 'nothing': 3047, 'we': 4823, 'start': 4156, 'kept': 2456, 'action': 100, 'bit': 488, 'because': 432, 'these': 4441, 'fit': 1740, 'picture': 3269, 'matter': 2769, 'relevant': 3604, 'real': 3547, 'life': 2592, 'stick': 4185, 'main': 2707, 'idea': 2213, 'stop': 4201, 'satisfy': 3790, 'ourselves': 3140, 'seeing': 3857, 'once': 3106, 'rather': 3528, 'young': 4989, 'trying': 4601, 'say': 3799, 'called': 652, 'killer': 2470, 'tomatoes': 4515, 'should': 3951, 'memorable': 2802, 'things': 4451, 'song': 4071, 'elderly': 1440, 'couple': 1016, 'scenes': 3811, 'rolling': 3730, 'around': 297, 'people': 3221, 'scared': 3805, 'overacting': 3149, 'type': 4621, 'silly': 3976, 'catchy': 717, 'theme': 4433, 'comedy': 890, 'granted': 1957, 'supposed': 4306, 'taken': 4350, 'seriously': 3892, 'still': 4188, 'jokes': 2415, 'try': 4600, 'mildly': 2840, 'perhaps': 3235, 'short': 3946, 'showing': 3958, 'mentioned': 2811, 'man': 2721, 'desperately': 1209, 'gun': 1996, 'down': 1335, 'pretty': 3384, 'itself': 2371, 'looked': 2647, 'indeed': 2271, 'weak': 4824, 'put': 3480, 'top': 4525, 'my': 2951, 'list': 2617, 'films': 1721, 'category': 718, 'unwatchable': 4682, 'trash': 4565, 'ones': 3108, 'suppose': 4305, 'sex': 3907, 'sequences': 3888, 'shocking': 3940, 'day': 1129, 'couldnt': 1008, 'rabbit': 3498, 'controversial': 978, 'politics': 3326, 'strictly': 4223, 'school': 3813, 'night': 3013, 'sense': 3877, 'term': 4405, 'photography': 3260, 'harsh': 2040, 'black': 493, 'white': 4870, 'focus': 1766, 'wrong': 4973, 'angle': 236, 'sound': 4081, 'call': 651, 'obviously': 3072, 'cinematography': 820, 'nice': 3008, 'pacing': 3163, 'editing': 1421, 'directing': 1260, 'too': 4522, 'why': 4878, 'oh': 3096, 'hire': 2116, 'final': 1722, 'script': 3834, 'damn': 1100, 'cheesy': 781, 'did': 1241, 'lousy': 2667, 'cant': 671, 'act': 97, 'paper': 3183, 'bag': 384, 'times': 4497, 'feels': 1687, 'realize': 3552, 'production': 3419, 'come': 886, 'reason': 3557, 'futuristic': 1857, 'vision': 4754, 'hell': 2077, 'total': 4531, 'recall': 3562, 'released': 3603, 'few': 1700, 'later': 2525, 'job': 2405, 'orange': 3125, '70s': 56, 'world': 4946, 'bleak': 503, 'german': 1896, 'footage': 1782, 'screens': 3832, 'approach': 282, '1984': 23, 'character': 758, 'writing': 4971, 'yet': 4984, 'works': 4945, 'oil': 3097, 'decides': 1150, 'set': 3898, 'design': 1202, 'atmosphere': 333, 'novel': 3052, 'necessarily': 2983, 'communist': 907, 'humble': 2191, 'worker': 4942, 'needs': 2990, 'adapted': 114, 'modern': 2882, 'context': 968, 'today': 4508, 'before': 440, 'minutes': 2859, 'soundtrack': 4085, 'annoying': 249, 'lack': 2502, 'realism': 3549, 'exactly': 1551, 'required': 3641, 'hammer': 2014, 'novels': 3053, 'messages': 2820, 'viewer': 4738, 'admit': 122, 'who': 4871, 'relatively': 3600, 'information': 2288, 'determined': 1221, 'going': 1931, 'cheap': 774, 'spin': 4112, 'off': 3084, 'moore': 2901, 'pilot': 3276, 'leaves': 2556, 'excellent': 1555, 'upon': 4684, 'viewers': 4739, 'marvelous': 2750, 'will': 4886, 'find': 1726, 'themselves': 4435, 'plot': 3309, 'which': 4867, 'focused': 1767, 'development': 1225, 'war': 4792, 'events': 1536, 'also': 199, 'allows': 192, 'clearly': 840, 'ideas': 2215, 'part': 3193, 'episode': 1507, 'mistaken': 2872, 'presented': 3376, 'drama': 1346, 'daring': 1114, 'casting': 711, 'standards': 4145, 'simply': 3986, 'portrayal': 3341, 'joseph': 2419, 'inspired': 2301, 'william': 4887, 'gives': 1914, 'wonderful': 4928, 'glimpse': 1919, 'williams': 4888, 'heroic': 2090, 'father': 1666, 'dr': 1340, 'lot': 2661, 'questions': 3489, 'whats': 4860, 'creative': 1041, 'team': 4378, 'continue': 969, 'another': 250, 'created': 1037, 'masterpiece': 2759, 'deserves': 1201, 'love': 2669, 'takes': 4351, 'cake': 648, 'originality': 3130, 'yes': 4982, 'scarecrow': 3804, 'kung': 2498, 'fu': 1844, 'fighting': 1709, 'else': 1448, 'willing': 4889, 'far': 1653, 'havent': 2053, 'fun': 1848, 'town': 4541, 'picks': 3268, 'kid': 2464, 'calling': 653, 'mom': 2885, 'doesnt': 1309, 'killed': 2469, 'spirit': 4113, 'killing': 2472, 'easy': 1410, 'assume': 328, 'straight': 4210, 'bunch': 623, 'directors': 1266, 'towards': 4540, 'struck': 4232, 'cool': 989, 'folks': 1771, 'over': 3148, 'arnold': 296, 'rip': 3700, 'liners': 2611, 'laugh': 2529, 'kills': 2474, 'sheriff': 3929, 'grab': 1949, 'friends': 1837, 'hardly': 2036, 'believe': 454, 'last': 2521, 'after': 143, '25': 40, 'back': 378, 'row': 3744, 'karloff': 2445, 'chris': 806, 'lees': 2560, 'both': 547, 'directed': 1259, 'use': 4692, 'word': 4937, 'loosely': 2651, 'franco': 1820, 'ways': 4822, 'never': 3001, 'piece': 3272, 'thats': 4425, 'looking': 2648, 'great': 1964, 'sets': 3899, 'costumes': 1006, 'music': 2946, 'mostly': 2910, 'cast': 710, 'absolutely': 72, 'scripts': 3836, 'history': 2121, 'minute': 2858, 'might': 2835, 'mistake': 2871, 'singing': 3995, 'happy': 2032, 'birthday': 487, 'downhill': 1336, 'burt': 629, 'whom': 4875, 'master': 2757, 'says': 3801, 'face': 1616, 'familiar': 1643, 'accidentally': 85, 'fire': 1734, 'resulting': 3661, 'torture': 4529, 'ears': 1402, 'cut': 1089, 'closest': 857, 'decided': 1149, 'wanted': 4789, 'campy': 664, 'aint': 163, 'sad': 3767, 'clear': 839, 'research': 3644, 'series': 3890, 'order': 3126, 'right': 3696, 'different': 1248, 'either': 1438, 'serious': 3891, 'classic': 835, 'hands': 2020, 'forget': 1793, 'those': 4460, 'instead': 2307, 'want': 4788, 'dig': 1250, 'masterpieces': 2760, 'comparison': 914, 'period': 3236, 'late': 2523, 'whole': 4873, '30s': 44, 'awful': 372, 'buck': 605, 'rogers': 3725, 'flash': 1745, 'gordon': 1940, 'tarzan': 4367, 'lone': 2642, 'charlie': 765, 'chan': 746, 'doc': 1303, 'savage': 3793, 'took': 4523, 'control': 977, 'fast': 1661, 'forward': 1808, 'sid': 3964, 'fbi': 1675, 'chief': 788, 'al': 170, 'cousin': 1021, 'mean': 2779, 'arent': 288, 'often': 3095, 'whatsoever': 4861, 'police': 3322, 'officers': 3093, 'king': 2479, 'queen': 3485, 'wind': 4893, 'up': 4683, 'dance': 1103, 'hall': 2009, 'dancing': 1107, 'riding': 3695, 'drugs': 1374, 'writers': 4969, 'waste': 4808, 'talent': 4354, 'including': 2264, 'sellers': 3872, 'smith': 4038, 'lee': 2559, 'helen': 2075, 'falls': 1640, 'villain': 4744, 'near': 2979, 'steals': 4172, 'hour': 2176, 'begin': 442, 'wonder': 4926, 'anyone': 259, 'proper': 3436, 'fans': 1650, 'settle': 3902, 'expecting': 1578, 'intellectual': 2312, 'jay': 2386, 'moving': 2928, 'enjoyed': 1486, 'level': 2584, 'awesome': 371, 'jet': 2400, 'li': 2587, 'stephen': 4176, 'produce': 3413, 'thoroughly': 4459, 'entertaining': 1499, 'youre': 4992, 'taking': 4352, 'surface': 4310, 'value': 4709, 'chinese': 796, 'eye': 1611, 'candy': 668, 'play': 3296, 'basketball': 409, 'unreal': 4676, 'evil': 1548, 'style': 4249, 'dude': 1381, 'wacky': 4769, 'guy': 2000, 'involved': 2346, 'interest': 2323, 'formulaic': 1803, 'suspend': 4329, 'disbelief': 1277, 'while': 4868, 'signed': 3971, 'yourself': 4993, 'favor': 1670, 'found': 1811, 'myself': 2953, 'copy': 994, 'subtitles': 4259, 'conversation': 980, 'wise': 4903, 'appear': 273, 'extremely': 1610, 'numbers': 3061, 'cried': 1054, 'fight': 1707, 'bar': 396, 'choreographed': 801, 'lit': 2621, 'pool': 3327, 'table': 4346, 'slick': 4026, 'cinema': 816, 'features': 1680, 'gorgeous': 1942, 'named': 2961, 'petty': 3249, 'she': 3923, 'stunning': 4244, 'green': 1971, 'eyes': 1613, 'future': 1856, 'actress': 105, 'disaster': 1276, 'careers': 687, 'recommend': 3571, 'fake': 1635, 'report': 3635, 'remotely': 3623, 'skill': 4013, 'apparent': 269, 'student': 4238, 'horrific': 2166, 'elements': 1443, 'sick': 3963, 'fact': 1621, 'poorly': 3329, 'makes': 2716, 'zero': 4996, 'stars': 4155, 'home': 2142, 'long': 2644, 'text': 4419, 'rest': 3657, 'hitting': 2126, 'girlfriend': 1910, 'talk': 4358, 'wanting': 4790, 'sleep': 4024, 'wondering': 4930, 'wake': 4774, 'playing': 3300, 'reunion': 3669, 'capture': 676, 'lady': 2507, 'felt': 1692, 'spiritual': 4116, 'perry': 3237, 'usual': 4699, 'eg': 1434, 'paint': 3173, 'interesting': 2325, 'remarkable': 3613, 'independent': 2272, 'men': 2805, 'bodies': 526, 'artistic': 308, 'purposes': 3475, 'soon': 4074, 'private': 3404, 'known': 2492, 'artist': 307, 'becomes': 434, 'historical': 2119, 'soft': 4051, 'porn': 3336, 'fantasy': 1652, 'herself': 2092, 'sees': 3866, 'fascinating': 1658, 'ends': 1474, 'trial': 4580, 'always': 203, 'wasnt': 4807, 'crazy': 1035, 'male': 2719, 'lead': 2545, 'her': 2085, 'teacher': 4375, 'wouldnt': 4958, 'gone': 1935, 'studios': 4241, 'powell': 3358, 'mgm': 2828, 'jean': 2389, 'arthur': 305, 'efforts': 1433, 'cash': 709, 'popularity': 3334, 'thin': 4449, 'succeeded': 4263, 'degree': 1164, 'addition': 118, 'earlier': 1399, 'nick': 3012, 'charles': 764, 'bill': 481, 'role': 3726, 'doctor': 1304, 'doing': 1312, 'basic': 406, 'difference': 1246, 'married': 2744, 'living': 2629, 'helps': 2082, 'detective': 1220, 'does': 1308, 'hes': 2093, 'murders': 2943, 'solve': 4060, 'horse': 2170, 'race': 3499, 'dies': 1245, 'suspects': 4328, 'something': 4066, 'conventional': 979, 'method': 2824, 'bullet': 620, 'comes': 891, 'help': 2079, 'influence': 2286, 'plays': 3301, 'chemistry': 782, 'james': 2378, 'inspector': 2299, 'sam': 3777, 'needed': 2988, 'possibly': 3351, 'eric': 1514, 'butler': 637, 'studio': 4240, 'messed': 2821, 'entry': 1504, 'imdb': 2240, 'across': 96, 'previous': 3387, 'reviewers': 3678, 'merely': 2815, 'extra': 1606, 'dvd': 1391, 'nowhere': 3056, '90': 60, 'listed': 2618, 'barely': 399, '13': 4, 'martial': 2747, 'arts': 310, 'yeah': 4977, 'listen': 2619, 'trust': 4598, 'feed': 1683, 'dear': 1140, 'truth': 4599, 'reviewer': 3677, 'matters': 2770, 'lost': 2660, 'early': 1400, '80s': 59, 'repeat': 3630, 'without': 4913, 'crying': 1074, 'originally': 3131, 'southern': 4088, 'sunday': 4293, 'tea': 4373, 'viewing': 4740, 'although': 201, 'deal': 1135, 'program': 3424, 'stuck': 4237, 'mind': 2849, 'notable': 3041, 'unforgettable': 4652, 'titles': 4506, 'attempted': 341, 'escape': 1517, 'east': 1407, 'european': 1530, 'border': 539, 'subsequent': 4257, 'car': 680, 'crash': 1033, 'models': 2881, 'used': 4693, 'solution': 4059, 'mystery': 2956, 'happened': 2027, 'discovers': 1281, 'lots': 2662, 'twists': 4619, 'turns': 4609, 'surprisingly': 4316, 'adult': 125, 'childrens': 793, 'taylor': 4372, 'billy': 482, 'release': 3602, 'hope': 2155, 'ill': 2228, 're': 3535, 'fond': 1776, 'memory': 2804, 'childhood': 790, 'sub': 4252, 'culture': 1079, 'los': 2653, 'angeles': 233, 'serves': 3895, 'backdrop': 379, 'constructed': 959, 'mess': 2818, 'player': 3298, 'performing': 3233, 'twin': 4615, 'sisters': 4002, 'question': 3487, 'develops': 1226, 'whether': 4866, 'camera': 659, 'lighting': 2596, 'reach': 3536, 'connection': 946, 'incoherent': 2265, 'narrative': 2966, 'highly': 2105, 'officer': 3092, 'become': 433, 'figure': 1711, 'within': 4912, 'largely': 2518, 'performances': 3229, 'cd': 728, 'mistress': 2874, 'vicious': 4728, 'begins': 444, 'new': 3003, 'slave': 4022, 'castle': 712, 'club': 863, 'party': 3200, 'field': 1704, 'agents': 151, 'whose': 4877, 'case': 707, 'involvement': 2347, 'internet': 2327, 'department': 1182, 'assigned': 325, 'investigate': 2342, 'crime': 1055, 'provide': 3448, 'security': 3854, 'performance': 3228, 'danger': 1109, 'logic': 2638, 'continuity': 972, 'south': 4087, 'removed': 3624, 'setting': 3900, 'post': 3352, 'montage': 2894, 'prior': 3400, 'scenario': 3808, 'solid': 4057, 'turn': 4605, 'appears': 278, 'among': 217, 'stan': 4142, 'agent': 150, 'win': 4892, 'superb': 4296, 'equally': 1510, 'hunt': 2198, 'magnificent': 2705, 'complex': 923, 'cop': 991, 'ended': 1470, 'affair': 135, 'knew': 2486, 'wife': 4884, 'kids': 2467, 'dangerous': 1110, 'task': 4368, 'serial': 3889, 'jeff': 2390, 'ray': 3533, 'look': 2646, 'alike': 185, 'bang': 393, 'confused': 941, 'opposite': 3123, 'came': 656, 'dealing': 1136, 'feelings': 1686, 'steven': 4182, 'notably': 3042, 'sitcom': 4004, 'quiet': 3492, 'innocent': 2294, 'loser': 2655, 'beneath': 464, 'cold': 872, 'hearted': 2065, 'persona': 3239, 'kill': 2468, 'boys': 559, 'entire': 1502, 'spectacular': 4101, 'each': 1395, 'let': 2579, 'us': 4690, 'days': 1130, 'weeks': 4839, 'worth': 4953, 'example': 1553, '1980s': 21, 'middle': 2833, 'teenage': 4389, 'somewhat': 4068, 'considered': 951, 'grown': 1984, 'street': 4216, 'age': 148, 'honestly': 2147, 'college': 875, 'wound': 4960, 'staying': 4168, 'loaded': 2632, 'humor': 2192, 'beyond': 476, 'expected': 1577, 'adults': 126, 'children': 792, 'generations': 1884, 'telling': 4396, 'clothes': 860, 'joke': 2414, 'saves': 3796, 'mouth': 2920, 'afterwards': 145, 'engaged': 1480, 'plenty': 3307, 'moments': 2887, 'add': 115, 'smart': 4035, 'dialogue': 1234, 'york': 4985, 'broadway': 592, 'large': 2517, 'amount': 219, 'celebrity': 729, 'cameos': 658, 'enjoyable': 1485, 'songs': 4072, 'throw': 4479, 'regular': 3592, 'totally': 4532, 'holds': 2131, 'plain': 3286, 'brilliant': 583, 'stale': 4141, 'army': 295, 'saga': 3773, 'attempts': 343, 'surreal': 4317, 'foreign': 1790, 'gags': 1862, 'mix': 2876, 'kinds': 2478, 'none': 3028, 'followed': 1773, 'successfully': 4267, 'barbara': 397, 'bond': 532, 'girl': 1909, 'spy': 4135, 'loved': 2670, 'three': 4469, 'former': 1800, 'particularly': 3195, 'nuclear': 3057, 'dedicated': 1153, 'mission': 2870, 'responsibility': 3655, 'carry': 700, 'captain': 674, 'junior': 2435, 'crew': 1053, 'member': 2800, 'ship': 3934, 'split': 4120, 'executive': 1567, 'acted': 98, 'denzel': 1181, 'washington': 4806, 'court': 1020, 'navy': 2976, 'surprise': 4312, 'send': 3875, 'technical': 4381, 'noise': 3024, 'learn': 2550, 'career': 686, 'avoid': 363, 'doors': 1329, 'speak': 4094, 'wear': 4830, 'shoes': 3941, 'amazed': 208, 'loud': 2664, 'portrayed': 3342, 'portraying': 3343, 'reality': 3551, 'sell': 3871, 'born': 544, 'constant': 957, 'busy': 635, 'decades': 1145, 'occasionally': 3075, 'mental': 2808, 'discover': 1279, 'existence': 1571, 'tells': 4397, 'popular': 3333, 'radio': 3504, 'host': 2173, 'gabriel': 1859, 'robin': 3715, 'spends': 4107, 'audiences': 353, 'vivid': 4760, 'stories': 4205, 'gay': 1876, 'losing': 2658, 'authentic': 358, 'causes': 725, 'longer': 2645, 'abandoned': 62, 'lover': 2672, 'bobby': 525, 'friend': 1835, 'joe': 2407, 'seeks': 3860, 'despair': 1207, 'mysterious': 2955, 'voice': 4761, 'asks': 319, 'useful': 4694, 'reaches': 3538, 'desperate': 1208, 'belongs': 460, '14': 6, 'year': 4978, 'old': 3100, 'boy': 557, 'reading': 3544, 'depicts': 1186, 'abuse': 74, 'brutal': 603, 'parents': 3188, 'wants': 4791, 'seem': 3861, 'finds': 1728, 'wrapped': 4964, 'bizarre': 492, 'tale': 4353, 'torn': 4528, 'medical': 2790, 'nightmare': 3014, 'pure': 3471, 'donna': 1323, 'sandra': 3782, 'anna': 245, 'john': 2409, 'pop': 3330, 'comical': 894, 'prove': 3445, 'par': 3184, 'delivers': 1172, 'sci': 3815, 'fi': 1701, 'ideal': 2214, 'hurt': 2202, 'stargate': 4151, 'currently': 1085, 'favorite': 1671, 'hideous': 2098, 'lifetime': 2594, 'portray': 3340, 'behavior': 446, 'disgusting': 1286, 'manner': 2729, 'along': 195, 'nasty': 2968, 'burning': 627, 'bed': 436, 'monster': 2892, 'criminal': 1057, 'break': 569, 'heres': 2087, 'filmmakers': 1720, '12': 3, 'answer': 251, 'imagine': 2238, 'others': 3136, 'consider': 949, 'worthless': 4954, 'garbage': 1870, 'attempt': 340, 'wed': 4835, 'treated': 4573, 'landing': 2512, 'prison': 3401, 'victim': 4729, 'suffering': 4277, 'receive': 3563, 'treatment': 4574, 'lets': 2580, 'simple': 3983, 'our': 3139, 'pity': 3281, 'empathy': 1462, 'usually': 4700, 'emma': 1457, 'roberts': 3714, 'drew': 1360, 'changed': 750, 'exciting': 1563, 'clues': 865, 'together': 4511, 'until': 4680, 'finally': 1724, 'clever': 841, 'cute': 1090, 'sequel': 3885, 'nine': 3017, 'girls': 1911, 'opening': 3114, 'lake': 2509, 'eaten': 1412, 'credits': 1050, 'letters': 2582, 'shortly': 3947, 'worried': 4949, 'musical': 2947, 'game': 1864, 'fest': 1696, 'hand': 2015, 'attacked': 338, 'falling': 1639, 'underground': 4640, 'death': 1141, 'shocked': 3939, 'surprised': 4313, 'received': 3564, 'score': 3822, 'types': 4622, 'tries': 4585, 'laughable': 2530, 'prime': 3395, 'gave': 1875, 'star': 4150, 'rating': 3529, 'fallen': 1638, 'strong': 4229, 'honor': 2150, 'served': 3894, 'armed': 293, 'appropriate': 283, 'normally': 3034, 'weird': 4841, 'starts': 4159, 'toy': 4542, 'toys': 4543, 'ann': 244, 'andy': 230, 'adventure': 130, 'rescue': 3643, 'ensues': 1493, 'greedy': 1969, 'sea': 3838, 'tunes': 4603, 'though': 4461, 'parts': 3199, 'lonely': 2643, 'friendly': 1836, 'sir': 4000, 'leonard': 2572, 'nuts': 3064, 'funniest': 1851, 'tough': 4537, 'perspective': 3245, 'personally': 3243, 'charming': 768, 'interested': 2324, 'mood': 2898, 'ordinary': 3128, 'scare': 3803, 'reasons': 3560, 'smaller': 4034, 'hair': 2005, 'growing': 1983, 'creepy': 1052, 'famous': 1647, 'brown': 601, 'stones': 4198, 'infamous': 2284, 'nude': 3058, 'london': 2641, 'rock': 3720, 'besides': 468, 'points': 3319, 'note': 3044, 'brought': 600, 'repeatedly': 3632, 'during': 1387, 'closing': 859, 'count': 1010, 'swear': 4334, 'dozen': 1338, 'maybe': 2776, 'outstanding': 3147, 'feature': 1678, 'overall': 3150, 'indie': 2276, 'lovers': 2673, 'similarities': 3979, 'closer': 856, 'away': 369, 'remarkably': 3614, 'similar': 3978, 'julia': 2427, 'intensity': 2317, 'patrick': 3213, 'supposedly': 4307, 'exposed': 1598, 'live': 2625, 'uk': 4626, 'religion': 3607, 'america': 212, 'religious': 3608, 'classes': 834, 'taught': 4370, 'country': 1014, 'society': 4050, 'success': 4265, 'education': 1424, 'countries': 1013, 'meet': 2793, 'believes': 456, 'accept': 80, 'except': 1556, 'media': 2789, 'represent': 3637, 'represented': 3638, 'small': 4033, 'respected': 3653, 'books': 536, 'own': 3158, 'revenge': 3675, 'business': 633, 'filled': 1715, 'curiosity': 1082, 'initial': 2290, 'steps': 4177, 'journey': 2421, 'memories': 2803, 'animated': 241, 'express': 1600, 'train': 4556, 'ride': 3692, 'hopes': 2159, 'mechanical': 2788, 'senseless': 3878, 'mother': 2911, 'hunters': 2200, 'golden': 1934, 'beauty': 430, 'reminds': 3620, 'ago': 154, 'dream': 1354, 'countless': 1012, 'adventures': 131, 'moved': 2922, 'sometimes': 4067, 'wondered': 4927, 'place': 3282, 'thousands': 4466, 'miles': 2843, 'vast': 4716, 'ocean': 3079, 'hit': 2122, 'companion': 909, 'summer': 4291, 'able': 66, 'track': 4544, 'original': 3129, 'nostalgic': 3039, 'remains': 3611, 'captivating': 675, 'discovered': 1280, 'important': 2247, 'stone': 4197, 'non': 3027, 'drawn': 1351, 'run': 3755, 'quickly': 3491, 'chase': 769, 'sequence': 3887, 'flashbacks': 1747, 'paced': 3162, 'climax': 849, 'majority': 2712, 'grow': 1982, 'dreary': 1356, 'lives': 2628, 'roles': 3727, 'theyve': 4446, 'bought': 552, 'eventually': 1537, 'started': 4157, 'running': 3756, 'provided': 3449, 'provides': 3450, 'means': 2783, 'step': 4175, 'false': 1641, 'values': 4710, 'allow': 189, 'create': 1036, 'truly': 4597, 'taste': 4369, 'joy': 2422, 'process': 3412, 'appreciation': 281, 'enjoyment': 1488, 'slightly': 4029, 'ending': 1471, 'learning': 2552, 'experience': 1580, 'escaped': 1518, 'true': 4596, 'problem': 3408, 'outside': 3146, 'cartoon': 704, 'aired': 165, 'under': 4639, 'descent': 1193, 'painful': 3171, 'george': 1893, 'episodes': 1508, 'literally': 2622, 'ass': 323, 'kicked': 2461, 'butt': 638, 'apparently': 270, 'using': 4698, 'jackie': 2374, 'moves': 2925, 'air': 164, 'ninja': 3018, 'match': 2762, 'embarrassing': 1454, 'depressing': 1188, 'animation': 242, 'dialog': 1232, 'terrible': 4407, 'strongly': 4231, 'advise': 134, 'stay': 4166, 'cost': 1003, 'project': 3427, 'wannabe': 4787, 'flick': 1754, 'amazing': 209, 'passes': 3203, 'entertainment': 1500, 'dinosaur': 1255, 'touch': 4533, 'todays': 4509, 'generation': 1883, 'foul': 1810, 'fits': 1741, 'crude': 1069, 'politically': 3325, 'correct': 1000, 'downright': 1337, 'likable': 2598, 'pathetic': 3210, 'heard': 2062, 'number': 3060, 'disappointed': 1273, 'money': 2888, 'noir': 3023, 'expression': 1602, 'briefly': 580, 'andrews': 229, 'tom': 4514, 'meets': 2795, 'save': 3794, 'dad': 1095, 'captures': 678, 'mob': 2879, 'guilty': 1995, 'driven': 1365, 'past': 3207, 'thief': 4448, 'shoot': 3942, 'jail': 2376, 'excuse': 1564, 'actions': 101, 'defense': 1159, 'immediately': 2242, 'phone': 3255, 'incident': 2260, 'hot': 2174, 'water': 4816, 'finish': 1732, 'moment': 2886, 'rings': 3699, 'partner': 3198, 'suspect': 4327, 'theyre': 4445, 'river': 3707, 'dumb': 1385, 'okay': 3099, 'risk': 3704, 'committed': 905, 'multiple': 2936, 'justice': 2438, 'assault': 324, 'witness': 4914, 'against': 147, 'neighbor': 2992, 'root': 3737, 'deserve': 1199, 'die': 1243, 'accident': 84, 'hero': 2088, 'silver': 3977, 'head': 2057, 'murder': 2939, 'criminals': 1058, 'suspicious': 4332, 'include': 2261, 'mark': 2739, 'laura': 2536, 'bitter': 491, 'laughs': 2534, 'rarely': 3524, 'restaurant': 3658, 'gene': 1879, 'situation': 4008, 'careful': 688, 'wooden': 4934, 'calls': 654, 'perfect': 3224, 'thoughts': 4464, 'emotional': 1459, 'states': 4163, 'stopped': 4202, 'alright': 198, 'daughter': 1121, 'model': 2880, 'separate': 3883, 'personality': 3242, 'sing': 3992, 'screen': 3829, 'went': 4847, 'stuff': 4243, 'effective': 1429, 'public': 3460, 'service': 3896, 'commentary': 899, 'guys': 2001, 'popcorn': 3331, 'fired': 1735, 'storyline': 4208, 'disney': 1289, 'rubbish': 3748, 'robinson': 3716, 'alice': 182, 'sat': 3786, 'wishing': 4907, 'younger': 4990, 'brother': 598, 'youve': 4995, 'spare': 4093, 'managed': 2723, 'format': 1799, 'eddie': 1416, 'glorious': 1921, 'san': 3780, 'francisco': 1819, 'laughing': 2533, 'hard': 2033, 'stand': 4143, 'routine': 3743, 'buy': 640, 'support': 4303, 'available': 361, 'weekend': 4838, 'remind': 3618, 'stupid': 4247, 'group': 1980, 'families': 1644, 'shooting': 3943, 'holding': 2130, 'aspect': 321, 'cruel': 1070, 'focuses': 1768, 'side': 3965, 'family': 1645, 'ps': 3453, 'finding': 1727, 'tune': 4602, 'ford': 1789, 'american': 213, 'fictional': 1703, 'believable': 453, 'henry': 2084, 'fonda': 1777, 'era': 1513, 'certain': 737, 'emphasis': 1463, 'cultural': 1078, 'americans': 214, 'indians': 2275, 'century': 736, 'creativity': 1042, 'beginning': 443, 'nation': 2969, 'becoming': 435, 'amongst': 218, 'tall': 4362, 'lawyer': 2541, 'capturing': 679, 'essence': 1521, 'knows': 2493, 'unique': 4662, 'balance': 387, 'forms': 1801, 'warming': 4795, 'creates': 1038, 'mary': 2751, 'todd': 4510, 'tribute': 4581, 'widely': 4881, 'greatest': 1966, 'president': 3378, 'rare': 3523, 'government': 1948, 'surely': 4309, 'typically': 4624, 'perform': 3227, 'sent': 3880, 'actual': 108, 'audience': 352, 'ten': 4399, 'twelve': 4611, 'comics': 895, 'survivor': 4324, 'comedic': 888, 'standing': 4146, 'talents': 4356, 'blue': 518, 'negative': 2991, 'possibility': 3349, 'lived': 2626, 'thank': 4421, 'god': 1926, 'chosen': 805, 'attitude': 346, 'etc': 1527, 'beaten': 424, 'terms': 4406, 'gem': 1877, 'starring': 4154, 'carrie': 697, 'difficult': 1249, 'karen': 2444, 'jennifer': 2392, 'travel': 4567, 'city': 825, 'california': 650, 'cover': 1022, 'occurs': 3078, 'involving': 2349, 'hotel': 2175, 'room': 3735, 'seek': 3858, 'strange': 4211, 'virginia': 4750, 'stays': 4169, 'behind': 447, 'murdered': 2940, 'unknown': 4668, 'force': 1786, 'hiding': 2099, 'system': 4345, 'basement': 405, 'returns': 3668, 'fashion': 1659, 'boring': 543, 'sister': 4001, 'whatever': 4859, 'agree': 155, 'plan': 3287, 'mentally': 2809, 'cause': 723, 'pace': 3161, 'actresses': 106, 'terrific': 4409, 'material': 2766, 'horrifying': 2167, 'missed': 2867, 'season': 3843, 'abc': 63, 'website': 4834, '2007': 37, 'bring': 585, 'waiting': 4772, 'baby': 376, 'comments': 901, 'remarks': 3615, 'mine': 2853, 'decision': 1151, 'hopefully': 2157, 'station': 4164, 'pick': 3265, 'includes': 2263, 'spoilers': 4124, 'pops': 3332, 'treat': 4572, 'path': 3209, 'boat': 523, '1940s': 13, 'change': 749, 'loves': 2674, 'twist': 4617, 'complete': 921, 'screaming': 3827, 'shadow': 3912, 'runs': 3757, 'afraid': 140, 'alone': 194, 'haunted': 2050, 'heck': 2071, 'version': 4720, 'snake': 4042, 'dare': 1113, 'bother': 548, 'feminist': 1695, 'overlooked': 3154, 'wonderfully': 4929, 'atmospheric': 334, '40s': 49, 'iron': 2354, 'neck': 2985, 'picked': 3266, 'dark': 1115, 'box': 555, 'solely': 4056, 'hyde': 2206, 'corny': 997, 'huge': 2185, 'gore': 1941, 'intrigued': 2334, 'skills': 4014, 'considering': 952, 'cars': 702, 'surprising': 4315, 'battle': 414, 'exact': 1550, 'bright': 581, 'serving': 3897, 'sort': 4077, 'relief': 3605, 'antics': 255, 'island': 2361, 'thrown': 4481, 'summary': 4290, 'vampire': 4711, 'background': 380, 'next': 3007, 'blockbuster': 509, 'page': 3167, 'pushing': 3479, 'finished': 1733, 'issues': 2365, 'lines': 2612, 'expect': 1575, 'realistic': 3550, 'reaction': 3541, 'utter': 4701, 'colour': 880, 'situations': 4009, 'everyday': 1541, 'mundane': 2938, 'exceptionally': 1559, 'everyone': 1542, 'blown': 516, 'ned': 2986, 'magic': 2703, 'finger': 1731, 'brings': 587, 'charlotte': 766, 'pie': 3271, 'hole': 2132, 'waitress': 4773, 'members': 2801, 'lily': 2605, 'chuck': 812, 'allowed': 190, 'shown': 3959, 'jim': 2402, 'praise': 3364, 'saying': 3800, 'despite': 1211, 'strike': 4224, 'providing': 3451, 'satisfying': 3791, 'tell': 4395, 'rushed': 3760, 'pretentious': 3383, 'included': 2262, '40': 48, 'access': 83, 'mail': 2706, 'mel': 2796, 'faithful': 1634, 'common': 906, 'epic': 1506, 'poem': 3312, 'western': 4853, 'literature': 2623, 'recent': 3566, '2000': 30, 'versions': 4721, 'mountains': 2918, 'industry': 2280, 'jackson': 2375, 'roman': 3731, 'please': 3304, 'insulting': 2310, 'keaton': 2448, 'length': 2569, 'ages': 152, 'hang': 2022, 'hilarious': 2106, 'shorts': 3948, 'double': 1331, 'unfortunately': 4654, 'franchise': 1817, 'boredom': 542, 'brutally': 604, 'dated': 1119, 'parody': 3192, 'desire': 1205, 'de': 1131, 'terribly': 4408, 'turned': 4606, 'killers': 2471, 'slap': 4018, 'illegal': 2229, 'nights': 3016, 'cup': 1080, 'japanese': 2382, 'speaking': 4095, 'actor': 103, 'hitler': 2124, 'nearly': 2981, 'impossible': 2249, 'explain': 1586, 'told': 4513, 'paranoia': 3186, 'oddly': 3081, 'selling': 3873, 'pack': 3165, 'thanks': 4423, 'tricks': 4583, 'fear': 1676, 'broke': 593, 'gag': 1861, 'somebody': 4062, 'asleep': 320, 'join': 2412, 'fashioned': 1660, 'human': 2188, 'dinner': 1254, 'bell': 458, 'shelf': 3926, 'splendid': 4119, 'bomb': 531, 'buried': 624, 'deep': 1154, 'concept': 930, 'hated': 2047, 'cinderella': 815, 'wars': 4804, 'figures': 1713, 'showcase': 3954, 'recently': 3567, 'impressed': 2251, 'trapped': 4564, 'horrible': 2163, 'sympathetic': 4342, 'catching': 716, 'loving': 2675, 'timeless': 4496, 'listening': 2620, 'heart': 2064, 'awe': 370, 'inspiring': 2302, 'kingdom': 2480, 'dressed': 1358, 'excited': 1561, 'images': 2235, 'glass': 1917, 'mickey': 2831, 'mouse': 2919, 'beloved': 461, 'represents': 3639, 'held': 2074, 'meaning': 2780, 'admire': 121, 'grade': 1951, 'sarah': 3785, 'tracks': 4545, 'ease': 1404, 'styles': 4250, 'compare': 911, 'heads': 2059, 'unexpected': 4650, 'plague': 3285, 'richard': 3686, 'widmark': 4882, 'trademark': 4548, 'subjects': 4254, 'working': 4944, 'folk': 1770, 'violence': 4747, 'jack': 2373, 'ice': 2210, 'miscast': 2862, 'watchable': 4812, 'sinatra': 3989, 'intense': 2316, 'meant': 2784, 'paul': 3214, 'douglas': 1334, 'unlikely': 4671, 'gotta': 1946, 'scale': 3802, 'carried': 698, 'nicely': 3009, 'check': 777, 'lesser': 2576, 'anime': 243, 'english': 1483, 'dubbed': 1379, 'edited': 1420, '1st': 28, 'combine': 884, 'cg': 739, 'graphics': 1959, 'review': 3676, 'opinion': 3118, 'child': 789, 'sit': 4003, 'message': 2819, 'older': 3101, 'issue': 2364, 'prince': 3396, 'calm': 655, 'genuine': 1891, 'whenever': 4863, 'onto': 3111, 'terrifying': 4410, 'seemingly': 3863, 'useless': 4695, 'steal': 4170, 'month': 2896, 'flat': 1748, 'purpose': 3474, 'miss': 2866, 'respect': 3652, 'hed': 2072, 'earned': 1401, 'knock': 2488, 'hearts': 2066, 'hopper': 2161, 'forgotten': 1797, 'added': 116, 'rich': 3685, 'entirely': 1503, 'twice': 4613, 'fat': 1663, 'fish': 1738, 'bland': 500, 'depth': 1190, 'kicking': 2462, 'unfunny': 4655, 'tried': 4584, 'biggest': 480, 'brooks': 596, 'words': 4938, 'producers': 3416, 'frankenstein': 1822, 'stinks': 4192, 'space': 4090, 'balls': 390, 'apart': 264, 'topic': 4526, 'leslie': 2574, 'warren': 4801, 'documentary': 1307, 'bbc': 417, 'months': 2897, 'initially': 2291, 'detail': 1217, 'political': 3324, 'irish': 2353, 'intentions': 2321, 'happens': 2029, 'rebel': 3561, 'concerns': 934, 'effect': 1428, 'inappropriate': 2259, 'grinch': 1975, 'carrey': 696, 'keep': 2449, 'racial': 3501, 'colorful': 878, 'lou': 2663, 'view': 4736, 'anthony': 253, 'further': 1853, 'theater': 4427, 'fair': 1630, 'french': 1830, 'north': 3036, 'africa': 141, 'encounters': 1467, 'talented': 4355, 'poverty': 3357, 'spite': 4117, 'present': 3374, 'baker': 385, 'perfectly': 3226, 'enormous': 1490, 'smile': 4036, 'contact': 961, 'pleasure': 3306, 'happening': 2028, 'introduction': 2339, 'albert': 174, 'georges': 1894, 'handsome': 2021, 'reminiscent': 3621, 'produced': 3414, 'unlike': 4670, 'hasnt': 2044, 'racism': 3502, 'pointed': 3317, 'office': 3091, 'code': 869, 'france': 1816, 'african': 142, 'cinemas': 817, 'location': 2635, 'filming': 1718, 'greatly': 1967, 'st': 4137, 'louis': 2665, 'driving': 1368, 'pushed': 3478, 'realizing': 3555, 'mid': 2832, 'gifted': 1907, 'paris': 3189, 'joined': 2413, 'le': 2544, 'became': 431, 'return': 3665, 'showed': 3956, 'returned': 3666, 'citizen': 824, 'worked': 4941, 'entertained': 1498, 'troops': 4591, 'began': 441, 'faced': 1617, 'financial': 1725, 'banned': 395, 'returning': 3667, 'united': 4664, 'accepted': 82, 'offer': 3087, 'princess': 3397, 'grace': 1950, 'died': 1244, 'appeared': 276, 'obscure': 3068, 'alongside': 196, 'legendary': 2565, 'performers': 3232, '16': 8, 'colonel': 876, 'davies': 1125, 'fame': 1642, 'handed': 2016, 'dramas': 1347, 'criticism': 1063, 'light': 2595, 'slapstick': 4019, 'saved': 3795, 'notorious': 3051, 'grand': 1953, 'spend': 4105, 'von': 4765, 'drives': 1367, 'land': 2511, 'thinks': 4454, 'preview': 3386, 'chaplin': 756, 'fellow': 1691, 'aside': 315, 'sign': 3970, 'naturally': 2974, 'recognize': 3569, 'changes': 751, 'lips': 2615, 'throws': 4482, 'eating': 1413, 'sitting': 4007, 'facing': 1620, 'vampires': 4712, 'claire': 831, 'duo': 1386, 'arm': 292, 'pretending': 3382, 'stealing': 4171, 'smoking': 4040, 'la': 2500, 'marie': 2737, 'trick': 4582, 'hart': 2041, 'results': 3662, 'current': 1084, 'harry': 2039, 'sidney': 3968, 'dramatic': 1348, 'cry': 1073, 'test': 4416, 'phony': 3256, 'shed': 3924, 'forced': 1787, 'satire': 3788, 'hence': 2083, 'tremendous': 4579, 'wealth': 4826, 'examples': 1554, 'successful': 4266, 'wont': 4932, '15': 7, 'realized': 3553, 'morning': 2906, 'broad': 590, 'move': 2921, 'remote': 3622, 'cabin': 643, 'shy': 3962, 'tone': 4517, 'explains': 1589, 'husband': 2204, 'variety': 4714, 'scares': 3806, 'fairly': 1631, 'violent': 4748, 'odd': 3080, 'absurd': 73, 'moody': 2899, 'video': 4733, 'british': 589, 'training': 4558, 'easier': 1405, 'spent': 4108, 'troubles': 4594, 'gotten': 1947, 'react': 3540, 'display': 1291, 'soldiers': 4054, 'spot': 4131, 'ear': 1397, 'canada': 666, 'usa': 4691, 'ex': 1549, 'pat': 3208, 'anti': 254, 'soldier': 4053, 'dying': 1393, 'realise': 3548, 'predictable': 3367, 'guns': 1998, 'write': 4967, 'hype': 2207, 'craft': 1028, 'cinematographer': 819, 'amateurish': 207, 'guarantee': 1987, 'empty': 1465, 'scream': 3826, 'genius': 1887, 'ticket': 4487, 'aka': 168, 'mann': 2728, 'stewart': 4184, 'circumstances': 822, 'mainstream': 2709, 'portrait': 3339, 'dragged': 1343, 'redemption': 3578, 'driver': 1366, 'response': 3654, 'problems': 3409, 'challenging': 744, 'trail': 4553, 'judge': 2424, 'roy': 3745, 'law': 2538, 'canadian': 667, 'conflict': 939, 'claims': 830, 'warning': 4800, 'planning': 3291, 'lynch': 2691, 'faith': 1633, 'nature': 2975, 'exceptional': 1558, 'locations': 2636, 'showdown': 3955, 'walter': 4784, 'morgan': 2905, 'ruth': 3763, 'romantic': 3733, 'irritating': 2359, 'sadly': 3769, 'average': 362, 'transfer': 4559, 'ancient': 225, 'robert': 3713, 'gratuitous': 1961, 'nudity': 3059, 'sounds': 4084, 'ingredients': 2289, 'basically': 407, 'vague': 4705, 'cult': 1077, 'local': 2634, 'christian': 808, 'heroine': 2091, 'various': 4715, 'scenery': 3810, 'makers': 2715, 'whilst': 4869, 'attractive': 351, 'australian': 357, 'ratings': 3530, 'guide': 1993, 'vhs': 4725, 'hours': 2177, 'wasted': 4809, 'leave': 2555, 'singer': 3993, 'utterly': 4702, 'community': 908, 'failure': 1629, 'luck': 2681, 'military': 2844, 'india': 2273, 'cary': 706, 'grant': 1956, 'blows': 517, 'six': 4010, 'native': 2972, 'murderous': 2942, 'oscar': 3133, 'winner': 4897, 'victor': 4731, 'jr': 2423, 'dawn': 1127, 'trio': 4587, 'drinking': 1362, 'plans': 3292, 'marry': 2745, 'joan': 2404, 'enter': 1494, 'drug': 1373, 'cannot': 670, 'stevens': 4183, 'scope': 3821, 'heroes': 2089, 'nomination': 3026, 'gothic': 1945, 'midnight': 2834, 'gary': 1873, 'cole': 873, 'purchased': 3470, 'week': 4837, 'fed': 1682, 'form': 1798, 'thus': 4486, 'getting': 1901, 'intriguing': 2335, 'neither': 2996, 'nor': 3032, 'lengthy': 2570, 'natural': 2973, 'thru': 4483, 'particular': 3194, 'bat': 410, 'blood': 512, 'youd': 4987, 'turning': 4608, 'drop': 1369, 'hat': 2045, 'extreme': 1609, 'meanwhile': 2785, 'worlds': 4947, 'responsible': 3656, 'several': 3905, 'doctors': 1305, 'choices': 798, 'clichéd': 845, 'general': 1880, 'teeth': 4393, 'edge': 1418, 'spooky': 4128, 'unsettling': 4679, 'experienced': 1581, 'chair': 742, 'agreed': 156, 'channel': 753, 'dennis': 1179, 'regard': 3588, 'physically': 3263, 'stage': 4139, 'mike': 2838, 'humorous': 2193, 'earth': 1403, 'sons': 4073, 'reynolds': 3684, 'shirley': 3936, 'winters': 4901, 'threatening': 4468, 'pair': 3176, 'students': 4239, 'raising': 3509, 'madness': 2698, 'whoever': 4872, 'presentation': 3375, 'mad': 2696, 'demented': 1176, 'spoil': 4121, 'capable': 672, 'gold': 1932, 'tap': 4364, 'dancer': 1104, 'nominated': 3025, 'award': 366, 'kane': 2442, 'quit': 3494, 'hey': 2095, 'twilight': 4614, 'cia': 814, 'free': 1827, 'cowboy': 1025, 'horses': 2171, 'names': 2963, 'terrorist': 4413, 'state': 4160, 'blew': 505, 'property': 3438, 'fortunately': 1805, 'safe': 3771, 'teenager': 4390, 'emily': 1456, 'hanging': 2023, 'plus': 3311, 'pro': 3406, 'con': 928, 'engaging': 1481, 'stomach': 4196, 'wasting': 4810, 'gray': 1963, 'centers': 734, 'guessed': 1990, 'reactions': 3542, 'park': 3190, 'borrowed': 545, 'push': 3477, 'gritty': 1977, 'date': 1118, 'dreams': 1355, 'hits': 2125, 'marriage': 2743, 'vegas': 4717, 'wedding': 4836, 'continues': 971, 'happen': 2026, 'explained': 1587, 'resident': 3647, 'kicks': 2463, 'single': 3996, 'drink': 1361, 'kiss': 2483, 'anybody': 257, 'union': 4661, 'dating': 1120, 'jerk': 2395, 'third': 4455, 'taxi': 4371, 'alan': 171, 'clean': 838, 'apartment': 265, 'ad': 110, 'zone': 4999, 'cameras': 660, 'rooms': 3736, 'broadcast': 591, 'computer': 927, 'lesbian': 2573, 'drag': 1342, 'string': 4227, 'church': 813, 'dress': 1357, 'mans': 2730, 'secret': 3849, 'womans': 4922, 'account': 89, 'science': 3816, 'lesson': 2577, 'explaining': 1588, 'relative': 3599, 'leaving': 2557, 'traveling': 4568, 'speed': 4103, '17': 9, '18': 10, 'throughout': 4478, 'warned': 4798, 'heavy': 2070, 'wholly': 4874, 'ignore': 2224, 'otherwise': 3137, 'resolution': 3649, 'finest': 1730, 'pieces': 3273, 'contract': 973, 'judy': 2426, 'singers': 3994, 'placed': 3283, 'bet': 470, 'universal': 4665, 'screenplay': 3831, 'equivalent': 1512, 'lights': 2597, 'convinced': 984, 'carries': 699, 'craig': 1030, 'kay': 2447, 'elegant': 1441, 'fathers': 1667, 'warm': 4794, 'forever': 1792, 'farce': 1654, 'confusion': 943, 'endearing': 1469, 'hold': 2129, 'likes': 2602, 'brady': 561, 'accomplished': 87, 'contrived': 976, 'weight': 4840, 'ups': 4686, 'brand': 565, 'sensitive': 3879, 'brilliance': 582, 'structure': 4233, 'nevertheless': 3002, 'superbly': 4297, 'performed': 3230, 'loose': 2650, 'described': 1195, 'definite': 1161, 'inevitably': 2283, 'central': 735, 'protagonist': 3441, 'newly': 3004, 'sexuality': 3909, 'exists': 1573, 'cliché': 844, 'ambitious': 211, 'interview': 2329, 'flawed': 1750, 'achieved': 93, 'distinct': 1296, 'anymore': 258, 'content': 966, 'dollars': 1315, 'enjoying': 1487, 'adding': 117, 'enters': 1496, 'punch': 3466, 'leads': 2548, 'challenge': 743, 'aware': 368, 'related': 3594, 'remake': 3612, 'slowly': 4032, '60s': 54, 'confusing': 942, 'audio': 354, 'ie': 2221, 'hearing': 2063, 'attached': 336, 'reminded': 3619, 'influenced': 2287, 'winning': 4898, 'signs': 3973, 'price': 3389, 'frequently': 1832, 'psychological': 3458, 'drunken': 1376, 'westerns': 4854, 'social': 4049, 'dealt': 1138, 'shadows': 3913, 'cutting': 1092, 'miserable': 2863, 'ireland': 2352, 'helped': 2080, 'conflicts': 940, 'color': 877, 'pictures': 3270, 'sheer': 3925, 'simplicity': 3984, 'cross': 1066, 'details': 1219, 'max': 2774, 'innovative': 2295, 'matches': 2764, 'silent': 3975, 'covered': 1023, 'oscars': 3134, 'giving': 1915, 'attention': 345, 'dire': 1257, 'lacking': 2504, 'relies': 3606, 'favourite': 1673, 'lies': 2591, 'believing': 457, 'checking': 778, 'regarding': 3589, 'gain': 1863, 'interviews': 2330, 'opinions': 3119, 'mr': 2929, 'mistakes': 2873, 'hospital': 2172, 'hired': 2117, 'blind': 506, 'annoyed': 248, 'speech': 4102, 'drunk': 1375, 'hunter': 2199, '2nd': 41, 'massacre': 2754, 'pass': 3201, 'strip': 4228, 'grandmother': 1955, 'commercials': 903, 'wall': 4781, 'unless': 4669, 'kinda': 2477, 'lucky': 2683, 'paid': 3169, 'five': 1743, 'don': 1320, 'angry': 238, 'higher': 2101, 'promises': 3432, 'ability': 65, 'everybody': 1540, 'gang': 1867, 'previously': 3388, 'fails': 1628, 'charm': 767, 'dolph': 1317, 'vehicle': 4718, 'awards': 367, 'inner': 2292, 'terrorists': 4414, 'share': 3920, 'alive': 186, 'million': 2847, 'rated': 3527, 'touching': 4536, 'indian': 2274, 'refreshing': 3586, 'traditional': 4550, 'uncle': 4636, 'aunt': 355, 'passion': 3205, 'class': 833, 'upper': 4685, 'ask': 316, 'below': 462, 'shallow': 3917, 'deserved': 1200, 'gripping': 1976, 'guilt': 1994, 'believed': 455, 'suicide': 4283, 'essential': 1522, 'element': 1442, 'nostalgia': 3038, 'poetic': 3313, 'martin': 2748, 'national': 2970, 'unbelievably': 4635, 'slow': 4031, 'dutch': 1389, 'soap': 4047, 'thrill': 4471, 'seeking': 3859, 'stunts': 4246, 'activities': 102, 'jason': 2383, 'boyfriend': 558, 'disappeared': 1271, 'nobody': 3022, 'conceived': 929, 'carefully': 689, 'appalling': 268, 'chose': 804, 'power': 3359, 'allowing': 191, 'decide': 1148, 'fate': 1665, 'population': 3335, 'fell': 1690, 'suffered': 4276, 'following': 1774, 'record': 3573, 'legal': 2563, 'consistently': 954, 'reasonably': 3559, 'proved': 3446, 'britain': 588, 'worthwhile': 4955, 'facts': 1624, 'ugly': 4625, 'grey': 1973, 'mansion': 2731, 'fifteen': 1706, 'tragedy': 4551, 'revealed': 3671, 'arrival': 299, 'friendship': 1838, 'co': 867, 'strength': 4219, 'asian': 314, 'written': 4972, 'breathtaking': 574, 'narrator': 2967, 'insight': 2298, 'featured': 1679, 'werewolf': 4850, 'thumbs': 4485, 'moon': 2900, 'cable': 644, 'alexander': 180, 'extraordinary': 1607, 'merit': 2816, 'matrix': 2767, 'teach': 4374, 'destiny': 1212, 'environment': 1505, 'build': 614, 'factory': 1623, 'area': 286, 'effort': 1432, '100': 1, 'specifically': 4100, 'anywhere': 263, 'absolute': 71, 'author': 359, 'coherent': 871, 'concerned': 932, 'picking': 3267, 'random': 3514, 'news': 3005, 'pile': 3275, 'unable': 4631, 'follow': 1772, 'concern': 931, 'forgot': 1796, 'frame': 1815, 'rules': 3754, 'holy': 2140, 'da': 1094, 'distance': 1294, 'impressive': 2253, 'haunting': 2051, 'creating': 1039, 'building': 615, 'notice': 3048, 'relations': 3596, 'executed': 1565, 'et': 1526, 'carrying': 701, 'execution': 1566, 'bo': 521, 'diamond': 1236, 'mrs': 2930, 'jewish': 2401, 'lame': 2510, 'grave': 1962, 'rambo': 3511, 'babe': 375, 'hadnt': 2004, 'sentimental': 3882, 'instant': 2305, 'putting': 3482, 'nonsense': 3030, 'ahead': 159, 'ruined': 3751, 'wrote': 4974, 'appealing': 272, 'connected': 945, 'circle': 821, 'entertain': 1497, 'draw': 1349, 'commercial': 902, 'designed': 1203, 'mass': 2753, 'appeal': 271, 'struggle': 4234, 'grasp': 1960, 'adds': 119, 'contains': 964, 'chases': 771, 'appreciate': 279, 'shining': 3933, 'kings': 2481, 'stanley': 4148, 'compelling': 916, 'kubrick': 2496, 'convey': 982, 'terror': 4412, '1999': 27, 'wide': 4880, 'shut': 3961, 'metal': 2823, 'barry': 401, '2001': 31, '1968': 16, 'wendy': 4846, 'danny': 1112, 'overlook': 3153, 'winter': 4900, 'snow': 4045, 'spring': 4134, 'landscape': 2513, 'isolated': 2363, 'tony': 4521, 'rolled': 3729, 'neat': 2982, 'drive': 1363, 'interaction': 2322, 'disturbing': 1300, 'tour': 4538, 'staff': 4138, 'places': 3284, 'expensive': 1579, 'pink': 3277, 'colors': 879, 'wing': 4896, 'beautifully': 429, 'built': 618, 'nicholson': 3011, 'stands': 4147, 'center': 732, 'starting': 4158, 'manager': 2724, 'dick': 1239, 'open': 3112, 'kitchen': 2485, 'explanation': 1590, 'delivered': 1170, 'sincere': 3991, 'pan': 3180, 'marks': 2742, 'shelley': 3928, 'masterful': 2758, '1980': 20, 'lol': 2640, 'steve': 4181, 'established': 1524, 'bits': 490, 'broken': 594, 'stops': 4203, 'daughters': 1122, 'identify': 2216, 'graphic': 1958, 'result': 3660, 'spoke': 4125, 'intended': 2315, 'somehow': 4063, 'frightening': 1839, 'shower': 3957, 'suffer': 4275, 'flesh': 1753, 'trek': 4578, 'alcoholic': 177, 'insane': 2296, 'lloyd': 2630, 'patients': 3212, 'portrays': 3344, 'namely': 2962, 'alcohol': 176, 'rocks': 3722, 'charge': 761, 'orders': 3127, 'albeit': 173, 'screams': 3828, 'baseball': 403, 'poignant': 3315, 'realizes': 3554, 'presence': 3373, 'wow': 4962, 'troubled': 4593, 'knife': 2487, 'remembered': 3617, 'johnny': 2410, 'perfection': 3225, 'idiotic': 2219, 'subject': 4253, 'cares': 690, 'rent': 3626, 'section': 3853, 'korean': 2495, 'creatures': 1046, 'planet': 3289, 'reporter': 3636, 'ethan': 1528, 'arrives': 302, 'conclusion': 936, 'illness': 2230, 'destruction': 1216, 'arms': 294, 'dragon': 1344, 'ed': 1415, 'site': 4005, 'cleverly': 842, 'per': 3223, 'stretch': 4221, 'strangely': 4212, 'purely': 3472, 'shirt': 3937, 'fields': 1705, 'shock': 3938, 'ok': 3098, 'genres': 1889, 'adequate': 120, 'curtis': 1087, 'search': 3841, 'missing': 2869, 'cave': 727, 'whereas': 4865, 'ties': 4490, 'upset': 4687, 'claimed': 829, 'cliche': 843, 'asking': 318, 'stated': 4161, 'clips': 852, 'highlights': 2104, 'hooked': 2153, 'freak': 1824, 'claim': 828, 'occasion': 3073, 'quick': 3490, 'wit': 4908, 'occasional': 3074, 'ironic': 2355, 'spanish': 4092, 'clint': 850, 'italian': 2367, 'trilogy': 4586, 'dub': 1378, 'voices': 4763, 'exception': 1557, 'opens': 3115, 'led': 2558, 'inside': 2297, 'priest': 3392, 'mayor': 2777, 'leader': 2546, 'widow': 4883, 'searching': 3842, 'husbands': 2205, 'lying': 2690, 'escapes': 1519, 'reveal': 3670, 'identity': 2217, 'opened': 3113, 'beautiful': 428, 'ms': 2931, 'pre': 3365, 'godfather': 1927, '1972': 18, 'ran': 3513, 'discussion': 1284, 'choice': 797, 'individual': 2277, 'rights': 3697, 'treats': 4575, 'relationships': 3598, '20th': 38, 'credible': 1048, 'typical': 4623, '1930s': 11, 'spoof': 4127, 'hip': 2114, 'hop': 2154, 'funnier': 1850, 'incredible': 2269, 'christopher': 811, 'lawrence': 2539, 'latter': 2528, 'crack': 1027, 'bigger': 479, 'elizabeth': 1445, 'burn': 625, 'rented': 3628, 'thrillers': 4473, 'figured': 1712, 'psychotic': 3459, 'breaks': 571, 'twisted': 4618, 'ghost': 1902, 'attracted': 349, 'ghosts': 1903, 'monsters': 2893, 'appearing': 277, 'hate': 2046, 'cared': 685, 'theaters': 4428, 'disappointing': 1274, 'rush': 3759, 'pulled': 3462, 'failed': 1626, 'develop': 1222, 'urge': 4689, 'renting': 3629, 'sorts': 4078, 'pride': 3391, 'walks': 4780, 'gangster': 1868, 'enthusiasm': 1501, 'professor': 3422, 'dull': 1384, 'reached': 3537, 'desert': 1198, 'stress': 4220, 'miracle': 2860, 'fix': 1744, 'food': 1778, 'round': 3742, 'creature': 1045, 'curse': 1086, 'associated': 327, 'rid': 3690, 'dreadful': 1353, 'according': 88, 'synopsis': 4344, 'fury': 1855, 'wolf': 4920, 'loses': 2657, 'possessed': 3347, 'characterization': 759, 'uneven': 4649, 'scientist': 3818, 'sexy': 3911, 'assistant': 326, '1970s': 17, '1983': 22, 'starred': 4153, 'jerry': 2396, 'lewis': 2586, 'niro': 3019, 'underrated': 4642, 'doll': 1313, 'undoubtedly': 4648, 'adaptation': 113, 'four': 1812, 'staged': 4140, 'diana': 1237, 'talks': 4361, 'performs': 3234, 'instance': 2304, 'exist': 1569, 'overdone': 3152, 'dancers': 1105, 'breasts': 572, 'filmed': 1717, 'wicked': 4879, 'saving': 3797, 'lose': 2654, 'lovely': 2671, 'misery': 2865, 'village': 4743, 'neighbors': 2994, 'user': 4696, 'smoke': 4039, 'replaced': 3634, 'witty': 4917, 'suspenseful': 4331, 'melodrama': 2797, 'brosnan': 597, 'individuals': 2278, 'convincing': 985, 'keeps': 2451, 'constantly': 958, 'guessing': 1991, 'touches': 4535, 'seat': 3845, '90s': 61, 'lovable': 2668, 'dinosaurs': 1256, 'eccentric': 1414, 'beast': 422, 'introduced': 2337, 'tense': 4403, 'thriller': 4472, 'urban': 4688, 'chaos': 755, 'sake': 3775, 'curious': 1083, 'mexican': 2826, 'fears': 1677, 'construction': 960, 'outfit': 3144, 'grim': 1974, 'charismatic': 763, 'walking': 4779, 'nervous': 2999, 'importantly': 2248, 'band': 391, 'berlin': 467, 'smooth': 4041, 'event': 1535, 'direct': 1258, 'stereotypes': 4179, 'poetry': 3314, 'worry': 4950, 'wishes': 4906, 'halloween': 2010, 'friday': 1834, '13th': 5, 'bloody': 513, 'richards': 3687, 'david': 1124, 'jessica': 2398, 'switch': 4339, 'destroy': 1213, 'key': 2458, '80': 58, 'therefore': 4439, 'walk': 4775, 'shop': 3945, 'wood': 4933, 'developing': 1224, 'editor': 1423, 'producer': 3415, 'west': 4852, 'pants': 3182, 'fever': 1699, 'super': 4295, 'puts': 3481, 'cruise': 1071, 'requires': 3642, 'generally': 1881, 'altogether': 202, 'advice': 133, 'experiences': 1582, 'daily': 1097, 'numerous': 3062, 'dozens': 1339, 'standard': 4144, 'pointless': 3318, 'bringing': 586, 'vietnam': 4735, 'devoid': 1230, 'superior': 4300, 'existed': 1570, 'locked': 2637, 'spots': 4132, 'witnesses': 4916, 'muslim': 2949, 'waves': 4819, 'huh': 2187, 'involve': 2345, 'rape': 3521, 'trashy': 4566, 'exploitation': 1592, 'winds': 4895, 'spirited': 4114, 'attack': 337, 'sends': 3876, 'prepared': 3371, 'reputation': 3640, 'featuring': 1681, 'christians': 809, 'arrive': 300, 'ha': 2002, 'mere': 2814, 'sight': 3969, 'occurred': 3077, 'italy': 2368, 'interpretation': 2328, 'betty': 474, 'gender': 1878, 'debut': 1143, 'nicholas': 3010, 'alex': 179, 'marty': 2749, 'victims': 4730, 'andrew': 228, 'wet': 4855, 'notch': 3043, 'comedian': 887, 'cook': 988, 'suited': 4286, 'tommy': 4516, 'cooper': 990, 'blank': 501, 'childish': 791, 'tend': 4400, 'authority': 360, 'treasure': 4571, 'levels': 2585, 'cameo': 657, 'darker': 1116, 'soul': 4079, 'disappoint': 1272, 'seasons': 3844, 'suggest': 4280, 'opportunity': 3121, 'easily': 1406, 'bergman': 466, 'glenn': 1918, 'depicted': 1183, 'rural': 3758, 'emotionally': 1460, 'stranger': 4213, 'frustration': 1843, 'effectively': 1430, 'minor': 2857, 'grandfather': 1954, 'players': 3299, 'tears': 4380, 'dressing': 1359, 'heights': 2073, 'sharp': 3922, 'statement': 4162, 'foot': 1781, 'pain': 3170, 'ultimate': 4627, 'disappointment': 1275, 'trip': 4588, 'stylish': 4251, 'tongue': 4518, 'tied': 4489, 'tedious': 4387, 'fully': 1847, 'engage': 1479, 'melodramatic': 2798, 'werent': 4849, 'developed': 1223, 'bottom': 551, 'romance': 3732, 'glory': 1922, 'couples': 1017, 'wears': 4832, 'jesse': 2397, 'instantly': 2306, 'connect': 944, 'builds': 617, 'extent': 1605, 'julie': 2428, 'contained': 963, 'relate': 3593, 'manages': 2725, 'aspects': 322, 'hates': 2048, 'visuals': 4759, 'matched': 2763, 'overly': 3155, 'cinematic': 818, 'deaths': 1142, 'justify': 2439, 'murderer': 2941, 'mask': 2752, 'punishment': 3467, 'cops': 993, 'tortured': 4530, 'idiots': 2220, 'darkness': 1117, 'wandering': 4785, 'animal': 239, 'boll': 529, 'psycho': 3457, 'bruce': 602, 'competent': 917, 'wwii': 4975, 'nazi': 2977, 'trouble': 4592, 'empire': 1464, 'nowadays': 3055, 'notion': 3050, 'propaganda': 3435, 'suffers': 4278, 'enemy': 1477, 'recommended': 3572, 'germany': 1898, 'deeply': 1156, 'stereotype': 4178, 'unit': 4663, 'badly': 383, 'simon': 3982, 'knowing': 2490, 'laurel': 2537, 'hardy': 2037, 'thirty': 4456, 'larry': 2520, 'strangers': 4214, 'accent': 78, 'kick': 2460, 'timing': 4498, 'bus': 631, 'plots': 3310, 'mummy': 2937, 'mixed': 2877, 'major': 2711, 'accents': 79, 'opposed': 3122, 'reference': 3582, 'clown': 862, 'travesty': 4570, 'cgi': 740, 'finale': 1723, 'grew': 1972, 'red': 3576, 'blacks': 494, 'ready': 3546, 'language': 2516, 'consistent': 953, 'blame': 499, 'honest': 2146, 'uncomfortable': 4637, 'rule': 3753, 'samurai': 3779, 'sword': 4340, 'doom': 1326, 'ultra': 4629, 'achieve': 92, 'killings': 2473, 'proud': 3444, 'caught': 722, 'naive': 2958, 'views': 4742, 'fights': 1710, 'faster': 1662, 'annie': 247, 'sticks': 4186, 'ashley': 313, 'johnson': 2411, 'daddy': 1096, 'molly': 2884, 'insult': 2309, 'bedroom': 437, 'greed': 1968, 'charisma': 762, 'delivery': 1173, 'implausible': 2245, 'fetched': 1698, 'discuss': 1283, 'rising': 3703, 'sun': 4292, 'understanding': 4645, 'methods': 2825, 'boss': 546, 'reasonable': 3558, 'official': 3094, 'racist': 3503, 'mafia': 2700, 'normal': 3033, 'unbelievable': 4634, 'suddenly': 4273, 'laws': 2540, 'holiday': 2134, 'hidden': 2096, 'demons': 1178, 'presents': 3377, 'adam': 111, 'sandler': 3781, 'horrendous': 2162, 'overcome': 3151, 'bible': 477, 'gods': 1928, 'feet': 1688, 'health': 2060, 'mighty': 2836, 'emotions': 1461, 'peoples': 3222, 'letting': 2583, 'peace': 3219, 'blow': 514, 'dust': 1388, 'robot': 3717, 'brain': 562, 'damage': 1099, 'loss': 2659, 'screening': 3830, 'network': 3000, 'destroyed': 1214, 'minds': 2852, 'un': 4630, 'extended': 1604, 'sweet': 4336, 'greater': 1965, 'psychiatrist': 3455, 'workers': 4943, 'humans': 2190, 'machine': 2693, 'secrets': 3852, 'dogs': 1311, 'chick': 786, 'happiness': 2031, 'chooses': 800, 'offering': 3089, 'reflect': 3584, 'beer': 439, 'commented': 900, 'jane': 2380, 'trailers': 4555, 'sounded': 4082, 'displayed': 1292, '2003': 33, 'source': 4086, 'store': 4204, 'decade': 1144, 'contemporary': 965, 'passing': 3204, 'substance': 4258, 'lacked': 2503, 'scientists': 3819, 'significant': 3972, 'touched': 4534, 'positive': 3346, 'games': 1865, 'errors': 1516, 'primary': 3394, 'mario': 2738, 'fred': 1825, 'mediocre': 2791, 'uninteresting': 4660, 'wizard': 4919, 'dry': 1377, 'unrealistic': 4677, '30': 42, 'obsession': 3070, 'prevent': 3385, 'practically': 3362, 'millions': 2848, 'satan': 3787, 'blah': 496, 'kate': 2446, 'daniel': 1111, 'cardboard': 682, 'forbidden': 1785, 'warrior': 4802, 'unintentionally': 4659, 'hanks': 2025, 'awake': 365, 'wait': 4770, 'ladies': 2506, 'combination': 883, 'demon': 1177, 'moronic': 2907, 'philosophy': 3254, 'someones': 4065, 'extras': 1608, 'fresh': 1833, 'crowd': 1067, 'offended': 3085, 'spain': 4091, 'possibilities': 3348, 'blatant': 502, 'incredibly': 2270, 'scripted': 3835, 'explored': 1595, 'multi': 2935, 'manipulative': 2727, 'vulnerable': 4768, 'market': 2740, 'pleasantly': 3303, 'desired': 1206, 'recognized': 3570, 'valley': 4707, 'reed': 3580, 'faces': 1618, 'kong': 2494, 'dorothy': 1330, 'eastwood': 1409, 'met': 2822, 'luckily': 2682, 'titled': 4505, 'oz': 3160, 'lane': 2515, '50s': 52, 'outer': 3143, 'excitement': 1562, 'bird': 484, 'plane': 3288, 'scott': 3824, 'enemies': 1476, 'seconds': 3848, 'choreography': 802, 'sucked': 4270, 'matthew': 2772, 'powers': 3361, 'chased': 770, 'evidence': 1546, 'angel': 231, 'yesterday': 4983, 'flaw': 1749, 'highlight': 2103, 'matt': 2768, 'explicit': 1591, 'regret': 3591, 'devils': 1229, 'acceptable': 81, 'screenwriter': 3833, 'vote': 4766, 'eight': 1436, 'brazil': 568, 'seventies': 3904, 'breaking': 570, 'rough': 3741, 'punk': 3468, 'wells': 4845, 'shape': 3919, 'describes': 1196, 'raymond': 3534, 'ralph': 3510, 'richardson': 3688, 'devoted': 1231, 'weapons': 4829, 'gas': 1874, 'weapon': 4828, 'defeat': 1157, 'headed': 2058, 'ii': 2226, 'brave': 567, 'cameron': 661, 'streisand': 4218, 'raised': 3508, 'tiny': 4500, 'crocodile': 1065, 'surrounded': 4318, 'iii': 2227, 'powerful': 3360, 'breath': 573, 'choose': 799, 'ultimately': 4628, 'em': 1452, 'button': 639, 'proof': 3434, 'favorites': 1672, 'diane': 1238, 'skip': 4016, 'provoking': 3452, 'gruesome': 1986, 'cube': 1076, 'retarded': 3663, 'disappear': 1270, 'talked': 4359, 'suspense': 4330, 'afternoon': 144, 'spike': 4111, 'pleasant': 3302, 'bored': 541, 'wilson': 4891, 'jonathan': 2417, 'producing': 3417, 'roger': 3724, 'cheek': 779, 'prisoners': 3403, 'icon': 2211, 'bank': 394, 'robbery': 3711, 'maggie': 2702, 'eyed': 1612, 'miller': 2846, 'advantage': 129, 'heat': 2067, 'blowing': 515, 'musicals': 2948, 'waited': 4771, 'cheated': 775, 'lacks': 2505, 'behave': 445, 'wonders': 4931, 'swedish': 4335, 'susan': 4326, 'carl': 692, 'dickens': 1240, 'anger': 235, 'directorial': 1265, 'caring': 691, 'kenneth': 2455, 'branagh': 564, 'visual': 4757, 'beach': 419, 'tragic': 4552, 'unnecessary': 4672, 'dan': 1102, 'offers': 3090, 'contrast': 975, 'gentle': 1890, 'regardless': 3590, 'library': 2589, 'similarly': 3980, 'stiff': 4187, 'basis': 408, 'camp': 662, 'greek': 1970, 'physical': 3262, 'deals': 1137, 'leo': 2571, 'steel': 4173, 'dawson': 1128, 'reaching': 3539, 'safety': 3772, 'involves': 2348, 'centered': 733, 'minimum': 2856, 'ian': 2209, 'mention': 2810, 'caliber': 649, 'crappy': 1032, 'product': 3418, 'advanced': 128, 'civilization': 827, 'weve': 4856, 'edward': 1426, 'answers': 252, 'zombies': 4998, 'zombie': 4997, 'convoluted': 987, 'incomprehensible': 2267, 'embarrassed': 1453, 'load': 2631, 'museum': 2945, 'goodness': 1938, 'delivering': 1171, 'spending': 4106, 'simpson': 3987, 'stock': 4193, 'quotes': 3497, 'forgettable': 1794, 'uwe': 4703, 'narration': 2965, 'ham': 2011, 'roots': 3738, 'ironically': 2356, 'planned': 3290, 'lowest': 2678, 'atrocious': 335, '50': 51, 'suggested': 4281, 'australia': 356, 'bride': 577, 'detailed': 1218, 'exposure': 1599, 'essentially': 1523, 'mill': 2845, 'chasing': 772, 'reveals': 3673, 'tear': 4379, 'factor': 1622, 'buying': 641, 'fortune': 1806, '1950s': 14, '1960s': 15, 'sold': 4052, 'theatre': 4429, 'riveting': 3708, 'complaint': 920, 'boom': 537, 'whale': 4857, 'formula': 1802, 'china': 795, 'birth': 486, 'promise': 3430, 'kidnapped': 2466, 'survive': 4321, 'hint': 2112, 'status': 4165, 'survival': 4320, 'seven': 3903, 'struggling': 4236, 'remain': 3609, 'chilling': 794, 'norman': 3035, 'welcome': 4842, 'references': 3583, 'inevitable': 2282, 'unusual': 4681, 'judging': 2425, 'opera': 3116, 'jones': 2418, 'recording': 3575, 'potentially': 3356, 'dropping': 1371, 'polished': 3323, 'technically': 4382, 'thrilling': 4474, 'leading': 2547, 'manage': 2722, 'endless': 1473, 'jesus': 2399, 'quote': 3496, 'christ': 807, 'historically': 2120, 'accurate': 90, 'texas': 4418, 'versus': 4722, 'bothered': 549, 'asked': 317, 'movement': 2923, 'acts': 107, 'proceeds': 3411, 'road': 3709, 'kidding': 2465, 'witnessed': 4915, 'fool': 1779, 'holes': 2133, 'streets': 4217, 'hide': 2097, 'aid': 160, '35': 45, 'menace': 2806, 'ruin': 3750, 'semi': 3874, 'exotic': 1574, 'door': 1328, 'subtle': 4260, 'masses': 2755, 'humour': 2194, 'cat': 713, 'thomas': 4458, 'clue': 864, 'ignored': 2225, 'likewise': 2603, 'wallace': 4782, 'cox': 1026, 'lugosi': 2686, 'fiction': 1702, 'creator': 1043, 'device': 1227, 'universe': 4666, 'thousand': 4465, 'range': 3516, 'counter': 1011, 'cure': 1081, 'pseudo': 3454, 'scientific': 3817, 'persons': 3244, 'invisible': 2344, 'caused': 724, 'horrors': 2169, 'americas': 215, 'wins': 4899, 'meeting': 2794, 'capital': 673, 'bottle': 550, 'duke': 1383, 'costs': 1004, 'peters': 3248, 'roll': 3728, 'michelle': 2830, 'hill': 2108, '3rd': 47, 'coffee': 870, 'van': 4713, 'classics': 837, 'ridiculously': 3694, 'abysmal': 76, 'teenagers': 4391, 'honesty': 2148, 'dollar': 1314, 'bin': 483, 'nearby': 2980, 'attacks': 339, 'suck': 4269, 'refuses': 3587, 'belief': 451, 'sequels': 3886, 'web': 4833, 'ryan': 3765, 'digital': 1251, 'channels': 754, 'boxing': 556, 'practice': 3363, 'coach': 868, 'unfolds': 4651, 'consequences': 947, 'needless': 2989, 'throat': 4476, 'intimate': 2331, 'maria': 2736, 'learns': 2553, 'lena': 2568, 'travels': 4569, 'spoiler': 4123, 'alert': 178, 'europe': 1529, 'severe': 3906, 'shine': 3931, 'educational': 1425, 'sin': 3988, 'tons': 4520, 'expectations': 1576, 'existent': 1572, 'fox': 1814, 'league': 2549, 'cartoons': 705, 'gerard': 1895, 'hints': 2113, 'symbolism': 4341, 'angles': 237, 'deeper': 1155, 'hollow': 2135, 'splatter': 4118, 'freedom': 1828, 'iran': 2350, 'learned': 2551, 'attend': 344, 'soccer': 4048, 'nations': 2971, 'teen': 4388, 'football': 1783, 'bathroom': 412, 'demands': 1175, 'schools': 3814, 'visits': 4756, 'condition': 937, 'disturbed': 1299, 'beliefs': 452, 'falk': 1636, 'quirky': 3493, 'shell': 3927, 'toward': 4539, 'frankly': 1823, 'eat': 1411, 'wild': 4885, 'amazingly': 210, 'awkward': 374, 'handled': 2019, 'helping': 2081, 'facial': 1619, 'admittedly': 123, 'jon': 2416, 'stinker': 4191, 'props': 3439, 'excessive': 1560, 'focusing': 1769, 'stupidity': 4248, 'conservative': 948, 'painfully': 3172, 'disc': 1278, 'simmons': 3981, 'album': 175, 'lisa': 2616, 'murphy': 2944, 'handful': 2017, 'jump': 2429, 'outrageous': 3145, 'slaughter': 4021, 'shouldnt': 3952, 'massive': 2756, 'advertising': 132, 'bear': 420, 'aimed': 162, 'intelligence': 2313, 'repetitive': 3633, 'paulie': 3215, 'russian': 3762, 'owner': 3159, 'cuts': 1091, 'gory': 1943, 'evident': 1547, 'rangers': 3517, 'fx': 1858, 'resort': 3650, 'teens': 4392, 'rats': 3531, 'alien': 183, 'costume': 1005, 'superhero': 4299, 'macy': 2695, 'slasher': 4020, 'genuinely': 1892, 'bush': 632, 'myers': 2952, 'nightmares': 3015, 'england': 1482, 'energy': 1478, 'dirty': 1268, 'thick': 4447, 'enterprise': 1495, 'lab': 2501, 'goofy': 1939, 'forty': 1807, 'twenty': 4612, 'embarrassment': 1455, 'displays': 1293, 'neighborhood': 2993, 'rocket': 3721, 'encounter': 1466, 'plastic': 3294, 'fitting': 1742, 'description': 1197, 'describe': 1194, 'mentioning': 2812, 'selfish': 3870, 'causing': 726, 'jumping': 2431, 'wives': 4918, 'mini': 2854, 'receives': 3565, 'via': 4726, '2006': 36, 'decisions': 1152, 'maker': 2714, 'distribution': 1298, 'convince': 983, 'definition': 1163, 'stolen': 4195, 'sophisticated': 4075, 'paying': 3217, 'drivel': 1364, 'glad': 1916, 'angels': 234, 'fly': 1763, 'base': 402, 'sacrifice': 3766, 'threw': 4470, 'spread': 4133, 'tie': 4488, 'technology': 4385, 'forest': 1791, 'revolution': 3680, 'nail': 2957, 'jazz': 2387, 'temple': 4398, 'anne': 246, 'mothers': 2912, 'surprises': 4314, 'core': 995, 'rage': 3505, 'beats': 426, 'phantom': 3251, 'abilities': 64, 'intentionally': 2320, 'critical': 1062, 'fighter': 1708, 'necessary': 2984, 'experiment': 1583, 'prefer': 3368, 'loyal': 2679, 'imagination': 2236, 'survived': 4322, 'beings': 449, 'catherine': 719, 'makeup': 2717, 'revelation': 3674, 'donald': 1321, 'attorney': 348, 'fail': 1625, 'prisoner': 3402, 'shark': 3921, 'edition': 1422, 'masters': 2761, '1973': 19, 'productions': 3420, 'morality': 2903, 'impact': 2244, 'repeated': 3631, 'saturday': 3792, 'evening': 1534, 'witches': 4910, 'rival': 3706, 'harvey': 2042, '11': 2, 'gross': 1978, 'sport': 4129, 'surfing': 4311, 'waters': 4817, 'aged': 149, 'closely': 855, 'hundred': 2195, 'chorus': 803, 'cats': 721, 'projects': 3428, 'kim': 2475, 'hoped': 2156, 'marketing': 2741, 'commit': 904, 'international': 2326, 'square': 4136, 'climactic': 848, 'scooby': 3820, 'doo': 1325, 'buffs': 612, 'mindless': 2851, 'ring': 3698, 'nonetheless': 3029, 'flicks': 1755, 'staring': 4152, 'smiling': 4037, 'eyre': 1614, 'bumbling': 622, 'rochester': 3719, 'ludicrous': 2685, 'timothy': 4499, 'dalton': 1098, 'prize': 3405, 'bob': 524, 'rise': 3702, 'alfred': 181, 'hitchcock': 2123, 'boot': 538, 'warn': 4797, 'ben': 463, 'stiller': 4189, 'exaggerated': 1552, 'walken': 4777, 'rain': 3506, 'expert': 1585, 'kelly': 2452, 'delightful': 1168, 'liking': 2604, 'prequel': 3372, 'succeed': 4262, 'concerning': 933, 'operation': 3117, 'doubts': 1333, 'cheese': 780, 'directly': 1263, 'ruins': 3752, 'failing': 1627, 'impress': 2250, 'motion': 2913, 'heaven': 2068, 'wave': 4818, 'disneys': 1290, 'morris': 2908, 'sports': 4130, 'segment': 3867, 'jumps': 2432, 'agrees': 157, 'bay': 416, 'devil': 1228, 'offered': 3088, 'comfortable': 892, 'increasingly': 2268, 'pulling': 3463, 'tight': 4492, 'distant': 1295, 'presumably': 3380, 'throwing': 4480, 'dvds': 1392, 'aforementioned': 139, 'link': 2613, 'testament': 4417, 'triumph': 4590, 'miserably': 2864, 'visually': 4758, 'davis': 1126, 'tad': 4347, 'veteran': 4724, 'buddy': 609, 'appearances': 275, 'suffice': 4279, 'motivation': 2914, 'arguably': 289, 'delight': 1167, 'florida': 1761, 'ruby': 3749, 'study': 4242, 'kudos': 2497, 'assumed': 329, 'goldberg': 1933, 'retired': 3664, 'hung': 2197, 'improved': 2255, 'villains': 4745, 'ruthless': 3764, 'bears': 421, 'germans': 1897, 'crisis': 1060, 'print': 3399, 'sentence': 3881, 'fooled': 1780, 'naked': 2959, 'promising': 3433, 'superficial': 4298, 'chicks': 787, 'succeeds': 4264, 'jamie': 2379, 'stronger': 4230, '75': 57, 'randomly': 3515, 'rank': 3518, 'hugh': 2186, 'tim': 4494, 'mile': 2842, 'viewed': 4737, '2004': 34, 'humanity': 2189, 'cynical': 1093, 'firstly': 1737, 'secondly': 3847, 'burned': 626, 'truck': 4595, 'artists': 309, 'businessman': 634, 'domestic': 1318, 'sings': 3997, 'proves': 3447, 'moral': 2902, 'grows': 1985, 'wearing': 4831, 'floor': 1759, 'fare': 1655, 'attitudes': 347, 'tired': 4501, 'halfway': 2008, 'unpleasant': 4674, 'hoping': 2160, 'resources': 3651, 'robots': 3718, 'consists': 955, 'luke': 2687, 'hood': 2151, 'tiger': 4491, 'ron': 3734, 'parker': 3191, 'belong': 459, 'sneak': 4043, 'fabulous': 1615, 'beating': 425, 'intrigue': 2333, 'warmth': 4796, 'dave': 1123, 'joey': 2408, 'domino': 1319, 'ignorant': 2223, 'russell': 3761, 'nonsensical': 3031, 'copies': 992, 'passionate': 3206, 'sidekick': 3966, '2005': 35, 'installment': 2303, 'fairy': 1632, 'houses': 2180, 'equal': 1509, 'miike': 2837, 'writes': 4970, 'visit': 4755, 'cage': 645, 'unbearable': 4633, 'pretend': 3381, 'demand': 1174, 'pet': 3246, 'pleased': 3305, 'shall': 3916, 'sleazy': 4023, 'drops': 1372, 'tree': 4576, 'draws': 1352, 'minded': 2850, 'fancy': 1649, 'pulls': 3464, 'swimming': 4338, 'topless': 4527, 'restored': 3659, 'creation': 1040, 'elephant': 1444, 'panic': 3181, 'mate': 2765, 'ape': 266, 'stole': 4194, 'expressed': 1601, 'hollywoods': 2138, 'crush': 1072, 'witch': 4909, 'videos': 4734, 'silence': 3974, 'minimal': 2855, 'neo': 2998, 'nazis': 2978, 'priceless': 3390, 'guard': 1988, 'lessons': 2578, 'bollywood': 530, 'bridge': 578, 'edgar': 1417, 'kennedy': 2454, 'ego': 1435, 'press': 3379, 'ted': 4386, 'questionable': 3488, 'pacino': 3164, 'cusack': 1088, 'corruption': 1002, 'wreck': 4965, 'argue': 290, 'flashback': 1746, 'theory': 4437, 'introduces': 2338, 'deadly': 1133, 'trained': 4557, 'hatred': 2049, 'secretly': 3851, 'satisfied': 3789, 'gift': 1906, 'bath': 411, 'unseen': 4678, 'suits': 4287, 'woody': 4936, 'jake': 2377, 'margaret': 2735, 'packed': 3166, 'homage': 2141, 'sudden': 4272, 'frank': 1821, 'eve': 1532, 'depressed': 1187, 'depiction': 1185, 'dignity': 1252, 'couldve': 1009, 'battles': 415, 'piano': 3264, 'hardcore': 2034, 'countryside': 1015, 'pal': 3177, 'invasion': 2340, 'leg': 2562, 'souls': 4080, '24': 39, 'depression': 1189, 'bone': 533, 'bullets': 621, 'woods': 4935, 'trees': 4577, 'bound': 553, 'pays': 3218, 'underlying': 4641, 'hunting': 2201, 'abusive': 75, 'gradually': 1952, 'affect': 136, 'understood': 4647, 'tradition': 4549, 'parties': 3196, 'sixties': 4011, 'philosophical': 3253, 'considerable': 950, 'medium': 2792, 'limited': 2606, 'ho': 2127, 'voight': 4764, 'beatty': 427, 'equipment': 1511, 'blonde': 511, 'walked': 4776, 'unpredictable': 4675, 'bette': 471, 'emotion': 1458, 'partly': 3197, 'blade': 495, 'corporate': 998, 'photographer': 3259, 'imaginative': 2237, 'eastern': 1408, 'hook': 2152, 'sinister': 3998, 'voiced': 4762, 'resemblance': 3645, 'tension': 4404, 'mature': 2773, 'sexually': 3910, 'explosion': 1596, 'acid': 95, 'closed': 854, 'storm': 4206, 'inventive': 2341, 'toilet': 4512, 'worn': 4948, 'clichés': 846, 'laid': 2508, 'properly': 3437, 'jobs': 2406, 'sides': 3967, 'dentist': 1180, 'theyd': 4443, 'turkey': 4604, 'reduced': 3579, 'gangsters': 1869, 'scheme': 3812, 'trap': 4563, 'backgrounds': 381, 'thrills': 4475, '70': 55, 'rendition': 3625, 'magical': 2704, 'monkey': 2890, 'monkeys': 2891, 'stunt': 4245, 'handle': 2018, 'confidence': 938, 'technique': 4383, 'accompanied': 86, 'stilted': 4190, 'brando': 566, 'appreciated': 280, 'tracy': 4546, 'vs': 4767, 'imagery': 2234, 'madonna': 2699, 'tends': 4402, 'horribly': 2164, 'closet': 858, 'strikes': 4225, 'disjointed': 1287, 'ritter': 3705, 'cards': 683, 'card': 681, 'sum': 4289, 'ken': 2453, 'flight': 1757, 'filmmaker': 1719, 'overrated': 3156, 'titanic': 4503, 'april': 284, 'sink': 3999, 'sucks': 4271, 'drags': 1345, 'sullivan': 4288, 'unintentional': 4658, 'kevin': 2457, 'survivors': 4325, 'neil': 2995, 'lemmon': 2567, 'matthau': 2771, 'academy': 77, 'brian': 576, 'cringe': 1059, 'unfortunate': 4653, 'yellow': 4981, 'landscapes': 2514, 'composed': 926, 'irony': 2357, 'amounts': 220, 'crafted': 1029, 'changing': 752, 'raw': 3532, 'precious': 3366, 'adorable': 124, 'spell': 4104, 'giant': 1905, 'blunt': 520, 'university': 4667, 'occur': 3076, 'raped': 3522, 'skin': 4015, 'slightest': 4028, 'victoria': 4732, 'striking': 4226, 'chess': 783, 'board': 522, 'territory': 4411, 'desperation': 1210, 'expressions': 1603, 'olivier': 3103, 'conversations': 981, 'revolutionary': 3681, 'movements': 2924, 'profound': 3423, 'revealing': 3672, 'photos': 3261, 'orson': 3132, 'welles': 4844, 'jeffrey': 2391, 'gadget': 1860, 'hong': 2149, 'combat': 882, 'window': 4894, 'wrap': 4963, 'subtlety': 4261, 'credibility': 1047, 'mall': 2720, 'theyll': 4444, 'chain': 741, 'surrounding': 4319, 'goal': 1925, 'khan': 2459, 'defined': 1160, 'bore': 540, 'proceedings': 3410, 'logical': 2639, 'generic': 1885, 'mainly': 2708, 'redeeming': 3577, 'qualities': 3483, 'holmes': 2139, 'generous': 1886, 'motives': 2916, 'viewings': 4741, 'absence': 70, 'bonus': 534, 'understandable': 4644, 'christmas': 810, 'santa': 3783, 'rachel': 3500, 'pull': 3461, 'civil': 826, 'affected': 137, 'clothing': 861, 'dimensional': 1253, 'irrelevant': 2358, 'hamilton': 2012, 'integrity': 2311, 'crimes': 1056, 'complexity': 924, 'techniques': 4384, 'anderson': 227, 'fascinated': 1657, 'mentions': 2813, 'damon': 1101, 'bugs': 613, 'thankfully': 4422, 'adams': 112, 'unoriginal': 4673, 'lyrics': 2692, 'drawing': 1350, 'lazy': 2543, 'imagined': 2239, 'storytelling': 4209, 'alternate': 200, 'ya': 4976, 'heavily': 2069, 'furthermore': 1854, 'subplots': 4256, 'jungle': 2434, 'thugs': 4484, 'warriors': 4803, 'thoughtful': 4463, 'disease': 1285, 'horrid': 2165, 'attempting': 342, 'segments': 3868, 'journalist': 2420, 'patient': 3211, 'relation': 3595, 'eerie': 1427, 'loads': 2633, 'speaks': 4096, 'inspiration': 2300, 'willis': 4890, 'progresses': 3426, 'airport': 167, 'brad': 560, 'pitt': 3280, 'spoiled': 4122, 'terry': 4415, 'ranks': 3519, 'flow': 1762, 'brilliantly': 584, 'flawless': 1751, 'target': 4366, 'jumped': 2430, 'guts': 1999, 'deliberately': 1166, 'pig': 3274, 'arrived': 301, 'mtv': 2933, 'everywhere': 1545, 'cannibal': 669, 'rat': 3525, 'helicopter': 2076, 'improve': 2254, 'tame': 4363, 'cliff': 847, 'meat': 2787, 'fatal': 1664, 'bucks': 606, 'settings': 3901, 'ridden': 3691, 'idiot': 2218, 'pit': 3278, 'doomed': 1327, 'noticed': 3049, 'psychic': 3456, 'catholic': 720, 'rotten': 3740, 'jenny': 2393, 'ward': 4793, 'warner': 4799, 'meaningful': 2781, 'overwhelming': 3157, 'linda': 2609, 'kirk': 2482, 'ships': 3935, 'rick': 3689, 'suitable': 4285, 'lucas': 2680, 'elsewhere': 1449, 'specific': 4099, 'hundreds': 2196, 'slight': 4027, 'catches': 715, 'amanda': 205, 'rental': 3627, 'complain': 919, 'deaf': 1134, 'endure': 1475, 'hilariously': 2107, 'ashamed': 312, 'blond': 510, 'vengeance': 4719, 'progress': 3425, 'mild': 2839, 'sadistic': 3768, 'blair': 497, 'object': 3066, 'burton': 630, 'wouldve': 4959, 'anyways': 262, 'pulp': 3465, 'recognition': 3568, 'carter': 703, 'cagney': 646, 'shake': 3914, 'eighties': 1437, 'sole': 4055, 'brenda': 575, 'corner': 996, 'pot': 3354, 'liberal': 2588, 'bourne': 554, 'keeping': 2450, 'crucial': 1068, 'funeral': 1849, 'lively': 2627, 'blake': 498, 'nelson': 2997, 'ripped': 3701, 'inept': 2281, 'hysterical': 2208, 'omen': 3104, 'fisher': 1739, 'odds': 3082, 'rubber': 3747, 'virus': 4752, 'dialogs': 1233, 'laughably': 2531, 'itll': 2369, 'endings': 1472, 'creators': 1044, 'dubbing': 1380, 'wes': 4851, 'serve': 3893, 'position': 3345, 'transition': 4561, 'craven': 1034, 'earl': 1398, 'meaningless': 2782, 'happily': 2030, 'kurt': 2499, 'dropped': 1370, 'fourth': 1813, 'outcome': 3142, 'september': 3884, 'combined': 885, 'angela': 232, 'lust': 2689, 'dracula': 1341, 'fay': 1674, 'kissing': 2484, '1933': 12, 'supernatural': 4302, '60': 53, 'generated': 1882, 'map': 2733, 'sits': 4006, 'nose': 3037, 'melting': 2799, 'nurse': 3063, 'francis': 1818, 'contain': 962, 'alas': 172, 'stereotypical': 4180, 'jaw': 2384, 'areas': 287, 'sympathy': 4343, 'chicago': 785, 'noted': 3045, 'vaguely': 4706, 'measure': 2786, 'laughter': 2535, 'danes': 1108, 'elaborate': 1439, 'tonight': 4519, 'buddies': 608, 'block': 508, 'homosexual': 2145, 'pg': 3250, 'enjoys': 1489, 'losers': 2656, 'portion': 3338, 'shakespeare': 3915, 'poster': 3353, 'continued': 970, 'ensemble': 1492, 'duty': 1390, 'columbo': 881, 'compelled': 915, 'photographed': 3258, '3d': 46, 'sloppy': 4030, 'carpenter': 694, 'mars': 2746, 'campbell': 663, 'sutherland': 4333, 'covers': 1024, 'unhappy': 4656, 'polanski': 3321, 'lay': 2542, 'motivations': 2915, 'artificial': 306, 'mixture': 2878, 'wished': 4905, 'corpse': 999, 'groups': 1981, 'revolves': 3682, 'walls': 4783, 'differences': 1247, 'robbins': 3712, 'personalities': 3241, 'watches': 4814, 'trade': 4547, 'dynamic': 1394, 'ah': 158, 'divorce': 1301, 'conspiracy': 956, 'bud': 607, 'derek': 1192, 'mexico': 2827, 'species': 4098, 'kapoor': 2443, 'inducing': 2279, 'weakest': 4825, 'birds': 485, 'spirits': 4115, 'jimmy': 2403, 'dances': 1106, 'ginger': 1908, 'aliens': 184, 'flop': 1760, '3000': 43, 'notes': 3046, 'relatives': 3601, 'disagree': 1269, 'introduce': 2336, 'tales': 4357, 'homer': 2144, 'rob': 3710, 'avoided': 364, 'stayed': 4167, 'del': 1165, 'jaws': 2385, 'estate': 1525, 'virtually': 4751, 'females': 1694, '45': 50, 'household': 2179, 'carol': 693, 'scrooge': 3837, 'merits': 2817, 'ought': 3138, 'vacation': 4704, 'hbo': 2055, 'ellen': 1446, 'tag': 4348, 'mst3k': 2932, 'hoffman': 2128, 'comparing': 913, 'importance': 2246, 'remaining': 3610, 'freeman': 1829, 'wisdom': 4902, 'cell': 730, 'unconvincing': 4638, 'junk': 2436, 'inane': 2258, 'rap': 3520, 'plant': 3293, 'faults': 1669, 'dialogues': 1235, 'philip': 3252, 'hopeless': 2158, 'struggles': 4235, 'soviet': 4089, 'teachers': 4376, 'principal': 3398, 'bare': 398, 'blues': 519, 'stooges': 4200, 'performer': 3231, 'howard': 2182, 'sleeping': 4025, 'explore': 1594, 'creep': 1051, 'che': 773, 'pages': 3168, 'sadness': 3770, 'highest': 2102, 'youth': 4994, 'innocence': 2293, '2002': 32, 'distracting': 1297, 'command': 897, 'reflection': 3585, 'cases': 708, 'forth': 1804, 'dean': 1139, 'june': 2433, 'guest': 1992, 'march': 2734, 'fill': 1714, 'mitchell': 2875, 'hank': 2024, 'valuable': 4708, 'atlantis': 332, 'hippie': 2115, 'trite': 4589, 'lion': 2614, 'bettie': 473, 'harris': 2038, 'shines': 3932, 'designs': 1204, 'turner': 4607, 'depicting': 1184, 'bold': 528, 'resembles': 3646, 'holly': 2136, 'sally': 3776, 'newspaper': 3006, 'justin': 2440, 'corrupt': 1001, 'noble': 3021, 'frequent': 1831, 'bite': 489, 'bela': 450, 'experiments': 1584, 'inferior': 2285, 'cheating': 776, 'captured': 677, 'spoken': 4126, 'carradine': 695, 'cities': 823, 'prostitute': 3440, 'harder': 2035, 'translation': 4562, '1990': 24, 'rocky': 3723, 'bargain': 400, 'primarily': 3393, 'investigation': 2343, 'heston': 2094, 'argument': 291, 'foster': 1809, 'amy': 222, 'manhattan': 2726, 'resist': 3648, 'airplane': 166, 'garden': 1872, 'royal': 3746, 'benefit': 465, 'virgin': 4749, 'homeless': 2143, 'pitch': 3279, 'sappy': 3784, 'stellar': 4174, 'illogical': 2231, 'hamlet': 2013, 'courage': 1018, 'online': 3109, 'mysteries': 2954, 'awfully': 373, 'competition': 918, 'lie': 2590, 'eva': 1531, 'twins': 4616, 'incompetent': 2266, 'spielberg': 4110, 'advance': 127, 'jeremy': 2394, 'letter': 2581, 'defend': 1158, 'elvira': 1450, 'felix': 1689, 'secretary': 3850, 'pearl': 3220, 'blend': 504, 'tiresome': 4502, 'chapter': 757, 'sean': 3840, 'parent': 3187, 'purple': 3473, 'simplistic': 3985, 'hurts': 2203, 'hills': 2109, 'plausible': 3295, 'painted': 3174, 'limits': 2607, 'pamela': 3179, 'complicated': 925, 'plight': 3308, 'menacing': 2807, 'improvement': 2256, 'celluloid': 731, 'seed': 3856, 'destroying': 1215, 'promised': 3431, 'cuba': 1075, 'hal': 2006, 'exploration': 1593, 'eager': 1396, 'dolls': 1316, 'intention': 2319, 'ballet': 389, 'lucy': 2684, 'monk': 2889, 'lifestyle': 2593, 'sounding': 4083, 'contrary': 974, 'arrested': 298, 'rex': 3683, 'subplot': 4255, 'imitation': 2241, 'protect': 3443, 'parallel': 3185, 'discovery': 1282, '1990s': 25, 'montana': 2895, 'concert': 935, 'directs': 1267, 'misses': 2868, 'dislike': 1288, 'bakshi': 386, 'uninspired': 4657, 'machines': 2694, 'reads': 3545, 'threat': 4467, 'documentaries': 1306, 'frustrated': 1842, 'photo': 3257, 'solo': 4058, 'directions': 1262, 'pursuit': 3476, 'brains': 563, 'clip': 851, 'porno': 3337, 'allen': 188, 'stretched': 4222, 'giallo': 1904, 'surviving': 4323, 'shoots': 3944, 'forgive': 1795, 'immensely': 2243, 'scores': 3823, 'bacall': 377, 'hudson': 2184, 'maintain': 2710, 'yelling': 4980, 'wounded': 4961, 'iraq': 2351, 'freddy': 1826, 'tooth': 4524, 'chest': 784, 'intent': 2318, 'caine': 647, 'sunshine': 4294, 'burns': 628, 'flynn': 1765, 'bands': 392, 'walker': 4778, 'juvenile': 2441, 'wrestling': 4966, 'oliver': 3102, 'bull': 619, 'tender': 4401, 'der': 1191, 'everyones': 1543, 'unaware': 4632, 'nyc': 3065, 'afford': 138, 'streep': 4215, 'accused': 91, 'pokemon': 3320, 'understated': 4646, 'latin': 2527, 'swim': 4337, 'classical': 836, 'elm': 1447, 'edie': 1419, 'spider': 4109, 'teaching': 4377, 'mountain': 2917, 'blob': 507, 'opportunities': 3120, 'convincingly': 986, 'seagal': 3839, 'astaire': 330, 'familys': 1646, 'magazine': 2701, 'contest': 967, 'deceased': 1146, 'global': 1920, 'stanwyck': 4149, 'sue': 4274, 'prom': 3429, 'brooklyn': 595, 'vincent': 4746, 'elvis': 1451, 'amitabh': 216, 'scottish': 3825, 'hello': 2078, 'championship': 745, 'womens': 4924, 'floating': 1758, 'glover': 1923, 'godzilla': 1929, 'aging': 153, 'reel': 3581, 'analysis': 224, 'akshay': 169, 'clumsy': 866, 'mildred': 2841, 'aids': 161, 'garbo': 1871, 'apes': 267, 'explosions': 1597, 'lumet': 2688, 'snl': 4044, 'paltrow': 3178, 'fulci': 1845, 'lasted': 2522, 'louise': 2666, 'instinct': 2308, 'modesty': 2883, 'ramones': 3512, 'gundam': 1997}\n"
     ]
    }
   ],
   "source": [
    "print(str(vocabulary))"
   ]
  },
  {
   "cell_type": "markdown",
   "metadata": {},
   "source": [
    "Once you have added the endpoint name to the Lambda function, click on **Save**. Your Lambda function is now up and running. Next we need to create a way for our web app to execute the Lambda function."
   ]
  },
  {
   "cell_type": "markdown",
   "metadata": {},
   "source": [
    "### Setting up API Gateway\n",
    "\n",
    "Now that our Lambda function is set up, it is time to create a new API using API Gateway that will trigger the Lambda function we have just created.\n",
    "\n",
    "Using AWS Console, navigate to **Amazon API Gateway** and then click on **Get started**.\n",
    "\n",
    "On the next page, make sure that **New API** is selected and give the new api a name, for example, `sentiment_analysis_web_app`. Then, click on **Create API**.\n",
    "\n",
    "Now we have created an API, however it doesn't currently do anything. What we want it to do is to trigger the Lambda function that we created earlier.\n",
    "\n",
    "Select the **Actions** dropdown menu and click **Create Method**. A new blank method will be created, select its dropdown menu and select **POST**, then click on the check mark beside it.\n",
    "\n",
    "For the integration point, make sure that **Lambda Function** is selected and click on the **Use Lambda Proxy integration**. This option makes sure that the data that is sent to the API is then sent directly to the Lambda function with no processing. It also means that the return value must be a proper response object as it will also not be processed by API Gateway.\n",
    "\n",
    "Type the name of the Lambda function you created earlier into the **Lambda Function** text entry box and then click on **Save**. Click on **OK** in the pop-up box that then appears, giving permission to API Gateway to invoke the Lambda function you created.\n",
    "\n",
    "The last step in creating the API Gateway is to select the **Actions** dropdown and click on **Deploy API**. You will need to create a new Deployment stage and name it anything you like, for example `prod`.\n",
    "\n",
    "You have now successfully set up a public API to access your SageMaker model. Make sure to copy or write down the URL provided to invoke your newly created public API as this will be needed in the next step. This URL can be found at the top of the page, highlighted in blue next to the text **Invoke URL**."
   ]
  },
  {
   "cell_type": "markdown",
   "metadata": {},
   "source": [
    "## Step 7: Deploying our web app\n",
    "\n",
    "Now that we have a publicly available API, we can start using it in a web app. For our purposes, we have provided a simple static html file which can make use of the public api you created earlier.\n",
    "\n",
    "In the `website` folder there should be a file called `index.html`. Download the file to your computer and open that file up in a text editor of your choice. There should be a line which contains **\\*\\*REPLACE WITH PUBLIC API URL\\*\\***. Replace this string with the url that you wrote down in the last step and then save the file.\n",
    "\n",
    "Now, if you open `index.html` on your local computer, your browser will behave as a local web server and you can use the provided site to interact with your SageMaker model.\n",
    "\n",
    "If you'd like to go further, you can host this html file anywhere you'd like, for example using github or hosting a static site on Amazon's S3. Once you have done this you can share the link with anyone you'd like and have them play with it too!\n",
    "\n",
    "> **Important Note** In order for the web app to communicate with the SageMaker endpoint, the endpoint has to actually be deployed and running. This means that you are paying for it. Make sure that the endpoint is running when you want to use the web app but that you shut it down when you don't need it, otherwise you will end up with a surprisingly large AWS bill."
   ]
  },
  {
   "cell_type": "markdown",
   "metadata": {},
   "source": [
    "### Delete the endpoint\n",
    "\n",
    "Remember to always shut down your endpoint if you are no longer using it. You are charged for the length of time that the endpoint is running so if you forget and leave it on you could end up with an unexpectedly large bill."
   ]
  },
  {
   "cell_type": "code",
   "execution_count": 50,
   "metadata": {},
   "outputs": [],
   "source": [
    "xgb_predictor.delete_endpoint()"
   ]
  },
  {
   "cell_type": "markdown",
   "metadata": {},
   "source": [
    "## Optional: Clean up\n",
    "\n",
    "The default notebook instance on SageMaker doesn't have a lot of excess disk space available. As you continue to complete and execute notebooks you will eventually fill up this disk space, leading to errors which can be difficult to diagnose. Once you are completely finished using a notebook it is a good idea to remove the files that you created along the way. Of course, you can do this from the terminal or from the notebook hub if you would like. The cell below contains some commands to clean up the created files from within the notebook."
   ]
  },
  {
   "cell_type": "code",
   "execution_count": null,
   "metadata": {},
   "outputs": [],
   "source": [
    "# First we will remove all of the files contained in the data_dir directory\n",
    "!rm $data_dir/*\n",
    "\n",
    "# And then we delete the directory itself\n",
    "!rmdir $data_dir\n",
    "\n",
    "# Similarly we remove the files in the cache_dir directory and the directory itself\n",
    "!rm $cache_dir/*\n",
    "!rmdir $cache_dir"
   ]
  },
  {
   "cell_type": "code",
   "execution_count": null,
   "metadata": {},
   "outputs": [],
   "source": []
  }
 ],
 "metadata": {
  "kernelspec": {
   "display_name": "conda_python3",
   "language": "python",
   "name": "conda_python3"
  },
  "language_info": {
   "codemirror_mode": {
    "name": "ipython",
    "version": 3
   },
   "file_extension": ".py",
   "mimetype": "text/x-python",
   "name": "python",
   "nbconvert_exporter": "python",
   "pygments_lexer": "ipython3",
   "version": "3.6.5"
  }
 },
 "nbformat": 4,
 "nbformat_minor": 2
}
