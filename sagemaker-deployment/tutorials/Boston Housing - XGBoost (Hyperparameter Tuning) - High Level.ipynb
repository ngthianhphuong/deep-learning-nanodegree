{
 "cells": [
  {
   "cell_type": "markdown",
   "metadata": {},
   "source": [
    "# Predicting Boston Housing Prices\n",
    "\n",
    "## Using XGBoost in SageMaker (Hyperparameter Tuning)\n",
    "\n",
    "_Deep Learning Nanodegree Program | Deployment_\n",
    "\n",
    "---\n",
    "\n",
    "As an introduction to using SageMaker's High Level Python API for hyperparameter tuning, we will look again at the [Boston Housing Dataset](https://www.cs.toronto.edu/~delve/data/boston/bostonDetail.html) to predict the median value of a home in the area of Boston Mass.\n",
    "\n",
    "The documentation for the high level API can be found on the [ReadTheDocs page](http://sagemaker.readthedocs.io/en/latest/)\n",
    "\n",
    "## General Outline\n",
    "\n",
    "Typically, when using a notebook instance with SageMaker, you will proceed through the following steps. Of course, not every step will need to be done with each project. Also, there is quite a lot of room for variation in many of the steps, as you will see throughout these lessons.\n",
    "\n",
    "1. Download or otherwise retrieve the data.\n",
    "2. Process / Prepare the data.\n",
    "3. Upload the processed data to S3.\n",
    "4. Train a chosen model.\n",
    "5. Test the trained model (typically using a batch transform job).\n",
    "6. Deploy the trained model.\n",
    "7. Use the deployed model.\n",
    "\n",
    "In this notebook we will only be covering steps 1 through 5 as we are only interested in creating a tuned model and testing its performance."
   ]
  },
  {
   "cell_type": "markdown",
   "metadata": {},
   "source": [
    "## Step 0: Setting up the notebook\n",
    "\n",
    "We begin by setting up all of the necessary bits required to run our notebook. To start that means loading all of the Python modules we will need."
   ]
  },
  {
   "cell_type": "code",
   "execution_count": 1,
   "metadata": {},
   "outputs": [],
   "source": [
    "%matplotlib inline\n",
    "\n",
    "import os\n",
    "\n",
    "import numpy as np\n",
    "import pandas as pd\n",
    "\n",
    "import matplotlib.pyplot as plt\n",
    "\n",
    "from sklearn.datasets import load_boston\n",
    "import sklearn.model_selection"
   ]
  },
  {
   "cell_type": "markdown",
   "metadata": {},
   "source": [
    "In addition to the modules above, we need to import the various bits of SageMaker that we will be using. "
   ]
  },
  {
   "cell_type": "code",
   "execution_count": 2,
   "metadata": {},
   "outputs": [],
   "source": [
    "import sagemaker\n",
    "from sagemaker import get_execution_role\n",
    "from sagemaker.amazon.amazon_estimator import get_image_uri\n",
    "from sagemaker.predictor import csv_serializer\n",
    "\n",
    "# This is an object that represents the SageMaker session that we are currently operating in. This\n",
    "# object contains some useful information that we will need to access later such as our region.\n",
    "session = sagemaker.Session()\n",
    "\n",
    "# This is an object that represents the IAM role that we are currently assigned. When we construct\n",
    "# and launch the training job later we will need to tell it what IAM role it should have. Since our\n",
    "# use case is relatively simple we will simply assign the training job the role we currently have.\n",
    "role = get_execution_role()"
   ]
  },
  {
   "cell_type": "markdown",
   "metadata": {},
   "source": [
    "## Step 1: Downloading the data\n",
    "\n",
    "Fortunately, this dataset can be retrieved using sklearn and so this step is relatively straightforward."
   ]
  },
  {
   "cell_type": "code",
   "execution_count": 3,
   "metadata": {},
   "outputs": [],
   "source": [
    "boston = load_boston()"
   ]
  },
  {
   "cell_type": "markdown",
   "metadata": {},
   "source": [
    "## Step 2: Preparing and splitting the data\n",
    "\n",
    "Given that this is clean tabular data, we don't need to do any processing. However, we do need to split the rows in the dataset up into train, test and validation sets."
   ]
  },
  {
   "cell_type": "code",
   "execution_count": 4,
   "metadata": {},
   "outputs": [],
   "source": [
    "# First we package up the input data and the target variable (the median value) as pandas dataframes. This\n",
    "# will make saving the data to a file a little easier later on.\n",
    "\n",
    "X_bos_pd = pd.DataFrame(boston.data, columns=boston.feature_names)\n",
    "Y_bos_pd = pd.DataFrame(boston.target)\n",
    "\n",
    "# We split the dataset into 2/3 training and 1/3 testing sets.\n",
    "X_train, X_test, Y_train, Y_test = sklearn.model_selection.train_test_split(X_bos_pd, Y_bos_pd, test_size=0.33)\n",
    "\n",
    "# Then we split the training set further into 2/3 training and 1/3 validation sets.\n",
    "X_train, X_val, Y_train, Y_val = sklearn.model_selection.train_test_split(X_train, Y_train, test_size=0.33)"
   ]
  },
  {
   "cell_type": "markdown",
   "metadata": {},
   "source": [
    "## Step 3: Uploading the data files to S3\n",
    "\n",
    "When a training job is constructed using SageMaker, a container is executed which performs the training operation. This container is given access to data that is stored in S3. This means that we need to upload the data we want to use for training to S3. In addition, when we perform a batch transform job, SageMaker expects the input data to be stored on S3. We can use the SageMaker API to do this and hide some of the details.\n",
    "\n",
    "### Save the data locally\n",
    "\n",
    "First we need to create the test, train and validation csv files which we will then upload to S3."
   ]
  },
  {
   "cell_type": "code",
   "execution_count": 5,
   "metadata": {},
   "outputs": [],
   "source": [
    "# This is our local data directory. We need to make sure that it exists.\n",
    "data_dir = '../data/boston'\n",
    "if not os.path.exists(data_dir):\n",
    "    os.makedirs(data_dir)"
   ]
  },
  {
   "cell_type": "code",
   "execution_count": 6,
   "metadata": {},
   "outputs": [],
   "source": [
    "# We use pandas to save our test, train and validation data to csv files. Note that we make sure not to include header\n",
    "# information or an index as this is required by the built in algorithms provided by Amazon. Also, for the train and\n",
    "# validation data, it is assumed that the first entry in each row is the target variable.\n",
    "\n",
    "X_test.to_csv(os.path.join(data_dir, 'test.csv'), header=False, index=False)\n",
    "\n",
    "pd.concat([Y_val, X_val], axis=1).to_csv(os.path.join(data_dir, 'validation.csv'), header=False, index=False)\n",
    "pd.concat([Y_train, X_train], axis=1).to_csv(os.path.join(data_dir, 'train.csv'), header=False, index=False)"
   ]
  },
  {
   "cell_type": "markdown",
   "metadata": {},
   "source": [
    "### Upload to S3\n",
    "\n",
    "Since we are currently running inside of a SageMaker session, we can use the object which represents this session to upload our data to the 'default' S3 bucket. Note that it is good practice to provide a custom prefix (essentially an S3 folder) to make sure that you don't accidentally interfere with data uploaded from some other notebook or project."
   ]
  },
  {
   "cell_type": "code",
   "execution_count": 7,
   "metadata": {},
   "outputs": [],
   "source": [
    "prefix = 'boston-xgboost-tuning-HL'\n",
    "\n",
    "test_location = session.upload_data(os.path.join(data_dir, 'test.csv'), key_prefix=prefix)\n",
    "val_location = session.upload_data(os.path.join(data_dir, 'validation.csv'), key_prefix=prefix)\n",
    "train_location = session.upload_data(os.path.join(data_dir, 'train.csv'), key_prefix=prefix)"
   ]
  },
  {
   "cell_type": "markdown",
   "metadata": {},
   "source": [
    "## Step 4: Train the XGBoost model\n",
    "\n",
    "Now that we have the training and validation data uploaded to S3, we can construct our XGBoost model and train it. Unlike in the previous notebooks, instead of training a single model, we will use SageMaker's hyperparameter tuning functionality to train multiple models and use the one that performs the best on the validation set.\n",
    "\n",
    "To begin with, as in the previous approaches, we will need to construct an estimator object."
   ]
  },
  {
   "cell_type": "code",
   "execution_count": 8,
   "metadata": {},
   "outputs": [
    {
     "name": "stderr",
     "output_type": "stream",
     "text": [
      "WARNING:root:There is a more up to date SageMaker XGBoost image. To use the newer image, please set 'repo_version'='0.90-1'. For example:\n",
      "\tget_image_uri(region, 'xgboost', '0.90-1').\n"
     ]
    }
   ],
   "source": [
    "# As stated above, we use this utility method to construct the image name for the training container.\n",
    "container = get_image_uri(session.boto_region_name, 'xgboost')\n",
    "\n",
    "# Now that we know which container to use, we can construct the estimator object.\n",
    "xgb = sagemaker.estimator.Estimator(container, # The name of the training container\n",
    "                                    role,      # The IAM role to use (our current role in this case)\n",
    "                                    train_instance_count=1, # The number of instances to use for training\n",
    "                                    train_instance_type='ml.m4.xlarge', # The type of instance ot use for training\n",
    "                                    output_path='s3://{}/{}/output'.format(session.default_bucket(), prefix),\n",
    "                                                                        # Where to save the output (the model artifacts)\n",
    "                                    sagemaker_session=session) # The current SageMaker session"
   ]
  },
  {
   "cell_type": "markdown",
   "metadata": {},
   "source": [
    "Before beginning the hyperparameter tuning, we should make sure to set any model specific hyperparameters that we wish to have default values. There are quite a few that can be set when using the XGBoost algorithm, below are just a few of them. If you would like to change the hyperparameters below or modify additional ones you can find additional information on the [XGBoost hyperparameter page](https://docs.aws.amazon.com/sagemaker/latest/dg/xgboost_hyperparameters.html)"
   ]
  },
  {
   "cell_type": "code",
   "execution_count": 9,
   "metadata": {},
   "outputs": [],
   "source": [
    "xgb.set_hyperparameters(max_depth=5,\n",
    "                        eta=0.2,\n",
    "                        gamma=4,\n",
    "                        min_child_weight=6,\n",
    "                        subsample=0.8,\n",
    "                        objective='reg:linear',\n",
    "                        early_stopping_rounds=10,\n",
    "                        num_round=200)"
   ]
  },
  {
   "cell_type": "markdown",
   "metadata": {},
   "source": [
    "Now that we have our estimator object completely set up, it is time to create the hyperparameter tuner. To do this we need to construct a new object which contains each of the parameters we want SageMaker to tune. In this case, we wish to find the best values for the `max_depth`, `eta`, `min_child_weight`, `subsample`, and `gamma` parameters. Note that for each parameter that we want SageMaker to tune we need to specify both the *type* of the parameter and the *range* of values that parameter may take on.\n",
    "\n",
    "In addition, we specify the *number* of models to construct (`max_jobs`) and the number of those that can be trained in parallel (`max_parallel_jobs`). In the cell below we have chosen to train `20` models, of which we ask that SageMaker train `3` at a time in parallel. Note that this results in a total of `20` training jobs being executed which can take some time, in this case almost a half hour. With more complicated models this can take even longer so be aware!"
   ]
  },
  {
   "cell_type": "code",
   "execution_count": 10,
   "metadata": {},
   "outputs": [],
   "source": [
    "from sagemaker.tuner import IntegerParameter, ContinuousParameter, HyperparameterTuner\n",
    "\n",
    "xgb_hyperparameter_tuner = HyperparameterTuner(estimator = xgb, # The estimator object to use as the basis for the training jobs.\n",
    "                                               objective_metric_name = 'validation:rmse', # The metric used to compare trained models.\n",
    "                                               objective_type = 'Minimize', # Whether we wish to minimize or maximize the metric.\n",
    "                                               max_jobs = 20, # The total number of models to train\n",
    "                                               max_parallel_jobs = 3, # The number of models to train in parallel\n",
    "                                               hyperparameter_ranges = {\n",
    "                                                    'max_depth': IntegerParameter(3, 12),\n",
    "                                                    'eta'      : ContinuousParameter(0.05, 0.5),\n",
    "                                                    'min_child_weight': IntegerParameter(2, 8),\n",
    "                                                    'subsample': ContinuousParameter(0.5, 0.9),\n",
    "                                                    'gamma': ContinuousParameter(0, 10),\n",
    "                                               })"
   ]
  },
  {
   "cell_type": "markdown",
   "metadata": {},
   "source": [
    "Now that we have our hyperparameter tuner object completely set up, it is time to train it. To do this we make sure that SageMaker knows our input data is in csv format and then execute the `fit` method."
   ]
  },
  {
   "cell_type": "code",
   "execution_count": 11,
   "metadata": {},
   "outputs": [],
   "source": [
    "# This is a wrapper around the location of our train and validation data, to make sure that SageMaker\n",
    "# knows our data is in csv format.\n",
    "s3_input_train = sagemaker.s3_input(s3_data=train_location, content_type='csv')\n",
    "s3_input_validation = sagemaker.s3_input(s3_data=val_location, content_type='csv')\n",
    "\n",
    "xgb_hyperparameter_tuner.fit({'train': s3_input_train, 'validation': s3_input_validation})"
   ]
  },
  {
   "cell_type": "markdown",
   "metadata": {},
   "source": [
    "As in many of the examples we have seen so far, the `fit()` method takes care of setting up and fitting a number of different models, each with different hyperparameters. If we wish to wait for this process to finish, we can call the `wait()` method."
   ]
  },
  {
   "cell_type": "code",
   "execution_count": 12,
   "metadata": {},
   "outputs": [
    {
     "name": "stdout",
     "output_type": "stream",
     "text": [
      "..........................................................................................................................................................................................................................................................................................!\n"
     ]
    }
   ],
   "source": [
    "xgb_hyperparameter_tuner.wait()"
   ]
  },
  {
   "cell_type": "markdown",
   "metadata": {},
   "source": [
    "Once the hyperamater tuner has finished, we can retrieve information about the best performing model. "
   ]
  },
  {
   "cell_type": "code",
   "execution_count": 13,
   "metadata": {},
   "outputs": [
    {
     "data": {
      "text/plain": [
       "'xgboost-200523-0715-012-b9e9c055'"
      ]
     },
     "execution_count": 13,
     "metadata": {},
     "output_type": "execute_result"
    }
   ],
   "source": [
    "xgb_hyperparameter_tuner.best_training_job()"
   ]
  },
  {
   "cell_type": "markdown",
   "metadata": {},
   "source": [
    "In addition, since we'd like to set up a batch transform job to test the best model, we can construct a new estimator object from the results of the best training job. The `xgb_attached` object below can now be used as though we constructed an estimator with the best performing hyperparameters and then fit it to our training data."
   ]
  },
  {
   "cell_type": "code",
   "execution_count": 14,
   "metadata": {},
   "outputs": [
    {
     "name": "stdout",
     "output_type": "stream",
     "text": [
      "2020-05-23 07:28:31 Starting - Preparing the instances for training\n",
      "2020-05-23 07:28:31 Downloading - Downloading input data\n",
      "2020-05-23 07:28:31 Training - Training image download completed. Training in progress.\n",
      "2020-05-23 07:28:31 Uploading - Uploading generated training model\n",
      "2020-05-23 07:28:31 Completed - Training job completed\u001b[34mArguments: train\u001b[0m\n",
      "\u001b[34m[2020-05-23:07:28:19:INFO] Running standalone xgboost training.\u001b[0m\n",
      "\u001b[34m[2020-05-23:07:28:19:INFO] Setting up HPO optimized metric to be : rmse\u001b[0m\n",
      "\u001b[34m[2020-05-23:07:28:19:INFO] File size need to be processed in the node: 0.02mb. Available memory size in the node: 8483.16mb\u001b[0m\n",
      "\u001b[34m[2020-05-23:07:28:19:INFO] Determined delimiter of CSV input is ','\u001b[0m\n",
      "\u001b[34m[07:28:19] S3DistributionType set as FullyReplicated\u001b[0m\n",
      "\u001b[34m[07:28:19] 227x13 matrix with 2951 entries loaded from /opt/ml/input/data/train?format=csv&label_column=0&delimiter=,\u001b[0m\n",
      "\u001b[34m[2020-05-23:07:28:19:INFO] Determined delimiter of CSV input is ','\u001b[0m\n",
      "\u001b[34m[07:28:19] S3DistributionType set as FullyReplicated\u001b[0m\n",
      "\u001b[34m[07:28:19] 112x13 matrix with 1456 entries loaded from /opt/ml/input/data/validation?format=csv&label_column=0&delimiter=,\u001b[0m\n",
      "\u001b[34m[07:28:19] src/tree/updater_prune.cc:74: tree pruning end, 1 roots, 8 extra nodes, 0 pruned nodes, max_depth=3\u001b[0m\n",
      "\u001b[34m[07:28:19] src/tree/updater_prune.cc:74: tree pruning end, 1 roots, 8 extra nodes, 0 pruned nodes, max_depth=3\u001b[0m\n",
      "\u001b[34m[0]#011train-rmse:22.0881#011validation-rmse:21.148\u001b[0m\n",
      "\u001b[34mMultiple eval metrics have been passed: 'validation-rmse' will be used for early stopping.\n",
      "\u001b[0m\n",
      "\u001b[34mWill train until validation-rmse hasn't improved in 10 rounds.\u001b[0m\n",
      "\u001b[34m[1]#011train-rmse:19.929#011validation-rmse:19.0346\u001b[0m\n",
      "\u001b[34m[07:28:19] src/tree/updater_prune.cc:74: tree pruning end, 1 roots, 6 extra nodes, 2 pruned nodes, max_depth=3\u001b[0m\n",
      "\u001b[34m[2]#011train-rmse:17.9674#011validation-rmse:17.0517\u001b[0m\n",
      "\u001b[34m[07:28:19] src/tree/updater_prune.cc:74: tree pruning end, 1 roots, 12 extra nodes, 0 pruned nodes, max_depth=4\u001b[0m\n",
      "\u001b[34m[3]#011train-rmse:16.2384#011validation-rmse:15.3112\u001b[0m\n",
      "\u001b[34m[07:28:19] src/tree/updater_prune.cc:74: tree pruning end, 1 roots, 8 extra nodes, 0 pruned nodes, max_depth=3\u001b[0m\n",
      "\u001b[34m[4]#011train-rmse:14.6979#011validation-rmse:13.842\u001b[0m\n",
      "\u001b[34m[07:28:19] src/tree/updater_prune.cc:74: tree pruning end, 1 roots, 10 extra nodes, 0 pruned nodes, max_depth=3\u001b[0m\n",
      "\u001b[34m[5]#011train-rmse:13.3333#011validation-rmse:12.4862\u001b[0m\n",
      "\u001b[34m[07:28:19] src/tree/updater_prune.cc:74: tree pruning end, 1 roots, 12 extra nodes, 0 pruned nodes, max_depth=4\u001b[0m\n",
      "\u001b[34m[6]#011train-rmse:12.1225#011validation-rmse:11.297\u001b[0m\n",
      "\u001b[34m[07:28:19] src/tree/updater_prune.cc:74: tree pruning end, 1 roots, 12 extra nodes, 0 pruned nodes, max_depth=4\u001b[0m\n",
      "\u001b[34m[7]#011train-rmse:11.0105#011validation-rmse:10.2244\u001b[0m\n",
      "\u001b[34m[07:28:19] src/tree/updater_prune.cc:74: tree pruning end, 1 roots, 18 extra nodes, 0 pruned nodes, max_depth=5\u001b[0m\n",
      "\u001b[34m[8]#011train-rmse:10.0327#011validation-rmse:9.2698\u001b[0m\n",
      "\u001b[34m[07:28:19] src/tree/updater_prune.cc:74: tree pruning end, 1 roots, 20 extra nodes, 0 pruned nodes, max_depth=5\u001b[0m\n",
      "\u001b[34m[9]#011train-rmse:9.12275#011validation-rmse:8.42401\u001b[0m\n",
      "\u001b[34m[07:28:19] src/tree/updater_prune.cc:74: tree pruning end, 1 roots, 24 extra nodes, 0 pruned nodes, max_depth=6\u001b[0m\n",
      "\u001b[34m[10]#011train-rmse:8.30692#011validation-rmse:7.66927\u001b[0m\n",
      "\u001b[34m[07:28:19] src/tree/updater_prune.cc:74: tree pruning end, 1 roots, 18 extra nodes, 0 pruned nodes, max_depth=5\u001b[0m\n",
      "\u001b[34m[11]#011train-rmse:7.56904#011validation-rmse:6.98892\u001b[0m\n",
      "\u001b[34m[07:28:19] src/tree/updater_prune.cc:74: tree pruning end, 1 roots, 16 extra nodes, 0 pruned nodes, max_depth=5\u001b[0m\n",
      "\u001b[34m[12]#011train-rmse:6.92152#011validation-rmse:6.36979\u001b[0m\n",
      "\u001b[34m[07:28:19] src/tree/updater_prune.cc:74: tree pruning end, 1 roots, 20 extra nodes, 0 pruned nodes, max_depth=7\u001b[0m\n",
      "\u001b[34m[13]#011train-rmse:6.36386#011validation-rmse:5.82869\u001b[0m\n",
      "\u001b[34m[07:28:19] src/tree/updater_prune.cc:74: tree pruning end, 1 roots, 18 extra nodes, 0 pruned nodes, max_depth=6\u001b[0m\n",
      "\u001b[34m[14]#011train-rmse:5.85511#011validation-rmse:5.40195\u001b[0m\n",
      "\u001b[34m[07:28:19] src/tree/updater_prune.cc:74: tree pruning end, 1 roots, 22 extra nodes, 0 pruned nodes, max_depth=8\u001b[0m\n",
      "\u001b[34m[15]#011train-rmse:5.4434#011validation-rmse:5.05398\u001b[0m\n",
      "\u001b[34m[07:28:19] src/tree/updater_prune.cc:74: tree pruning end, 1 roots, 24 extra nodes, 2 pruned nodes, max_depth=6\u001b[0m\n",
      "\u001b[34m[16]#011train-rmse:5.04897#011validation-rmse:4.71972\u001b[0m\n",
      "\u001b[34m[07:28:19] src/tree/updater_prune.cc:74: tree pruning end, 1 roots, 24 extra nodes, 2 pruned nodes, max_depth=6\u001b[0m\n",
      "\u001b[34m[17]#011train-rmse:4.66625#011validation-rmse:4.41713\u001b[0m\n",
      "\u001b[34m[07:28:19] src/tree/updater_prune.cc:74: tree pruning end, 1 roots, 22 extra nodes, 10 pruned nodes, max_depth=8\u001b[0m\n",
      "\u001b[34m[18]#011train-rmse:4.36674#011validation-rmse:4.15957\u001b[0m\n",
      "\u001b[34m[07:28:19] src/tree/updater_prune.cc:74: tree pruning end, 1 roots, 30 extra nodes, 2 pruned nodes, max_depth=8\u001b[0m\n",
      "\u001b[34m[19]#011train-rmse:4.09231#011validation-rmse:3.96668\u001b[0m\n",
      "\u001b[34m[07:28:19] src/tree/updater_prune.cc:74: tree pruning end, 1 roots, 26 extra nodes, 2 pruned nodes, max_depth=10\u001b[0m\n",
      "\u001b[34m[20]#011train-rmse:3.84542#011validation-rmse:3.77127\u001b[0m\n",
      "\u001b[34m[07:28:19] src/tree/updater_prune.cc:74: tree pruning end, 1 roots, 30 extra nodes, 0 pruned nodes, max_depth=10\u001b[0m\n",
      "\u001b[34m[21]#011train-rmse:3.61545#011validation-rmse:3.60594\u001b[0m\n",
      "\u001b[34m[07:28:19] src/tree/updater_prune.cc:74: tree pruning end, 1 roots, 28 extra nodes, 0 pruned nodes, max_depth=6\u001b[0m\n",
      "\u001b[34m[22]#011train-rmse:3.40521#011validation-rmse:3.46468\u001b[0m\n",
      "\u001b[34m[07:28:19] src/tree/updater_prune.cc:74: tree pruning end, 1 roots, 28 extra nodes, 0 pruned nodes, max_depth=10\u001b[0m\n",
      "\u001b[34m[23]#011train-rmse:3.23285#011validation-rmse:3.33016\u001b[0m\n",
      "\u001b[34m[07:28:19] src/tree/updater_prune.cc:74: tree pruning end, 1 roots, 28 extra nodes, 4 pruned nodes, max_depth=8\u001b[0m\n",
      "\u001b[34m[24]#011train-rmse:3.08027#011validation-rmse:3.23725\u001b[0m\n",
      "\u001b[34m[07:28:19] src/tree/updater_prune.cc:74: tree pruning end, 1 roots, 32 extra nodes, 0 pruned nodes, max_depth=7\u001b[0m\n",
      "\u001b[34m[25]#011train-rmse:2.93543#011validation-rmse:3.13875\u001b[0m\n",
      "\u001b[34m[07:28:19] src/tree/updater_prune.cc:74: tree pruning end, 1 roots, 24 extra nodes, 2 pruned nodes, max_depth=10\u001b[0m\n",
      "\u001b[34m[26]#011train-rmse:2.81848#011validation-rmse:3.04497\u001b[0m\n",
      "\u001b[34m[07:28:19] src/tree/updater_prune.cc:74: tree pruning end, 1 roots, 24 extra nodes, 0 pruned nodes, max_depth=10\u001b[0m\n",
      "\u001b[34m[27]#011train-rmse:2.71268#011validation-rmse:2.98149\u001b[0m\n",
      "\u001b[34m[07:28:19] src/tree/updater_prune.cc:74: tree pruning end, 1 roots, 28 extra nodes, 2 pruned nodes, max_depth=10\u001b[0m\n",
      "\u001b[34m[28]#011train-rmse:2.62459#011validation-rmse:2.93833\u001b[0m\n",
      "\u001b[34m[07:28:19] src/tree/updater_prune.cc:74: tree pruning end, 1 roots, 32 extra nodes, 2 pruned nodes, max_depth=8\u001b[0m\n",
      "\u001b[34m[29]#011train-rmse:2.54264#011validation-rmse:2.91411\u001b[0m\n",
      "\u001b[34m[07:28:19] src/tree/updater_prune.cc:74: tree pruning end, 1 roots, 32 extra nodes, 0 pruned nodes, max_depth=10\u001b[0m\n",
      "\u001b[34m[30]#011train-rmse:2.46379#011validation-rmse:2.86797\u001b[0m\n",
      "\u001b[34m[07:28:19] src/tree/updater_prune.cc:74: tree pruning end, 1 roots, 32 extra nodes, 0 pruned nodes, max_depth=10\u001b[0m\n",
      "\u001b[34m[31]#011train-rmse:2.39465#011validation-rmse:2.83294\u001b[0m\n",
      "\u001b[34m[07:28:19] src/tree/updater_prune.cc:74: tree pruning end, 1 roots, 36 extra nodes, 0 pruned nodes, max_depth=9\u001b[0m\n",
      "\u001b[34m[32]#011train-rmse:2.31057#011validation-rmse:2.80803\u001b[0m\n",
      "\u001b[34m[07:28:19] src/tree/updater_prune.cc:74: tree pruning end, 1 roots, 34 extra nodes, 0 pruned nodes, max_depth=9\u001b[0m\n",
      "\u001b[34m[33]#011train-rmse:2.25609#011validation-rmse:2.80236\u001b[0m\n",
      "\u001b[34m[07:28:19] src/tree/updater_prune.cc:74: tree pruning end, 1 roots, 28 extra nodes, 4 pruned nodes, max_depth=10\u001b[0m\n",
      "\u001b[34m[34]#011train-rmse:2.2077#011validation-rmse:2.78754\u001b[0m\n",
      "\u001b[34m[07:28:19] src/tree/updater_prune.cc:74: tree pruning end, 1 roots, 28 extra nodes, 4 pruned nodes, max_depth=7\u001b[0m\n",
      "\u001b[34m[35]#011train-rmse:2.17495#011validation-rmse:2.78069\u001b[0m\n",
      "\u001b[34m[07:28:19] src/tree/updater_prune.cc:74: tree pruning end, 1 roots, 32 extra nodes, 4 pruned nodes, max_depth=6\u001b[0m\n",
      "\u001b[34m[36]#011train-rmse:2.10313#011validation-rmse:2.77714\u001b[0m\n",
      "\u001b[34m[07:28:19] src/tree/updater_prune.cc:74: tree pruning end, 1 roots, 32 extra nodes, 4 pruned nodes, max_depth=6\u001b[0m\n",
      "\u001b[34m[37]#011train-rmse:2.04861#011validation-rmse:2.75984\u001b[0m\n",
      "\u001b[34m[07:28:19] src/tree/updater_prune.cc:74: tree pruning end, 1 roots, 32 extra nodes, 6 pruned nodes, max_depth=7\u001b[0m\n",
      "\u001b[34m[38]#011train-rmse:2.01227#011validation-rmse:2.75285\u001b[0m\n",
      "\u001b[34m[07:28:19] src/tree/updater_prune.cc:74: tree pruning end, 1 roots, 32 extra nodes, 0 pruned nodes, max_depth=9\u001b[0m\n",
      "\u001b[34m[39]#011train-rmse:1.98056#011validation-rmse:2.75137\u001b[0m\n",
      "\u001b[34m[07:28:19] src/tree/updater_prune.cc:74: tree pruning end, 1 roots, 30 extra nodes, 4 pruned nodes, max_depth=9\u001b[0m\n",
      "\u001b[34m[40]#011train-rmse:1.92785#011validation-rmse:2.73546\u001b[0m\n",
      "\u001b[34m[07:28:19] src/tree/updater_prune.cc:74: tree pruning end, 1 roots, 28 extra nodes, 4 pruned nodes, max_depth=8\u001b[0m\n",
      "\u001b[34m[41]#011train-rmse:1.90123#011validation-rmse:2.73848\u001b[0m\n",
      "\u001b[34m[07:28:19] src/tree/updater_prune.cc:74: tree pruning end, 1 roots, 28 extra nodes, 8 pruned nodes, max_depth=6\u001b[0m\n",
      "\u001b[34m[42]#011train-rmse:1.85903#011validation-rmse:2.73286\u001b[0m\n",
      "\u001b[34m[07:28:19] src/tree/updater_prune.cc:74: tree pruning end, 1 roots, 26 extra nodes, 6 pruned nodes, max_depth=10\u001b[0m\n",
      "\u001b[34m[43]#011train-rmse:1.84281#011validation-rmse:2.72942\u001b[0m\n",
      "\u001b[34m[07:28:19] src/tree/updater_prune.cc:74: tree pruning end, 1 roots, 34 extra nodes, 2 pruned nodes, max_depth=10\u001b[0m\n",
      "\u001b[34m[44]#011train-rmse:1.80368#011validation-rmse:2.71294\u001b[0m\n",
      "\u001b[34m[07:28:19] src/tree/updater_prune.cc:74: tree pruning end, 1 roots, 28 extra nodes, 0 pruned nodes, max_depth=10\u001b[0m\n",
      "\u001b[34m[45]#011train-rmse:1.76829#011validation-rmse:2.68323\u001b[0m\n",
      "\u001b[34m[07:28:19] src/tree/updater_prune.cc:74: tree pruning end, 1 roots, 30 extra nodes, 4 pruned nodes, max_depth=8\u001b[0m\n",
      "\u001b[34m[46]#011train-rmse:1.74322#011validation-rmse:2.66603\u001b[0m\n",
      "\u001b[34m[07:28:19] src/tree/updater_prune.cc:74: tree pruning end, 1 roots, 32 extra nodes, 2 pruned nodes, max_depth=10\u001b[0m\n",
      "\u001b[34m[47]#011train-rmse:1.7127#011validation-rmse:2.66333\u001b[0m\n",
      "\u001b[34m[07:28:19] src/tree/updater_prune.cc:74: tree pruning end, 1 roots, 30 extra nodes, 2 pruned nodes, max_depth=10\u001b[0m\n",
      "\u001b[34m[48]#011train-rmse:1.6814#011validation-rmse:2.64993\u001b[0m\n",
      "\u001b[34m[07:28:19] src/tree/updater_prune.cc:74: tree pruning end, 1 roots, 20 extra nodes, 2 pruned nodes, max_depth=9\u001b[0m\n",
      "\u001b[34m[49]#011train-rmse:1.66671#011validation-rmse:2.65406\u001b[0m\n",
      "\u001b[34m[07:28:19] src/tree/updater_prune.cc:74: tree pruning end, 1 roots, 26 extra nodes, 2 pruned nodes, max_depth=10\u001b[0m\n",
      "\u001b[34m[50]#011train-rmse:1.65272#011validation-rmse:2.6551\u001b[0m\n",
      "\u001b[34m[07:28:19] src/tree/updater_prune.cc:74: tree pruning end, 1 roots, 28 extra nodes, 4 pruned nodes, max_depth=10\u001b[0m\n",
      "\u001b[34m[51]#011train-rmse:1.62457#011validation-rmse:2.64612\u001b[0m\n",
      "\u001b[34m[07:28:19] src/tree/updater_prune.cc:74: tree pruning end, 1 roots, 26 extra nodes, 6 pruned nodes, max_depth=9\u001b[0m\n",
      "\u001b[34m[52]#011train-rmse:1.60595#011validation-rmse:2.64654\u001b[0m\n",
      "\u001b[34m[07:28:19] src/tree/updater_prune.cc:74: tree pruning end, 1 roots, 32 extra nodes, 4 pruned nodes, max_depth=8\u001b[0m\n",
      "\u001b[34m[53]#011train-rmse:1.59074#011validation-rmse:2.64845\u001b[0m\n",
      "\u001b[34m[07:28:19] src/tree/updater_prune.cc:74: tree pruning end, 1 roots, 30 extra nodes, 4 pruned nodes, max_depth=9\u001b[0m\n",
      "\u001b[34m[54]#011train-rmse:1.55871#011validation-rmse:2.65158\u001b[0m\n",
      "\u001b[34m[07:28:19] src/tree/updater_prune.cc:74: tree pruning end, 1 roots, 32 extra nodes, 6 pruned nodes, max_depth=9\u001b[0m\n",
      "\u001b[34m[55]#011train-rmse:1.53065#011validation-rmse:2.64699\u001b[0m\n",
      "\u001b[34m[07:28:19] src/tree/updater_prune.cc:74: tree pruning end, 1 roots, 20 extra nodes, 0 pruned nodes, max_depth=10\u001b[0m\n",
      "\u001b[34m[56]#011train-rmse:1.51732#011validation-rmse:2.64523\u001b[0m\n",
      "\u001b[34m[07:28:19] src/tree/updater_prune.cc:74: tree pruning end, 1 roots, 24 extra nodes, 12 pruned nodes, max_depth=9\u001b[0m\n",
      "\u001b[34m[57]#011train-rmse:1.49456#011validation-rmse:2.63161\u001b[0m\n",
      "\u001b[34m[07:28:19] src/tree/updater_prune.cc:74: tree pruning end, 1 roots, 28 extra nodes, 8 pruned nodes, max_depth=7\u001b[0m\n",
      "\u001b[34m[58]#011train-rmse:1.46936#011validation-rmse:2.62558\u001b[0m\n",
      "\u001b[34m[07:28:19] src/tree/updater_prune.cc:74: tree pruning end, 1 roots, 26 extra nodes, 10 pruned nodes, max_depth=6\u001b[0m\n",
      "\u001b[34m[59]#011train-rmse:1.43776#011validation-rmse:2.62876\u001b[0m\n",
      "\u001b[34m[07:28:19] src/tree/updater_prune.cc:74: tree pruning end, 1 roots, 30 extra nodes, 4 pruned nodes, max_depth=10\u001b[0m\n",
      "\u001b[34m[60]#011train-rmse:1.41903#011validation-rmse:2.62623\u001b[0m\n",
      "\u001b[34m[07:28:19] src/tree/updater_prune.cc:74: tree pruning end, 1 roots, 24 extra nodes, 8 pruned nodes, max_depth=10\u001b[0m\n",
      "\u001b[34m[61]#011train-rmse:1.40081#011validation-rmse:2.61911\u001b[0m\n",
      "\u001b[34m[07:28:19] src/tree/updater_prune.cc:74: tree pruning end, 1 roots, 26 extra nodes, 4 pruned nodes, max_depth=10\u001b[0m\n",
      "\u001b[34m[62]#011train-rmse:1.38452#011validation-rmse:2.62422\u001b[0m\n",
      "\u001b[34m[07:28:19] src/tree/updater_prune.cc:74: tree pruning end, 1 roots, 24 extra nodes, 10 pruned nodes, max_depth=7\u001b[0m\n",
      "\u001b[34m[63]#011train-rmse:1.36239#011validation-rmse:2.61784\u001b[0m\n",
      "\u001b[34m[07:28:19] src/tree/updater_prune.cc:74: tree pruning end, 1 roots, 26 extra nodes, 2 pruned nodes, max_depth=10\u001b[0m\n",
      "\u001b[34m[64]#011train-rmse:1.35406#011validation-rmse:2.61425\u001b[0m\n",
      "\u001b[34m[07:28:19] src/tree/updater_prune.cc:74: tree pruning end, 1 roots, 22 extra nodes, 10 pruned nodes, max_depth=10\u001b[0m\n",
      "\u001b[34m[65]#011train-rmse:1.34596#011validation-rmse:2.60463\u001b[0m\n",
      "\u001b[34m[07:28:19] src/tree/updater_prune.cc:74: tree pruning end, 1 roots, 16 extra nodes, 16 pruned nodes, max_depth=7\u001b[0m\n",
      "\u001b[34m[66]#011train-rmse:1.34101#011validation-rmse:2.61384\u001b[0m\n",
      "\u001b[34m[07:28:19] src/tree/updater_prune.cc:74: tree pruning end, 1 roots, 24 extra nodes, 10 pruned nodes, max_depth=8\u001b[0m\n",
      "\u001b[34m[67]#011train-rmse:1.32508#011validation-rmse:2.61031\u001b[0m\n",
      "\u001b[34m[07:28:19] src/tree/updater_prune.cc:74: tree pruning end, 1 roots, 24 extra nodes, 10 pruned nodes, max_depth=9\u001b[0m\n",
      "\u001b[34m[68]#011train-rmse:1.30905#011validation-rmse:2.60801\u001b[0m\n",
      "\u001b[34m[07:28:19] src/tree/updater_prune.cc:74: tree pruning end, 1 roots, 22 extra nodes, 10 pruned nodes, max_depth=7\u001b[0m\n",
      "\u001b[34m[69]#011train-rmse:1.29607#011validation-rmse:2.61089\u001b[0m\n",
      "\u001b[34m[07:28:19] src/tree/updater_prune.cc:74: tree pruning end, 1 roots, 18 extra nodes, 22 pruned nodes, max_depth=7\u001b[0m\n",
      "\u001b[34m[70]#011train-rmse:1.29406#011validation-rmse:2.60434\u001b[0m\n",
      "\u001b[34m[07:28:19] src/tree/updater_prune.cc:74: tree pruning end, 1 roots, 18 extra nodes, 14 pruned nodes, max_depth=7\u001b[0m\n",
      "\u001b[34m[71]#011train-rmse:1.28337#011validation-rmse:2.60306\u001b[0m\n",
      "\u001b[34m[07:28:19] src/tree/updater_prune.cc:74: tree pruning end, 1 roots, 28 extra nodes, 8 pruned nodes, max_depth=9\u001b[0m\n",
      "\u001b[34m[72]#011train-rmse:1.27127#011validation-rmse:2.59732\u001b[0m\n",
      "\u001b[34m[07:28:19] src/tree/updater_prune.cc:74: tree pruning end, 1 roots, 28 extra nodes, 6 pruned nodes, max_depth=9\u001b[0m\n",
      "\u001b[34m[73]#011train-rmse:1.25727#011validation-rmse:2.60652\u001b[0m\n",
      "\u001b[34m[07:28:19] src/tree/updater_prune.cc:74: tree pruning end, 1 roots, 26 extra nodes, 8 pruned nodes, max_depth=6\u001b[0m\n",
      "\u001b[34m[74]#011train-rmse:1.23714#011validation-rmse:2.60452\u001b[0m\n",
      "\u001b[34m[07:28:19] src/tree/updater_prune.cc:74: tree pruning end, 1 roots, 20 extra nodes, 14 pruned nodes, max_depth=9\u001b[0m\n",
      "\u001b[34m[75]#011train-rmse:1.22732#011validation-rmse:2.60011\u001b[0m\n",
      "\u001b[34m[07:28:19] src/tree/updater_prune.cc:74: tree pruning end, 1 roots, 24 extra nodes, 12 pruned nodes, max_depth=7\u001b[0m\n",
      "\u001b[34m[76]#011train-rmse:1.21576#011validation-rmse:2.59468\u001b[0m\n",
      "\u001b[34m[07:28:19] src/tree/updater_prune.cc:74: tree pruning end, 1 roots, 14 extra nodes, 12 pruned nodes, max_depth=6\u001b[0m\n",
      "\u001b[34m[77]#011train-rmse:1.20782#011validation-rmse:2.59492\u001b[0m\n",
      "\u001b[34m[07:28:19] src/tree/updater_prune.cc:74: tree pruning end, 1 roots, 20 extra nodes, 18 pruned nodes, max_depth=8\u001b[0m\n",
      "\u001b[34m[78]#011train-rmse:1.17878#011validation-rmse:2.60062\u001b[0m\n",
      "\u001b[34m[07:28:19] src/tree/updater_prune.cc:74: tree pruning end, 1 roots, 20 extra nodes, 14 pruned nodes, max_depth=8\u001b[0m\n",
      "\u001b[34m[79]#011train-rmse:1.17001#011validation-rmse:2.60198\u001b[0m\n",
      "\u001b[34m[07:28:19] src/tree/updater_prune.cc:74: tree pruning end, 1 roots, 30 extra nodes, 6 pruned nodes, max_depth=7\u001b[0m\n",
      "\u001b[34m[80]#011train-rmse:1.15147#011validation-rmse:2.59096\u001b[0m\n",
      "\u001b[34m[07:28:19] src/tree/updater_prune.cc:74: tree pruning end, 1 roots, 16 extra nodes, 6 pruned nodes, max_depth=8\u001b[0m\n",
      "\u001b[34m[81]#011train-rmse:1.14319#011validation-rmse:2.59449\u001b[0m\n",
      "\u001b[34m[07:28:19] src/tree/updater_prune.cc:74: tree pruning end, 1 roots, 22 extra nodes, 4 pruned nodes, max_depth=9\u001b[0m\n",
      "\u001b[34m[82]#011train-rmse:1.1331#011validation-rmse:2.59861\u001b[0m\n",
      "\u001b[34m[07:28:19] src/tree/updater_prune.cc:74: tree pruning end, 1 roots, 8 extra nodes, 30 pruned nodes, max_depth=4\u001b[0m\n",
      "\u001b[34m[83]#011train-rmse:1.12509#011validation-rmse:2.59756\u001b[0m\n",
      "\u001b[34m[07:28:19] src/tree/updater_prune.cc:74: tree pruning end, 1 roots, 10 extra nodes, 14 pruned nodes, max_depth=5\u001b[0m\n",
      "\u001b[34m[84]#011train-rmse:1.11515#011validation-rmse:2.59716\u001b[0m\n",
      "\u001b[34m[07:28:19] src/tree/updater_prune.cc:74: tree pruning end, 1 roots, 16 extra nodes, 20 pruned nodes, max_depth=6\u001b[0m\n",
      "\u001b[34m[85]#011train-rmse:1.1082#011validation-rmse:2.59871\u001b[0m\n",
      "\u001b[34m[07:28:19] src/tree/updater_prune.cc:74: tree pruning end, 1 roots, 20 extra nodes, 10 pruned nodes, max_depth=8\u001b[0m\n",
      "\u001b[34m[86]#011train-rmse:1.09521#011validation-rmse:2.60165\u001b[0m\n",
      "\u001b[34m[07:28:19] src/tree/updater_prune.cc:74: tree pruning end, 1 roots, 16 extra nodes, 18 pruned nodes, max_depth=6\u001b[0m\n",
      "\u001b[34m[87]#011train-rmse:1.08743#011validation-rmse:2.60214\u001b[0m\n",
      "\u001b[34m[07:28:19] src/tree/updater_prune.cc:74: tree pruning end, 1 roots, 18 extra nodes, 14 pruned nodes, max_depth=6\u001b[0m\n",
      "\u001b[34m[88]#011train-rmse:1.08367#011validation-rmse:2.6019\u001b[0m\n",
      "\u001b[34m[07:28:19] src/tree/updater_prune.cc:74: tree pruning end, 1 roots, 14 extra nodes, 18 pruned nodes, max_depth=7\u001b[0m\n",
      "\u001b[34m[89]#011train-rmse:1.0801#011validation-rmse:2.59743\u001b[0m\n",
      "\u001b[34m[07:28:19] src/tree/updater_prune.cc:74: tree pruning end, 1 roots, 22 extra nodes, 12 pruned nodes, max_depth=7\u001b[0m\n",
      "\u001b[34m[90]#011train-rmse:1.0706#011validation-rmse:2.60034\u001b[0m\n",
      "\u001b[34mStopping. Best iteration:\u001b[0m\n",
      "\u001b[34m[80]#011train-rmse:1.15147#011validation-rmse:2.59096\n",
      "\u001b[0m\n",
      "Training seconds: 64\n",
      "Billable seconds: 64\n"
     ]
    }
   ],
   "source": [
    "xgb_attached = sagemaker.estimator.Estimator.attach(xgb_hyperparameter_tuner.best_training_job())"
   ]
  },
  {
   "cell_type": "markdown",
   "metadata": {},
   "source": [
    "## Step 5: Test the model\n",
    "\n",
    "Now that we have our best performing model, we can test it. To do this we will use the batch transform functionality. To start with, we need to build a transformer object from our fit model."
   ]
  },
  {
   "cell_type": "code",
   "execution_count": 15,
   "metadata": {},
   "outputs": [],
   "source": [
    "xgb_transformer = xgb_attached.transformer(instance_count = 1, instance_type = 'ml.m4.xlarge')"
   ]
  },
  {
   "cell_type": "markdown",
   "metadata": {},
   "source": [
    "Next we ask SageMaker to begin a batch transform job using our trained model and applying it to the test data we previous stored in S3. We need to make sure to provide SageMaker with the type of data that we are providing to our model, in our case `text/csv`, so that it knows how to serialize our data. In addition, we need to make sure to let SageMaker know how to split our data up into chunks if the entire data set happens to be too large to send to our model all at once.\n",
    "\n",
    "Note that when we ask SageMaker to do this it will execute the batch transform job in the background. Since we need to wait for the results of this job before we can continue, we use the `wait()` method. An added benefit of this is that we get some output from our batch transform job which lets us know if anything went wrong."
   ]
  },
  {
   "cell_type": "code",
   "execution_count": 16,
   "metadata": {},
   "outputs": [],
   "source": [
    "xgb_transformer.transform(test_location, content_type='text/csv', split_type='Line')"
   ]
  },
  {
   "cell_type": "code",
   "execution_count": 17,
   "metadata": {},
   "outputs": [
    {
     "name": "stdout",
     "output_type": "stream",
     "text": [
      ".....................\n",
      "\u001b[34mArguments: serve\u001b[0m\n",
      "\u001b[34m[2020-05-23 07:42:20 +0000] [1] [INFO] Starting gunicorn 19.7.1\u001b[0m\n",
      "\u001b[34m[2020-05-23 07:42:20 +0000] [1] [INFO] Listening at: http://0.0.0.0:8080 (1)\u001b[0m\n",
      "\u001b[34m[2020-05-23 07:42:20 +0000] [1] [INFO] Using worker: gevent\u001b[0m\n",
      "\u001b[34m[2020-05-23 07:42:20 +0000] [37] [INFO] Booting worker with pid: 37\u001b[0m\n",
      "\u001b[34m[2020-05-23 07:42:20 +0000] [38] [INFO] Booting worker with pid: 38\u001b[0m\n",
      "\u001b[34m[2020-05-23 07:42:20 +0000] [39] [INFO] Booting worker with pid: 39\u001b[0m\n",
      "\u001b[34m[2020-05-23:07:42:20:INFO] Model loaded successfully for worker : 37\u001b[0m\n",
      "\u001b[34m[2020-05-23 07:42:20 +0000] [40] [INFO] Booting worker with pid: 40\u001b[0m\n",
      "\u001b[34m[2020-05-23:07:42:20:INFO] Model loaded successfully for worker : 38\u001b[0m\n",
      "\u001b[34m[2020-05-23:07:42:20:INFO] Model loaded successfully for worker : 40\u001b[0m\n",
      "\u001b[34m[2020-05-23:07:42:20:INFO] Model loaded successfully for worker : 39\u001b[0m\n",
      "\u001b[34m[2020-05-23:07:42:39:INFO] Sniff delimiter as ','\u001b[0m\n",
      "\u001b[34m[2020-05-23:07:42:39:INFO] Determined delimiter of CSV input is ','\u001b[0m\n",
      "\u001b[35m[2020-05-23:07:42:39:INFO] Sniff delimiter as ','\u001b[0m\n",
      "\u001b[35m[2020-05-23:07:42:39:INFO] Determined delimiter of CSV input is ','\u001b[0m\n",
      "\u001b[32m2020-05-23T07:42:39.182:[sagemaker logs]: MaxConcurrentTransforms=4, MaxPayloadInMB=6, BatchStrategy=MULTI_RECORD\u001b[0m\n"
     ]
    }
   ],
   "source": [
    "xgb_transformer.wait()"
   ]
  },
  {
   "cell_type": "markdown",
   "metadata": {},
   "source": [
    "Now that the batch transform job has finished, the resulting output is stored on S3. Since we wish to analyze the output inside of our notebook we can use a bit of notebook magic to copy the output file from its S3 location and save it locally."
   ]
  },
  {
   "cell_type": "code",
   "execution_count": 18,
   "metadata": {},
   "outputs": [
    {
     "name": "stdout",
     "output_type": "stream",
     "text": [
      "Completed 2.3 KiB/2.3 KiB (20.1 KiB/s) with 1 file(s) remaining\r",
      "download: s3://sagemaker-eu-west-1-922641251565/xgboost-200523-0715-012-b9e9c055-2020-05-23-07-39-12-295/test.csv.out to ../data/boston/test.csv.out\r\n"
     ]
    }
   ],
   "source": [
    "!aws s3 cp --recursive $xgb_transformer.output_path $data_dir"
   ]
  },
  {
   "cell_type": "markdown",
   "metadata": {},
   "source": [
    "To see how well our model works we can create a simple scatter plot between the predicted and actual values. If the model was completely accurate the resulting scatter plot would look like the line $x=y$. As we can see, our model seems to have done okay but there is room for improvement."
   ]
  },
  {
   "cell_type": "code",
   "execution_count": 19,
   "metadata": {},
   "outputs": [],
   "source": [
    "Y_pred = pd.read_csv(os.path.join(data_dir, 'test.csv.out'), header=None)"
   ]
  },
  {
   "cell_type": "code",
   "execution_count": 20,
   "metadata": {},
   "outputs": [
    {
     "data": {
      "text/plain": [
       "Text(0.5, 1.0, 'Median Price vs Predicted Price')"
      ]
     },
     "execution_count": 20,
     "metadata": {},
     "output_type": "execute_result"
    },
    {
     "data": {
      "image/png": "[encoded data removed]",
      "text/plain": [
       "<Figure size 432x288 with 1 Axes>"
      ]
     },
     "metadata": {},
     "output_type": "display_data"
    }
   ],
   "source": [
    "plt.scatter(Y_test, Y_pred)\n",
    "plt.xlabel(\"Median Price\")\n",
    "plt.ylabel(\"Predicted Price\")\n",
    "plt.title(\"Median Price vs Predicted Price\")"
   ]
  },
  {
   "cell_type": "markdown",
   "metadata": {},
   "source": [
    "## Optional: Clean up\n",
    "\n",
    "The default notebook instance on SageMaker doesn't have a lot of excess disk space available. As you continue to complete and execute notebooks you will eventually fill up this disk space, leading to errors which can be difficult to diagnose. Once you are completely finished using a notebook it is a good idea to remove the files that you created along the way. Of course, you can do this from the terminal or from the notebook hub if you would like. The cell below contains some commands to clean up the created files from within the notebook."
   ]
  },
  {
   "cell_type": "code",
   "execution_count": 21,
   "metadata": {},
   "outputs": [],
   "source": [
    "# First we will remove all of the files contained in the data_dir directory\n",
    "!rm $data_dir/*\n",
    "\n",
    "# And then we delete the directory itself\n",
    "!rmdir $data_dir"
   ]
  },
  {
   "cell_type": "code",
   "execution_count": null,
   "metadata": {},
   "outputs": [],
   "source": []
  }
 ],
 "metadata": {
  "kernelspec": {
   "display_name": "conda_pytorch_p36",
   "language": "python",
   "name": "conda_pytorch_p36"
  },
  "language_info": {
   "codemirror_mode": {
    "name": "ipython",
    "version": 3
   },
   "file_extension": ".py",
   "mimetype": "text/x-python",
   "name": "python",
   "nbconvert_exporter": "python",
   "pygments_lexer": "ipython3",
   "version": "3.6.5"
  }
 },
 "nbformat": 4,
 "nbformat_minor": 2
}
