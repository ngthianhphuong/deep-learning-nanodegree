{
 "cells": [
  {
   "cell_type": "markdown",
   "metadata": {},
   "source": [
    "# Inference and Validation\n",
    "\n",
    "Now that you have a trained network, you can use it for making predictions. This is typically called **inference**, a term borrowed from statistics. However, neural networks have a tendency to perform *too well* on the training data and aren't able to generalize to data that hasn't been seen before. This is called **overfitting** and it impairs inference performance. To test for overfitting while training, we measure the performance on data not in the training set called the **validation** set. We avoid overfitting through regularization such as dropout while monitoring the validation performance during training. In this notebook, I'll show you how to do this in PyTorch. \n",
    "\n",
    "As usual, let's start by loading the dataset through torchvision. You'll learn more about torchvision and loading data in a later part. This time we'll be taking advantage of the test set which you can get by setting `train=False` here:\n",
    "\n",
    "```python\n",
    "testset = datasets.FashionMNIST('~/.pytorch/F_MNIST_data/', download=True, train=False, transform=transform)\n",
    "```\n",
    "\n",
    "The test set contains images just like the training set. Typically you'll see 10-20% of the original dataset held out for testing and validation with the rest being used for training."
   ]
  },
  {
   "cell_type": "code",
   "execution_count": 1,
   "metadata": {},
   "outputs": [
    {
     "name": "stdout",
     "output_type": "stream",
     "text": [
      "Downloading http://fashion-mnist.s3-website.eu-central-1.amazonaws.com/train-images-idx3-ubyte.gz\n",
      "Downloading http://fashion-mnist.s3-website.eu-central-1.amazonaws.com/train-labels-idx1-ubyte.gz\n",
      "Downloading http://fashion-mnist.s3-website.eu-central-1.amazonaws.com/t10k-images-idx3-ubyte.gz\n",
      "Downloading http://fashion-mnist.s3-website.eu-central-1.amazonaws.com/t10k-labels-idx1-ubyte.gz\n",
      "Processing...\n",
      "Done!\n"
     ]
    }
   ],
   "source": [
    "import torch\n",
    "from torchvision import datasets, transforms\n",
    "\n",
    "# Define a transform to normalize the data\n",
    "transform = transforms.Compose([transforms.ToTensor(),\n",
    "                                transforms.Normalize((0.5, 0.5, 0.5), (0.5, 0.5, 0.5))])\n",
    "# Download and load the training data\n",
    "trainset = datasets.FashionMNIST('~/.pytorch/F_MNIST_data/', download=True, train=True, transform=transform)\n",
    "trainloader = torch.utils.data.DataLoader(trainset, batch_size=64, shuffle=True)\n",
    "\n",
    "# Download and load the test data\n",
    "testset = datasets.FashionMNIST('~/.pytorch/F_MNIST_data/', download=True, train=False, transform=transform)\n",
    "testloader = torch.utils.data.DataLoader(testset, batch_size=64, shuffle=True)"
   ]
  },
  {
   "cell_type": "markdown",
   "metadata": {},
   "source": [
    "Here I'll create a model like normal, using the same one from my solution for part 4."
   ]
  },
  {
   "cell_type": "code",
   "execution_count": 2,
   "metadata": {},
   "outputs": [],
   "source": [
    "from torch import nn, optim\n",
    "import torch.nn.functional as F\n",
    "\n",
    "class Classifier(nn.Module):\n",
    "    def __init__(self):\n",
    "        super().__init__()\n",
    "        self.fc1 = nn.Linear(784, 256)\n",
    "        self.fc2 = nn.Linear(256, 128)\n",
    "        self.fc3 = nn.Linear(128, 64)\n",
    "        self.fc4 = nn.Linear(64, 10)\n",
    "        \n",
    "    def forward(self, x):\n",
    "        # make sure input tensor is flattened\n",
    "        x = x.view(x.shape[0], -1)\n",
    "        \n",
    "        x = F.relu(self.fc1(x))\n",
    "        x = F.relu(self.fc2(x))\n",
    "        x = F.relu(self.fc3(x))\n",
    "        x = F.log_softmax(self.fc4(x), dim=1)\n",
    "        \n",
    "        return x"
   ]
  },
  {
   "cell_type": "markdown",
   "metadata": {},
   "source": [
    "The goal of validation is to measure the model's performance on data that isn't part of the training set. Performance here is up to the developer to define though. Typically this is just accuracy, the percentage of classes the network predicted correctly. Other options are [precision and recall](https://en.wikipedia.org/wiki/Precision_and_recall#Definition_(classification_context)) and top-5 error rate. We'll focus on accuracy here. First I'll do a forward pass with one batch from the test set."
   ]
  },
  {
   "cell_type": "code",
   "execution_count": 3,
   "metadata": {},
   "outputs": [
    {
     "name": "stdout",
     "output_type": "stream",
     "text": [
      "torch.Size([64, 10])\n"
     ]
    }
   ],
   "source": [
    "model = Classifier()\n",
    "\n",
    "images, labels = next(iter(testloader))\n",
    "# Get the class probabilities\n",
    "ps = torch.exp(model(images))\n",
    "# Make sure the shape is appropriate, we should get 10 class probabilities for 64 examples\n",
    "print(ps.shape)"
   ]
  },
  {
   "cell_type": "markdown",
   "metadata": {},
   "source": [
    "With the probabilities, we can get the most likely class using the `ps.topk` method. This returns the $k$ highest values. Since we just want the most likely class, we can use `ps.topk(1)`. This returns a tuple of the top-$k$ values and the top-$k$ indices. If the highest value is the fifth element, we'll get back 4 as the index."
   ]
  },
  {
   "cell_type": "code",
   "execution_count": 4,
   "metadata": {},
   "outputs": [
    {
     "name": "stdout",
     "output_type": "stream",
     "text": [
      "tensor([[ 1],\n",
      "        [ 1],\n",
      "        [ 1],\n",
      "        [ 1],\n",
      "        [ 1],\n",
      "        [ 1],\n",
      "        [ 1],\n",
      "        [ 1],\n",
      "        [ 1],\n",
      "        [ 1]])\n"
     ]
    }
   ],
   "source": [
    "top_p, top_class = ps.topk(1, dim=1)\n",
    "# Look at the most likely classes for the first 10 examples\n",
    "print(top_class[:10,:])"
   ]
  },
  {
   "cell_type": "markdown",
   "metadata": {},
   "source": [
    "Now we can check if the predicted classes match the labels. This is simple to do by equating `top_class` and `labels`, but we have to be careful of the shapes. Here `top_class` is a 2D tensor with shape `(64, 1)` while `labels` is 1D with shape `(64)`. To get the equality to work out the way we want, `top_class` and `labels` must have the same shape.\n",
    "\n",
    "If we do\n",
    "\n",
    "```python\n",
    "equals = top_class == labels\n",
    "```\n",
    "\n",
    "`equals` will have shape `(64, 64)`, try it yourself. What it's doing is comparing the one element in each row of `top_class` with each element in `labels` which returns 64 True/False boolean values for each row."
   ]
  },
  {
   "cell_type": "code",
   "execution_count": 5,
   "metadata": {},
   "outputs": [],
   "source": [
    "equals = top_class == labels.view(*top_class.shape)"
   ]
  },
  {
   "cell_type": "markdown",
   "metadata": {},
   "source": [
    "Now we need to calculate the percentage of correct predictions. `equals` has binary values, either 0 or 1. This means that if we just sum up all the values and divide by the number of values, we get the percentage of correct predictions. This is the same operation as taking the mean, so we can get the accuracy with a call to `torch.mean`. If only it was that simple. If you try `torch.mean(equals)`, you'll get an error\n",
    "\n",
    "```\n",
    "RuntimeError: mean is not implemented for type torch.ByteTensor\n",
    "```\n",
    "\n",
    "This happens because `equals` has type `torch.ByteTensor` but `torch.mean` isn't implemented for tensors with that type. So we'll need to convert `equals` to a float tensor. Note that when we take `torch.mean` it returns a scalar tensor, to get the actual value as a float we'll need to do `accuracy.item()`."
   ]
  },
  {
   "cell_type": "code",
   "execution_count": 6,
   "metadata": {},
   "outputs": [
    {
     "name": "stdout",
     "output_type": "stream",
     "text": [
      "Accuracy: 10.9375%\n"
     ]
    }
   ],
   "source": [
    "accuracy = torch.mean(equals.type(torch.FloatTensor))\n",
    "print(f'Accuracy: {accuracy.item()*100}%')"
   ]
  },
  {
   "cell_type": "markdown",
   "metadata": {},
   "source": [
    "The network is untrained so it's making random guesses and we should see an accuracy around 10%. Now let's train our network and include our validation pass so we can measure how well the network is performing on the test set. Since we're not updating our parameters in the validation pass, we can speed up our code by turning off gradients using `torch.no_grad()`:\n",
    "\n",
    "```python\n",
    "# turn off gradients\n",
    "with torch.no_grad():\n",
    "    # validation pass here\n",
    "    for images, labels in testloader:\n",
    "        ...\n",
    "```\n",
    "\n",
    ">**Exercise:** Implement the validation loop below and print out the total accuracy after the loop. You can largely copy and paste the code from above, but I suggest typing it in because writing it out yourself is essential for building the skill. In general you'll always learn more by typing it rather than copy-pasting. You should be able to get an accuracy above 80%."
   ]
  },
  {
   "cell_type": "code",
   "execution_count": 7,
   "metadata": {},
   "outputs": [
    {
     "name": "stdout",
     "output_type": "stream",
     "text": [
      "Epoch: 1/30... Training loss: 0.518... Validation loss: 0.461... Accuracy: 82.713%\n",
      "Epoch: 2/30... Training loss: 0.393... Validation loss: 0.400... Accuracy: 85.430%\n",
      "Epoch: 3/30... Training loss: 0.358... Validation loss: 0.399... Accuracy: 85.908%\n",
      "Epoch: 4/30... Training loss: 0.331... Validation loss: 0.368... Accuracy: 86.604%\n",
      "Epoch: 5/30... Training loss: 0.314... Validation loss: 0.390... Accuracy: 85.858%\n",
      "Epoch: 6/30... Training loss: 0.303... Validation loss: 0.372... Accuracy: 87.122%\n",
      "Epoch: 7/30... Training loss: 0.292... Validation loss: 0.374... Accuracy: 86.564%\n",
      "Epoch: 8/30... Training loss: 0.279... Validation loss: 0.355... Accuracy: 87.142%\n",
      "Epoch: 9/30... Training loss: 0.271... Validation loss: 0.374... Accuracy: 87.619%\n",
      "Epoch: 10/30... Training loss: 0.263... Validation loss: 0.387... Accuracy: 86.664%\n",
      "Epoch: 11/30... Training loss: 0.258... Validation loss: 0.370... Accuracy: 88.376%\n",
      "Epoch: 12/30... Training loss: 0.251... Validation loss: 0.369... Accuracy: 87.381%\n",
      "Epoch: 13/30... Training loss: 0.244... Validation loss: 0.366... Accuracy: 88.047%\n",
      "Epoch: 14/30... Training loss: 0.241... Validation loss: 0.365... Accuracy: 88.087%\n",
      "Epoch: 15/30... Training loss: 0.233... Validation loss: 0.365... Accuracy: 88.475%\n",
      "Epoch: 16/30... Training loss: 0.225... Validation loss: 0.379... Accuracy: 87.281%\n",
      "Epoch: 17/30... Training loss: 0.225... Validation loss: 0.360... Accuracy: 88.147%\n",
      "Epoch: 18/30... Training loss: 0.218... Validation loss: 0.375... Accuracy: 87.988%\n",
      "Epoch: 19/30... Training loss: 0.219... Validation loss: 0.390... Accuracy: 88.097%\n",
      "Epoch: 20/30... Training loss: 0.206... Validation loss: 0.393... Accuracy: 88.416%\n",
      "Epoch: 21/30... Training loss: 0.208... Validation loss: 0.400... Accuracy: 87.669%\n",
      "Epoch: 22/30... Training loss: 0.203... Validation loss: 0.399... Accuracy: 87.430%\n",
      "Epoch: 23/30... Training loss: 0.199... Validation loss: 0.418... Accuracy: 87.689%\n",
      "Epoch: 24/30... Training loss: 0.198... Validation loss: 0.374... Accuracy: 88.754%\n",
      "Epoch: 25/30... Training loss: 0.195... Validation loss: 0.398... Accuracy: 87.998%\n",
      "Epoch: 26/30... Training loss: 0.192... Validation loss: 0.402... Accuracy: 88.495%\n",
      "Epoch: 27/30... Training loss: 0.196... Validation loss: 0.403... Accuracy: 88.386%\n",
      "Epoch: 28/30... Training loss: 0.186... Validation loss: 0.421... Accuracy: 88.445%\n",
      "Epoch: 29/30... Training loss: 0.183... Validation loss: 0.419... Accuracy: 88.197%\n",
      "Epoch: 30/30... Training loss: 0.184... Validation loss: 0.418... Accuracy: 88.047%\n"
     ]
    }
   ],
   "source": [
    "model = Classifier()\n",
    "criterion = nn.NLLLoss()\n",
    "optimizer = optim.Adam(model.parameters(), lr=0.003)\n",
    "\n",
    "epochs = 30\n",
    "steps = 0\n",
    "\n",
    "train_losses, test_losses = [], []\n",
    "for e in range(epochs):\n",
    "    running_loss = 0\n",
    "    for images, labels in trainloader:\n",
    "        \n",
    "        optimizer.zero_grad()\n",
    "        \n",
    "        log_ps = model(images)\n",
    "        loss = criterion(log_ps, labels)\n",
    "        loss.backward()\n",
    "        optimizer.step()\n",
    "        \n",
    "        running_loss += loss.item()\n",
    "        \n",
    "    else:\n",
    "        \n",
    "        ## TODO: Implement the validation pass and print out the validation accuracy\n",
    "        with torch.no_grad():\n",
    "            validation_loss = 0\n",
    "            accuracy = 0\n",
    "            for images, labels in testloader:\n",
    "                logps = model.forward(images) # calculate output of the model\n",
    "                val_loss = criterion(logps, labels)\n",
    "                validation_loss += val_loss\n",
    "                \n",
    "                # get the probabilities\n",
    "                ps = torch.exp(logps)\n",
    "                top_ps, top_class = ps.topk(1, dim=1) # get class with highest probability\n",
    "                equals = (top_class == labels.view(*top_class.shape)) # compare with true labels\n",
    "                accuracy += torch.mean(equals.type(torch.FloatTensor)) # calculate accuracy\n",
    "\n",
    "        print(\"Epoch: {}/{}...\".format(e+1, epochs),\n",
    "             \"Training loss: {:.3f}...\".format(running_loss/len(trainloader)),\n",
    "             \"Validation loss: {:.3f}...\".format(validation_loss/len(testloader)),\n",
    "             \"Accuracy: {:.3f}%\".format(accuracy.item()/len(testloader)*100))"
   ]
  },
  {
   "cell_type": "markdown",
   "metadata": {},
   "source": [
    "## Overfitting\n",
    "\n",
    "If we look at the training and validation losses as we train the network, we can see a phenomenon known as overfitting.\n",
    "\n",
    "<img src='assets/overfitting.png' width=450px>\n",
    "\n",
    "The network learns the training set better and better, resulting in lower training losses. However, it starts having problems generalizing to data outside the training set leading to the validation loss increasing. The ultimate goal of any deep learning model is to make predictions on new data, so we should strive to get the lowest validation loss possible. One option is to use the version of the model with the lowest validation loss, here the one around 8-10 training epochs. This strategy is called *early-stopping*. In practice, you'd save the model frequently as you're training then later choose the model with the lowest validation loss.\n",
    "\n",
    "The most common method to reduce overfitting (outside of early-stopping) is *dropout*, where we randomly drop input units. This forces the network to share information between weights, increasing it's ability to generalize to new data. Adding dropout in PyTorch is straightforward using the [`nn.Dropout`](https://pytorch.org/docs/stable/nn.html#torch.nn.Dropout) module.\n",
    "\n",
    "```python\n",
    "class Classifier(nn.Module):\n",
    "    def __init__(self):\n",
    "        super().__init__()\n",
    "        self.fc1 = nn.Linear(784, 256)\n",
    "        self.fc2 = nn.Linear(256, 128)\n",
    "        self.fc3 = nn.Linear(128, 64)\n",
    "        self.fc4 = nn.Linear(64, 10)\n",
    "        \n",
    "        # Dropout module with 0.2 drop probability\n",
    "        self.dropout = nn.Dropout(p=0.2)\n",
    "        \n",
    "    def forward(self, x):\n",
    "        # make sure input tensor is flattened\n",
    "        x = x.view(x.shape[0], -1)\n",
    "        \n",
    "        # Now with dropout\n",
    "        x = self.dropout(F.relu(self.fc1(x)))\n",
    "        x = self.dropout(F.relu(self.fc2(x)))\n",
    "        x = self.dropout(F.relu(self.fc3(x)))\n",
    "        \n",
    "        # output so no dropout here\n",
    "        x = F.log_softmax(self.fc4(x), dim=1)\n",
    "        \n",
    "        return x\n",
    "```\n",
    "\n",
    "During training we want to use dropout to prevent overfitting, but during inference we want to use the entire network. So, we need to turn off dropout during validation, testing, and whenever we're using the network to make predictions. To do this, you use `model.eval()`. This sets the model to evaluation mode where the dropout probability is 0. You can turn dropout back on by setting the model to train mode with `model.train()`. In general, the pattern for the validation loop will look like this, where you turn off gradients, set the model to evaluation mode, calculate the validation loss and metric, then set the model back to train mode.\n",
    "\n",
    "```python\n",
    "# turn off gradients\n",
    "with torch.no_grad():\n",
    "    \n",
    "    # set model to evaluation mode\n",
    "    model.eval()\n",
    "    \n",
    "    # validation pass here\n",
    "    for images, labels in testloader:\n",
    "        ...\n",
    "\n",
    "# set model back to train mode\n",
    "model.train()\n",
    "```"
   ]
  },
  {
   "cell_type": "markdown",
   "metadata": {},
   "source": [
    "> **Exercise:** Add dropout to your model and train it on Fashion-MNIST again. See if you can get a lower validation loss or higher accuracy."
   ]
  },
  {
   "cell_type": "code",
   "execution_count": 8,
   "metadata": {},
   "outputs": [],
   "source": [
    "## TODO: Define your model with dropout added\n",
    "\n",
    "model = nn.Sequential(nn.Linear(784, 256),\n",
    "                        nn.ReLU(),\n",
    "                        nn.Dropout(p=0.2),\n",
    "                      nn.Linear(256, 128),\n",
    "                     nn.ReLU(),\n",
    "                     nn.Dropout(p=0.2),\n",
    "                     nn.Linear(128, 64),\n",
    "                     nn.ReLU(),\n",
    "                     nn.Dropout(p=0.2),\n",
    "                     nn.Linear(64, 10),\n",
    "                     nn.LogSoftmax(dim=1))\n"
   ]
  },
  {
   "cell_type": "code",
   "execution_count": 9,
   "metadata": {},
   "outputs": [],
   "source": [
    "# define loss function and optimizer\n",
    "criterion = nn.NLLLoss()\n",
    "optimizer = optim.Adam(model.parameters(), lr = 0.01)"
   ]
  },
  {
   "cell_type": "code",
   "execution_count": 10,
   "metadata": {},
   "outputs": [
    {
     "name": "stdout",
     "output_type": "stream",
     "text": [
      "Epoch: 1/30... Training loss: 0.800... Validation loss: 0.611... Accuracy: 78.861%.\n",
      "Epoch: 2/30... Training loss: 0.710... Validation loss: 0.584... Accuracy: 80.225%.\n",
      "Epoch: 3/30... Training loss: 0.688... Validation loss: 0.588... Accuracy: 80.125%.\n",
      "Epoch: 4/30... Training loss: 0.712... Validation loss: 0.640... Accuracy: 77.896%.\n",
      "Epoch: 5/30... Training loss: 0.710... Validation loss: 0.613... Accuracy: 79.220%.\n",
      "Epoch: 6/30... Training loss: 0.698... Validation loss: 0.576... Accuracy: 80.792%.\n",
      "Epoch: 7/30... Training loss: 0.699... Validation loss: 0.542... Accuracy: 82.474%.\n",
      "Epoch: 8/30... Training loss: 0.731... Validation loss: 0.557... Accuracy: 81.180%.\n",
      "Epoch: 9/30... Training loss: 0.709... Validation loss: 0.570... Accuracy: 80.932%.\n",
      "Epoch: 10/30... Training loss: 0.724... Validation loss: 0.585... Accuracy: 79.727%.\n",
      "Epoch: 11/30... Training loss: 0.721... Validation loss: 0.645... Accuracy: 78.045%.\n",
      "Epoch: 12/30... Training loss: 0.693... Validation loss: 0.699... Accuracy: 75.727%.\n",
      "Epoch: 13/30... Training loss: 0.720... Validation loss: 0.592... Accuracy: 80.006%.\n",
      "Epoch: 14/30... Training loss: 0.716... Validation loss: 0.537... Accuracy: 81.489%.\n",
      "Epoch: 15/30... Training loss: 0.698... Validation loss: 0.596... Accuracy: 78.991%.\n",
      "Epoch: 16/30... Training loss: 0.772... Validation loss: 0.547... Accuracy: 81.260%.\n",
      "Epoch: 17/30... Training loss: 0.717... Validation loss: 0.561... Accuracy: 81.748%.\n",
      "Epoch: 18/30... Training loss: 0.703... Validation loss: 0.543... Accuracy: 81.648%.\n",
      "Epoch: 19/30... Training loss: 0.689... Validation loss: 0.568... Accuracy: 80.832%.\n",
      "Epoch: 20/30... Training loss: 0.709... Validation loss: 0.570... Accuracy: 80.504%.\n",
      "Epoch: 21/30... Training loss: 0.724... Validation loss: 0.654... Accuracy: 79.349%.\n",
      "Epoch: 22/30... Training loss: 0.724... Validation loss: 0.656... Accuracy: 76.612%.\n",
      "Epoch: 23/30... Training loss: 0.701... Validation loss: 0.561... Accuracy: 81.658%.\n",
      "Epoch: 24/30... Training loss: 0.709... Validation loss: 0.562... Accuracy: 81.101%.\n",
      "Epoch: 25/30... Training loss: 0.692... Validation loss: 0.533... Accuracy: 82.623%.\n",
      "Epoch: 26/30... Training loss: 0.682... Validation loss: 0.675... Accuracy: 75.816%.\n",
      "Epoch: 27/30... Training loss: 0.760... Validation loss: 0.647... Accuracy: 77.279%.\n",
      "Epoch: 28/30... Training loss: 0.781... Validation loss: 0.563... Accuracy: 79.618%.\n",
      "Epoch: 29/30... Training loss: 0.701... Validation loss: 0.603... Accuracy: 79.439%.\n",
      "Epoch: 30/30... Training loss: 0.672... Validation loss: 0.601... Accuracy: 79.270%.\n"
     ]
    }
   ],
   "source": [
    "## TODO: Train your model with dropout, and monitor the training progress with the validation loss and accuracy\n",
    "epochs = 30\n",
    "\n",
    "for e in range(epochs):\n",
    "    training_loss = 0\n",
    "    for images, labels in trainloader:\n",
    "        images = images.view(images.shape[0], -1) # flatten\n",
    "        optimizer.zero_grad() # set gradients to 0\n",
    "        \n",
    "        loss = criterion(model.forward(images), labels)\n",
    "        \n",
    "        training_loss += loss.item()\n",
    "        \n",
    "        loss.backward()\n",
    "        optimizer.step()\n",
    "    \n",
    "    else: # after training step, move to validation step\n",
    "        validation_loss = 0\n",
    "        accuracy = 0\n",
    "        \n",
    "        with torch.no_grad(): # turn off gradient calculation\n",
    "            model.eval() # turn on evaluation mode\n",
    "            for images, labels in testloader:\n",
    "                images = images.view(images.shape[0], -1)\n",
    "                logps = model.forward(images)\n",
    "                \n",
    "                val_loss = criterion(logps, labels)\n",
    "                validation_loss += val_loss\n",
    "                \n",
    "                ps = torch.exp(logps)\n",
    "                top_p, top_class = ps.topk(1, dim=1)\n",
    "                equals = (top_class == labels.view(*top_class.shape))\n",
    "                accuracy += torch.mean(equals.type(torch.FloatTensor))\n",
    "                \n",
    "        print(\"Epoch: {}/{}...\".format(e+1, epochs),\n",
    "             \"Training loss: {:.3f}...\".format(training_loss/len(trainloader)),\n",
    "             \"Validation loss: {:.3f}...\".format(validation_loss/len(testloader)),\n",
    "             \"Accuracy: {:.3f}%.\".format(accuracy/len(testloader)*100))\n",
    "        \n",
    "        \n",
    "    model.train() # get back to training mode\n",
    "            \n",
    "        "
   ]
  },
  {
   "cell_type": "markdown",
   "metadata": {},
   "source": [
    "## Inference\n",
    "\n",
    "Now that the model is trained, we can use it for inference. We've done this before, but now we need to remember to set the model in inference mode with `model.eval()`. You'll also want to turn off autograd with the `torch.no_grad()` context."
   ]
  },
  {
   "cell_type": "code",
   "execution_count": 12,
   "metadata": {},
   "outputs": [
    {
     "data": {
      "image/png": "[encoded data removed]",
      "text/plain": [
       "<matplotlib.figure.Figure at 0x7f561d89be80>"
      ]
     },
     "metadata": {
      "needs_background": "light"
     },
     "output_type": "display_data"
    }
   ],
   "source": [
    "# Import helper module (should be in the repo)\n",
    "import helper\n",
    "\n",
    "# Test out your network!\n",
    "\n",
    "model.eval()\n",
    "\n",
    "dataiter = iter(testloader)\n",
    "images, labels = dataiter.next()\n",
    "img = images[0]\n",
    "# Convert 2D image to 1D vector\n",
    "img = img.view(1, 784)\n",
    "\n",
    "# Calculate the class probabilities (softmax) for img\n",
    "with torch.no_grad():\n",
    "    output = model.forward(img)\n",
    "\n",
    "ps = torch.exp(output)\n",
    "\n",
    "# Plot the image and probabilities\n",
    "helper.view_classify(img.view(1, 28, 28), ps, version='Fashion')"
   ]
  },
  {
   "cell_type": "markdown",
   "metadata": {},
   "source": [
    "## Next Up!\n",
    "\n",
    "In the next part, I'll show you how to save your trained models. In general, you won't want to train a model everytime you need it. Instead, you'll train once, save it, then load the model when you want to train more or use if for inference."
   ]
  }
 ],
 "metadata": {
  "kernelspec": {
   "display_name": "Python 3",
   "language": "python",
   "name": "python3"
  },
  "language_info": {
   "codemirror_mode": {
    "name": "ipython",
    "version": 3
   },
   "file_extension": ".py",
   "mimetype": "text/x-python",
   "name": "python",
   "nbconvert_exporter": "python",
   "pygments_lexer": "ipython3",
   "version": "3.6.3"
  }
 },
 "nbformat": 4,
 "nbformat_minor": 2
}
