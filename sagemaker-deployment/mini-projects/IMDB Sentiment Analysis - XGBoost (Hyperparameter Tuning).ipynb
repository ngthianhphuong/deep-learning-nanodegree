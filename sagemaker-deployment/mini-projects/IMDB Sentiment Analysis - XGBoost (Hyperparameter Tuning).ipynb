{
 "cells": [
  {
   "cell_type": "markdown",
   "metadata": {},
   "source": [
    "# Sentiment Analysis\n",
    "\n",
    "## Using XGBoost in SageMaker\n",
    "\n",
    "_Deep Learning Nanodegree Program | Deployment_\n",
    "\n",
    "---\n",
    "\n",
    "In this example of using Amazon's SageMaker service we will construct a random tree model to predict the sentiment of a movie review. You may have seen a version of this example in a pervious lesson although it would have been done using the sklearn package. Instead, we will be using the XGBoost package as it is provided to us by Amazon.\n",
    "\n",
    "## Instructions\n",
    "\n",
    "Some template code has already been provided for you, and you will need to implement additional functionality to successfully complete this notebook. You will not need to modify the included code beyond what is requested. Sections that begin with '**TODO**' in the header indicate that you need to complete or implement some portion within them. Instructions will be provided for each section and the specifics of the implementation are marked in the code block with a `# TODO: ...` comment. Please be sure to read the instructions carefully!\n",
    "\n",
    "In addition to implementing code, there will be questions for you to answer which relate to the task and your implementation. Each section where you will answer a question is preceded by a '**Question:**' header. Carefully read each question and provide your answer below the '**Answer:**' header by editing the Markdown cell.\n",
    "\n",
    "> **Note**: Code and Markdown cells can be executed using the **Shift+Enter** keyboard shortcut. In addition, a cell can be edited by typically clicking it (double-click for Markdown cells) or by pressing **Enter** while it is highlighted."
   ]
  },
  {
   "cell_type": "markdown",
   "metadata": {},
   "source": [
    "## Step 1: Downloading the data\n",
    "\n",
    "The dataset we are going to use is very popular among researchers in Natural Language Processing, usually referred to as the [IMDb dataset](http://ai.stanford.edu/~amaas/data/sentiment/). It consists of movie reviews from the website [imdb.com](http://www.imdb.com/), each labeled as either '**pos**itive', if the reviewer enjoyed the film, or '**neg**ative' otherwise.\n",
    "\n",
    "> Maas, Andrew L., et al. [Learning Word Vectors for Sentiment Analysis](http://ai.stanford.edu/~amaas/data/sentiment/). In _Proceedings of the 49th Annual Meeting of the Association for Computational Linguistics: Human Language Technologies_. Association for Computational Linguistics, 2011.\n",
    "\n",
    "We begin by using some Jupyter Notebook magic to download and extract the dataset."
   ]
  },
  {
   "cell_type": "code",
   "execution_count": 1,
   "metadata": {},
   "outputs": [
    {
     "name": "stdout",
     "output_type": "stream",
     "text": [
      "mkdir: cannot create directory ‘../data’: File exists\n",
      "--2020-05-23 09:07:38--  http://ai.stanford.edu/~amaas/data/sentiment/aclImdb_v1.tar.gz\n",
      "Resolving ai.stanford.edu (ai.stanford.edu)... 171.64.68.10\n",
      "Connecting to ai.stanford.edu (ai.stanford.edu)|171.64.68.10|:80... connected.\n",
      "HTTP request sent, awaiting response... 200 OK\n",
      "Length: 84125825 (80M) [application/x-gzip]\n",
      "Saving to: ‘../data/aclImdb_v1.tar.gz’\n",
      "\n",
      "../data/aclImdb_v1. 100%[===================>]  80.23M  10.2MB/s    in 9.1s    \n",
      "\n",
      "2020-05-23 09:07:48 (8.81 MB/s) - ‘../data/aclImdb_v1.tar.gz’ saved [84125825/84125825]\n",
      "\n"
     ]
    }
   ],
   "source": [
    "%mkdir ../data\n",
    "!wget -O ../data/aclImdb_v1.tar.gz http://ai.stanford.edu/~amaas/data/sentiment/aclImdb_v1.tar.gz\n",
    "!tar -zxf ../data/aclImdb_v1.tar.gz -C ../data"
   ]
  },
  {
   "cell_type": "markdown",
   "metadata": {},
   "source": [
    "## Step 2: Preparing the data\n",
    "\n",
    "The data we have downloaded is split into various files, each of which contains a single review. It will be much easier going forward if we combine these individual files into two large files, one for training and one for testing."
   ]
  },
  {
   "cell_type": "code",
   "execution_count": 2,
   "metadata": {},
   "outputs": [],
   "source": [
    "import os\n",
    "import glob\n",
    "\n",
    "def read_imdb_data(data_dir='../data/aclImdb'):\n",
    "    data = {}\n",
    "    labels = {}\n",
    "    \n",
    "    for data_type in ['train', 'test']:\n",
    "        data[data_type] = {}\n",
    "        labels[data_type] = {}\n",
    "        \n",
    "        for sentiment in ['pos', 'neg']:\n",
    "            data[data_type][sentiment] = []\n",
    "            labels[data_type][sentiment] = []\n",
    "            \n",
    "            path = os.path.join(data_dir, data_type, sentiment, '*.txt')\n",
    "            files = glob.glob(path)\n",
    "            \n",
    "            for f in files:\n",
    "                with open(f) as review:\n",
    "                    data[data_type][sentiment].append(review.read())\n",
    "                    # Here we represent a positive review by '1' and a negative review by '0'\n",
    "                    labels[data_type][sentiment].append(1 if sentiment == 'pos' else 0)\n",
    "                    \n",
    "            assert len(data[data_type][sentiment]) == len(labels[data_type][sentiment]), \\\n",
    "                    \"{}/{} data size does not match labels size\".format(data_type, sentiment)\n",
    "                \n",
    "    return data, labels"
   ]
  },
  {
   "cell_type": "code",
   "execution_count": 3,
   "metadata": {},
   "outputs": [
    {
     "name": "stdout",
     "output_type": "stream",
     "text": [
      "IMDB reviews: train = 12500 pos / 12500 neg, test = 12500 pos / 12500 neg\n"
     ]
    }
   ],
   "source": [
    "data, labels = read_imdb_data()\n",
    "print(\"IMDB reviews: train = {} pos / {} neg, test = {} pos / {} neg\".format(\n",
    "            len(data['train']['pos']), len(data['train']['neg']),\n",
    "            len(data['test']['pos']), len(data['test']['neg'])))"
   ]
  },
  {
   "cell_type": "code",
   "execution_count": 4,
   "metadata": {},
   "outputs": [],
   "source": [
    "from sklearn.utils import shuffle\n",
    "\n",
    "def prepare_imdb_data(data, labels):\n",
    "    \"\"\"Prepare training and test sets from IMDb movie reviews.\"\"\"\n",
    "    \n",
    "    #Combine positive and negative reviews and labels\n",
    "    data_train = data['train']['pos'] + data['train']['neg']\n",
    "    data_test = data['test']['pos'] + data['test']['neg']\n",
    "    labels_train = labels['train']['pos'] + labels['train']['neg']\n",
    "    labels_test = labels['test']['pos'] + labels['test']['neg']\n",
    "    \n",
    "    #Shuffle reviews and corresponding labels within training and test sets\n",
    "    data_train, labels_train = shuffle(data_train, labels_train)\n",
    "    data_test, labels_test = shuffle(data_test, labels_test)\n",
    "    \n",
    "    # Return a unified training data, test data, training labels, test labets\n",
    "    return data_train, data_test, labels_train, labels_test"
   ]
  },
  {
   "cell_type": "code",
   "execution_count": 5,
   "metadata": {},
   "outputs": [
    {
     "name": "stdout",
     "output_type": "stream",
     "text": [
      "IMDb reviews (combined): train = 25000, test = 25000\n"
     ]
    }
   ],
   "source": [
    "train_X, test_X, train_y, test_y = prepare_imdb_data(data, labels)\n",
    "print(\"IMDb reviews (combined): train = {}, test = {}\".format(len(train_X), len(test_X)))"
   ]
  },
  {
   "cell_type": "code",
   "execution_count": 6,
   "metadata": {},
   "outputs": [
    {
     "data": {
      "text/plain": [
       "'As a young boy, I always sort of hated \"Cinderella,\" since I was outvoted by my two sisters when my parents were considering what Disney movie to buy. I wanted \"Dumbo,\" but my sisters won out, and we got \"Cinderella.\" They thoroughly enjoyed the movie while I sulked in the back of the room playing with my Star Wars action figures.<br /><br />A lot has changed since then. My love of the Disney theme parks landed me an internship at Walt Disney World, and I now have two young nieces. I like to showcase Disney to them as much as I can, and we recently watched \"Cinderella\" together. With my newfound appreciation for all that is Disney, I watched \"Cinderella\" with a new perspective and was impressed with what I saw.<br /><br />From the beginning of the movie, though, I didn\\'t quite understand why Cinderella was trapped in such a horrible predicament. Why was she such a slave to her stepfamily, and why couldn\\'t she just run away? I wasn\\'t too sympathetic to Cinderella, but as the story progressed, I found myself becoming immersed in the story. Maybe the eye-catching animation or the fun-loving characters drew me in, or maybe it was the timeless songs. Listening to songs like \"Bibbidy-Bobbidy-Boo\" and \"A Dream is a Wish Your Heart Makes\" sort of whisked me back to the theme parks. I can picture myself in that carefree and fun atmosphere while looking at the awe-inspiring Cinderella Castle.<br /><br />Something about this movie just evokes the magic of Disney. That may make many people scoff, but go to the Magic Kingdom and see all the little girls dressed up like Cinderella that are excited to be in this fantasy world, and you\\'ll know what I\\'m talking about. The images of Cinderella and the glass slipper - as well as Mickey Mouse, Winnie the Pooh, and Tinkerbell - embody why Disney is one of the most beloved companies in the entire world.<br /><br />While \"Cinderella\" may not be the strongest story, it is sort of iconic in Disney and movie history. It represents that fun, idealistic, and fantasy-like wonderment we held when we were kids. I imagine this movie holds a lot of meaning to many, many people out there. It may not be my favorite Disney movie, but it does represent all that I love and admire about the Company.<br /><br />My IMDb Rating: 10/10. My Yahoo! Grade: A (Outstanding)'"
      ]
     },
     "execution_count": 6,
     "metadata": {},
     "output_type": "execute_result"
    }
   ],
   "source": [
    "train_X[100]"
   ]
  },
  {
   "cell_type": "markdown",
   "metadata": {},
   "source": [
    "## Step 3: Processing the data\n",
    "\n",
    "Now that we have our training and testing datasets merged and ready to use, we need to start processing the raw data into something that will be useable by our machine learning algorithm. To begin with, we remove any html formatting that may appear in the reviews and perform some standard natural language processing in order to homogenize the data."
   ]
  },
  {
   "cell_type": "code",
   "execution_count": 7,
   "metadata": {},
   "outputs": [
    {
     "name": "stdout",
     "output_type": "stream",
     "text": [
      "[nltk_data] Downloading package stopwords to\n",
      "[nltk_data]     /home/ec2-user/nltk_data...\n",
      "[nltk_data]   Unzipping corpora/stopwords.zip.\n"
     ]
    }
   ],
   "source": [
    "import nltk\n",
    "nltk.download(\"stopwords\")\n",
    "from nltk.corpus import stopwords\n",
    "from nltk.stem.porter import *\n",
    "stemmer = PorterStemmer()"
   ]
  },
  {
   "cell_type": "code",
   "execution_count": 8,
   "metadata": {},
   "outputs": [],
   "source": [
    "import re\n",
    "from bs4 import BeautifulSoup\n",
    "\n",
    "def review_to_words(review):\n",
    "    text = BeautifulSoup(review, \"html.parser\").get_text() # Remove HTML tags\n",
    "    text = re.sub(r\"[^a-zA-Z0-9]\", \" \", text.lower()) # Convert to lower case\n",
    "    words = text.split() # Split string into words\n",
    "    words = [w for w in words if w not in stopwords.words(\"english\")] # Remove stopwords\n",
    "    words = [PorterStemmer().stem(w) for w in words] # stem\n",
    "    \n",
    "    return words"
   ]
  },
  {
   "cell_type": "code",
   "execution_count": 9,
   "metadata": {},
   "outputs": [],
   "source": [
    "import pickle\n",
    "\n",
    "cache_dir = os.path.join(\"../cache\", \"sentiment_analysis\")  # where to store cache files\n",
    "os.makedirs(cache_dir, exist_ok=True)  # ensure cache directory exists\n",
    "\n",
    "def preprocess_data(data_train, data_test, labels_train, labels_test,\n",
    "                    cache_dir=cache_dir, cache_file=\"preprocessed_data.pkl\"):\n",
    "    \"\"\"Convert each review to words; read from cache if available.\"\"\"\n",
    "\n",
    "    # If cache_file is not None, try to read from it first\n",
    "    cache_data = None\n",
    "    if cache_file is not None:\n",
    "        try:\n",
    "            with open(os.path.join(cache_dir, cache_file), \"rb\") as f:\n",
    "                cache_data = pickle.load(f)\n",
    "            print(\"Read preprocessed data from cache file:\", cache_file)\n",
    "        except:\n",
    "            pass  # unable to read from cache, but that's okay\n",
    "    \n",
    "    # If cache is missing, then do the heavy lifting\n",
    "    if cache_data is None:\n",
    "        # Preprocess training and test data to obtain words for each review\n",
    "        #words_train = list(map(review_to_words, data_train))\n",
    "        #words_test = list(map(review_to_words, data_test))\n",
    "        words_train = [review_to_words(review) for review in data_train]\n",
    "        words_test = [review_to_words(review) for review in data_test]\n",
    "        \n",
    "        # Write to cache file for future runs\n",
    "        if cache_file is not None:\n",
    "            cache_data = dict(words_train=words_train, words_test=words_test,\n",
    "                              labels_train=labels_train, labels_test=labels_test)\n",
    "            with open(os.path.join(cache_dir, cache_file), \"wb\") as f:\n",
    "                pickle.dump(cache_data, f)\n",
    "            print(\"Wrote preprocessed data to cache file:\", cache_file)\n",
    "    else:\n",
    "        # Unpack data loaded from cache file\n",
    "        words_train, words_test, labels_train, labels_test = (cache_data['words_train'],\n",
    "                cache_data['words_test'], cache_data['labels_train'], cache_data['labels_test'])\n",
    "    \n",
    "    return words_train, words_test, labels_train, labels_test"
   ]
  },
  {
   "cell_type": "code",
   "execution_count": 10,
   "metadata": {},
   "outputs": [
    {
     "name": "stdout",
     "output_type": "stream",
     "text": [
      "Read preprocessed data from cache file: preprocessed_data.pkl\n"
     ]
    }
   ],
   "source": [
    "# Preprocess data\n",
    "train_X, test_X, train_y, test_y = preprocess_data(train_X, test_X, train_y, test_y)"
   ]
  },
  {
   "cell_type": "markdown",
   "metadata": {},
   "source": [
    "### Extract Bag-of-Words features\n",
    "\n",
    "For the model we will be implementing, rather than using the reviews directly, we are going to transform each review into a Bag-of-Words feature representation. Keep in mind that 'in the wild' we will only have access to the training set so our transformer can only use the training set to construct a representation."
   ]
  },
  {
   "cell_type": "code",
   "execution_count": 11,
   "metadata": {},
   "outputs": [],
   "source": [
    "import numpy as np\n",
    "from sklearn.feature_extraction.text import CountVectorizer\n",
    "from sklearn.externals import joblib\n",
    "# joblib is an enhanced version of pickle that is more efficient for storing NumPy arrays\n",
    "\n",
    "def extract_BoW_features(words_train, words_test, vocabulary_size=5000,\n",
    "                         cache_dir=cache_dir, cache_file=\"bow_features.pkl\"):\n",
    "    \"\"\"Extract Bag-of-Words for a given set of documents, already preprocessed into words.\"\"\"\n",
    "    \n",
    "    # If cache_file is not None, try to read from it first\n",
    "    cache_data = None\n",
    "    if cache_file is not None:\n",
    "        try:\n",
    "            with open(os.path.join(cache_dir, cache_file), \"rb\") as f:\n",
    "                cache_data = joblib.load(f)\n",
    "            print(\"Read features from cache file:\", cache_file)\n",
    "        except:\n",
    "            pass  # unable to read from cache, but that's okay\n",
    "    \n",
    "    # If cache is missing, then do the heavy lifting\n",
    "    if cache_data is None:\n",
    "        # Fit a vectorizer to training documents and use it to transform them\n",
    "        # NOTE: Training documents have already been preprocessed and tokenized into words;\n",
    "        #       pass in dummy functions to skip those steps, e.g. preprocessor=lambda x: x\n",
    "        vectorizer = CountVectorizer(max_features=vocabulary_size,\n",
    "                preprocessor=lambda x: x, tokenizer=lambda x: x)  # already preprocessed\n",
    "        features_train = vectorizer.fit_transform(words_train).toarray()\n",
    "\n",
    "        # Apply the same vectorizer to transform the test documents (ignore unknown words)\n",
    "        features_test = vectorizer.transform(words_test).toarray()\n",
    "        \n",
    "        # NOTE: Remember to convert the features using .toarray() for a compact representation\n",
    "        \n",
    "        # Write to cache file for future runs (store vocabulary as well)\n",
    "        if cache_file is not None:\n",
    "            vocabulary = vectorizer.vocabulary_\n",
    "            cache_data = dict(features_train=features_train, features_test=features_test,\n",
    "                             vocabulary=vocabulary)\n",
    "            with open(os.path.join(cache_dir, cache_file), \"wb\") as f:\n",
    "                joblib.dump(cache_data, f)\n",
    "            print(\"Wrote features to cache file:\", cache_file)\n",
    "    else:\n",
    "        # Unpack data loaded from cache file\n",
    "        features_train, features_test, vocabulary = (cache_data['features_train'],\n",
    "                cache_data['features_test'], cache_data['vocabulary'])\n",
    "    \n",
    "    # Return both the extracted features as well as the vocabulary\n",
    "    return features_train, features_test, vocabulary"
   ]
  },
  {
   "cell_type": "code",
   "execution_count": 12,
   "metadata": {},
   "outputs": [
    {
     "name": "stdout",
     "output_type": "stream",
     "text": [
      "Read features from cache file: bow_features.pkl\n"
     ]
    }
   ],
   "source": [
    "# Extract Bag of Words features for both training and test datasets\n",
    "train_X, test_X, vocabulary = extract_BoW_features(train_X, test_X)"
   ]
  },
  {
   "cell_type": "markdown",
   "metadata": {},
   "source": [
    "## Step 4: Classification using XGBoost\n",
    "\n",
    "Now that we have created the feature representation of our training (and testing) data, it is time to start setting up and using the XGBoost classifier provided by SageMaker.\n",
    "\n",
    "### Writing the dataset\n",
    "\n",
    "The XGBoost classifier that we will be using requires the dataset to be written to a file and stored using Amazon S3. To do this, we will start by splitting the training dataset into two parts, the data we will train the model with and a validation set. Then, we will write those datasets to a file and upload the files to S3. In addition, we will write the test set input to a file and upload the file to S3. This is so that we can use SageMakers Batch Transform functionality to test our model once we've fit it."
   ]
  },
  {
   "cell_type": "code",
   "execution_count": 13,
   "metadata": {},
   "outputs": [],
   "source": [
    "import pandas as pd\n",
    "\n",
    "val_X = pd.DataFrame(train_X[:10000])\n",
    "train_X = pd.DataFrame(train_X[10000:])\n",
    "\n",
    "val_y = pd.DataFrame(train_y[:10000])\n",
    "train_y = pd.DataFrame(train_y[10000:])\n",
    "\n",
    "test_y = pd.DataFrame(test_y)\n",
    "test_X = pd.DataFrame(test_X)"
   ]
  },
  {
   "cell_type": "markdown",
   "metadata": {},
   "source": [
    "The documentation for the XGBoost algorithm in SageMaker requires that the saved datasets should contain no headers or index and that for the training and validation data, the label should occur first for each sample.\n",
    "\n",
    "For more information about this and other algorithms, the SageMaker developer documentation can be found on __[Amazon's website.](https://docs.aws.amazon.com/sagemaker/latest/dg/)__"
   ]
  },
  {
   "cell_type": "code",
   "execution_count": 14,
   "metadata": {},
   "outputs": [],
   "source": [
    "# First we make sure that the local directory in which we'd like to store the training and validation csv files exists.\n",
    "data_dir = '../data/xgboost'\n",
    "if not os.path.exists(data_dir):\n",
    "    os.makedirs(data_dir)"
   ]
  },
  {
   "cell_type": "code",
   "execution_count": 15,
   "metadata": {},
   "outputs": [],
   "source": [
    "# First, save the test data to test.csv in the data_dir directory. Note that we do not save the associated ground truth\n",
    "# labels, instead we will use them later to compare with our model output.\n",
    "\n",
    "#pd.concat([test_y, test_X], axis=1).to_csv(os.path.join(data_dir, 'test.csv'), header=False, index=False)\n",
    "test_X.to_csv(os.path.join(data_dir, 'test.csv'), header=False, index=False)\n",
    "pd.concat([val_y, val_X], axis=1).to_csv(os.path.join(data_dir, 'validation.csv'), header=False, index=False)\n",
    "pd.concat([train_y, train_X], axis=1).to_csv(os.path.join(data_dir, 'train.csv'), header=False, index=False)"
   ]
  },
  {
   "cell_type": "code",
   "execution_count": 16,
   "metadata": {},
   "outputs": [],
   "source": [
    "# To save a bit of memory we can set text_X, train_X, val_X, train_y and val_y to None.\n",
    "\n",
    "train_X = val_X = train_y = val_y = None"
   ]
  },
  {
   "cell_type": "markdown",
   "metadata": {},
   "source": [
    "### Uploading Training / Validation files to S3\n",
    "\n",
    "Amazon's S3 service allows us to store files that can be access by both the built-in training models such as the XGBoost model we will be using as well as custom models such as the one we will see a little later.\n",
    "\n",
    "For this, and most other tasks we will be doing using SageMaker, there are two methods we could use. The first is to use the low level functionality of SageMaker which requires knowing each of the objects involved in the SageMaker environment. The second is to use the high level functionality in which certain choices have been made on the user's behalf. The low level approach benefits from allowing the user a great deal of flexibility while the high level approach makes development much quicker. For our purposes we will opt to use the high level approach although using the low-level approach is certainly an option.\n",
    "\n",
    "Recall the method `upload_data()` which is a member of object representing our current SageMaker session. What this method does is upload the data to the default bucket (which is created if it does not exist) into the path described by the key_prefix variable. To see this for yourself, once you have uploaded the data files, go to the S3 console and look to see where the files have been uploaded.\n",
    "\n",
    "For additional resources, see the __[SageMaker API documentation](http://sagemaker.readthedocs.io/en/latest/)__ and in addition the __[SageMaker Developer Guide.](https://docs.aws.amazon.com/sagemaker/latest/dg/)__"
   ]
  },
  {
   "cell_type": "code",
   "execution_count": 17,
   "metadata": {},
   "outputs": [],
   "source": [
    "import sagemaker\n",
    "\n",
    "session = sagemaker.Session() # Store the current SageMaker session\n",
    "\n",
    "# S3 prefix (which folder will we use)\n",
    "prefix = 'sentiment-xgboost'\n",
    "\n",
    "test_location = session.upload_data(os.path.join(data_dir, 'test.csv'), key_prefix=prefix)\n",
    "val_location = session.upload_data(os.path.join(data_dir, 'validation.csv'), key_prefix=prefix)\n",
    "train_location = session.upload_data(os.path.join(data_dir, 'train.csv'), key_prefix=prefix)"
   ]
  },
  {
   "cell_type": "markdown",
   "metadata": {},
   "source": [
    "### (TODO) Creating a hypertuned XGBoost model\n",
    "\n",
    "Now that the data has been uploaded it is time to create the XGBoost model. As in the Boston Housing notebook, the first step is to create an estimator object which will be used as the *base* of your hyperparameter tuning job."
   ]
  },
  {
   "cell_type": "code",
   "execution_count": 18,
   "metadata": {},
   "outputs": [],
   "source": [
    "from sagemaker import get_execution_role\n",
    "\n",
    "# Our current execution role is require when creating the model as the training\n",
    "# and inference code will need to access the model artifacts.\n",
    "role = get_execution_role()"
   ]
  },
  {
   "cell_type": "code",
   "execution_count": 19,
   "metadata": {},
   "outputs": [
    {
     "name": "stderr",
     "output_type": "stream",
     "text": [
      "WARNING:root:There is a more up to date SageMaker XGBoost image. To use the newer image, please set 'repo_version'='0.90-1'. For example:\n",
      "\tget_image_uri(region, 'xgboost', '0.90-1').\n"
     ]
    }
   ],
   "source": [
    "# We need to retrieve the location of the container which is provided by Amazon for using XGBoost.\n",
    "# As a matter of convenience, the training and inference code both use the same container.\n",
    "from sagemaker.amazon.amazon_estimator import get_image_uri\n",
    "\n",
    "container = get_image_uri(session.boto_region_name, 'xgboost')"
   ]
  },
  {
   "cell_type": "code",
   "execution_count": 20,
   "metadata": {},
   "outputs": [],
   "source": [
    "# TODO: Create a SageMaker estimator using the container location determined in the previous cell.\n",
    "#       It is recommended that you use a single training instance of type ml.m4.xlarge. It is also\n",
    "#       recommended that you use 's3://{}/{}/output'.format(session.default_bucket(), prefix) as the\n",
    "#       output path.\n",
    "\n",
    "xgb = sagemaker.estimator.Estimator(container,\n",
    "                                   role,\n",
    "                                   train_instance_count=1,\n",
    "                                   train_instance_type='ml.m4.xlarge',\n",
    "                                   output_path='s3://{}/{}/output'.format(session.default_bucket(), prefix),\n",
    "                                   sagemaker_session=session)\n",
    "\n",
    "# TODO: Set the XGBoost hyperparameters in the xgb object. Don't forget that in this case we have a binary\n",
    "#       label so we should be using the 'binary:logistic' objective.\n",
    "xgb.set_hyperparameters(max_depth=5,\n",
    "                       eta=0.2,\n",
    "                       gamma=4,\n",
    "                       min_child_weight=6,\n",
    "                       subsample=0.8,\n",
    "                       objective='binary:logistic',\n",
    "                       early_stopping_rounds=10,\n",
    "                       num_round=200)\n"
   ]
  },
  {
   "cell_type": "markdown",
   "metadata": {},
   "source": [
    "### (TODO) Create the hyperparameter tuner\n",
    "\n",
    "Now that the base estimator has been set up we need to construct a hyperparameter tuner object which we will use to request SageMaker construct a hyperparameter tuning job.\n",
    "\n",
    "**Note:** Training a single sentiment analysis XGBoost model takes longer than training a Boston Housing XGBoost model so if you don't want the hyperparameter tuning job to take too long, make sure to not set the total number of models (jobs) too high."
   ]
  },
  {
   "cell_type": "code",
   "execution_count": 21,
   "metadata": {},
   "outputs": [],
   "source": [
    "# First, make sure to import the relevant objects used to construct the tuner\n",
    "from sagemaker.tuner import IntegerParameter, ContinuousParameter, HyperparameterTuner\n",
    "\n",
    "# TODO: Create the hyperparameter tuner object\n",
    "\n",
    "xgb_hyperparameter_tuner = HyperparameterTuner(estimator=xgb,\n",
    "                                              objective_metric_name='validation:error',\n",
    "                                              objective_type='Minimize',\n",
    "                                              max_jobs=10,\n",
    "                                              max_parallel_jobs=2,\n",
    "                                              hyperparameter_ranges={\n",
    "                                                  'max_depth': IntegerParameter(4, 10),\n",
    "                                                  'eta': ContinuousParameter(0.1,0.5),\n",
    "                                                  'min_child_weight': IntegerParameter(2, 8),\n",
    "                                                  'gamma': IntegerParameter(2,5)\n",
    "                                              })\n",
    "\n"
   ]
  },
  {
   "cell_type": "markdown",
   "metadata": {},
   "source": [
    "### Fit the hyperparameter tuner\n",
    "\n",
    "Now that the hyperparameter tuner object has been constructed, it is time to fit the various models and find the best performing model."
   ]
  },
  {
   "cell_type": "code",
   "execution_count": 22,
   "metadata": {},
   "outputs": [],
   "source": [
    "s3_input_train = sagemaker.s3_input(s3_data=train_location, content_type='csv')\n",
    "s3_input_validation = sagemaker.s3_input(s3_data=val_location, content_type='csv')"
   ]
  },
  {
   "cell_type": "code",
   "execution_count": 23,
   "metadata": {},
   "outputs": [],
   "source": [
    "xgb_hyperparameter_tuner.fit({'train': s3_input_train, 'validation': s3_input_validation})"
   ]
  },
  {
   "cell_type": "markdown",
   "metadata": {},
   "source": [
    "Remember that the tuning job is constructed and run in the background so if we want to see the progress of our training job we need to call the `wait()` method."
   ]
  },
  {
   "cell_type": "code",
   "execution_count": 24,
   "metadata": {},
   "outputs": [
    {
     "name": "stdout",
     "output_type": "stream",
     "text": [
      "..................................................................................................................................................................................................................................................................................................................................................................................................................!\n"
     ]
    }
   ],
   "source": [
    "xgb_hyperparameter_tuner.wait()"
   ]
  },
  {
   "cell_type": "markdown",
   "metadata": {},
   "source": [
    "### (TODO) Testing the model\n",
    "\n",
    "Now that we've run our hyperparameter tuning job, it's time to see how well the best performing model actually performs. To do this we will use SageMaker's Batch Transform functionality. Batch Transform is a convenient way to perform inference on a large dataset in a way that is not realtime. That is, we don't necessarily need to use our model's results immediately and instead we can peform inference on a large number of samples. An example of this in industry might be peforming an end of month report. This method of inference can also be useful to us as it means to can perform inference on our entire test set. \n",
    "\n",
    "Remember that in order to create a transformer object to perform the batch transform job, we need a trained estimator object. We can do that using the `attach()` method, creating an estimator object which is attached to the best trained job."
   ]
  },
  {
   "cell_type": "code",
   "execution_count": 25,
   "metadata": {},
   "outputs": [
    {
     "data": {
      "text/plain": [
       "'xgboost-200523-0916-009-2e412329'"
      ]
     },
     "execution_count": 25,
     "metadata": {},
     "output_type": "execute_result"
    }
   ],
   "source": [
    "xgb_hyperparameter_tuner.best_training_job()"
   ]
  },
  {
   "cell_type": "code",
   "execution_count": 28,
   "metadata": {},
   "outputs": [
    {
     "name": "stdout",
     "output_type": "stream",
     "text": [
      "2020-05-23 09:49:26 Starting - Preparing the instances for training\n",
      "2020-05-23 09:49:26 Downloading - Downloading input data\n",
      "2020-05-23 09:49:26 Training - Training image download completed. Training in progress.\n",
      "2020-05-23 09:49:26 Uploading - Uploading generated training model\n",
      "2020-05-23 09:49:26 Completed - Training job completed\u001b[34mArguments: train\u001b[0m\n",
      "\u001b[34m[2020-05-23:09:44:16:INFO] Running standalone xgboost training.\u001b[0m\n",
      "\u001b[34m[2020-05-23:09:44:16:INFO] Setting up HPO optimized metric to be : error\u001b[0m\n",
      "\u001b[34m[2020-05-23:09:44:16:INFO] File size need to be processed in the node: 238.47mb. Available memory size in the node: 8462.07mb\u001b[0m\n",
      "\u001b[34m[2020-05-23:09:44:16:INFO] Determined delimiter of CSV input is ','\u001b[0m\n",
      "\u001b[34m[09:44:16] S3DistributionType set as FullyReplicated\u001b[0m\n",
      "\u001b[34m[09:44:18] 15000x5000 matrix with 75000000 entries loaded from /opt/ml/input/data/train?format=csv&label_column=0&delimiter=,\u001b[0m\n",
      "\u001b[34m[2020-05-23:09:44:18:INFO] Determined delimiter of CSV input is ','\u001b[0m\n",
      "\u001b[34m[09:44:18] S3DistributionType set as FullyReplicated\u001b[0m\n",
      "\u001b[34m[09:44:19] 10000x5000 matrix with 50000000 entries loaded from /opt/ml/input/data/validation?format=csv&label_column=0&delimiter=,\u001b[0m\n",
      "\u001b[34m[09:44:23] src/tree/updater_prune.cc:74: tree pruning end, 1 roots, 76 extra nodes, 18 pruned nodes, max_depth=7\u001b[0m\n",
      "\u001b[34m[0]#011train-error:0.270733#011validation-error:0.2852\u001b[0m\n",
      "\u001b[34mMultiple eval metrics have been passed: 'validation-error' will be used for early stopping.\n",
      "\u001b[0m\n",
      "\u001b[34mWill train until validation-error hasn't improved in 10 rounds.\u001b[0m\n",
      "\u001b[34m[09:44:25] src/tree/updater_prune.cc:74: tree pruning end, 1 roots, 84 extra nodes, 6 pruned nodes, max_depth=7\u001b[0m\n",
      "\u001b[34m[1]#011train-error:0.256333#011validation-error:0.2693\u001b[0m\n",
      "\u001b[34m[09:44:27] src/tree/updater_prune.cc:74: tree pruning end, 1 roots, 70 extra nodes, 8 pruned nodes, max_depth=7\u001b[0m\n",
      "\u001b[34m[2]#011train-error:0.244267#011validation-error:0.2536\u001b[0m\n",
      "\u001b[34m[09:44:29] src/tree/updater_prune.cc:74: tree pruning end, 1 roots, 80 extra nodes, 4 pruned nodes, max_depth=7\u001b[0m\n",
      "\u001b[34m[3]#011train-error:0.239267#011validation-error:0.2474\u001b[0m\n",
      "\u001b[34m[09:44:31] src/tree/updater_prune.cc:74: tree pruning end, 1 roots, 52 extra nodes, 10 pruned nodes, max_depth=7\u001b[0m\n",
      "\u001b[34m[4]#011train-error:0.232333#011validation-error:0.2397\u001b[0m\n",
      "\u001b[34m[09:44:33] src/tree/updater_prune.cc:74: tree pruning end, 1 roots, 80 extra nodes, 8 pruned nodes, max_depth=7\u001b[0m\n",
      "\u001b[34m[5]#011train-error:0.221333#011validation-error:0.2341\u001b[0m\n",
      "\u001b[34m[09:44:34] src/tree/updater_prune.cc:74: tree pruning end, 1 roots, 50 extra nodes, 8 pruned nodes, max_depth=7\u001b[0m\n",
      "\u001b[34m[6]#011train-error:0.2108#011validation-error:0.2224\u001b[0m\n",
      "\u001b[34m[09:44:36] src/tree/updater_prune.cc:74: tree pruning end, 1 roots, 66 extra nodes, 8 pruned nodes, max_depth=7\u001b[0m\n",
      "\u001b[34m[7]#011train-error:0.199667#011validation-error:0.2141\u001b[0m\n",
      "\u001b[34m[09:44:38] src/tree/updater_prune.cc:74: tree pruning end, 1 roots, 62 extra nodes, 2 pruned nodes, max_depth=7\u001b[0m\n",
      "\u001b[34m[8]#011train-error:0.189467#011validation-error:0.2069\u001b[0m\n",
      "\u001b[34m[09:44:40] src/tree/updater_prune.cc:74: tree pruning end, 1 roots, 46 extra nodes, 8 pruned nodes, max_depth=7\u001b[0m\n",
      "\u001b[34m[9]#011train-error:0.185#011validation-error:0.2073\u001b[0m\n",
      "\u001b[34m[09:44:42] src/tree/updater_prune.cc:74: tree pruning end, 1 roots, 50 extra nodes, 8 pruned nodes, max_depth=7\u001b[0m\n",
      "\u001b[34m[10]#011train-error:0.178733#011validation-error:0.2023\u001b[0m\n",
      "\u001b[34m[09:44:43] src/tree/updater_prune.cc:74: tree pruning end, 1 roots, 76 extra nodes, 10 pruned nodes, max_depth=7\u001b[0m\n",
      "\u001b[34m[11]#011train-error:0.172467#011validation-error:0.1961\u001b[0m\n",
      "\u001b[34m[09:44:45] src/tree/updater_prune.cc:74: tree pruning end, 1 roots, 40 extra nodes, 10 pruned nodes, max_depth=7\u001b[0m\n",
      "\u001b[34m[12]#011train-error:0.167667#011validation-error:0.1921\u001b[0m\n",
      "\u001b[34m[09:44:47] src/tree/updater_prune.cc:74: tree pruning end, 1 roots, 52 extra nodes, 12 pruned nodes, max_depth=7\u001b[0m\n",
      "\u001b[34m[13]#011train-error:0.163267#011validation-error:0.1908\u001b[0m\n",
      "\u001b[34m[09:44:49] src/tree/updater_prune.cc:74: tree pruning end, 1 roots, 60 extra nodes, 4 pruned nodes, max_depth=7\u001b[0m\n",
      "\u001b[34m[14]#011train-error:0.158733#011validation-error:0.1893\u001b[0m\n",
      "\u001b[34m[09:44:51] src/tree/updater_prune.cc:74: tree pruning end, 1 roots, 62 extra nodes, 12 pruned nodes, max_depth=7\u001b[0m\n",
      "\u001b[34m[15]#011train-error:0.154067#011validation-error:0.1868\u001b[0m\n",
      "\u001b[34m[09:44:52] src/tree/updater_prune.cc:74: tree pruning end, 1 roots, 36 extra nodes, 14 pruned nodes, max_depth=7\u001b[0m\n",
      "\u001b[34m[16]#011train-error:0.152267#011validation-error:0.1863\u001b[0m\n",
      "\u001b[34m[09:44:54] src/tree/updater_prune.cc:74: tree pruning end, 1 roots, 48 extra nodes, 18 pruned nodes, max_depth=7\u001b[0m\n",
      "\u001b[34m[17]#011train-error:0.149467#011validation-error:0.1841\u001b[0m\n",
      "\u001b[34m[09:44:56] src/tree/updater_prune.cc:74: tree pruning end, 1 roots, 48 extra nodes, 10 pruned nodes, max_depth=7\u001b[0m\n",
      "\u001b[34m[18]#011train-error:0.146867#011validation-error:0.1823\u001b[0m\n",
      "\u001b[34m[09:44:58] src/tree/updater_prune.cc:74: tree pruning end, 1 roots, 48 extra nodes, 8 pruned nodes, max_depth=7\u001b[0m\n",
      "\u001b[34m[19]#011train-error:0.142867#011validation-error:0.1809\u001b[0m\n",
      "\u001b[34m[09:45:00] src/tree/updater_prune.cc:74: tree pruning end, 1 roots, 74 extra nodes, 10 pruned nodes, max_depth=7\u001b[0m\n",
      "\u001b[34m[20]#011train-error:0.139467#011validation-error:0.1782\u001b[0m\n",
      "\u001b[34m[09:45:01] src/tree/updater_prune.cc:74: tree pruning end, 1 roots, 28 extra nodes, 14 pruned nodes, max_depth=7\u001b[0m\n",
      "\u001b[34m[21]#011train-error:0.138267#011validation-error:0.1753\u001b[0m\n",
      "\u001b[34m[09:45:03] src/tree/updater_prune.cc:74: tree pruning end, 1 roots, 32 extra nodes, 16 pruned nodes, max_depth=7\u001b[0m\n",
      "\u001b[34m[22]#011train-error:0.135667#011validation-error:0.1752\u001b[0m\n",
      "\u001b[34m[09:45:05] src/tree/updater_prune.cc:74: tree pruning end, 1 roots, 44 extra nodes, 6 pruned nodes, max_depth=7\u001b[0m\n",
      "\u001b[34m[23]#011train-error:0.132733#011validation-error:0.1728\u001b[0m\n",
      "\u001b[34m[09:45:07] src/tree/updater_prune.cc:74: tree pruning end, 1 roots, 32 extra nodes, 16 pruned nodes, max_depth=7\u001b[0m\n",
      "\u001b[34m[24]#011train-error:0.131267#011validation-error:0.171\u001b[0m\n",
      "\u001b[34m[09:45:09] src/tree/updater_prune.cc:74: tree pruning end, 1 roots, 44 extra nodes, 10 pruned nodes, max_depth=7\u001b[0m\n",
      "\u001b[34m[25]#011train-error:0.129333#011validation-error:0.171\u001b[0m\n",
      "\u001b[34m[09:45:10] src/tree/updater_prune.cc:74: tree pruning end, 1 roots, 30 extra nodes, 14 pruned nodes, max_depth=7\u001b[0m\n",
      "\u001b[34m[26]#011train-error:0.128067#011validation-error:0.169\u001b[0m\n",
      "\u001b[34m[09:45:12] src/tree/updater_prune.cc:74: tree pruning end, 1 roots, 40 extra nodes, 18 pruned nodes, max_depth=7\u001b[0m\n",
      "\u001b[34m[27]#011train-error:0.1256#011validation-error:0.1668\u001b[0m\n",
      "\u001b[34m[09:45:14] src/tree/updater_prune.cc:74: tree pruning end, 1 roots, 22 extra nodes, 14 pruned nodes, max_depth=7\u001b[0m\n",
      "\u001b[34m[28]#011train-error:0.125133#011validation-error:0.166\u001b[0m\n",
      "\u001b[34m[09:45:16] src/tree/updater_prune.cc:74: tree pruning end, 1 roots, 42 extra nodes, 4 pruned nodes, max_depth=7\u001b[0m\n",
      "\u001b[34m[29]#011train-error:0.1232#011validation-error:0.1658\u001b[0m\n",
      "\u001b[34m[09:45:17] src/tree/updater_prune.cc:74: tree pruning end, 1 roots, 48 extra nodes, 14 pruned nodes, max_depth=7\u001b[0m\n",
      "\u001b[34m[30]#011train-error:0.1198#011validation-error:0.163\u001b[0m\n",
      "\u001b[34m[09:45:19] src/tree/updater_prune.cc:74: tree pruning end, 1 roots, 48 extra nodes, 8 pruned nodes, max_depth=7\u001b[0m\n",
      "\u001b[34m[31]#011train-error:0.118333#011validation-error:0.1598\u001b[0m\n",
      "\u001b[34m[09:45:21] src/tree/updater_prune.cc:74: tree pruning end, 1 roots, 24 extra nodes, 8 pruned nodes, max_depth=7\u001b[0m\n",
      "\u001b[34m[32]#011train-error:0.116267#011validation-error:0.1592\u001b[0m\n",
      "\u001b[34m[09:45:23] src/tree/updater_prune.cc:74: tree pruning end, 1 roots, 48 extra nodes, 12 pruned nodes, max_depth=7\u001b[0m\n",
      "\u001b[34m[33]#011train-error:0.1152#011validation-error:0.1587\u001b[0m\n",
      "\u001b[34m[09:45:25] src/tree/updater_prune.cc:74: tree pruning end, 1 roots, 36 extra nodes, 6 pruned nodes, max_depth=7\u001b[0m\n",
      "\u001b[34m[34]#011train-error:0.113933#011validation-error:0.1591\u001b[0m\n",
      "\u001b[34m[09:45:26] src/tree/updater_prune.cc:74: tree pruning end, 1 roots, 20 extra nodes, 2 pruned nodes, max_depth=7\u001b[0m\n",
      "\u001b[34m[35]#011train-error:0.113#011validation-error:0.1573\u001b[0m\n",
      "\u001b[34m[09:45:28] src/tree/updater_prune.cc:74: tree pruning end, 1 roots, 44 extra nodes, 6 pruned nodes, max_depth=7\u001b[0m\n",
      "\u001b[34m[36]#011train-error:0.112467#011validation-error:0.1581\u001b[0m\n",
      "\u001b[34m[09:45:30] src/tree/updater_prune.cc:74: tree pruning end, 1 roots, 22 extra nodes, 8 pruned nodes, max_depth=7\u001b[0m\n",
      "\u001b[34m[37]#011train-error:0.111533#011validation-error:0.1572\u001b[0m\n",
      "\u001b[34m[09:45:32] src/tree/updater_prune.cc:74: tree pruning end, 1 roots, 30 extra nodes, 2 pruned nodes, max_depth=7\u001b[0m\n",
      "\u001b[34m[38]#011train-error:0.109733#011validation-error:0.1571\u001b[0m\n",
      "\u001b[34m[09:45:33] src/tree/updater_prune.cc:74: tree pruning end, 1 roots, 48 extra nodes, 6 pruned nodes, max_depth=7\u001b[0m\n",
      "\u001b[34m[39]#011train-error:0.107933#011validation-error:0.1567\u001b[0m\n",
      "\u001b[34m[09:45:35] src/tree/updater_prune.cc:74: tree pruning end, 1 roots, 42 extra nodes, 8 pruned nodes, max_depth=7\u001b[0m\n",
      "\u001b[34m[40]#011train-error:0.106867#011validation-error:0.1578\u001b[0m\n",
      "\u001b[34m[09:45:37] src/tree/updater_prune.cc:74: tree pruning end, 1 roots, 28 extra nodes, 8 pruned nodes, max_depth=7\u001b[0m\n",
      "\u001b[34m[41]#011train-error:0.1062#011validation-error:0.1583\u001b[0m\n",
      "\u001b[34m[09:45:39] src/tree/updater_prune.cc:74: tree pruning end, 1 roots, 32 extra nodes, 8 pruned nodes, max_depth=7\u001b[0m\n",
      "\u001b[34m[42]#011train-error:0.1036#011validation-error:0.1568\u001b[0m\n",
      "\u001b[34m[09:45:41] src/tree/updater_prune.cc:74: tree pruning end, 1 roots, 28 extra nodes, 2 pruned nodes, max_depth=7\u001b[0m\n",
      "\u001b[34m[43]#011train-error:0.103667#011validation-error:0.1567\u001b[0m\n",
      "\u001b[34m[09:45:42] src/tree/updater_prune.cc:74: tree pruning end, 1 roots, 24 extra nodes, 8 pruned nodes, max_depth=7\u001b[0m\n",
      "\u001b[34m[44]#011train-error:0.103#011validation-error:0.1549\u001b[0m\n",
      "\u001b[34m[09:45:44] src/tree/updater_prune.cc:74: tree pruning end, 1 roots, 38 extra nodes, 12 pruned nodes, max_depth=7\u001b[0m\n",
      "\u001b[34m[45]#011train-error:0.102267#011validation-error:0.1544\u001b[0m\n",
      "\u001b[34m[09:45:46] src/tree/updater_prune.cc:74: tree pruning end, 1 roots, 60 extra nodes, 12 pruned nodes, max_depth=7\u001b[0m\n",
      "\u001b[34m[46]#011train-error:0.100933#011validation-error:0.1551\u001b[0m\n",
      "\u001b[34m[09:45:48] src/tree/updater_prune.cc:74: tree pruning end, 1 roots, 36 extra nodes, 6 pruned nodes, max_depth=7\u001b[0m\n",
      "\u001b[34m[47]#011train-error:0.098133#011validation-error:0.1535\u001b[0m\n",
      "\u001b[34m[09:45:50] src/tree/updater_prune.cc:74: tree pruning end, 1 roots, 34 extra nodes, 6 pruned nodes, max_depth=7\u001b[0m\n",
      "\u001b[34m[48]#011train-error:0.096#011validation-error:0.1525\u001b[0m\n",
      "\u001b[34m[09:45:51] src/tree/updater_prune.cc:74: tree pruning end, 1 roots, 24 extra nodes, 12 pruned nodes, max_depth=7\u001b[0m\n",
      "\u001b[34m[49]#011train-error:0.0954#011validation-error:0.1517\u001b[0m\n",
      "\u001b[34m[09:45:53] src/tree/updater_prune.cc:74: tree pruning end, 1 roots, 32 extra nodes, 4 pruned nodes, max_depth=7\u001b[0m\n",
      "\u001b[34m[50]#011train-error:0.094067#011validation-error:0.152\u001b[0m\n",
      "\u001b[34m[09:45:55] src/tree/updater_prune.cc:74: tree pruning end, 1 roots, 18 extra nodes, 10 pruned nodes, max_depth=7\u001b[0m\n",
      "\u001b[34m[51]#011train-error:0.0934#011validation-error:0.1497\u001b[0m\n",
      "\u001b[34m[09:45:57] src/tree/updater_prune.cc:74: tree pruning end, 1 roots, 34 extra nodes, 12 pruned nodes, max_depth=7\u001b[0m\n",
      "\u001b[34m[52]#011train-error:0.092267#011validation-error:0.1505\u001b[0m\n",
      "\u001b[34m[09:45:59] src/tree/updater_prune.cc:74: tree pruning end, 1 roots, 30 extra nodes, 10 pruned nodes, max_depth=7\u001b[0m\n",
      "\u001b[34m[53]#011train-error:0.091667#011validation-error:0.1506\u001b[0m\n",
      "\u001b[34m[09:46:00] src/tree/updater_prune.cc:74: tree pruning end, 1 roots, 24 extra nodes, 6 pruned nodes, max_depth=7\u001b[0m\n",
      "\u001b[34m[54]#011train-error:0.090667#011validation-error:0.1493\u001b[0m\n",
      "\u001b[34m[09:46:02] src/tree/updater_prune.cc:74: tree pruning end, 1 roots, 26 extra nodes, 6 pruned nodes, max_depth=7\u001b[0m\n",
      "\u001b[34m[55]#011train-error:0.090533#011validation-error:0.1492\u001b[0m\n",
      "\u001b[34m[09:46:04] src/tree/updater_prune.cc:74: tree pruning end, 1 roots, 18 extra nodes, 4 pruned nodes, max_depth=7\u001b[0m\n",
      "\u001b[34m[56]#011train-error:0.090133#011validation-error:0.1488\u001b[0m\n",
      "\u001b[34m[09:46:06] src/tree/updater_prune.cc:74: tree pruning end, 1 roots, 22 extra nodes, 4 pruned nodes, max_depth=7\u001b[0m\n",
      "\u001b[34m[57]#011train-error:0.0902#011validation-error:0.1474\u001b[0m\n",
      "\u001b[34m[09:46:07] src/tree/updater_prune.cc:74: tree pruning end, 1 roots, 26 extra nodes, 6 pruned nodes, max_depth=7\u001b[0m\n",
      "\u001b[34m[58]#011train-error:0.089667#011validation-error:0.1476\u001b[0m\n",
      "\u001b[34m[09:46:09] src/tree/updater_prune.cc:74: tree pruning end, 1 roots, 32 extra nodes, 12 pruned nodes, max_depth=7\u001b[0m\n",
      "\u001b[34m[59]#011train-error:0.089133#011validation-error:0.1475\u001b[0m\n",
      "\u001b[34m[09:46:11] src/tree/updater_prune.cc:74: tree pruning end, 1 roots, 30 extra nodes, 12 pruned nodes, max_depth=7\u001b[0m\n",
      "\u001b[34m[60]#011train-error:0.088333#011validation-error:0.1481\u001b[0m\n",
      "\u001b[34m[09:46:13] src/tree/updater_prune.cc:74: tree pruning end, 1 roots, 24 extra nodes, 6 pruned nodes, max_depth=7\u001b[0m\n",
      "\u001b[34m[61]#011train-error:0.088333#011validation-error:0.1474\u001b[0m\n",
      "\u001b[34m[09:46:15] src/tree/updater_prune.cc:74: tree pruning end, 1 roots, 20 extra nodes, 4 pruned nodes, max_depth=7\u001b[0m\n",
      "\u001b[34m[62]#011train-error:0.0878#011validation-error:0.1468\u001b[0m\n",
      "\u001b[34m[09:46:16] src/tree/updater_prune.cc:74: tree pruning end, 1 roots, 22 extra nodes, 10 pruned nodes, max_depth=7\u001b[0m\n",
      "\u001b[34m[63]#011train-error:0.086467#011validation-error:0.1467\u001b[0m\n",
      "\u001b[34m[09:46:18] src/tree/updater_prune.cc:74: tree pruning end, 1 roots, 26 extra nodes, 6 pruned nodes, max_depth=7\u001b[0m\n",
      "\u001b[34m[64]#011train-error:0.086267#011validation-error:0.1461\u001b[0m\n",
      "\u001b[34m[09:46:20] src/tree/updater_prune.cc:74: tree pruning end, 1 roots, 32 extra nodes, 4 pruned nodes, max_depth=7\u001b[0m\n",
      "\u001b[34m[65]#011train-error:0.0848#011validation-error:0.1456\u001b[0m\n",
      "\u001b[34m[09:46:22] src/tree/updater_prune.cc:74: tree pruning end, 1 roots, 24 extra nodes, 2 pruned nodes, max_depth=7\u001b[0m\n",
      "\u001b[34m[66]#011train-error:0.0842#011validation-error:0.1451\u001b[0m\n",
      "\u001b[34m[09:46:23] src/tree/updater_prune.cc:74: tree pruning end, 1 roots, 28 extra nodes, 8 pruned nodes, max_depth=7\u001b[0m\n",
      "\u001b[34m[67]#011train-error:0.0832#011validation-error:0.1444\u001b[0m\n",
      "\u001b[34m[09:46:25] src/tree/updater_prune.cc:74: tree pruning end, 1 roots, 22 extra nodes, 8 pruned nodes, max_depth=7\u001b[0m\n",
      "\u001b[34m[68]#011train-error:0.082333#011validation-error:0.1435\u001b[0m\n",
      "\u001b[34m[09:46:27] src/tree/updater_prune.cc:74: tree pruning end, 1 roots, 42 extra nodes, 0 pruned nodes, max_depth=7\u001b[0m\n",
      "\u001b[34m[69]#011train-error:0.081133#011validation-error:0.1436\u001b[0m\n",
      "\u001b[34m[09:46:29] src/tree/updater_prune.cc:74: tree pruning end, 1 roots, 34 extra nodes, 0 pruned nodes, max_depth=7\u001b[0m\n",
      "\u001b[34m[70]#011train-error:0.080667#011validation-error:0.1433\u001b[0m\n",
      "\u001b[34m[09:46:31] src/tree/updater_prune.cc:74: tree pruning end, 1 roots, 24 extra nodes, 2 pruned nodes, max_depth=7\u001b[0m\n",
      "\u001b[34m[71]#011train-error:0.080867#011validation-error:0.1431\u001b[0m\n",
      "\u001b[34m[09:46:32] src/tree/updater_prune.cc:74: tree pruning end, 1 roots, 32 extra nodes, 8 pruned nodes, max_depth=7\u001b[0m\n",
      "\u001b[34m[72]#011train-error:0.0804#011validation-error:0.1435\u001b[0m\n",
      "\u001b[34m[09:46:34] src/tree/updater_prune.cc:74: tree pruning end, 1 roots, 30 extra nodes, 8 pruned nodes, max_depth=7\u001b[0m\n",
      "\u001b[34m[73]#011train-error:0.0794#011validation-error:0.1439\u001b[0m\n",
      "\u001b[34m[09:46:36] src/tree/updater_prune.cc:74: tree pruning end, 1 roots, 14 extra nodes, 2 pruned nodes, max_depth=7\u001b[0m\n",
      "\u001b[34m[74]#011train-error:0.078867#011validation-error:0.1437\u001b[0m\n",
      "\u001b[34m[09:46:38] src/tree/updater_prune.cc:74: tree pruning end, 1 roots, 44 extra nodes, 6 pruned nodes, max_depth=7\u001b[0m\n",
      "\u001b[34m[75]#011train-error:0.0776#011validation-error:0.1443\u001b[0m\n",
      "\u001b[34m[09:46:39] src/tree/updater_prune.cc:74: tree pruning end, 1 roots, 28 extra nodes, 14 pruned nodes, max_depth=7\u001b[0m\n",
      "\u001b[34m[76]#011train-error:0.0774#011validation-error:0.144\u001b[0m\n",
      "\u001b[34m[09:46:41] src/tree/updater_prune.cc:74: tree pruning end, 1 roots, 20 extra nodes, 10 pruned nodes, max_depth=7\u001b[0m\n",
      "\u001b[34m[77]#011train-error:0.076267#011validation-error:0.1446\u001b[0m\n",
      "\u001b[34m[09:46:43] src/tree/updater_prune.cc:74: tree pruning end, 1 roots, 46 extra nodes, 6 pruned nodes, max_depth=7\u001b[0m\n",
      "\u001b[34m[78]#011train-error:0.0744#011validation-error:0.1434\u001b[0m\n",
      "\u001b[34m[09:46:45] src/tree/updater_prune.cc:74: tree pruning end, 1 roots, 24 extra nodes, 10 pruned nodes, max_depth=7\u001b[0m\n",
      "\u001b[34m[79]#011train-error:0.0736#011validation-error:0.1435\u001b[0m\n",
      "\u001b[34m[09:46:47] src/tree/updater_prune.cc:74: tree pruning end, 1 roots, 36 extra nodes, 18 pruned nodes, max_depth=7\u001b[0m\n",
      "\u001b[34m[80]#011train-error:0.0726#011validation-error:0.143\u001b[0m\n",
      "\u001b[34m[09:46:48] src/tree/updater_prune.cc:74: tree pruning end, 1 roots, 38 extra nodes, 6 pruned nodes, max_depth=7\u001b[0m\n",
      "\u001b[34m[81]#011train-error:0.0712#011validation-error:0.142\u001b[0m\n",
      "\u001b[34m[09:46:50] src/tree/updater_prune.cc:74: tree pruning end, 1 roots, 20 extra nodes, 2 pruned nodes, max_depth=7\u001b[0m\n",
      "\u001b[34m[82]#011train-error:0.070867#011validation-error:0.1429\u001b[0m\n",
      "\u001b[34m[09:46:52] src/tree/updater_prune.cc:74: tree pruning end, 1 roots, 34 extra nodes, 20 pruned nodes, max_depth=7\u001b[0m\n",
      "\u001b[34m[83]#011train-error:0.070733#011validation-error:0.1419\u001b[0m\n",
      "\u001b[34m[09:46:54] src/tree/updater_prune.cc:74: tree pruning end, 1 roots, 16 extra nodes, 4 pruned nodes, max_depth=7\u001b[0m\n",
      "\u001b[34m[84]#011train-error:0.070467#011validation-error:0.1417\u001b[0m\n",
      "\u001b[34m[09:46:56] src/tree/updater_prune.cc:74: tree pruning end, 1 roots, 36 extra nodes, 4 pruned nodes, max_depth=7\u001b[0m\n",
      "\u001b[34m[85]#011train-error:0.070333#011validation-error:0.1435\u001b[0m\n",
      "\u001b[34m[09:46:57] src/tree/updater_prune.cc:74: tree pruning end, 1 roots, 30 extra nodes, 12 pruned nodes, max_depth=7\u001b[0m\n",
      "\u001b[34m[86]#011train-error:0.069267#011validation-error:0.1443\u001b[0m\n",
      "\u001b[34m[09:46:59] src/tree/updater_prune.cc:74: tree pruning end, 1 roots, 34 extra nodes, 10 pruned nodes, max_depth=7\u001b[0m\n",
      "\u001b[34m[87]#011train-error:0.069067#011validation-error:0.1435\u001b[0m\n",
      "\u001b[34m[09:47:01] src/tree/updater_prune.cc:74: tree pruning end, 1 roots, 42 extra nodes, 14 pruned nodes, max_depth=7\u001b[0m\n",
      "\u001b[34m[88]#011train-error:0.068467#011validation-error:0.1425\u001b[0m\n",
      "\u001b[34m[09:47:03] src/tree/updater_prune.cc:74: tree pruning end, 1 roots, 26 extra nodes, 14 pruned nodes, max_depth=7\u001b[0m\n",
      "\u001b[34m[89]#011train-error:0.068133#011validation-error:0.1418\u001b[0m\n",
      "\u001b[34m[09:47:05] src/tree/updater_prune.cc:74: tree pruning end, 1 roots, 36 extra nodes, 6 pruned nodes, max_depth=7\u001b[0m\n",
      "\u001b[34m[90]#011train-error:0.0674#011validation-error:0.1412\u001b[0m\n",
      "\u001b[34m[09:47:06] src/tree/updater_prune.cc:74: tree pruning end, 1 roots, 20 extra nodes, 4 pruned nodes, max_depth=7\u001b[0m\n",
      "\u001b[34m[91]#011train-error:0.066733#011validation-error:0.1416\u001b[0m\n",
      "\u001b[34m[09:47:08] src/tree/updater_prune.cc:74: tree pruning end, 1 roots, 34 extra nodes, 14 pruned nodes, max_depth=7\u001b[0m\n",
      "\u001b[34m[92]#011train-error:0.066333#011validation-error:0.1412\u001b[0m\n",
      "\u001b[34m[09:47:10] src/tree/updater_prune.cc:74: tree pruning end, 1 roots, 24 extra nodes, 2 pruned nodes, max_depth=7\u001b[0m\n",
      "\u001b[34m[93]#011train-error:0.0658#011validation-error:0.1406\u001b[0m\n",
      "\u001b[34m[09:47:12] src/tree/updater_prune.cc:74: tree pruning end, 1 roots, 22 extra nodes, 10 pruned nodes, max_depth=7\u001b[0m\n",
      "\u001b[34m[94]#011train-error:0.065267#011validation-error:0.1401\u001b[0m\n",
      "\u001b[34m[09:47:14] src/tree/updater_prune.cc:74: tree pruning end, 1 roots, 14 extra nodes, 2 pruned nodes, max_depth=7\u001b[0m\n",
      "\u001b[34m[95]#011train-error:0.0652#011validation-error:0.1404\u001b[0m\n",
      "\u001b[34m[09:47:15] src/tree/updater_prune.cc:74: tree pruning end, 1 roots, 22 extra nodes, 4 pruned nodes, max_depth=7\u001b[0m\n",
      "\u001b[34m[96]#011train-error:0.0646#011validation-error:0.1402\u001b[0m\n",
      "\u001b[34m[09:47:17] src/tree/updater_prune.cc:74: tree pruning end, 1 roots, 22 extra nodes, 6 pruned nodes, max_depth=7\u001b[0m\n",
      "\u001b[34m[97]#011train-error:0.0644#011validation-error:0.1403\u001b[0m\n",
      "\u001b[34m[09:47:19] src/tree/updater_prune.cc:74: tree pruning end, 1 roots, 14 extra nodes, 6 pruned nodes, max_depth=7\u001b[0m\n",
      "\u001b[34m[98]#011train-error:0.0638#011validation-error:0.14\u001b[0m\n",
      "\u001b[34m[09:47:21] src/tree/updater_prune.cc:74: tree pruning end, 1 roots, 22 extra nodes, 4 pruned nodes, max_depth=7\u001b[0m\n",
      "\u001b[34m[99]#011train-error:0.0634#011validation-error:0.1399\u001b[0m\n",
      "\u001b[34m[09:47:22] src/tree/updater_prune.cc:74: tree pruning end, 1 roots, 24 extra nodes, 10 pruned nodes, max_depth=7\u001b[0m\n",
      "\u001b[34m[100]#011train-error:0.0628#011validation-error:0.1402\u001b[0m\n",
      "\u001b[34m[09:47:24] src/tree/updater_prune.cc:74: tree pruning end, 1 roots, 22 extra nodes, 8 pruned nodes, max_depth=7\u001b[0m\n",
      "\u001b[34m[101]#011train-error:0.062667#011validation-error:0.1404\u001b[0m\n",
      "\u001b[34m[09:47:26] src/tree/updater_prune.cc:74: tree pruning end, 1 roots, 26 extra nodes, 10 pruned nodes, max_depth=7\u001b[0m\n",
      "\u001b[34m[102]#011train-error:0.0628#011validation-error:0.1403\u001b[0m\n",
      "\u001b[34m[09:47:28] src/tree/updater_prune.cc:74: tree pruning end, 1 roots, 30 extra nodes, 10 pruned nodes, max_depth=7\u001b[0m\n",
      "\u001b[34m[103]#011train-error:0.062#011validation-error:0.1408\u001b[0m\n",
      "\u001b[34m[09:47:30] src/tree/updater_prune.cc:74: tree pruning end, 1 roots, 22 extra nodes, 16 pruned nodes, max_depth=7\u001b[0m\n",
      "\u001b[34m[104]#011train-error:0.061867#011validation-error:0.141\u001b[0m\n",
      "\u001b[34m[09:47:31] src/tree/updater_prune.cc:74: tree pruning end, 1 roots, 28 extra nodes, 2 pruned nodes, max_depth=7\u001b[0m\n",
      "\u001b[34m[105]#011train-error:0.062067#011validation-error:0.1407\u001b[0m\n",
      "\u001b[34m[09:47:33] src/tree/updater_prune.cc:74: tree pruning end, 1 roots, 16 extra nodes, 2 pruned nodes, max_depth=7\u001b[0m\n",
      "\u001b[34m[106]#011train-error:0.060867#011validation-error:0.14\u001b[0m\n",
      "\u001b[34m[09:47:35] src/tree/updater_prune.cc:74: tree pruning end, 1 roots, 30 extra nodes, 10 pruned nodes, max_depth=7\u001b[0m\n",
      "\u001b[34m[107]#011train-error:0.060067#011validation-error:0.1402\u001b[0m\n",
      "\u001b[34m[09:47:37] src/tree/updater_prune.cc:74: tree pruning end, 1 roots, 20 extra nodes, 0 pruned nodes, max_depth=7\u001b[0m\n",
      "\u001b[34m[108]#011train-error:0.0596#011validation-error:0.1399\u001b[0m\n",
      "\u001b[34m[09:47:38] src/tree/updater_prune.cc:74: tree pruning end, 1 roots, 30 extra nodes, 4 pruned nodes, max_depth=7\u001b[0m\n",
      "\u001b[34m[109]#011train-error:0.058933#011validation-error:0.1393\u001b[0m\n",
      "\u001b[34m[09:47:40] src/tree/updater_prune.cc:74: tree pruning end, 1 roots, 20 extra nodes, 10 pruned nodes, max_depth=7\u001b[0m\n",
      "\u001b[34m[110]#011train-error:0.058133#011validation-error:0.1393\u001b[0m\n",
      "\u001b[34m[09:47:42] src/tree/updater_prune.cc:74: tree pruning end, 1 roots, 16 extra nodes, 8 pruned nodes, max_depth=7\u001b[0m\n",
      "\u001b[34m[111]#011train-error:0.0584#011validation-error:0.1388\u001b[0m\n",
      "\u001b[34m[09:47:44] src/tree/updater_prune.cc:74: tree pruning end, 1 roots, 16 extra nodes, 4 pruned nodes, max_depth=7\u001b[0m\n",
      "\u001b[34m[112]#011train-error:0.058667#011validation-error:0.1383\u001b[0m\n",
      "\u001b[34m[09:47:46] src/tree/updater_prune.cc:74: tree pruning end, 1 roots, 20 extra nodes, 12 pruned nodes, max_depth=7\u001b[0m\n",
      "\u001b[34m[113]#011train-error:0.057933#011validation-error:0.1386\u001b[0m\n",
      "\u001b[34m[09:47:47] src/tree/updater_prune.cc:74: tree pruning end, 1 roots, 28 extra nodes, 8 pruned nodes, max_depth=7\u001b[0m\n",
      "\u001b[34m[114]#011train-error:0.057533#011validation-error:0.138\u001b[0m\n",
      "\u001b[34m[09:47:49] src/tree/updater_prune.cc:74: tree pruning end, 1 roots, 30 extra nodes, 14 pruned nodes, max_depth=7\u001b[0m\n",
      "\u001b[34m[115]#011train-error:0.0568#011validation-error:0.1379\u001b[0m\n",
      "\u001b[34m[09:47:51] src/tree/updater_prune.cc:74: tree pruning end, 1 roots, 14 extra nodes, 16 pruned nodes, max_depth=7\u001b[0m\n",
      "\u001b[34m[116]#011train-error:0.057133#011validation-error:0.1379\u001b[0m\n",
      "\u001b[34m[09:47:53] src/tree/updater_prune.cc:74: tree pruning end, 1 roots, 18 extra nodes, 0 pruned nodes, max_depth=7\u001b[0m\n",
      "\u001b[34m[117]#011train-error:0.056867#011validation-error:0.1391\u001b[0m\n",
      "\u001b[34m[09:47:55] src/tree/updater_prune.cc:74: tree pruning end, 1 roots, 30 extra nodes, 2 pruned nodes, max_depth=7\u001b[0m\n",
      "\u001b[34m[118]#011train-error:0.056333#011validation-error:0.1391\u001b[0m\n",
      "\u001b[34m[09:47:56] src/tree/updater_prune.cc:74: tree pruning end, 1 roots, 26 extra nodes, 12 pruned nodes, max_depth=7\u001b[0m\n",
      "\u001b[34m[119]#011train-error:0.056133#011validation-error:0.1387\u001b[0m\n",
      "\u001b[34m[09:47:58] src/tree/updater_prune.cc:74: tree pruning end, 1 roots, 28 extra nodes, 4 pruned nodes, max_depth=7\u001b[0m\n",
      "\u001b[34m[120]#011train-error:0.0564#011validation-error:0.1383\u001b[0m\n",
      "\u001b[34m[09:48:00] src/tree/updater_prune.cc:74: tree pruning end, 1 roots, 26 extra nodes, 4 pruned nodes, max_depth=7\u001b[0m\n",
      "\u001b[34m[121]#011train-error:0.056133#011validation-error:0.1388\u001b[0m\n",
      "\u001b[34m[09:48:02] src/tree/updater_prune.cc:74: tree pruning end, 1 roots, 22 extra nodes, 12 pruned nodes, max_depth=7\u001b[0m\n",
      "\u001b[34m[122]#011train-error:0.056667#011validation-error:0.1379\u001b[0m\n",
      "\u001b[34m[09:48:03] src/tree/updater_prune.cc:74: tree pruning end, 1 roots, 24 extra nodes, 10 pruned nodes, max_depth=7\u001b[0m\n",
      "\u001b[34m[123]#011train-error:0.056#011validation-error:0.1376\u001b[0m\n",
      "\u001b[34m[09:48:05] src/tree/updater_prune.cc:74: tree pruning end, 1 roots, 40 extra nodes, 8 pruned nodes, max_depth=7\u001b[0m\n",
      "\u001b[34m[124]#011train-error:0.055467#011validation-error:0.1382\u001b[0m\n",
      "\u001b[34m[09:48:07] src/tree/updater_prune.cc:74: tree pruning end, 1 roots, 18 extra nodes, 8 pruned nodes, max_depth=7\u001b[0m\n",
      "\u001b[34m[125]#011train-error:0.0556#011validation-error:0.1386\u001b[0m\n",
      "\u001b[34m[09:48:09] src/tree/updater_prune.cc:74: tree pruning end, 1 roots, 36 extra nodes, 6 pruned nodes, max_depth=7\u001b[0m\n",
      "\u001b[34m[126]#011train-error:0.054133#011validation-error:0.139\u001b[0m\n",
      "\u001b[34m[09:48:11] src/tree/updater_prune.cc:74: tree pruning end, 1 roots, 18 extra nodes, 10 pruned nodes, max_depth=7\u001b[0m\n",
      "\u001b[34m[127]#011train-error:0.054#011validation-error:0.1388\u001b[0m\n",
      "\u001b[34m[09:48:12] src/tree/updater_prune.cc:74: tree pruning end, 1 roots, 28 extra nodes, 6 pruned nodes, max_depth=7\u001b[0m\n",
      "\u001b[34m[128]#011train-error:0.053533#011validation-error:0.1387\u001b[0m\n",
      "\u001b[34m[09:48:14] src/tree/updater_prune.cc:74: tree pruning end, 1 roots, 30 extra nodes, 4 pruned nodes, max_depth=7\u001b[0m\n",
      "\u001b[34m[129]#011train-error:0.0526#011validation-error:0.1388\u001b[0m\n",
      "\u001b[34m[09:48:16] src/tree/updater_prune.cc:74: tree pruning end, 1 roots, 20 extra nodes, 2 pruned nodes, max_depth=7\u001b[0m\n",
      "\u001b[34m[130]#011train-error:0.0526#011validation-error:0.1387\u001b[0m\n",
      "\u001b[34m[09:48:18] src/tree/updater_prune.cc:74: tree pruning end, 1 roots, 26 extra nodes, 4 pruned nodes, max_depth=7\u001b[0m\n",
      "\u001b[34m[131]#011train-error:0.052267#011validation-error:0.1381\u001b[0m\n",
      "\u001b[34m[09:48:20] src/tree/updater_prune.cc:74: tree pruning end, 1 roots, 14 extra nodes, 0 pruned nodes, max_depth=7\u001b[0m\n",
      "\u001b[34m[132]#011train-error:0.052267#011validation-error:0.1381\u001b[0m\n",
      "\u001b[34m[09:48:21] src/tree/updater_prune.cc:74: tree pruning end, 1 roots, 28 extra nodes, 2 pruned nodes, max_depth=7\u001b[0m\n",
      "\u001b[34m[133]#011train-error:0.0524#011validation-error:0.1381\u001b[0m\n",
      "\u001b[34mStopping. Best iteration:\u001b[0m\n",
      "\u001b[34m[123]#011train-error:0.056#011validation-error:0.1376\n",
      "\u001b[0m\n",
      "Training seconds: 350\n",
      "Billable seconds: 350\n"
     ]
    }
   ],
   "source": [
    "# TODO: Create a new estimator object attached to the best training job found during hyperparameter tuning\n",
    "\n",
    "xgb_attached = sagemaker.estimator.Estimator.attach(xgb_hyperparameter_tuner.best_training_job())\n"
   ]
  },
  {
   "cell_type": "markdown",
   "metadata": {},
   "source": [
    "Now that we have an estimator object attached to the correct training job, we can proceed as we normally would and create a transformer object."
   ]
  },
  {
   "cell_type": "code",
   "execution_count": 29,
   "metadata": {},
   "outputs": [],
   "source": [
    "# TODO: Create a transformer object from the attached estimator. Using an instance count of 1 and an instance type of ml.m4.xlarge\n",
    "#       should be more than enough.\n",
    "\n",
    "xgb_transformer = xgb_attached.transformer(instance_count=1, instance_type='ml.m4.xlarge')\n"
   ]
  },
  {
   "cell_type": "markdown",
   "metadata": {},
   "source": [
    "Next we actually perform the transform job. When doing so we need to make sure to specify the type of data we are sending so that it is serialized correctly in the background. In our case we are providing our model with csv data so we specify `text/csv`. Also, if the test data that we have provided is too large to process all at once then we need to specify how the data file should be split up. Since each line is a single entry in our data set we tell SageMaker that it can split the input on each line."
   ]
  },
  {
   "cell_type": "code",
   "execution_count": 30,
   "metadata": {},
   "outputs": [],
   "source": [
    "# TODO: Start the transform job. Make sure to specify the content type and the split type of the test data.\n",
    "xgb_transformer.transform(test_location, content_type='text/csv', split_type='Line')"
   ]
  },
  {
   "cell_type": "markdown",
   "metadata": {},
   "source": [
    "Currently the transform job is running but it is doing so in the background. Since we wish to wait until the transform job is done and we would like a bit of feedback we can run the `wait()` method."
   ]
  },
  {
   "cell_type": "code",
   "execution_count": 31,
   "metadata": {},
   "outputs": [
    {
     "name": "stdout",
     "output_type": "stream",
     "text": [
      "....................\u001b[34mArguments: serve\u001b[0m\n",
      "\u001b[35mArguments: serve\u001b[0m\n",
      "\u001b[34m[2020-05-23 09:55:47 +0000] [1] [INFO] Starting gunicorn 19.7.1\u001b[0m\n",
      "\u001b[34m[2020-05-23 09:55:47 +0000] [1] [INFO] Listening at: http://0.0.0.0:8080 (1)\u001b[0m\n",
      "\u001b[34m[2020-05-23 09:55:47 +0000] [1] [INFO] Using worker: gevent\u001b[0m\n",
      "\u001b[34m[2020-05-23 09:55:47 +0000] [38] [INFO] Booting worker with pid: 38\u001b[0m\n",
      "\u001b[34m[2020-05-23 09:55:47 +0000] [39] [INFO] Booting worker with pid: 39\u001b[0m\n",
      "\u001b[34m[2020-05-23 09:55:47 +0000] [40] [INFO] Booting worker with pid: 40\u001b[0m\n",
      "\u001b[34m[2020-05-23 09:55:47 +0000] [41] [INFO] Booting worker with pid: 41\u001b[0m\n",
      "\u001b[35m[2020-05-23 09:55:47 +0000] [1] [INFO] Starting gunicorn 19.7.1\u001b[0m\n",
      "\u001b[35m[2020-05-23 09:55:47 +0000] [1] [INFO] Listening at: http://0.0.0.0:8080 (1)\u001b[0m\n",
      "\u001b[35m[2020-05-23 09:55:47 +0000] [1] [INFO] Using worker: gevent\u001b[0m\n",
      "\u001b[35m[2020-05-23 09:55:47 +0000] [38] [INFO] Booting worker with pid: 38\u001b[0m\n",
      "\u001b[35m[2020-05-23 09:55:47 +0000] [39] [INFO] Booting worker with pid: 39\u001b[0m\n",
      "\u001b[35m[2020-05-23 09:55:47 +0000] [40] [INFO] Booting worker with pid: 40\u001b[0m\n",
      "\u001b[35m[2020-05-23 09:55:47 +0000] [41] [INFO] Booting worker with pid: 41\u001b[0m\n",
      "\u001b[34m[2020-05-23:09:55:47:INFO] Model loaded successfully for worker : 38\u001b[0m\n",
      "\u001b[34m[2020-05-23:09:55:47:INFO] Model loaded successfully for worker : 39\u001b[0m\n",
      "\u001b[34m[2020-05-23:09:55:47:INFO] Model loaded successfully for worker : 41\u001b[0m\n",
      "\u001b[34m[2020-05-23:09:55:47:INFO] Model loaded successfully for worker : 40\u001b[0m\n",
      "\u001b[35m[2020-05-23:09:55:47:INFO] Model loaded successfully for worker : 38\u001b[0m\n",
      "\u001b[35m[2020-05-23:09:55:47:INFO] Model loaded successfully for worker : 39\u001b[0m\n",
      "\u001b[35m[2020-05-23:09:55:47:INFO] Model loaded successfully for worker : 41\u001b[0m\n",
      "\u001b[35m[2020-05-23:09:55:47:INFO] Model loaded successfully for worker : 40\u001b[0m\n",
      "\u001b[32m2020-05-23T09:55:49.446:[sagemaker logs]: MaxConcurrentTransforms=4, MaxPayloadInMB=6, BatchStrategy=MULTI_RECORD\u001b[0m\n",
      "\u001b[34m[2020-05-23:09:55:52:INFO] Sniff delimiter as ','\u001b[0m\n",
      "\u001b[34m[2020-05-23:09:55:52:INFO] Determined delimiter of CSV input is ','\u001b[0m\n",
      "\u001b[34m[2020-05-23:09:55:53:INFO] Sniff delimiter as ','\u001b[0m\n",
      "\u001b[34m[2020-05-23:09:55:53:INFO] Determined delimiter of CSV input is ','\u001b[0m\n",
      "\u001b[34m[2020-05-23:09:55:53:INFO] Sniff delimiter as ','\u001b[0m\n",
      "\u001b[35m[2020-05-23:09:55:52:INFO] Sniff delimiter as ','\u001b[0m\n",
      "\u001b[35m[2020-05-23:09:55:52:INFO] Determined delimiter of CSV input is ','\u001b[0m\n",
      "\u001b[35m[2020-05-23:09:55:53:INFO] Sniff delimiter as ','\u001b[0m\n",
      "\u001b[35m[2020-05-23:09:55:53:INFO] Determined delimiter of CSV input is ','\u001b[0m\n",
      "\u001b[35m[2020-05-23:09:55:53:INFO] Sniff delimiter as ','\u001b[0m\n",
      "\u001b[34m[2020-05-23:09:55:53:INFO] Determined delimiter of CSV input is ','\u001b[0m\n",
      "\u001b[34m[2020-05-23:09:55:53:INFO] Sniff delimiter as ','\u001b[0m\n",
      "\u001b[34m[2020-05-23:09:55:53:INFO] Determined delimiter of CSV input is ','\u001b[0m\n",
      "\u001b[35m[2020-05-23:09:55:53:INFO] Determined delimiter of CSV input is ','\u001b[0m\n",
      "\u001b[35m[2020-05-23:09:55:53:INFO] Sniff delimiter as ','\u001b[0m\n",
      "\u001b[35m[2020-05-23:09:55:53:INFO] Determined delimiter of CSV input is ','\u001b[0m\n",
      "\u001b[34m[2020-05-23:09:55:55:INFO] Sniff delimiter as ','\u001b[0m\n",
      "\u001b[34m[2020-05-23:09:55:55:INFO] Determined delimiter of CSV input is ','\u001b[0m\n",
      "\u001b[34m[2020-05-23:09:55:55:INFO] Sniff delimiter as ','\u001b[0m\n",
      "\u001b[34m[2020-05-23:09:55:55:INFO] Determined delimiter of CSV input is ','\u001b[0m\n",
      "\u001b[34m[2020-05-23:09:55:55:INFO] Sniff delimiter as ','\u001b[0m\n",
      "\u001b[34m[2020-05-23:09:55:55:INFO] Determined delimiter of CSV input is ','\u001b[0m\n",
      "\u001b[35m[2020-05-23:09:55:55:INFO] Sniff delimiter as ','\u001b[0m\n",
      "\u001b[35m[2020-05-23:09:55:55:INFO] Determined delimiter of CSV input is ','\u001b[0m\n",
      "\u001b[35m[2020-05-23:09:55:55:INFO] Sniff delimiter as ','\u001b[0m\n",
      "\u001b[35m[2020-05-23:09:55:55:INFO] Determined delimiter of CSV input is ','\u001b[0m\n",
      "\u001b[35m[2020-05-23:09:55:55:INFO] Sniff delimiter as ','\u001b[0m\n",
      "\u001b[35m[2020-05-23:09:55:55:INFO] Determined delimiter of CSV input is ','\u001b[0m\n",
      "\u001b[34m[2020-05-23:09:55:57:INFO] Sniff delimiter as ','\u001b[0m\n",
      "\u001b[34m[2020-05-23:09:55:57:INFO] Determined delimiter of CSV input is ','\u001b[0m\n",
      "\u001b[35m[2020-05-23:09:55:57:INFO] Sniff delimiter as ','\u001b[0m\n",
      "\u001b[35m[2020-05-23:09:55:57:INFO] Determined delimiter of CSV input is ','\u001b[0m\n",
      "\u001b[34m[2020-05-23:09:55:57:INFO] Sniff delimiter as ','\u001b[0m\n",
      "\u001b[34m[2020-05-23:09:55:57:INFO] Determined delimiter of CSV input is ','\u001b[0m\n",
      "\u001b[35m[2020-05-23:09:55:57:INFO] Sniff delimiter as ','\u001b[0m\n",
      "\u001b[35m[2020-05-23:09:55:57:INFO] Determined delimiter of CSV input is ','\u001b[0m\n",
      "\u001b[34m[2020-05-23:09:55:58:INFO] Sniff delimiter as ','\u001b[0m\n",
      "\u001b[34m[2020-05-23:09:55:58:INFO] Determined delimiter of CSV input is ','\u001b[0m\n",
      "\u001b[35m[2020-05-23:09:55:58:INFO] Sniff delimiter as ','\u001b[0m\n",
      "\u001b[35m[2020-05-23:09:55:58:INFO] Determined delimiter of CSV input is ','\u001b[0m\n",
      "\u001b[34m[2020-05-23:09:55:59:INFO] Sniff delimiter as ','\u001b[0m\n",
      "\u001b[34m[2020-05-23:09:55:59:INFO] Determined delimiter of CSV input is ','\u001b[0m\n",
      "\u001b[34m[2020-05-23:09:55:59:INFO] Sniff delimiter as ','\u001b[0m\n",
      "\u001b[35m[2020-05-23:09:55:59:INFO] Sniff delimiter as ','\u001b[0m\n",
      "\u001b[35m[2020-05-23:09:55:59:INFO] Determined delimiter of CSV input is ','\u001b[0m\n",
      "\u001b[35m[2020-05-23:09:55:59:INFO] Sniff delimiter as ','\u001b[0m\n",
      "\u001b[34m[2020-05-23:09:55:59:INFO] Determined delimiter of CSV input is ','\u001b[0m\n",
      "\u001b[34m[2020-05-23:09:56:00:INFO] Sniff delimiter as ','\u001b[0m\n",
      "\u001b[34m[2020-05-23:09:56:00:INFO] Determined delimiter of CSV input is ','\u001b[0m\n",
      "\u001b[35m[2020-05-23:09:55:59:INFO] Determined delimiter of CSV input is ','\u001b[0m\n",
      "\u001b[35m[2020-05-23:09:56:00:INFO] Sniff delimiter as ','\u001b[0m\n",
      "\u001b[35m[2020-05-23:09:56:00:INFO] Determined delimiter of CSV input is ','\u001b[0m\n",
      "\u001b[34m[2020-05-23:09:56:01:INFO] Sniff delimiter as ','\u001b[0m\n",
      "\u001b[35m[2020-05-23:09:56:01:INFO] Sniff delimiter as ','\u001b[0m\n",
      "\u001b[34m[2020-05-23:09:56:01:INFO] Determined delimiter of CSV input is ','\u001b[0m\n",
      "\u001b[34m[2020-05-23:09:56:01:INFO] Sniff delimiter as ','\u001b[0m\n",
      "\u001b[34m[2020-05-23:09:56:01:INFO] Determined delimiter of CSV input is ','\u001b[0m\n",
      "\u001b[34m[2020-05-23:09:56:01:INFO] Sniff delimiter as ','\u001b[0m\n",
      "\u001b[34m[2020-05-23:09:56:01:INFO] Determined delimiter of CSV input is ','\u001b[0m\n",
      "\u001b[35m[2020-05-23:09:56:01:INFO] Determined delimiter of CSV input is ','\u001b[0m\n",
      "\u001b[35m[2020-05-23:09:56:01:INFO] Sniff delimiter as ','\u001b[0m\n",
      "\u001b[35m[2020-05-23:09:56:01:INFO] Determined delimiter of CSV input is ','\u001b[0m\n",
      "\u001b[35m[2020-05-23:09:56:01:INFO] Sniff delimiter as ','\u001b[0m\n",
      "\u001b[35m[2020-05-23:09:56:01:INFO] Determined delimiter of CSV input is ','\u001b[0m\n",
      "\u001b[34m[2020-05-23:09:56:03:INFO] Sniff delimiter as ','\u001b[0m\n",
      "\u001b[34m[2020-05-23:09:56:03:INFO] Determined delimiter of CSV input is ','\u001b[0m\n",
      "\u001b[34m[2020-05-23:09:56:03:INFO] Sniff delimiter as ','\u001b[0m\n",
      "\u001b[34m[2020-05-23:09:56:03:INFO] Determined delimiter of CSV input is ','\u001b[0m\n",
      "\u001b[34m[2020-05-23:09:56:03:INFO] Sniff delimiter as ','\u001b[0m\n",
      "\u001b[34m[2020-05-23:09:56:03:INFO] Determined delimiter of CSV input is ','\u001b[0m\n",
      "\u001b[35m[2020-05-23:09:56:03:INFO] Sniff delimiter as ','\u001b[0m\n",
      "\u001b[35m[2020-05-23:09:56:03:INFO] Determined delimiter of CSV input is ','\u001b[0m\n",
      "\u001b[35m[2020-05-23:09:56:03:INFO] Sniff delimiter as ','\u001b[0m\n",
      "\u001b[35m[2020-05-23:09:56:03:INFO] Determined delimiter of CSV input is ','\u001b[0m\n",
      "\u001b[35m[2020-05-23:09:56:03:INFO] Sniff delimiter as ','\u001b[0m\n",
      "\u001b[35m[2020-05-23:09:56:03:INFO] Determined delimiter of CSV input is ','\u001b[0m\n",
      "\u001b[34m[2020-05-23:09:56:05:INFO] Sniff delimiter as ','\u001b[0m\n",
      "\u001b[34m[2020-05-23:09:56:05:INFO] Determined delimiter of CSV input is ','\u001b[0m\n",
      "\u001b[34m[2020-05-23:09:56:05:INFO] Sniff delimiter as ','\u001b[0m\n",
      "\u001b[34m[2020-05-23:09:56:05:INFO] Determined delimiter of CSV input is ','\u001b[0m\n",
      "\u001b[35m[2020-05-23:09:56:05:INFO] Sniff delimiter as ','\u001b[0m\n",
      "\u001b[35m[2020-05-23:09:56:05:INFO] Determined delimiter of CSV input is ','\u001b[0m\n",
      "\u001b[35m[2020-05-23:09:56:05:INFO] Sniff delimiter as ','\u001b[0m\n",
      "\u001b[35m[2020-05-23:09:56:05:INFO] Determined delimiter of CSV input is ','\u001b[0m\n",
      "\u001b[34m[2020-05-23:09:56:05:INFO] Sniff delimiter as ','\u001b[0m\n",
      "\u001b[34m[2020-05-23:09:56:05:INFO] Determined delimiter of CSV input is ','\u001b[0m\n",
      "\u001b[35m[2020-05-23:09:56:05:INFO] Sniff delimiter as ','\u001b[0m\n",
      "\u001b[35m[2020-05-23:09:56:05:INFO] Determined delimiter of CSV input is ','\u001b[0m\n",
      "\u001b[34m[2020-05-23:09:56:05:INFO] Sniff delimiter as ','\u001b[0m\n",
      "\u001b[34m[2020-05-23:09:56:05:INFO] Determined delimiter of CSV input is ','\u001b[0m\n",
      "\u001b[35m[2020-05-23:09:56:05:INFO] Sniff delimiter as ','\u001b[0m\n",
      "\u001b[35m[2020-05-23:09:56:05:INFO] Determined delimiter of CSV input is ','\u001b[0m\n",
      "\u001b[34m[2020-05-23:09:56:07:INFO] Sniff delimiter as ','\u001b[0m\n",
      "\u001b[34m[2020-05-23:09:56:07:INFO] Determined delimiter of CSV input is ','\u001b[0m\n",
      "\u001b[34m[2020-05-23:09:56:07:INFO] Sniff delimiter as ','\u001b[0m\n",
      "\u001b[34m[2020-05-23:09:56:07:INFO] Determined delimiter of CSV input is ','\u001b[0m\n",
      "\u001b[34m[2020-05-23:09:56:07:INFO] Sniff delimiter as ','\u001b[0m\n",
      "\u001b[34m[2020-05-23:09:56:07:INFO] Determined delimiter of CSV input is ','\u001b[0m\n",
      "\u001b[34m[2020-05-23:09:56:08:INFO] Sniff delimiter as ','\u001b[0m\n",
      "\u001b[34m[2020-05-23:09:56:08:INFO] Determined delimiter of CSV input is ','\u001b[0m\n",
      "\u001b[35m[2020-05-23:09:56:07:INFO] Sniff delimiter as ','\u001b[0m\n",
      "\u001b[35m[2020-05-23:09:56:07:INFO] Determined delimiter of CSV input is ','\u001b[0m\n",
      "\u001b[35m[2020-05-23:09:56:07:INFO] Sniff delimiter as ','\u001b[0m\n",
      "\u001b[35m[2020-05-23:09:56:07:INFO] Determined delimiter of CSV input is ','\u001b[0m\n",
      "\u001b[35m[2020-05-23:09:56:07:INFO] Sniff delimiter as ','\u001b[0m\n",
      "\u001b[35m[2020-05-23:09:56:07:INFO] Determined delimiter of CSV input is ','\u001b[0m\n",
      "\u001b[35m[2020-05-23:09:56:08:INFO] Sniff delimiter as ','\u001b[0m\n",
      "\u001b[35m[2020-05-23:09:56:08:INFO] Determined delimiter of CSV input is ','\u001b[0m\n"
     ]
    },
    {
     "name": "stdout",
     "output_type": "stream",
     "text": [
      "\u001b[34m[2020-05-23:09:56:12:INFO] Sniff delimiter as ','\u001b[0m\n",
      "\u001b[34m[2020-05-23:09:56:12:INFO] Determined delimiter of CSV input is ','\u001b[0m\n",
      "\u001b[34m[2020-05-23:09:56:12:INFO] Sniff delimiter as ','\u001b[0m\n",
      "\u001b[34m[2020-05-23:09:56:12:INFO] Determined delimiter of CSV input is ','\u001b[0m\n",
      "\u001b[35m[2020-05-23:09:56:12:INFO] Sniff delimiter as ','\u001b[0m\n",
      "\u001b[35m[2020-05-23:09:56:12:INFO] Determined delimiter of CSV input is ','\u001b[0m\n",
      "\u001b[35m[2020-05-23:09:56:12:INFO] Sniff delimiter as ','\u001b[0m\n",
      "\u001b[35m[2020-05-23:09:56:12:INFO] Determined delimiter of CSV input is ','\u001b[0m\n",
      "\u001b[34m[2020-05-23:09:56:12:INFO] Sniff delimiter as ','\u001b[0m\n",
      "\u001b[34m[2020-05-23:09:56:12:INFO] Determined delimiter of CSV input is ','\u001b[0m\n",
      "\u001b[34m[2020-05-23:09:56:13:INFO] Sniff delimiter as ','\u001b[0m\n",
      "\u001b[34m[2020-05-23:09:56:13:INFO] Determined delimiter of CSV input is ','\u001b[0m\n",
      "\u001b[35m[2020-05-23:09:56:12:INFO] Sniff delimiter as ','\u001b[0m\n",
      "\u001b[35m[2020-05-23:09:56:12:INFO] Determined delimiter of CSV input is ','\u001b[0m\n",
      "\u001b[35m[2020-05-23:09:56:13:INFO] Sniff delimiter as ','\u001b[0m\n",
      "\u001b[35m[2020-05-23:09:56:13:INFO] Determined delimiter of CSV input is ','\u001b[0m\n",
      "\u001b[34m[2020-05-23:09:56:15:INFO] Sniff delimiter as ','\u001b[0m\n",
      "\u001b[35m[2020-05-23:09:56:15:INFO] Sniff delimiter as ','\u001b[0m\n",
      "\u001b[34m[2020-05-23:09:56:15:INFO] Determined delimiter of CSV input is ','\u001b[0m\n",
      "\u001b[34m[2020-05-23:09:56:15:INFO] Sniff delimiter as ','\u001b[0m\n",
      "\u001b[34m[2020-05-23:09:56:15:INFO] Determined delimiter of CSV input is ','\u001b[0m\n",
      "\u001b[34m[2020-05-23:09:56:15:INFO] Sniff delimiter as ','\u001b[0m\n",
      "\u001b[34m[2020-05-23:09:56:15:INFO] Determined delimiter of CSV input is ','\u001b[0m\n",
      "\u001b[34m[2020-05-23:09:56:15:INFO] Sniff delimiter as ','\u001b[0m\n",
      "\u001b[34m[2020-05-23:09:56:15:INFO] Determined delimiter of CSV input is ','\u001b[0m\n",
      "\u001b[35m[2020-05-23:09:56:15:INFO] Determined delimiter of CSV input is ','\u001b[0m\n",
      "\u001b[35m[2020-05-23:09:56:15:INFO] Sniff delimiter as ','\u001b[0m\n",
      "\u001b[35m[2020-05-23:09:56:15:INFO] Determined delimiter of CSV input is ','\u001b[0m\n",
      "\u001b[35m[2020-05-23:09:56:15:INFO] Sniff delimiter as ','\u001b[0m\n",
      "\u001b[35m[2020-05-23:09:56:15:INFO] Determined delimiter of CSV input is ','\u001b[0m\n",
      "\u001b[35m[2020-05-23:09:56:15:INFO] Sniff delimiter as ','\u001b[0m\n",
      "\u001b[35m[2020-05-23:09:56:15:INFO] Determined delimiter of CSV input is ','\u001b[0m\n",
      "\n"
     ]
    }
   ],
   "source": [
    "xgb_transformer.wait()"
   ]
  },
  {
   "cell_type": "markdown",
   "metadata": {},
   "source": [
    "Now the transform job has executed and the result, the estimated sentiment of each review, has been saved on S3. Since we would rather work on this file locally we can perform a bit of notebook magic to copy the file to the `data_dir`."
   ]
  },
  {
   "cell_type": "code",
   "execution_count": 32,
   "metadata": {},
   "outputs": [
    {
     "name": "stdout",
     "output_type": "stream",
     "text": [
      "Completed 256.0 KiB/372.4 KiB (3.8 MiB/s) with 1 file(s) remaining\r",
      "Completed 372.4 KiB/372.4 KiB (5.3 MiB/s) with 1 file(s) remaining\r",
      "download: s3://sagemaker-eu-west-1-922641251565/xgboost-200523-0916-009-2e412329-2020-05-23-09-52-31-118/test.csv.out to ../data/xgboost/test.csv.out\r\n"
     ]
    }
   ],
   "source": [
    "!aws s3 cp --recursive $xgb_transformer.output_path $data_dir"
   ]
  },
  {
   "cell_type": "markdown",
   "metadata": {},
   "source": [
    "The last step is now to read in the output from our model, convert the output to something a little more usable, in this case we want the sentiment to be either `1` (positive) or `0` (negative), and then compare to the ground truth labels."
   ]
  },
  {
   "cell_type": "code",
   "execution_count": 33,
   "metadata": {},
   "outputs": [],
   "source": [
    "predictions = pd.read_csv(os.path.join(data_dir, 'test.csv.out'), header=None)\n",
    "predictions = [round(num) for num in predictions.squeeze().values]"
   ]
  },
  {
   "cell_type": "code",
   "execution_count": 34,
   "metadata": {},
   "outputs": [
    {
     "data": {
      "text/plain": [
       "0.86368"
      ]
     },
     "execution_count": 34,
     "metadata": {},
     "output_type": "execute_result"
    }
   ],
   "source": [
    "from sklearn.metrics import accuracy_score\n",
    "accuracy_score(test_y, predictions)"
   ]
  },
  {
   "cell_type": "markdown",
   "metadata": {},
   "source": [
    "## Optional: Clean up\n",
    "\n",
    "The default notebook instance on SageMaker doesn't have a lot of excess disk space available. As you continue to complete and execute notebooks you will eventually fill up this disk space, leading to errors which can be difficult to diagnose. Once you are completely finished using a notebook it is a good idea to remove the files that you created along the way. Of course, you can do this from the terminal or from the notebook hub if you would like. The cell below contains some commands to clean up the created files from within the notebook."
   ]
  },
  {
   "cell_type": "code",
   "execution_count": 35,
   "metadata": {},
   "outputs": [],
   "source": [
    "# First we will remove all of the files contained in the data_dir directory\n",
    "!rm $data_dir/*\n",
    "\n",
    "# And then we delete the directory itself\n",
    "!rmdir $data_dir\n",
    "\n",
    "# Similarly we will remove the files in the cache_dir directory and the directory itself\n",
    "!rm $cache_dir/*\n",
    "!rmdir $cache_dir"
   ]
  },
  {
   "cell_type": "code",
   "execution_count": null,
   "metadata": {},
   "outputs": [],
   "source": []
  }
 ],
 "metadata": {
  "kernelspec": {
   "display_name": "conda_python3",
   "language": "python",
   "name": "conda_python3"
  },
  "language_info": {
   "codemirror_mode": {
    "name": "ipython",
    "version": 3
   },
   "file_extension": ".py",
   "mimetype": "text/x-python",
   "name": "python",
   "nbconvert_exporter": "python",
   "pygments_lexer": "ipython3",
   "version": "3.6.5"
  }
 },
 "nbformat": 4,
 "nbformat_minor": 2
}
